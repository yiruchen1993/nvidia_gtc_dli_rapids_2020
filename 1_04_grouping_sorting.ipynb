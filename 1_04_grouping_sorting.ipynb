{
  "nbformat": 4,
  "nbformat_minor": 0,
  "metadata": {
    "kernelspec": {
      "display_name": "Python 3",
      "language": "python",
      "name": "python3"
    },
    "language_info": {
      "codemirror_mode": {
        "name": "ipython",
        "version": 3
      },
      "file_extension": ".py",
      "mimetype": "text/x-python",
      "name": "python",
      "nbconvert_exporter": "python",
      "pygments_lexer": "ipython3",
      "version": "3.6.7"
    },
    "colab": {
      "name": "1-04_grouping_sorting.ipynb",
      "provenance": [],
      "include_colab_link": true
    }
  },
  "cells": [
    {
      "cell_type": "markdown",
      "metadata": {
        "id": "view-in-github",
        "colab_type": "text"
      },
      "source": [
        "<a href=\"https://colab.research.google.com/github/yiruchen1993/nvidia_gtc_dli_rapids_2020/blob/section_notebooks%2Fdata_manipulation/1_04_grouping_sorting.ipynb\" target=\"_parent\"><img src=\"https://colab.research.google.com/assets/colab-badge.svg\" alt=\"Open In Colab\"/></a>"
      ]
    },
    {
      "cell_type": "markdown",
      "metadata": {
        "id": "VGMqQPDzLH-H"
      },
      "source": [
        "# 使用 cuDF 分組與排序"
      ]
    },
    {
      "cell_type": "markdown",
      "metadata": {
        "id": "sQvtUCkHLH-I"
      },
      "source": [
        "在此學習筆記中，我們首先將為你介紹使用 cuDF 分組與排序的方法，並與 Pandas 進行效能比較，再透過簡短的資料分析練習為你整合所學。"
      ]
    },
    {
      "cell_type": "markdown",
      "metadata": {
        "id": "nw5oSTS9LH-J"
      },
      "source": [
        "## 目標"
      ]
    },
    {
      "cell_type": "markdown",
      "metadata": {
        "id": "PE4t9FD1LH-J"
      },
      "source": [
        "完成此學習筆記後，你將能夠:\n",
        "\n",
        "- 使用 cuDF 執行 GPU 加速分組與排序作業"
      ]
    },
    {
      "cell_type": "markdown",
      "metadata": {
        "id": "0iEI0ch5LH-K"
      },
      "source": [
        "## 匯入"
      ]
    },
    {
      "cell_type": "code",
      "metadata": {
        "id": "-4TgSUhSLH-L"
      },
      "source": [
        "import cudf\n",
        "import pandas as pd"
      ],
      "execution_count": null,
      "outputs": []
    },
    {
      "cell_type": "markdown",
      "metadata": {
        "id": "InV9lvHtLH-Q"
      },
      "source": [
        "## 讀取資料"
      ]
    },
    {
      "cell_type": "markdown",
      "metadata": {
        "id": "f_-h_CCYLH-R"
      },
      "source": [
        "我們會再一次讀取英國的人口資料，然後回到與 Pandas 的計時比較。"
      ]
    },
    {
      "cell_type": "code",
      "metadata": {
        "id": "UmK9warZLH-S",
        "outputId": "a32ba486-a777-4f23-89ee-aba7dd42339b"
      },
      "source": [
        "%time gdf = cudf.read_csv('./data/pop_1-04.csv', dtype=['float32', 'str', 'str', 'float32', 'float32', 'str'])"
      ],
      "execution_count": null,
      "outputs": [
        {
          "output_type": "stream",
          "text": [
            "CPU times: user 3.95 s, sys: 6.49 s, total: 10.4 s\n",
            "Wall time: 11.4 s\n"
          ],
          "name": "stdout"
        }
      ]
    },
    {
      "cell_type": "code",
      "metadata": {
        "id": "VOw3XUHaLH-V",
        "outputId": "c67b8ca1-0779-4cbd-ebfb-13ce3bde0537"
      },
      "source": [
        "%time df = pd.read_csv('./data/pop_1-04.csv')"
      ],
      "execution_count": null,
      "outputs": [
        {
          "output_type": "stream",
          "text": [
            "CPU times: user 26 s, sys: 3.38 s, total: 29.4 s\n",
            "Wall time: 29.4 s\n"
          ],
          "name": "stdout"
        }
      ]
    },
    {
      "cell_type": "code",
      "metadata": {
        "id": "zsEh91WcLH-Y",
        "outputId": "62df1129-ea24-4682-9bf0-341681b38000"
      },
      "source": [
        "gdf.dtypes"
      ],
      "execution_count": null,
      "outputs": [
        {
          "output_type": "execute_result",
          "data": {
            "text/plain": [
              "age       float32\n",
              "sex        object\n",
              "county     object\n",
              "lat       float32\n",
              "long      float32\n",
              "name       object\n",
              "dtype: object"
            ]
          },
          "metadata": {
            "tags": []
          },
          "execution_count": 4
        }
      ]
    },
    {
      "cell_type": "code",
      "metadata": {
        "id": "gs2ybleBLH-b",
        "outputId": "8b5753f6-32bb-4c0d-d862-f5fb45f9b970"
      },
      "source": [
        "gdf.shape"
      ],
      "execution_count": null,
      "outputs": [
        {
          "output_type": "execute_result",
          "data": {
            "text/plain": [
              "(58479894, 6)"
            ]
          },
          "metadata": {
            "tags": []
          },
          "execution_count": 5
        }
      ]
    },
    {
      "cell_type": "code",
      "metadata": {
        "id": "yQibIztALH-e",
        "outputId": "65f6fa84-022e-48f6-8fac-c43d81ebc1b8"
      },
      "source": [
        "gdf.head()"
      ],
      "execution_count": null,
      "outputs": [
        {
          "output_type": "execute_result",
          "data": {
            "text/html": [
              "<div>\n",
              "<style scoped>\n",
              "    .dataframe tbody tr th:only-of-type {\n",
              "        vertical-align: middle;\n",
              "    }\n",
              "\n",
              "    .dataframe tbody tr th {\n",
              "        vertical-align: top;\n",
              "    }\n",
              "\n",
              "    .dataframe thead th {\n",
              "        text-align: right;\n",
              "    }\n",
              "</style>\n",
              "<table border=\"1\" class=\"dataframe\">\n",
              "  <thead>\n",
              "    <tr style=\"text-align: right;\">\n",
              "      <th></th>\n",
              "      <th>age</th>\n",
              "      <th>sex</th>\n",
              "      <th>county</th>\n",
              "      <th>lat</th>\n",
              "      <th>long</th>\n",
              "      <th>name</th>\n",
              "    </tr>\n",
              "  </thead>\n",
              "  <tbody>\n",
              "    <tr>\n",
              "      <th>0</th>\n",
              "      <td>0.0</td>\n",
              "      <td>m</td>\n",
              "      <td>Darlington</td>\n",
              "      <td>54.533638</td>\n",
              "      <td>-1.524400</td>\n",
              "      <td>Francis</td>\n",
              "    </tr>\n",
              "    <tr>\n",
              "      <th>1</th>\n",
              "      <td>0.0</td>\n",
              "      <td>m</td>\n",
              "      <td>Darlington</td>\n",
              "      <td>54.426254</td>\n",
              "      <td>-1.465314</td>\n",
              "      <td>Edward</td>\n",
              "    </tr>\n",
              "    <tr>\n",
              "      <th>2</th>\n",
              "      <td>0.0</td>\n",
              "      <td>m</td>\n",
              "      <td>Darlington</td>\n",
              "      <td>54.555199</td>\n",
              "      <td>-1.496417</td>\n",
              "      <td>Teddy</td>\n",
              "    </tr>\n",
              "    <tr>\n",
              "      <th>3</th>\n",
              "      <td>0.0</td>\n",
              "      <td>m</td>\n",
              "      <td>Darlington</td>\n",
              "      <td>54.547905</td>\n",
              "      <td>-1.572341</td>\n",
              "      <td>Angus</td>\n",
              "    </tr>\n",
              "    <tr>\n",
              "      <th>4</th>\n",
              "      <td>0.0</td>\n",
              "      <td>m</td>\n",
              "      <td>Darlington</td>\n",
              "      <td>54.477638</td>\n",
              "      <td>-1.605995</td>\n",
              "      <td>Charlie</td>\n",
              "    </tr>\n",
              "  </tbody>\n",
              "</table>\n",
              "</div>"
            ],
            "text/plain": [
              "   age sex      county        lat      long     name\n",
              "0  0.0   m  Darlington  54.533638 -1.524400  Francis\n",
              "1  0.0   m  Darlington  54.426254 -1.465314   Edward\n",
              "2  0.0   m  Darlington  54.555199 -1.496417    Teddy\n",
              "3  0.0   m  Darlington  54.547905 -1.572341    Angus\n",
              "4  0.0   m  Darlington  54.477638 -1.605995  Charlie"
            ]
          },
          "metadata": {
            "tags": []
          },
          "execution_count": 6
        }
      ]
    },
    {
      "cell_type": "markdown",
      "metadata": {
        "id": "XPh8FPDWLH-j"
      },
      "source": [
        "## 分組與排序"
      ]
    },
    {
      "cell_type": "markdown",
      "metadata": {
        "id": "7DD1wvi-LH-k"
      },
      "source": [
        "### 記錄分組"
      ]
    },
    {
      "cell_type": "markdown",
      "metadata": {
        "id": "mWjQ08CzLH-k"
      },
      "source": [
        "使用 cuDF 記錄分組的方式與使用 Pandas 記錄的方法相同。"
      ]
    },
    {
      "cell_type": "markdown",
      "metadata": {
        "id": "2MAUtyhiLH-l"
      },
      "source": [
        "#### cuDF"
      ]
    },
    {
      "cell_type": "code",
      "metadata": {
        "id": "A1KgHjkPLH-l",
        "outputId": "3bacf539-232f-484d-ce11-d1a8edc2c30b"
      },
      "source": [
        "%%time\n",
        "counties = gdf[['county', 'age']].groupby(['county'])\n",
        "avg_ages = counties.mean()\n",
        "print(avg_ages[:5])"
      ],
      "execution_count": null,
      "outputs": [
        {
          "output_type": "stream",
          "text": [
            "                                    age\n",
            "county                                 \n",
            "Barking And Dagenham          33.056845\n",
            "Barnet                        37.629770\n",
            "Barnsley                      41.201061\n",
            "Bath And North East Somerset  39.822837\n",
            "Bedford                       39.715300\n",
            "CPU times: user 943 ms, sys: 251 ms, total: 1.19 s\n",
            "Wall time: 1.32 s\n"
          ],
          "name": "stdout"
        }
      ]
    },
    {
      "cell_type": "code",
      "metadata": {
        "id": "XSQNjvJcLH-p",
        "outputId": "7e19ca6f-7848-42b1-d5ea-0ae025464e89"
      },
      "source": [
        "counties.count()"
      ],
      "execution_count": null,
      "outputs": [
        {
          "output_type": "execute_result",
          "data": {
            "text/html": [
              "<div>\n",
              "<style scoped>\n",
              "    .dataframe tbody tr th:only-of-type {\n",
              "        vertical-align: middle;\n",
              "    }\n",
              "\n",
              "    .dataframe tbody tr th {\n",
              "        vertical-align: top;\n",
              "    }\n",
              "\n",
              "    .dataframe thead th {\n",
              "        text-align: right;\n",
              "    }\n",
              "</style>\n",
              "<table border=\"1\" class=\"dataframe\">\n",
              "  <thead>\n",
              "    <tr style=\"text-align: right;\">\n",
              "      <th></th>\n",
              "      <th>age</th>\n",
              "    </tr>\n",
              "    <tr>\n",
              "      <th>county</th>\n",
              "      <th></th>\n",
              "    </tr>\n",
              "  </thead>\n",
              "  <tbody>\n",
              "    <tr>\n",
              "      <th>Barking And Dagenham</th>\n",
              "      <td>211998</td>\n",
              "    </tr>\n",
              "    <tr>\n",
              "      <th>Barnet</th>\n",
              "      <td>392140</td>\n",
              "    </tr>\n",
              "    <tr>\n",
              "      <th>Barnsley</th>\n",
              "      <td>245199</td>\n",
              "    </tr>\n",
              "    <tr>\n",
              "      <th>Bath And North East Somerset</th>\n",
              "      <td>192106</td>\n",
              "    </tr>\n",
              "    <tr>\n",
              "      <th>Bedford</th>\n",
              "      <td>171623</td>\n",
              "    </tr>\n",
              "    <tr>\n",
              "      <th>...</th>\n",
              "      <td>...</td>\n",
              "    </tr>\n",
              "    <tr>\n",
              "      <th>Wokingham</th>\n",
              "      <td>167979</td>\n",
              "    </tr>\n",
              "    <tr>\n",
              "      <th>Wolverhampton</th>\n",
              "      <td>262008</td>\n",
              "    </tr>\n",
              "    <tr>\n",
              "      <th>Worcestershire</th>\n",
              "      <td>592057</td>\n",
              "    </tr>\n",
              "    <tr>\n",
              "      <th>Wrexham</th>\n",
              "      <td>136126</td>\n",
              "    </tr>\n",
              "    <tr>\n",
              "      <th>York</th>\n",
              "      <td>209893</td>\n",
              "    </tr>\n",
              "  </tbody>\n",
              "</table>\n",
              "<p>171 rows × 1 columns</p>\n",
              "</div>"
            ],
            "text/plain": [
              "                                 age\n",
              "county                              \n",
              "Barking And Dagenham          211998\n",
              "Barnet                        392140\n",
              "Barnsley                      245199\n",
              "Bath And North East Somerset  192106\n",
              "Bedford                       171623\n",
              "...                              ...\n",
              "Wokingham                     167979\n",
              "Wolverhampton                 262008\n",
              "Worcestershire                592057\n",
              "Wrexham                       136126\n",
              "York                          209893\n",
              "\n",
              "[171 rows x 1 columns]"
            ]
          },
          "metadata": {
            "tags": []
          },
          "execution_count": 9
        }
      ]
    },
    {
      "cell_type": "markdown",
      "metadata": {
        "id": "spIP5a6OLH-s"
      },
      "source": [
        "#### Pandas"
      ]
    },
    {
      "cell_type": "code",
      "metadata": {
        "id": "W4Ig2xz_LH-t",
        "outputId": "db19b7f0-1bbb-4b08-c608-39f6bf1a54b6"
      },
      "source": [
        "%%time\n",
        "counties_pd = df[['county', 'age']].groupby(['county'])\n",
        "avg_ages_pd = counties_pd.mean()\n",
        "print(avg_ages_pd[:5])"
      ],
      "execution_count": null,
      "outputs": [
        {
          "output_type": "stream",
          "text": [
            "                                    age\n",
            "county                                 \n",
            "Barking And Dagenham          33.056845\n",
            "Barnet                        37.629770\n",
            "Barnsley                      41.201061\n",
            "Bath And North East Somerset  39.822837\n",
            "Bedford                       39.715300\n",
            "CPU times: user 2.82 s, sys: 719 ms, total: 3.54 s\n",
            "Wall time: 3.53 s\n"
          ],
          "name": "stdout"
        }
      ]
    },
    {
      "cell_type": "markdown",
      "metadata": {
        "id": "V8qDz7soLH-w"
      },
      "source": [
        "## 排序"
      ]
    },
    {
      "cell_type": "markdown",
      "metadata": {
        "id": "Jrc9YzXMLH-x"
      },
      "source": [
        "排序方式也與 Pandas 非常類似，但 cuDF 不支援原地排序。"
      ]
    },
    {
      "cell_type": "markdown",
      "metadata": {
        "id": "smTN4bsmLH-y"
      },
      "source": [
        "#### cuDF"
      ]
    },
    {
      "cell_type": "code",
      "metadata": {
        "id": "xvNYR5g1LH-z",
        "outputId": "c570b490-b2a4-4e41-a9e0-ae69fc439eb2"
      },
      "source": [
        "%time gdf_names = gdf['name'].sort_values()\n",
        "print(gdf_names[:5]) # yes, \"A\" is an infrequent but correct given name in the UK, according to census data\n",
        "print(gdf_names[-5:])"
      ],
      "execution_count": null,
      "outputs": [
        {
          "output_type": "stream",
          "text": [
            "CPU times: user 979 ms, sys: 879 ms, total: 1.86 s\n",
            "Wall time: 2.13 s\n",
            "26850     A\n",
            "154537    A\n",
            "165578    A\n",
            "211428    A\n",
            "236972    A\n",
            "Name: name, dtype: object\n",
            "58060377    Zyrah\n",
            "58289490    Zyrah\n",
            "58363665    Zyrah\n",
            "58388727    Zyrah\n",
            "58394184    Zyrah\n",
            "Name: name, dtype: object\n"
          ],
          "name": "stdout"
        }
      ]
    },
    {
      "cell_type": "markdown",
      "metadata": {
        "id": "mKEbLLyVLH-2"
      },
      "source": [
        "#### Pandas"
      ]
    },
    {
      "cell_type": "markdown",
      "metadata": {
        "id": "9qmmTGhzLH-3"
      },
      "source": [
        "此作業使用 Pandas 時需花費一點時間。等待時可以自行開始下一項練習。"
      ]
    },
    {
      "cell_type": "code",
      "metadata": {
        "id": "D7DK5RSWLH-3",
        "outputId": "70915caf-7b7e-4117-8664-a84692b7a09f"
      },
      "source": [
        "%time df_names = df['name'].sort_values()\n",
        "print(df_names[:5])\n",
        "print(df_names[-5:])"
      ],
      "execution_count": null,
      "outputs": [
        {
          "output_type": "stream",
          "text": [
            "CPU times: user 1min 44s, sys: 1.29 s, total: 1min 45s\n",
            "Wall time: 1min 45s\n",
            "10811041    A\n",
            "17931460    A\n",
            "5060367     A\n",
            "1842288     A\n",
            "24866365    A\n",
            "Name: name, dtype: object\n",
            "47008072    Zyrah\n",
            "47953653    Zyrah\n",
            "31838209    Zyrah\n",
            "53669567    Zyrah\n",
            "54557840    Zyrah\n",
            "Name: name, dtype: object\n"
          ],
          "name": "stdout"
        }
      ]
    },
    {
      "cell_type": "markdown",
      "metadata": {
        "id": "ak_xGOafLH-6"
      },
      "source": [
        "## 練習: 最年輕的名字"
      ]
    },
    {
      "cell_type": "markdown",
      "metadata": {
        "id": "GVCwxL0WLH-7"
      },
      "source": [
        "在本練習中，你會需要使用 `groupby` 與 `sort_values`。\n",
        "\n",
        "我們想知道哪些名字擁有最低平均年齡，以及多少人擁有該名字。使用 `mean` 與 `count` 方法處理根據名字分組的資料，找出三個平均年齡最低的名字及其數量。"
      ]
    },
    {
      "cell_type": "code",
      "metadata": {
        "id": "Klyuje9bLH-7",
        "outputId": "49b51f1d-645d-4904-c2d0-05f118dc9b04"
      },
      "source": [
        "%%time\n",
        "name_groups = gdf[['name', 'age']].groupby(['name'])\n",
        "\n",
        "name_ages = name_groups['age'].mean()\n",
        "name_counts = name_groups['age'].count()"
      ],
      "execution_count": null,
      "outputs": [
        {
          "output_type": "stream",
          "text": [
            "CPU times: user 53.7 ms, sys: 28.2 ms, total: 81.9 ms\n",
            "Wall time: 81 ms\n"
          ],
          "name": "stdout"
        }
      ]
    },
    {
      "cell_type": "code",
      "metadata": {
        "id": "0BPtOCThLH--"
      },
      "source": [
        "ages_counts = cudf.DataFrame()\n",
        "ages_counts['mean_age'] = name_ages\n",
        "ages_counts['count'] = name_counts"
      ],
      "execution_count": null,
      "outputs": []
    },
    {
      "cell_type": "code",
      "metadata": {
        "id": "l2d1W5AoLH_A",
        "outputId": "5b82e86f-63fa-4b81-aa6f-fa0c4f414801"
      },
      "source": [
        "ages_counts = ages_counts.sort_values('mean_age')\n",
        "ages_counts.iloc[:3]"
      ],
      "execution_count": null,
      "outputs": [
        {
          "output_type": "execute_result",
          "data": {
            "text/html": [
              "<div>\n",
              "<style scoped>\n",
              "    .dataframe tbody tr th:only-of-type {\n",
              "        vertical-align: middle;\n",
              "    }\n",
              "\n",
              "    .dataframe tbody tr th {\n",
              "        vertical-align: top;\n",
              "    }\n",
              "\n",
              "    .dataframe thead th {\n",
              "        text-align: right;\n",
              "    }\n",
              "</style>\n",
              "<table border=\"1\" class=\"dataframe\">\n",
              "  <thead>\n",
              "    <tr style=\"text-align: right;\">\n",
              "      <th></th>\n",
              "      <th>mean_age</th>\n",
              "      <th>count</th>\n",
              "    </tr>\n",
              "  </thead>\n",
              "  <tbody>\n",
              "    <tr>\n",
              "      <th>Leart</th>\n",
              "      <td>34.911197</td>\n",
              "      <td>259</td>\n",
              "    </tr>\n",
              "    <tr>\n",
              "      <th>Luke-Junior</th>\n",
              "      <td>35.313725</td>\n",
              "      <td>255</td>\n",
              "    </tr>\n",
              "    <tr>\n",
              "      <th>Nameer</th>\n",
              "      <td>35.479675</td>\n",
              "      <td>246</td>\n",
              "    </tr>\n",
              "  </tbody>\n",
              "</table>\n",
              "</div>"
            ],
            "text/plain": [
              "              mean_age  count\n",
              "Leart        34.911197    259\n",
              "Luke-Junior  35.313725    255\n",
              "Nameer       35.479675    246"
            ]
          },
          "metadata": {
            "tags": []
          },
          "execution_count": 17
        }
      ]
    },
    {
      "cell_type": "markdown",
      "metadata": {
        "id": "srW0bExHLH_E"
      },
      "source": [
        "#### 解決方案"
      ]
    },
    {
      "cell_type": "code",
      "metadata": {
        "id": "i6SZjaTALH_F"
      },
      "source": [
        "# %load solutions/youngest_names\n",
        "name_groups = gdf[['name', 'age']].groupby('name')\n",
        "\n",
        "name_ages = name_groups['age'].mean()\n",
        "name_counts = name_groups['age'].count()\n",
        "\n",
        "ages_counts = cudf.DataFrame()\n",
        "ages_counts['mean_age'] = name_ages\n",
        "ages_counts['count'] = name_counts\n",
        "\n",
        "ages_counts = ages_counts.sort_values('mean_age')\n",
        "ages_counts.iloc[:3]\n"
      ],
      "execution_count": null,
      "outputs": []
    },
    {
      "cell_type": "markdown",
      "metadata": {
        "id": "s3Qv5-n-LH_I"
      },
      "source": [
        "## 下一步"
      ]
    },
    {
      "cell_type": "markdown",
      "metadata": {
        "id": "RTh5hVjuLH_I"
      },
      "source": [
        "為達到本實作坊更大的資料科學目標需求，我們將使用能反映整個英國道路網的資料。在下一份學習筆記中，你將學到額外的 cuDF 技巧，幫助你將直欄式資料轉換為圖表邊線資料，且我們會透過 `cuGraph` 函式庫使用該資料建構 GPU 加速圖表。"
      ]
    },
    {
      "cell_type": "markdown",
      "metadata": {
        "id": "btts_JiJLH_J"
      },
      "source": [
        "<br>\n",
        "<div align=\"center\"><h2>請重新啟動核心</h2></div>"
      ]
    }
  ]
}