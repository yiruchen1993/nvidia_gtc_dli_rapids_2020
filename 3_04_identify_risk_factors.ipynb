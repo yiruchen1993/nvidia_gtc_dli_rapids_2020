{
  "nbformat": 4,
  "nbformat_minor": 0,
  "metadata": {
    "kernelspec": {
      "display_name": "Python 3",
      "language": "python",
      "name": "python3"
    },
    "language_info": {
      "codemirror_mode": {
        "name": "ipython",
        "version": 3
      },
      "file_extension": ".py",
      "mimetype": "text/x-python",
      "name": "python",
      "nbconvert_exporter": "python",
      "pygments_lexer": "ipython3",
      "version": "3.6.7"
    },
    "colab": {
      "name": "3-04_identify_risk_factors.ipynb",
      "provenance": [],
      "include_colab_link": true
    }
  },
  "cells": [
    {
      "cell_type": "markdown",
      "metadata": {
        "id": "view-in-github",
        "colab_type": "text"
      },
      "source": [
        "<a href=\"https://colab.research.google.com/github/yiruchen1993/nvidia_gtc_dli_rapids_2020/blob/section_notebooks%2Fproject/3_04_identify_risk_factors.ipynb\" target=\"_parent\"><img src=\"https://colab.research.google.com/assets/colab-badge.svg\" alt=\"Open In Colab\"/></a>"
      ]
    },
    {
      "cell_type": "markdown",
      "metadata": {
        "id": "rh4Ng8I1N6gg"
      },
      "source": [
        "# 第三周: 確認感染的風險因子"
      ]
    },
    {
      "cell_type": "markdown",
      "metadata": {
        "id": "yEs-HaetN6gh"
      },
      "source": [
        "<span style=\"color:red\">\n",
        "**更新**\n",
        "\n",
        "再次感謝您的先前分析。接下來，我們將發佈公共衛生公告，警告個人應注意的特定感染風險因素。請告知哪些人群特徵與較高的感染率有關。\n",
        "</span>\n",
        "\n",
        "您的目標是通過比較感染人群和未感染人群來確定感染的潛在潛在人口地理和經濟風險因素。"
      ]
    },
    {
      "cell_type": "markdown",
      "metadata": {
        "id": "_btE7ZbVN6gi"
      },
      "source": [
        "## 載入相關套件"
      ]
    },
    {
      "cell_type": "code",
      "metadata": {
        "id": "G-21cMAYN6gi"
      },
      "source": [
        "import cudf\n",
        "import cuml"
      ],
      "execution_count": null,
      "outputs": []
    },
    {
      "cell_type": "markdown",
      "metadata": {
        "id": "g9oZz7qWN6gm"
      },
      "source": [
        "## 載入資料"
      ]
    },
    {
      "cell_type": "markdown",
      "metadata": {
        "id": "8EtTVposN6gm"
      },
      "source": [
        "首先，將您在疫情爆發的第3週收到的數據載入到cuDF Dataframe 中。 數據位於`./data/week3.csv`。 對於此練習，您將需要數據的所有欄位資料。\n"
      ]
    },
    {
      "cell_type": "code",
      "metadata": {
        "id": "sUfwmbq-N6gn"
      },
      "source": [
        "gdf = cudf.read_csv('./data/week3.csv')"
      ],
      "execution_count": null,
      "outputs": []
    },
    {
      "cell_type": "markdown",
      "metadata": {
        "id": "U-7nSLyMN6gu"
      },
      "source": [
        "## 按就業編碼計算感染率"
      ]
    },
    {
      "cell_type": "markdown",
      "metadata": {
        "id": "NGN_vGcgN6gv"
      },
      "source": [
        "將`infected`欄位轉換為`float32`型態。 對於未受感染的人，float32的`infected`值應為`0.0`，對於受感染的人，其值應為`1.0`。"
      ]
    },
    {
      "cell_type": "code",
      "metadata": {
        "id": "JWMqTmOYN6gv",
        "outputId": "2acbe10e-6b7b-4b31-8770-c16c05f4d17b"
      },
      "source": [
        "gdf.infected = gdf.infected.astype('float32')\n",
        "gdf.head()"
      ],
      "execution_count": null,
      "outputs": [
        {
          "output_type": "execute_result",
          "data": {
            "text/html": [
              "<div>\n",
              "<style scoped>\n",
              "    .dataframe tbody tr th:only-of-type {\n",
              "        vertical-align: middle;\n",
              "    }\n",
              "\n",
              "    .dataframe tbody tr th {\n",
              "        vertical-align: top;\n",
              "    }\n",
              "\n",
              "    .dataframe thead th {\n",
              "        text-align: right;\n",
              "    }\n",
              "</style>\n",
              "<table border=\"1\" class=\"dataframe\">\n",
              "  <thead>\n",
              "    <tr style=\"text-align: right;\">\n",
              "      <th></th>\n",
              "      <th>age</th>\n",
              "      <th>sex</th>\n",
              "      <th>employment</th>\n",
              "      <th>infected</th>\n",
              "    </tr>\n",
              "  </thead>\n",
              "  <tbody>\n",
              "    <tr>\n",
              "      <th>0</th>\n",
              "      <td>0</td>\n",
              "      <td>m</td>\n",
              "      <td>U</td>\n",
              "      <td>0.0</td>\n",
              "    </tr>\n",
              "    <tr>\n",
              "      <th>1</th>\n",
              "      <td>0</td>\n",
              "      <td>m</td>\n",
              "      <td>U</td>\n",
              "      <td>0.0</td>\n",
              "    </tr>\n",
              "    <tr>\n",
              "      <th>2</th>\n",
              "      <td>0</td>\n",
              "      <td>m</td>\n",
              "      <td>U</td>\n",
              "      <td>0.0</td>\n",
              "    </tr>\n",
              "    <tr>\n",
              "      <th>3</th>\n",
              "      <td>0</td>\n",
              "      <td>m</td>\n",
              "      <td>U</td>\n",
              "      <td>0.0</td>\n",
              "    </tr>\n",
              "    <tr>\n",
              "      <th>4</th>\n",
              "      <td>0</td>\n",
              "      <td>m</td>\n",
              "      <td>U</td>\n",
              "      <td>0.0</td>\n",
              "    </tr>\n",
              "  </tbody>\n",
              "</table>\n",
              "</div>"
            ],
            "text/plain": [
              "   age sex employment  infected\n",
              "0    0   m          U       0.0\n",
              "1    0   m          U       0.0\n",
              "2    0   m          U       0.0\n",
              "3    0   m          U       0.0\n",
              "4    0   m          U       0.0"
            ]
          },
          "metadata": {
            "tags": []
          },
          "execution_count": 4
        }
      ]
    },
    {
      "cell_type": "markdown",
      "metadata": {
        "id": "CYRoJ1RcN6gz"
      },
      "source": [
        "現在，列出一份就業類型及其相關的感染率清單，從最高感染率到最低感染率進行排序。\n",
        "\n",
        "**注意**：每種就業類型的感染**率**應為該就業類型中被感染的總人數的百分比。因此，如果僱傭類型\"X\"有1000人，並且其中10人受到感染，則感染率.01。 如果僱傭類型\"Z\"有10,000人，並且其中有50人受到感染，則感染率將為.005，並且比\"X\"類型**低**，即使該僱傭類型中有更多的人被感染 。"
      ]
    },
    {
      "cell_type": "code",
      "metadata": {
        "id": "eS7jUbtRN6g0",
        "outputId": "a7263616-1407-48c8-da75-157c9c98f6e5"
      },
      "source": [
        "total_gdf = cudf.DataFrame()\n",
        "total = gdf.employment.value_counts().to_frame()\n",
        "total_gdf['total'] = total.employment\n",
        "total_gdf['employ'] = total.index\n",
        "total_gdf.head()"
      ],
      "execution_count": null,
      "outputs": [
        {
          "output_type": "execute_result",
          "data": {
            "text/html": [
              "<div>\n",
              "<style scoped>\n",
              "    .dataframe tbody tr th:only-of-type {\n",
              "        vertical-align: middle;\n",
              "    }\n",
              "\n",
              "    .dataframe tbody tr th {\n",
              "        vertical-align: top;\n",
              "    }\n",
              "\n",
              "    .dataframe thead th {\n",
              "        text-align: right;\n",
              "    }\n",
              "</style>\n",
              "<table border=\"1\" class=\"dataframe\">\n",
              "  <thead>\n",
              "    <tr style=\"text-align: right;\">\n",
              "      <th></th>\n",
              "      <th>total</th>\n",
              "      <th>employ</th>\n",
              "    </tr>\n",
              "  </thead>\n",
              "  <tbody>\n",
              "    <tr>\n",
              "      <th>U</th>\n",
              "      <td>12459115</td>\n",
              "      <td>U</td>\n",
              "    </tr>\n",
              "    <tr>\n",
              "      <th>V</th>\n",
              "      <td>10098466</td>\n",
              "      <td>V</td>\n",
              "    </tr>\n",
              "    <tr>\n",
              "      <th>Z</th>\n",
              "      <td>7161907</td>\n",
              "      <td>Z</td>\n",
              "    </tr>\n",
              "    <tr>\n",
              "      <th>Q</th>\n",
              "      <td>3802602</td>\n",
              "      <td>Q</td>\n",
              "    </tr>\n",
              "    <tr>\n",
              "      <th>G</th>\n",
              "      <td>3549465</td>\n",
              "      <td>G</td>\n",
              "    </tr>\n",
              "  </tbody>\n",
              "</table>\n",
              "</div>"
            ],
            "text/plain": [
              "      total employ\n",
              "U  12459115      U\n",
              "V  10098466      V\n",
              "Z   7161907      Z\n",
              "Q   3802602      Q\n",
              "G   3549465      G"
            ]
          },
          "metadata": {
            "tags": []
          },
          "execution_count": 42
        }
      ]
    },
    {
      "cell_type": "code",
      "metadata": {
        "id": "cSrnTq8LN6g2",
        "outputId": "dead7e53-6c14-4019-d23a-e8276d83c080"
      },
      "source": [
        "infect_gdf = cudf.DataFrame()\n",
        "infect = gdf.loc[gdf.infected==1,:].employment.value_counts().to_frame()\n",
        "infect_gdf['infected_num'] = infect.employment\n",
        "infect_gdf['employ'] = infect.index\n",
        "infect_gdf.head()"
      ],
      "execution_count": null,
      "outputs": [
        {
          "output_type": "execute_result",
          "data": {
            "text/html": [
              "<div>\n",
              "<style scoped>\n",
              "    .dataframe tbody tr th:only-of-type {\n",
              "        vertical-align: middle;\n",
              "    }\n",
              "\n",
              "    .dataframe tbody tr th {\n",
              "        vertical-align: top;\n",
              "    }\n",
              "\n",
              "    .dataframe thead th {\n",
              "        text-align: right;\n",
              "    }\n",
              "</style>\n",
              "<table border=\"1\" class=\"dataframe\">\n",
              "  <thead>\n",
              "    <tr style=\"text-align: right;\">\n",
              "      <th></th>\n",
              "      <th>infected_num</th>\n",
              "      <th>employ</th>\n",
              "    </tr>\n",
              "  </thead>\n",
              "  <tbody>\n",
              "    <tr>\n",
              "      <th>V</th>\n",
              "      <td>76648</td>\n",
              "      <td>V</td>\n",
              "    </tr>\n",
              "    <tr>\n",
              "      <th>Q</th>\n",
              "      <td>48505</td>\n",
              "      <td>Q</td>\n",
              "    </tr>\n",
              "    <tr>\n",
              "      <th>Z</th>\n",
              "      <td>40498</td>\n",
              "      <td>Z</td>\n",
              "    </tr>\n",
              "    <tr>\n",
              "      <th>P</th>\n",
              "      <td>18609</td>\n",
              "      <td>P</td>\n",
              "    </tr>\n",
              "    <tr>\n",
              "      <th>G</th>\n",
              "      <td>17561</td>\n",
              "      <td>G</td>\n",
              "    </tr>\n",
              "  </tbody>\n",
              "</table>\n",
              "</div>"
            ],
            "text/plain": [
              "   infected_num employ\n",
              "V         76648      V\n",
              "Q         48505      Q\n",
              "Z         40498      Z\n",
              "P         18609      P\n",
              "G         17561      G"
            ]
          },
          "metadata": {
            "tags": []
          },
          "execution_count": 43
        }
      ]
    },
    {
      "cell_type": "code",
      "metadata": {
        "id": "QqySApHON6g6",
        "outputId": "db637dcb-8572-44b9-8636-09e86cc60e81"
      },
      "source": [
        "infect_rate_list = total_gdf.merge(infect_gdf)\n",
        "infect_rate_list['infected_rate'] = infect_rate_list['infected_num']/infect_rate_list['total']\n",
        "infect_rate_list = infect_rate_list.sort_values(by=['infected_rate'], ascending=False)\n",
        "infect_rate_list.head()"
      ],
      "execution_count": null,
      "outputs": [
        {
          "output_type": "execute_result",
          "data": {
            "text/html": [
              "<div>\n",
              "<style scoped>\n",
              "    .dataframe tbody tr th:only-of-type {\n",
              "        vertical-align: middle;\n",
              "    }\n",
              "\n",
              "    .dataframe tbody tr th {\n",
              "        vertical-align: top;\n",
              "    }\n",
              "\n",
              "    .dataframe thead th {\n",
              "        text-align: right;\n",
              "    }\n",
              "</style>\n",
              "<table border=\"1\" class=\"dataframe\">\n",
              "  <thead>\n",
              "    <tr style=\"text-align: right;\">\n",
              "      <th></th>\n",
              "      <th>total</th>\n",
              "      <th>employ</th>\n",
              "      <th>infected_num</th>\n",
              "      <th>infected_rate</th>\n",
              "    </tr>\n",
              "  </thead>\n",
              "  <tbody>\n",
              "    <tr>\n",
              "      <th>3</th>\n",
              "      <td>3802602</td>\n",
              "      <td>Q</td>\n",
              "      <td>48505</td>\n",
              "      <td>0.012756</td>\n",
              "    </tr>\n",
              "    <tr>\n",
              "      <th>11</th>\n",
              "      <td>1556575</td>\n",
              "      <td>I</td>\n",
              "      <td>16116</td>\n",
              "      <td>0.010354</td>\n",
              "    </tr>\n",
              "    <tr>\n",
              "      <th>1</th>\n",
              "      <td>10098466</td>\n",
              "      <td>V</td>\n",
              "      <td>76648</td>\n",
              "      <td>0.007590</td>\n",
              "    </tr>\n",
              "    <tr>\n",
              "      <th>5</th>\n",
              "      <td>3006149</td>\n",
              "      <td>P</td>\n",
              "      <td>18609</td>\n",
              "      <td>0.006190</td>\n",
              "    </tr>\n",
              "    <tr>\n",
              "      <th>2</th>\n",
              "      <td>7161907</td>\n",
              "      <td>Z</td>\n",
              "      <td>40498</td>\n",
              "      <td>0.005655</td>\n",
              "    </tr>\n",
              "  </tbody>\n",
              "</table>\n",
              "</div>"
            ],
            "text/plain": [
              "       total employ  infected_num  infected_rate\n",
              "3    3802602      Q         48505       0.012756\n",
              "11   1556575      I         16116       0.010354\n",
              "1   10098466      V         76648       0.007590\n",
              "5    3006149      P         18609       0.006190\n",
              "2    7161907      Z         40498       0.005655"
            ]
          },
          "metadata": {
            "tags": []
          },
          "execution_count": 49
        }
      ]
    },
    {
      "cell_type": "markdown",
      "metadata": {
        "id": "-MPE2h69N6g-"
      },
      "source": [
        "最後，請參考 `./data/code_guide.csv`中的就業守則指南，以解釋哪些就業類型感染率最高。"
      ]
    },
    {
      "cell_type": "code",
      "metadata": {
        "id": "2aLlYOQ_N6g-"
      },
      "source": [
        "code_gdf = cudf.read_csv('./data/code_guide.csv')"
      ],
      "execution_count": null,
      "outputs": []
    },
    {
      "cell_type": "code",
      "metadata": {
        "id": "9tQtPwIBN6hB",
        "outputId": "20d68054-5df6-4a35-81a1-524a37eda948"
      },
      "source": [
        "code_gdf.loc[code_gdf.Code=='Q',:]"
      ],
      "execution_count": null,
      "outputs": [
        {
          "output_type": "execute_result",
          "data": {
            "text/html": [
              "<div>\n",
              "<style scoped>\n",
              "    .dataframe tbody tr th:only-of-type {\n",
              "        vertical-align: middle;\n",
              "    }\n",
              "\n",
              "    .dataframe tbody tr th {\n",
              "        vertical-align: top;\n",
              "    }\n",
              "\n",
              "    .dataframe thead th {\n",
              "        text-align: right;\n",
              "    }\n",
              "</style>\n",
              "<table border=\"1\" class=\"dataframe\">\n",
              "  <thead>\n",
              "    <tr style=\"text-align: right;\">\n",
              "      <th></th>\n",
              "      <th>Code</th>\n",
              "      <th>Field</th>\n",
              "    </tr>\n",
              "  </thead>\n",
              "  <tbody>\n",
              "    <tr>\n",
              "      <th>14</th>\n",
              "      <td>Q</td>\n",
              "      <td>Human health &amp; social work activities</td>\n",
              "    </tr>\n",
              "  </tbody>\n",
              "</table>\n",
              "</div>"
            ],
            "text/plain": [
              "   Code                                  Field\n",
              "14    Q  Human health & social work activities"
            ]
          },
          "metadata": {
            "tags": []
          },
          "execution_count": 54
        }
      ]
    },
    {
      "cell_type": "markdown",
      "metadata": {
        "id": "GEI9QwAmN6hD"
      },
      "source": [
        "## 通過就業代碼和性別計算感染率"
      ]
    },
    {
      "cell_type": "markdown",
      "metadata": {
        "id": "62eLuKC9N6hE"
      },
      "source": [
        "我們想看看`sex`對感染率是否有影響，除了`employment`之外還是混雜起來。 同時按`employment`和`sex`進行分組，以得出這些類別交叉點的感染率。"
      ]
    },
    {
      "cell_type": "code",
      "metadata": {
        "id": "rhI6pIQbN6hE"
      },
      "source": [
        ""
      ],
      "execution_count": null,
      "outputs": []
    },
    {
      "cell_type": "markdown",
      "metadata": {
        "id": "Ncet9aaIN6hH"
      },
      "source": [
        "## 進行評估"
      ]
    },
    {
      "cell_type": "markdown",
      "metadata": {
        "id": "u6UXTf3TN6hI"
      },
      "source": [
        "完成上述工作後，請訪問用於啟動此Jupyter Lab的*Launch Section*網頁。 向下滾動到啟動Jupyter Lab的位置，然後回答問題*第3週評估*。您可以通過訪問同一*Launch Section*頁面並單擊*Progress*頁面的鏈接來查看評估的總體進度。在*Progress*頁面上，如果您已成功回答所有評估問題，則可以單擊*Generate Certificate*以在課程中獲得證書。"
      ]
    },
    {
      "cell_type": "markdown",
      "metadata": {
        "id": "6dYFPz-qN6hJ"
      },
      "source": [
        "![launch_task_page](./images/launch_task_page.png)"
      ]
    },
    {
      "cell_type": "markdown",
      "metadata": {
        "id": "MVnYs_wDN6hJ"
      },
      "source": [
        "<div align=\"center\"><h2>Optional: 重啟核心</h2></div>"
      ]
    },
    {
      "cell_type": "markdown",
      "metadata": {
        "id": "DUyu7W8rN6hK"
      },
      "source": [
        "如果您打算繼續在其他notebook工作，請關閉此notebook核心。"
      ]
    },
    {
      "cell_type": "code",
      "metadata": {
        "id": "bTr-D1-2N6hL"
      },
      "source": [
        "import IPython\n",
        "app = IPython.Application.instance()\n",
        "app.kernel.do_shutdown(True)"
      ],
      "execution_count": null,
      "outputs": []
    }
  ]
}