{
  "nbformat": 4,
  "nbformat_minor": 0,
  "metadata": {
    "kernelspec": {
      "display_name": "Python 3",
      "language": "python",
      "name": "python3"
    },
    "language_info": {
      "codemirror_mode": {
        "name": "ipython",
        "version": 3
      },
      "file_extension": ".py",
      "mimetype": "text/x-python",
      "name": "python",
      "nbconvert_exporter": "python",
      "pygments_lexer": "ipython3",
      "version": "3.6.7"
    },
    "colab": {
      "name": "2-06_knn.ipynb",
      "provenance": [],
      "include_colab_link": true
    }
  },
  "cells": [
    {
      "cell_type": "markdown",
      "metadata": {
        "id": "view-in-github",
        "colab_type": "text"
      },
      "source": [
        "<a href=\"https://colab.research.google.com/github/yiruchen1993/nvidia_gtc_dli_rapids_2020/blob/section_notebooks%2Fmachine_learning/2_06_knn.ipynb\" target=\"_parent\"><img src=\"https://colab.research.google.com/assets/colab-badge.svg\" alt=\"Open In Colab\"/></a>"
      ]
    },
    {
      "cell_type": "markdown",
      "metadata": {
        "id": "EpkVT57NNNzV"
      },
      "source": [
        "# KNN"
      ]
    },
    {
      "cell_type": "markdown",
      "metadata": {
        "id": "RP0wSBQeNNzX"
      },
      "source": [
        "在此notebook中，您將使用GPU加速的k-nearest neighbors 來識別距醫院最近的道路節點。"
      ]
    },
    {
      "cell_type": "markdown",
      "metadata": {
        "id": "ACBIk2dONNzY"
      },
      "source": [
        "## 目標"
      ]
    },
    {
      "cell_type": "markdown",
      "metadata": {
        "id": "xiSYmEpYNNzZ"
      },
      "source": [
        "在您完成本notebook時，您將能夠：\n",
        "\n",
        "-使用單個GPU使用GPU加速的k-nearest neighbors"
      ]
    },
    {
      "cell_type": "markdown",
      "metadata": {
        "id": "qlHiaAjZNNza"
      },
      "source": [
        "## 載入"
      ]
    },
    {
      "cell_type": "code",
      "metadata": {
        "id": "mFp2qAV6NNzb"
      },
      "source": [
        "import cudf\n",
        "import cuml"
      ],
      "execution_count": null,
      "outputs": []
    },
    {
      "cell_type": "markdown",
      "metadata": {
        "id": "UT0flTQONNzf"
      },
      "source": [
        "## 載入資料"
      ]
    },
    {
      "cell_type": "markdown",
      "metadata": {
        "id": "9pt3zr8VNNzg"
      },
      "source": [
        "### 道路節點"
      ]
    },
    {
      "cell_type": "markdown",
      "metadata": {
        "id": "WHS7NHqsNNzg"
      },
      "source": [
        "我們從讀取道路節點資料開始"
      ]
    },
    {
      "cell_type": "code",
      "metadata": {
        "id": "DRKCcEHfNNzh"
      },
      "source": [
        "road_nodes = cudf.read_csv('./data/road_nodes_2-06.csv', dtype=['str', 'float32', 'float32', 'str'])"
      ],
      "execution_count": null,
      "outputs": []
    },
    {
      "cell_type": "code",
      "metadata": {
        "id": "-eDribD4NNzk",
        "outputId": "c3aede6c-b7f7-4e98-e7f9-aa1ebfb12526"
      },
      "source": [
        "road_nodes.dtypes"
      ],
      "execution_count": null,
      "outputs": [
        {
          "output_type": "execute_result",
          "data": {
            "text/plain": [
              "node_id     object\n",
              "east       float32\n",
              "north      float32\n",
              "type        object\n",
              "dtype: object"
            ]
          },
          "metadata": {
            "tags": []
          },
          "execution_count": 3
        }
      ]
    },
    {
      "cell_type": "code",
      "metadata": {
        "id": "ACflYo1JNNzo",
        "outputId": "a4b7ddc5-fc41-423b-d9fa-927eb9a5af9f"
      },
      "source": [
        "road_nodes.shape"
      ],
      "execution_count": null,
      "outputs": [
        {
          "output_type": "execute_result",
          "data": {
            "text/plain": [
              "(3121148, 4)"
            ]
          },
          "metadata": {
            "tags": []
          },
          "execution_count": 4
        }
      ]
    },
    {
      "cell_type": "code",
      "metadata": {
        "id": "XUozxrgmNNzr",
        "outputId": "cc54f42b-6612-4108-a3d9-1ad7d1e195d3"
      },
      "source": [
        "road_nodes.head()"
      ],
      "execution_count": null,
      "outputs": [
        {
          "output_type": "execute_result",
          "data": {
            "text/html": [
              "<div>\n",
              "<style scoped>\n",
              "    .dataframe tbody tr th:only-of-type {\n",
              "        vertical-align: middle;\n",
              "    }\n",
              "\n",
              "    .dataframe tbody tr th {\n",
              "        vertical-align: top;\n",
              "    }\n",
              "\n",
              "    .dataframe thead th {\n",
              "        text-align: right;\n",
              "    }\n",
              "</style>\n",
              "<table border=\"1\" class=\"dataframe\">\n",
              "  <thead>\n",
              "    <tr style=\"text-align: right;\">\n",
              "      <th></th>\n",
              "      <th>node_id</th>\n",
              "      <th>east</th>\n",
              "      <th>north</th>\n",
              "      <th>type</th>\n",
              "    </tr>\n",
              "  </thead>\n",
              "  <tbody>\n",
              "    <tr>\n",
              "      <th>0</th>\n",
              "      <td>id02FE73D4-E88D-4119-8DC2-6E80DE6F6594</td>\n",
              "      <td>320608.09375</td>\n",
              "      <td>870994.0000</td>\n",
              "      <td>junction</td>\n",
              "    </tr>\n",
              "    <tr>\n",
              "      <th>1</th>\n",
              "      <td>id634D65C1-C38B-4868-9080-2E1E47F0935C</td>\n",
              "      <td>320628.50000</td>\n",
              "      <td>871103.8125</td>\n",
              "      <td>road end</td>\n",
              "    </tr>\n",
              "    <tr>\n",
              "      <th>2</th>\n",
              "      <td>idDC14D4D1-774E-487D-8EDE-60B129E5482C</td>\n",
              "      <td>320635.46875</td>\n",
              "      <td>870983.8750</td>\n",
              "      <td>junction</td>\n",
              "    </tr>\n",
              "    <tr>\n",
              "      <th>3</th>\n",
              "      <td>id51555819-1A39-4B41-B0C9-C6D2086D9921</td>\n",
              "      <td>320648.68750</td>\n",
              "      <td>871083.5625</td>\n",
              "      <td>junction</td>\n",
              "    </tr>\n",
              "    <tr>\n",
              "      <th>4</th>\n",
              "      <td>id9E362428-79D7-4EE3-B015-0CE3F6A78A69</td>\n",
              "      <td>320658.18750</td>\n",
              "      <td>871162.3750</td>\n",
              "      <td>junction</td>\n",
              "    </tr>\n",
              "  </tbody>\n",
              "</table>\n",
              "</div>"
            ],
            "text/plain": [
              "                                  node_id          east        north      type\n",
              "0  id02FE73D4-E88D-4119-8DC2-6E80DE6F6594  320608.09375  870994.0000  junction\n",
              "1  id634D65C1-C38B-4868-9080-2E1E47F0935C  320628.50000  871103.8125  road end\n",
              "2  idDC14D4D1-774E-487D-8EDE-60B129E5482C  320635.46875  870983.8750  junction\n",
              "3  id51555819-1A39-4B41-B0C9-C6D2086D9921  320648.68750  871083.5625  junction\n",
              "4  id9E362428-79D7-4EE3-B015-0CE3F6A78A69  320658.18750  871162.3750  junction"
            ]
          },
          "metadata": {
            "tags": []
          },
          "execution_count": 5
        }
      ]
    },
    {
      "cell_type": "markdown",
      "metadata": {
        "id": "jnSsbQL1NNzx"
      },
      "source": [
        "### 醫院"
      ]
    },
    {
      "cell_type": "markdown",
      "metadata": {
        "id": "iMyMbCx7NNzy"
      },
      "source": [
        "接下來，我們載入醫院數據。"
      ]
    },
    {
      "cell_type": "code",
      "metadata": {
        "id": "uVRrX74tNNzz"
      },
      "source": [
        "hospitals = cudf.read_csv('./data/hospitals_2-06.csv')"
      ],
      "execution_count": null,
      "outputs": []
    },
    {
      "cell_type": "code",
      "metadata": {
        "id": "OxQ6qUMwNNz7",
        "outputId": "57d212c7-65f4-4eb2-a694-1bb79c09af7e"
      },
      "source": [
        "hospitals.dtypes"
      ],
      "execution_count": null,
      "outputs": [
        {
          "output_type": "execute_result",
          "data": {
            "text/plain": [
              "﻿OrganisationID         int64\n",
              "OrganisationCode       object\n",
              "OrganisationType       object\n",
              "SubType                object\n",
              "Sector                 object\n",
              "OrganisationStatus     object\n",
              "IsPimsManaged          object\n",
              "OrganisationName       object\n",
              "Address1               object\n",
              "Address2               object\n",
              "Address3               object\n",
              "City                   object\n",
              "County                 object\n",
              "Postcode               object\n",
              "Latitude              float64\n",
              "Longitude             float64\n",
              "ParentODSCode          object\n",
              "ParentName             object\n",
              "Phone                  object\n",
              "Email                  object\n",
              "Website                object\n",
              "Fax                    object\n",
              "northing              float64\n",
              "easting               float64\n",
              "dtype: object"
            ]
          },
          "metadata": {
            "tags": []
          },
          "execution_count": 7
        }
      ]
    },
    {
      "cell_type": "code",
      "metadata": {
        "id": "Hv7HE7YuNNz-",
        "outputId": "ffdbc944-a271-47bf-c69f-cce3d80b42c0"
      },
      "source": [
        "hospitals.shape"
      ],
      "execution_count": null,
      "outputs": [
        {
          "output_type": "execute_result",
          "data": {
            "text/plain": [
              "(1226, 24)"
            ]
          },
          "metadata": {
            "tags": []
          },
          "execution_count": 8
        }
      ]
    },
    {
      "cell_type": "code",
      "metadata": {
        "id": "8egAua8BNN0B",
        "outputId": "069d5cd2-2ec9-4842-eee8-343a307e51e3"
      },
      "source": [
        "hospitals.head()"
      ],
      "execution_count": null,
      "outputs": [
        {
          "output_type": "execute_result",
          "data": {
            "text/html": [
              "<div>\n",
              "<style scoped>\n",
              "    .dataframe tbody tr th:only-of-type {\n",
              "        vertical-align: middle;\n",
              "    }\n",
              "\n",
              "    .dataframe tbody tr th {\n",
              "        vertical-align: top;\n",
              "    }\n",
              "\n",
              "    .dataframe thead th {\n",
              "        text-align: right;\n",
              "    }\n",
              "</style>\n",
              "<table border=\"1\" class=\"dataframe\">\n",
              "  <thead>\n",
              "    <tr style=\"text-align: right;\">\n",
              "      <th></th>\n",
              "      <th>﻿OrganisationID</th>\n",
              "      <th>OrganisationCode</th>\n",
              "      <th>OrganisationType</th>\n",
              "      <th>SubType</th>\n",
              "      <th>Sector</th>\n",
              "      <th>OrganisationStatus</th>\n",
              "      <th>IsPimsManaged</th>\n",
              "      <th>OrganisationName</th>\n",
              "      <th>Address1</th>\n",
              "      <th>Address2</th>\n",
              "      <th>...</th>\n",
              "      <th>Latitude</th>\n",
              "      <th>Longitude</th>\n",
              "      <th>ParentODSCode</th>\n",
              "      <th>ParentName</th>\n",
              "      <th>Phone</th>\n",
              "      <th>Email</th>\n",
              "      <th>Website</th>\n",
              "      <th>Fax</th>\n",
              "      <th>northing</th>\n",
              "      <th>easting</th>\n",
              "    </tr>\n",
              "  </thead>\n",
              "  <tbody>\n",
              "    <tr>\n",
              "      <th>0</th>\n",
              "      <td>17970</td>\n",
              "      <td>NDA07</td>\n",
              "      <td>Hospital</td>\n",
              "      <td>Hospital</td>\n",
              "      <td>Independent Sector</td>\n",
              "      <td>Visible</td>\n",
              "      <td>TRUE</td>\n",
              "      <td>Walton Community Hospital - Virgin Care Servic...</td>\n",
              "      <td></td>\n",
              "      <td>Rodney Road</td>\n",
              "      <td>...</td>\n",
              "      <td>51.379997</td>\n",
              "      <td>-0.406042</td>\n",
              "      <td>NDA</td>\n",
              "      <td>Virgin Care Services Ltd</td>\n",
              "      <td>01932 414205</td>\n",
              "      <td></td>\n",
              "      <td></td>\n",
              "      <td>01932 253674</td>\n",
              "      <td>165810.4688</td>\n",
              "      <td>510917.5313</td>\n",
              "    </tr>\n",
              "    <tr>\n",
              "      <th>1</th>\n",
              "      <td>17981</td>\n",
              "      <td>NDA18</td>\n",
              "      <td>Hospital</td>\n",
              "      <td>Hospital</td>\n",
              "      <td>Independent Sector</td>\n",
              "      <td>Visible</td>\n",
              "      <td>TRUE</td>\n",
              "      <td>Woking Community Hospital (Virgin Care)</td>\n",
              "      <td></td>\n",
              "      <td>Heathside Road</td>\n",
              "      <td>...</td>\n",
              "      <td>51.315132</td>\n",
              "      <td>-0.556289</td>\n",
              "      <td>NDA</td>\n",
              "      <td>Virgin Care Services Ltd</td>\n",
              "      <td>01483 715911</td>\n",
              "      <td></td>\n",
              "      <td></td>\n",
              "      <td></td>\n",
              "      <td>158381.3438</td>\n",
              "      <td>500604.8438</td>\n",
              "    </tr>\n",
              "    <tr>\n",
              "      <th>2</th>\n",
              "      <td>18102</td>\n",
              "      <td>NLT02</td>\n",
              "      <td>Hospital</td>\n",
              "      <td>Hospital</td>\n",
              "      <td>NHS Sector</td>\n",
              "      <td>Visible</td>\n",
              "      <td>TRUE</td>\n",
              "      <td>North Somerset Community Hospital</td>\n",
              "      <td>North Somerset Community Hospital</td>\n",
              "      <td>Old Street</td>\n",
              "      <td>...</td>\n",
              "      <td>51.437195</td>\n",
              "      <td>-2.847193</td>\n",
              "      <td>NLT</td>\n",
              "      <td>North Somerset Community Partnership Community...</td>\n",
              "      <td>01275 872212</td>\n",
              "      <td></td>\n",
              "      <td>http://www.nscphealth.co.uk</td>\n",
              "      <td></td>\n",
              "      <td>171305.7813</td>\n",
              "      <td>341119.3750</td>\n",
              "    </tr>\n",
              "    <tr>\n",
              "      <th>3</th>\n",
              "      <td>18138</td>\n",
              "      <td>NMP01</td>\n",
              "      <td>Hospital</td>\n",
              "      <td>Hospital</td>\n",
              "      <td>Independent Sector</td>\n",
              "      <td>Visible</td>\n",
              "      <td>FALSE</td>\n",
              "      <td>Bridgewater Hospital</td>\n",
              "      <td>120 Princess Road</td>\n",
              "      <td></td>\n",
              "      <td>...</td>\n",
              "      <td>53.459743</td>\n",
              "      <td>-2.245469</td>\n",
              "      <td>NMP</td>\n",
              "      <td>Bridgewater Hospital (Manchester) Ltd</td>\n",
              "      <td>0161 2270000</td>\n",
              "      <td></td>\n",
              "      <td>www.bridgewaterhospital.com</td>\n",
              "      <td></td>\n",
              "      <td>395944.5625</td>\n",
              "      <td>383703.5938</td>\n",
              "    </tr>\n",
              "    <tr>\n",
              "      <th>4</th>\n",
              "      <td>18142</td>\n",
              "      <td>NMV01</td>\n",
              "      <td>Hospital</td>\n",
              "      <td>Hospital</td>\n",
              "      <td>Independent Sector</td>\n",
              "      <td>Visible</td>\n",
              "      <td>TRUE</td>\n",
              "      <td>Kneesworth House</td>\n",
              "      <td>Old North Road</td>\n",
              "      <td>Bassingbourn</td>\n",
              "      <td>...</td>\n",
              "      <td>52.078121</td>\n",
              "      <td>-0.030604</td>\n",
              "      <td>NMV</td>\n",
              "      <td>Partnerships In Care Ltd</td>\n",
              "      <td>01763 255 700</td>\n",
              "      <td>reception_kneesworthhouse@partnershipsincare.c...</td>\n",
              "      <td>www.partnershipsincare.co.uk</td>\n",
              "      <td></td>\n",
              "      <td>244071.7031</td>\n",
              "      <td>534945.1875</td>\n",
              "    </tr>\n",
              "  </tbody>\n",
              "</table>\n",
              "<p>5 rows × 24 columns</p>\n",
              "</div>"
            ],
            "text/plain": [
              "   ﻿OrganisationID OrganisationCode OrganisationType   SubType  \\\n",
              "0            17970            NDA07         Hospital  Hospital   \n",
              "1            17981            NDA18         Hospital  Hospital   \n",
              "2            18102            NLT02         Hospital  Hospital   \n",
              "3            18138            NMP01         Hospital  Hospital   \n",
              "4            18142            NMV01         Hospital  Hospital   \n",
              "\n",
              "               Sector OrganisationStatus IsPimsManaged  \\\n",
              "0  Independent Sector            Visible          TRUE   \n",
              "1  Independent Sector            Visible          TRUE   \n",
              "2          NHS Sector            Visible          TRUE   \n",
              "3  Independent Sector            Visible         FALSE   \n",
              "4  Independent Sector            Visible          TRUE   \n",
              "\n",
              "                                    OrganisationName  \\\n",
              "0  Walton Community Hospital - Virgin Care Servic...   \n",
              "1            Woking Community Hospital (Virgin Care)   \n",
              "2                  North Somerset Community Hospital   \n",
              "3                               Bridgewater Hospital   \n",
              "4                                   Kneesworth House   \n",
              "\n",
              "                            Address1        Address2  ...   Latitude  \\\n",
              "0                                        Rodney Road  ...  51.379997   \n",
              "1                                     Heathside Road  ...  51.315132   \n",
              "2  North Somerset Community Hospital      Old Street  ...  51.437195   \n",
              "3                  120 Princess Road                  ...  53.459743   \n",
              "4                     Old North Road    Bassingbourn  ...  52.078121   \n",
              "\n",
              "  Longitude  ParentODSCode                                         ParentName  \\\n",
              "0 -0.406042            NDA                           Virgin Care Services Ltd   \n",
              "1 -0.556289            NDA                           Virgin Care Services Ltd   \n",
              "2 -2.847193            NLT  North Somerset Community Partnership Community...   \n",
              "3 -2.245469            NMP              Bridgewater Hospital (Manchester) Ltd   \n",
              "4 -0.030604            NMV                           Partnerships In Care Ltd   \n",
              "\n",
              "           Phone                                              Email  \\\n",
              "0   01932 414205                                                      \n",
              "1   01483 715911                                                      \n",
              "2   01275 872212                                                      \n",
              "3   0161 2270000                                                      \n",
              "4  01763 255 700  reception_kneesworthhouse@partnershipsincare.c...   \n",
              "\n",
              "                        Website           Fax     northing      easting  \n",
              "0                                01932 253674  165810.4688  510917.5313  \n",
              "1                                              158381.3438  500604.8438  \n",
              "2   http://www.nscphealth.co.uk                171305.7813  341119.3750  \n",
              "3   www.bridgewaterhospital.com                395944.5625  383703.5938  \n",
              "4  www.partnershipsincare.co.uk                244071.7031  534945.1875  \n",
              "\n",
              "[5 rows x 24 columns]"
            ]
          },
          "metadata": {
            "tags": []
          },
          "execution_count": 9
        }
      ]
    },
    {
      "cell_type": "markdown",
      "metadata": {
        "id": "Q8dXlXcrNN0D"
      },
      "source": [
        "## K-Nearest Neighbors"
      ]
    },
    {
      "cell_type": "markdown",
      "metadata": {
        "id": "57U8lZUbNN0E"
      },
      "source": [
        "我們將使用[k-nearest neighbors](https://en.wikipedia.org/wiki/K-nearest_neighbors_algorithm)算法為每家醫院找到最近的*k*路節點。我們需要使用道路數據擬合KNN模型，然後提供經過訓練的醫院模型位置，以便它可以返回最近的道路。"
      ]
    },
    {
      "cell_type": "markdown",
      "metadata": {
        "id": "oL0A-GFPNN0F"
      },
      "source": [
        "## 練習: 準備KNN模型"
      ]
    },
    {
      "cell_type": "markdown",
      "metadata": {
        "id": "-28Rh5HyNN0G"
      },
      "source": [
        "通過使用`cuml.NearestNeighbors`構造函數創建一個k-nearest neighbors模型`knn`，並將命名參數`n_neighbors`設置為3。"
      ]
    },
    {
      "cell_type": "code",
      "metadata": {
        "id": "Yw77Fc2LNN0G"
      },
      "source": [
        ""
      ],
      "execution_count": null,
      "outputs": []
    },
    {
      "cell_type": "markdown",
      "metadata": {
        "id": "ISp5k3hrNN0K"
      },
      "source": [
        "#### 解答"
      ]
    },
    {
      "cell_type": "code",
      "metadata": {
        "id": "jbLUb_YnNN0L"
      },
      "source": [
        "# %load solutions/prep_knn\n",
        "knn = cuml.NearestNeighbors(n_neighbors=3)\n"
      ],
      "execution_count": null,
      "outputs": []
    },
    {
      "cell_type": "markdown",
      "metadata": {
        "id": "h4OtAoc7NN0N"
      },
      "source": [
        "## 練習: Fit the KNN Model"
      ]
    },
    {
      "cell_type": "markdown",
      "metadata": {
        "id": "e4Ho2yQ6NN0O"
      },
      "source": [
        "使用`road_nodes`欄位`east`和`north`建立一個新的dataframe`road_locs`。欄位的順序無關緊要，只不過我們需要它們在多個操作上保持一致，因此請使用順序`['east'，'north']`。\n",
        "\n",
        "使用`knn.fit`方法將`knn`模型與`road_locs`擬合。"
      ]
    },
    {
      "cell_type": "code",
      "metadata": {
        "id": "vuLUk12MNN0O",
        "outputId": "2b75684f-02b5-432f-dd50-129a4c2b3560"
      },
      "source": [
        "road_nodes.columns"
      ],
      "execution_count": null,
      "outputs": [
        {
          "output_type": "execute_result",
          "data": {
            "text/plain": [
              "Index(['node_id', 'east', 'north', 'type'], dtype='object')"
            ]
          },
          "metadata": {
            "tags": []
          },
          "execution_count": 14
        }
      ]
    },
    {
      "cell_type": "markdown",
      "metadata": {
        "id": "FTKJoozUNN0R"
      },
      "source": [
        "#### 解答"
      ]
    },
    {
      "cell_type": "code",
      "metadata": {
        "id": "pvpn5VILNN0R",
        "outputId": "bf0d1886-c40d-4f8b-e846-0a8398cd7a88"
      },
      "source": [
        "# %load solutions/fit_knn\n",
        "road_locs = road_nodes[['east', 'north']]\n",
        "knn.fit(road_locs)\n"
      ],
      "execution_count": null,
      "outputs": [
        {
          "output_type": "execute_result",
          "data": {
            "text/plain": [
              "NearestNeighbors(n_neighbors=3, verbose=False, handle=<cuml.common.handle.Handle object at 0x7fea5b769d80>, algorithm='brute', metric='euclidean')"
            ]
          },
          "metadata": {
            "tags": []
          },
          "execution_count": 13
        }
      ]
    },
    {
      "cell_type": "markdown",
      "metadata": {
        "id": "y-HPm1nANN0U"
      },
      "source": [
        "## 練習: 離每個醫院最近的道路節點"
      ]
    },
    {
      "cell_type": "markdown",
      "metadata": {
        "id": "u_9ISQP-NN0U"
      },
      "source": [
        "使用`knn.kneighbors`方法查找離每個醫院最近的3個道路節點。knn.kneighbors需要兩個參數：X，您應該使用醫院的easting列和northing欄位（請記住，與您使用上面的knn模型時保持相同的列順序）和`n_neighbors`，即要搜索的鄰居數-在這種情況下為3。\n",
        "\n",
        "`knn.kneighbors`將返回2個cudf dataframe，您應分別將其命名為`distances`和`indices`。"
      ]
    },
    {
      "cell_type": "code",
      "metadata": {
        "id": "_7EhR3tKNN0V"
      },
      "source": [
        ""
      ],
      "execution_count": null,
      "outputs": []
    },
    {
      "cell_type": "markdown",
      "metadata": {
        "id": "mQuQZMzlNN0Z"
      },
      "source": [
        "#### 解答"
      ]
    },
    {
      "cell_type": "code",
      "metadata": {
        "id": "kET2OSElNN0a"
      },
      "source": [
        "# %load solutions/k_closest_nodes\n",
        "distances, indices = knn.kneighbors(hospitals[['easting', 'northing']], 3) # order has to match the knn fit order (east, north)\n"
      ],
      "execution_count": null,
      "outputs": []
    },
    {
      "cell_type": "code",
      "metadata": {
        "id": "UPw7D-oiNN0c",
        "outputId": "0bd0ef09-3015-451a-b693-b6992dfc2fd7"
      },
      "source": [
        "distances"
      ],
      "execution_count": null,
      "outputs": [
        {
          "output_type": "execute_result",
          "data": {
            "text/html": [
              "<div>\n",
              "<style scoped>\n",
              "    .dataframe tbody tr th:only-of-type {\n",
              "        vertical-align: middle;\n",
              "    }\n",
              "\n",
              "    .dataframe tbody tr th {\n",
              "        vertical-align: top;\n",
              "    }\n",
              "\n",
              "    .dataframe thead th {\n",
              "        text-align: right;\n",
              "    }\n",
              "</style>\n",
              "<table border=\"1\" class=\"dataframe\">\n",
              "  <thead>\n",
              "    <tr style=\"text-align: right;\">\n",
              "      <th></th>\n",
              "      <th>0</th>\n",
              "      <th>1</th>\n",
              "      <th>2</th>\n",
              "    </tr>\n",
              "  </thead>\n",
              "  <tbody>\n",
              "    <tr>\n",
              "      <th>0</th>\n",
              "      <td>0.0</td>\n",
              "      <td>0.0</td>\n",
              "      <td>181.019333</td>\n",
              "    </tr>\n",
              "    <tr>\n",
              "      <th>1</th>\n",
              "      <td>0.0</td>\n",
              "      <td>0.0</td>\n",
              "      <td>0.000000</td>\n",
              "    </tr>\n",
              "    <tr>\n",
              "      <th>2</th>\n",
              "      <td>0.0</td>\n",
              "      <td>128.0</td>\n",
              "      <td>128.000000</td>\n",
              "    </tr>\n",
              "    <tr>\n",
              "      <th>3</th>\n",
              "      <td>0.0</td>\n",
              "      <td>0.0</td>\n",
              "      <td>0.000000</td>\n",
              "    </tr>\n",
              "    <tr>\n",
              "      <th>4</th>\n",
              "      <td>256.0</td>\n",
              "      <td>256.0</td>\n",
              "      <td>362.038666</td>\n",
              "    </tr>\n",
              "    <tr>\n",
              "      <th>...</th>\n",
              "      <td>...</td>\n",
              "      <td>...</td>\n",
              "      <td>...</td>\n",
              "    </tr>\n",
              "    <tr>\n",
              "      <th>1221</th>\n",
              "      <td>0.0</td>\n",
              "      <td>128.0</td>\n",
              "      <td>128.000000</td>\n",
              "    </tr>\n",
              "    <tr>\n",
              "      <th>1222</th>\n",
              "      <td>0.0</td>\n",
              "      <td>128.0</td>\n",
              "      <td>128.000000</td>\n",
              "    </tr>\n",
              "    <tr>\n",
              "      <th>1223</th>\n",
              "      <td>0.0</td>\n",
              "      <td>0.0</td>\n",
              "      <td>0.000000</td>\n",
              "    </tr>\n",
              "    <tr>\n",
              "      <th>1224</th>\n",
              "      <td>0.0</td>\n",
              "      <td>0.0</td>\n",
              "      <td>0.000000</td>\n",
              "    </tr>\n",
              "    <tr>\n",
              "      <th>1225</th>\n",
              "      <td>0.0</td>\n",
              "      <td>128.0</td>\n",
              "      <td>128.000000</td>\n",
              "    </tr>\n",
              "  </tbody>\n",
              "</table>\n",
              "<p>1226 rows × 3 columns</p>\n",
              "</div>"
            ],
            "text/plain": [
              "          0      1           2\n",
              "0       0.0    0.0  181.019333\n",
              "1       0.0    0.0    0.000000\n",
              "2       0.0  128.0  128.000000\n",
              "3       0.0    0.0    0.000000\n",
              "4     256.0  256.0  362.038666\n",
              "...     ...    ...         ...\n",
              "1221    0.0  128.0  128.000000\n",
              "1222    0.0  128.0  128.000000\n",
              "1223    0.0    0.0    0.000000\n",
              "1224    0.0    0.0    0.000000\n",
              "1225    0.0  128.0  128.000000\n",
              "\n",
              "[1226 rows x 3 columns]"
            ]
          },
          "metadata": {
            "tags": []
          },
          "execution_count": 17
        }
      ]
    },
    {
      "cell_type": "code",
      "metadata": {
        "id": "kX3VsHauNN0e",
        "outputId": "ec4c91ac-c538-4325-fe92-98b7b4b30ce5"
      },
      "source": [
        "indices"
      ],
      "execution_count": null,
      "outputs": [
        {
          "output_type": "execute_result",
          "data": {
            "text/html": [
              "<div>\n",
              "<style scoped>\n",
              "    .dataframe tbody tr th:only-of-type {\n",
              "        vertical-align: middle;\n",
              "    }\n",
              "\n",
              "    .dataframe tbody tr th {\n",
              "        vertical-align: top;\n",
              "    }\n",
              "\n",
              "    .dataframe thead th {\n",
              "        text-align: right;\n",
              "    }\n",
              "</style>\n",
              "<table border=\"1\" class=\"dataframe\">\n",
              "  <thead>\n",
              "    <tr style=\"text-align: right;\">\n",
              "      <th></th>\n",
              "      <th>0</th>\n",
              "      <th>1</th>\n",
              "      <th>2</th>\n",
              "    </tr>\n",
              "  </thead>\n",
              "  <tbody>\n",
              "    <tr>\n",
              "      <th>0</th>\n",
              "      <td>2133560</td>\n",
              "      <td>2133614</td>\n",
              "      <td>2133567</td>\n",
              "    </tr>\n",
              "    <tr>\n",
              "      <th>1</th>\n",
              "      <td>2145301</td>\n",
              "      <td>2145288</td>\n",
              "      <td>2145299</td>\n",
              "    </tr>\n",
              "    <tr>\n",
              "      <th>2</th>\n",
              "      <td>1649517</td>\n",
              "      <td>1649696</td>\n",
              "      <td>1649525</td>\n",
              "    </tr>\n",
              "    <tr>\n",
              "      <th>3</th>\n",
              "      <td>1339548</td>\n",
              "      <td>1339744</td>\n",
              "      <td>1339755</td>\n",
              "    </tr>\n",
              "    <tr>\n",
              "      <th>4</th>\n",
              "      <td>751990</td>\n",
              "      <td>751995</td>\n",
              "      <td>751988</td>\n",
              "    </tr>\n",
              "    <tr>\n",
              "      <th>...</th>\n",
              "      <td>...</td>\n",
              "      <td>...</td>\n",
              "      <td>...</td>\n",
              "    </tr>\n",
              "    <tr>\n",
              "      <th>1221</th>\n",
              "      <td>2781755</td>\n",
              "      <td>2781759</td>\n",
              "      <td>2781757</td>\n",
              "    </tr>\n",
              "    <tr>\n",
              "      <th>1222</th>\n",
              "      <td>2781755</td>\n",
              "      <td>2781759</td>\n",
              "      <td>2781757</td>\n",
              "    </tr>\n",
              "    <tr>\n",
              "      <th>1223</th>\n",
              "      <td>966490</td>\n",
              "      <td>966491</td>\n",
              "      <td>966496</td>\n",
              "    </tr>\n",
              "    <tr>\n",
              "      <th>1224</th>\n",
              "      <td>2111705</td>\n",
              "      <td>2111708</td>\n",
              "      <td>2111704</td>\n",
              "    </tr>\n",
              "    <tr>\n",
              "      <th>1225</th>\n",
              "      <td>2781755</td>\n",
              "      <td>2781759</td>\n",
              "      <td>2781757</td>\n",
              "    </tr>\n",
              "  </tbody>\n",
              "</table>\n",
              "<p>1226 rows × 3 columns</p>\n",
              "</div>"
            ],
            "text/plain": [
              "            0        1        2\n",
              "0     2133560  2133614  2133567\n",
              "1     2145301  2145288  2145299\n",
              "2     1649517  1649696  1649525\n",
              "3     1339548  1339744  1339755\n",
              "4      751990   751995   751988\n",
              "...       ...      ...      ...\n",
              "1221  2781755  2781759  2781757\n",
              "1222  2781755  2781759  2781757\n",
              "1223   966490   966491   966496\n",
              "1224  2111705  2111708  2111704\n",
              "1225  2781755  2781759  2781757\n",
              "\n",
              "[1226 rows x 3 columns]"
            ]
          },
          "metadata": {
            "tags": []
          },
          "execution_count": 18
        }
      ]
    },
    {
      "cell_type": "markdown",
      "metadata": {
        "id": "yddHh8P3NN0h"
      },
      "source": [
        "## 觀看特定醫院的結果"
      ]
    },
    {
      "cell_type": "markdown",
      "metadata": {
        "id": "o5sqN4FnNN0h"
      },
      "source": [
        "現在，我們可以使用`indices`, `hospitals`, 和 `road_nodes`來導出特定於給定醫院的信息。在這裡，我們將檢查索引為`10`的醫院。首先，我們查看醫院的網格坐標："
      ]
    },
    {
      "cell_type": "code",
      "metadata": {
        "id": "tgUEIuRINN0i",
        "outputId": "a59b6a41-3b6e-4820-d486-17a907bd9b00"
      },
      "source": [
        "SELECTED_RESULT = 10\n",
        "print('hospital coordinates:\\n', hospitals.loc[SELECTED_RESULT, ['easting', 'northing']], sep='')"
      ],
      "execution_count": null,
      "outputs": [
        {
          "output_type": "stream",
          "text": [
            "hospital coordinates:\n",
            "easting     260713.17190\n",
            "northing     56303.21875\n",
            "Name: 10, dtype: float64\n"
          ],
          "name": "stdout"
        }
      ]
    },
    {
      "cell_type": "markdown",
      "metadata": {
        "id": "3VphJHQCNN0k"
      },
      "source": [
        "現在，我們查看3個最接近的道路節點的道路節點ID："
      ]
    },
    {
      "cell_type": "code",
      "metadata": {
        "id": "1nnrIv7RNN0k",
        "outputId": "974e1366-f663-4557-cd7a-b43d06b727fc"
      },
      "source": [
        "nearest_road_nodes = indices.iloc[SELECTED_RESULT, 0:3]\n",
        "print('node_id:\\n', nearest_road_nodes, sep='')"
      ],
      "execution_count": null,
      "outputs": [
        {
          "output_type": "stream",
          "text": [
            "node_id:\n",
            "0    118559\n",
            "1    118560\n",
            "2    118678\n",
            "Name: 10, dtype: int64\n"
          ],
          "name": "stdout"
        }
      ]
    },
    {
      "cell_type": "markdown",
      "metadata": {
        "id": "uWMX--6PNN0n"
      },
      "source": [
        "最後，我們可以確認的是，距離醫院最近的3個道路節點的網格坐標位於："
      ]
    },
    {
      "cell_type": "code",
      "metadata": {
        "id": "DN8urNs3NN0n",
        "outputId": "939c1712-bfa4-48d8-8be4-a3ca02126f39"
      },
      "source": [
        "print('road_node coordinates:\\n', road_nodes.loc[nearest_road_nodes, ['east', 'north']], sep='')"
      ],
      "execution_count": null,
      "outputs": [
        {
          "output_type": "stream",
          "text": [
            "road_node coordinates:\n",
            "                 east         north\n",
            "118559  260697.859375  56322.710938\n",
            "118560  260722.812500  56207.925781\n",
            "118678  260540.000000  56105.000000\n"
          ],
          "name": "stdout"
        }
      ]
    },
    {
      "cell_type": "markdown",
      "metadata": {
        "id": "0ibYTrbpNN0t"
      },
      "source": [
        "<br>\n",
        "<div align=\"center\"><h2>請重啟Kernel</h2></div>"
      ]
    },
    {
      "cell_type": "code",
      "metadata": {
        "id": "9g8QsvIENN0t"
      },
      "source": [
        "import IPython\n",
        "app = IPython.Application.instance()\n",
        "app.kernel.do_shutdown(True)"
      ],
      "execution_count": null,
      "outputs": []
    },
    {
      "cell_type": "markdown",
      "metadata": {
        "id": "tRc5Y7DNNN0y"
      },
      "source": [
        "## 下一步"
      ]
    },
    {
      "cell_type": "markdown",
      "metadata": {
        "id": "wOUemvvENN0z"
      },
      "source": [
        "在下一個notebook中，您將返回到K-means算法，但是這次使用的是可擴展到多節點，多GPU的Dask版本。"
      ]
    },
    {
      "cell_type": "code",
      "metadata": {
        "id": "WeEnRSbINN0z"
      },
      "source": [
        ""
      ],
      "execution_count": null,
      "outputs": []
    }
  ]
}