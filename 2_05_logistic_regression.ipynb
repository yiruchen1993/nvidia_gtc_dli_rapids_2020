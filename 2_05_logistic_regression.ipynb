{
  "nbformat": 4,
  "nbformat_minor": 0,
  "metadata": {
    "kernelspec": {
      "display_name": "Python 3",
      "language": "python",
      "name": "python3"
    },
    "language_info": {
      "codemirror_mode": {
        "name": "ipython",
        "version": 3
      },
      "file_extension": ".py",
      "mimetype": "text/x-python",
      "name": "python",
      "nbconvert_exporter": "python",
      "pygments_lexer": "ipython3",
      "version": "3.6.7"
    },
    "colab": {
      "name": "2-05_logistic_regression.ipynb",
      "provenance": [],
      "include_colab_link": true
    }
  },
  "cells": [
    {
      "cell_type": "markdown",
      "metadata": {
        "id": "view-in-github",
        "colab_type": "text"
      },
      "source": [
        "<a href=\"https://colab.research.google.com/github/yiruchen1993/nvidia_gtc_dli_rapids_2020/blob/section_notebooks%2Fmachine_learning/2_05_logistic_regression.ipynb\" target=\"_parent\"><img src=\"https://colab.research.google.com/assets/colab-badge.svg\" alt=\"Open In Colab\"/></a>"
      ]
    },
    {
      "cell_type": "markdown",
      "metadata": {
        "id": "kKDnitsUNFKH"
      },
      "source": [
        "# 羅吉斯迴歸分析 (Logistic Regression)"
      ]
    },
    {
      "cell_type": "markdown",
      "metadata": {
        "id": "UeMmekEJNFKI"
      },
      "source": [
        ""
      ]
    },
    {
      "cell_type": "markdown",
      "metadata": {
        "id": "Nco7hZOSNFKJ"
      },
      "source": [
        "在本筆記本中，您將使用GPU加速的羅吉斯迴歸分析 (Logistic Regression)基於我們的人口成員特徵預測感染風險。"
      ]
    },
    {
      "cell_type": "markdown",
      "metadata": {
        "id": "M_Efpw55NFKJ"
      },
      "source": [
        "## 目標"
      ]
    },
    {
      "cell_type": "markdown",
      "metadata": {
        "id": "XMAtsI07NFKK"
      },
      "source": [
        "在您完成本筆記本時，您將能夠：\n",
        "\n",
        "-使用GPU加速的羅吉斯迴歸分析"
      ]
    },
    {
      "cell_type": "markdown",
      "metadata": {
        "id": "8gJPpHPfNFKL"
      },
      "source": [
        "## 載入"
      ]
    },
    {
      "cell_type": "code",
      "metadata": {
        "id": "BBfM2aivNFKM"
      },
      "source": [
        "import cudf\n",
        "import cuml\n",
        "\n",
        "import cupy as cp"
      ],
      "execution_count": null,
      "outputs": []
    },
    {
      "cell_type": "markdown",
      "metadata": {
        "id": "xbHwOjxzNFKS"
      },
      "source": [
        "## Load Data"
      ]
    },
    {
      "cell_type": "code",
      "metadata": {
        "id": "QUsKsaJCNFKS"
      },
      "source": [
        "gdf = cudf.read_csv('./data/pop_2-05.csv', usecols=['age', 'sex', 'infected'])"
      ],
      "execution_count": null,
      "outputs": []
    },
    {
      "cell_type": "code",
      "metadata": {
        "id": "8xwQH5SxNFKV",
        "outputId": "c6b7b038-16af-4a34-f48f-bf9dfffea2c8"
      },
      "source": [
        "gdf.dtypes"
      ],
      "execution_count": null,
      "outputs": [
        {
          "output_type": "execute_result",
          "data": {
            "text/plain": [
              "age         float64\n",
              "sex         float64\n",
              "infected    float64\n",
              "dtype: object"
            ]
          },
          "metadata": {
            "tags": []
          },
          "execution_count": 3
        }
      ]
    },
    {
      "cell_type": "code",
      "metadata": {
        "id": "MEqhhuhPNFKa",
        "outputId": "6d169da6-7191-4758-8601-3c20840e001f"
      },
      "source": [
        "gdf.shape"
      ],
      "execution_count": null,
      "outputs": [
        {
          "output_type": "execute_result",
          "data": {
            "text/plain": [
              "(58479894, 3)"
            ]
          },
          "metadata": {
            "tags": []
          },
          "execution_count": 4
        }
      ]
    },
    {
      "cell_type": "code",
      "metadata": {
        "id": "4llSgV6XNFKc",
        "outputId": "2b27dea2-9a8c-4eb3-e095-91e6669e956f"
      },
      "source": [
        "gdf.head()"
      ],
      "execution_count": null,
      "outputs": [
        {
          "output_type": "execute_result",
          "data": {
            "text/html": [
              "<div>\n",
              "<style scoped>\n",
              "    .dataframe tbody tr th:only-of-type {\n",
              "        vertical-align: middle;\n",
              "    }\n",
              "\n",
              "    .dataframe tbody tr th {\n",
              "        vertical-align: top;\n",
              "    }\n",
              "\n",
              "    .dataframe thead th {\n",
              "        text-align: right;\n",
              "    }\n",
              "</style>\n",
              "<table border=\"1\" class=\"dataframe\">\n",
              "  <thead>\n",
              "    <tr style=\"text-align: right;\">\n",
              "      <th></th>\n",
              "      <th>age</th>\n",
              "      <th>sex</th>\n",
              "      <th>infected</th>\n",
              "    </tr>\n",
              "  </thead>\n",
              "  <tbody>\n",
              "    <tr>\n",
              "      <th>0</th>\n",
              "      <td>0.0</td>\n",
              "      <td>0.0</td>\n",
              "      <td>0.0</td>\n",
              "    </tr>\n",
              "    <tr>\n",
              "      <th>1</th>\n",
              "      <td>0.0</td>\n",
              "      <td>0.0</td>\n",
              "      <td>0.0</td>\n",
              "    </tr>\n",
              "    <tr>\n",
              "      <th>2</th>\n",
              "      <td>0.0</td>\n",
              "      <td>0.0</td>\n",
              "      <td>0.0</td>\n",
              "    </tr>\n",
              "    <tr>\n",
              "      <th>3</th>\n",
              "      <td>0.0</td>\n",
              "      <td>0.0</td>\n",
              "      <td>0.0</td>\n",
              "    </tr>\n",
              "    <tr>\n",
              "      <th>4</th>\n",
              "      <td>0.0</td>\n",
              "      <td>0.0</td>\n",
              "      <td>0.0</td>\n",
              "    </tr>\n",
              "  </tbody>\n",
              "</table>\n",
              "</div>"
            ],
            "text/plain": [
              "   age  sex  infected\n",
              "0  0.0  0.0       0.0\n",
              "1  0.0  0.0       0.0\n",
              "2  0.0  0.0       0.0\n",
              "3  0.0  0.0       0.0\n",
              "4  0.0  0.0       0.0"
            ]
          },
          "metadata": {
            "tags": []
          },
          "execution_count": 5
        }
      ]
    },
    {
      "cell_type": "markdown",
      "metadata": {
        "id": "ER9rlY59NFKj"
      },
      "source": [
        "## 羅吉斯迴歸分析"
      ]
    },
    {
      "cell_type": "markdown",
      "metadata": {
        "id": "HNlePDS1NFKj"
      },
      "source": [
        "羅吉斯迴歸分析可以用來估計某些（假定獨立的）輸入函數的結果機率。在我們的案例中，我們希望根據人群的年齡和性別來估計感染風險。\n",
        "\n",
        "在這裡，我們創建一個cuML 羅吉斯迴歸分析instance `logreg`："
      ]
    },
    {
      "cell_type": "code",
      "metadata": {
        "id": "XxuAyj3FNFKk"
      },
      "source": [
        "logreg = cuml.LogisticRegression()"
      ],
      "execution_count": null,
      "outputs": []
    },
    {
      "cell_type": "markdown",
      "metadata": {
        "id": "CzhVK-8FNFKn"
      },
      "source": [
        "## 練習: Regress Infected Status"
      ]
    },
    {
      "cell_type": "markdown",
      "metadata": {
        "id": "KvKryCxRNFKo"
      },
      "source": [
        "logreg.fit方法有兩個參數：模型的自變量*X*和因變量*y*。使用`gdf`列`age`和`sex`作為*X*以及`infected`欄位作為*y*來擬合logreg模型。"
      ]
    },
    {
      "cell_type": "code",
      "metadata": {
        "id": "GTIzdoBgNFKo"
      },
      "source": [
        ""
      ],
      "execution_count": null,
      "outputs": []
    },
    {
      "cell_type": "markdown",
      "metadata": {
        "id": "UxFKgBLsNFKr"
      },
      "source": [
        "#### 解答"
      ]
    },
    {
      "cell_type": "code",
      "metadata": {
        "id": "YZd38RkuNFKr",
        "outputId": "e1465102-0f63-4524-f4e8-d381ec8286e7"
      },
      "source": [
        "# %load solutions/regress_infected\n",
        "logreg.fit(gdf[['age', 'sex']], gdf['infected'])\n"
      ],
      "execution_count": null,
      "outputs": [
        {
          "output_type": "execute_result",
          "data": {
            "text/plain": [
              "LogisticRegression(penalty='l2', tol=0.0001, C=1.0, fit_intercept=True, max_iter=1000, linesearch_max_iter=50, verbose=0, solver='qn', handle=<cuml.common.handle.Handle object at 0x7f33f256dd68>)"
            ]
          },
          "metadata": {
            "tags": []
          },
          "execution_count": 8
        }
      ]
    },
    {
      "cell_type": "markdown",
      "metadata": {
        "id": "SwMxMpD9NFKu"
      },
      "source": [
        "## 查看結果"
      ]
    },
    {
      "cell_type": "markdown",
      "metadata": {
        "id": "tagX7WIdNFKu"
      },
      "source": [
        "擬合模型後，我們可以使用`logreg.predict`來估算某人是否有超過50％的機會被感染，但是由於該病毒在人群中的流行率較低（在此數據集中約為1-2％），個體感染的可能性遠低於50％，該模型應正確預測沒有人會個體感染。\n",
        "\n",
        "但是，我們也可以在`logreg.coef_`和`logreg.intercept_`處獲取截距。這兩個值都是CUDA device陣列，與我們在生成`northing`和`easting`欄位時看到的類型相同："
      ]
    },
    {
      "cell_type": "code",
      "metadata": {
        "id": "jv6Chr7tNFKu",
        "outputId": "e7b6239a-df5c-4dc4-a4c0-32e9f59a2c49"
      },
      "source": [
        "type(logreg.coef_)"
      ],
      "execution_count": null,
      "outputs": [
        {
          "output_type": "execute_result",
          "data": {
            "text/plain": [
              "numba.cuda.cudadrv.devicearray.DeviceNDArray"
            ]
          },
          "metadata": {
            "tags": []
          },
          "execution_count": 9
        }
      ]
    },
    {
      "cell_type": "code",
      "metadata": {
        "id": "pg2QizloNFKy",
        "outputId": "9818c115-7b86-4a94-8b42-4a1da2c69059"
      },
      "source": [
        "type(logreg.intercept_)"
      ],
      "execution_count": null,
      "outputs": [
        {
          "output_type": "execute_result",
          "data": {
            "text/plain": [
              "numba.cuda.cudadrv.devicearray.DeviceNDArray"
            ]
          },
          "metadata": {
            "tags": []
          },
          "execution_count": 10
        }
      ]
    },
    {
      "cell_type": "markdown",
      "metadata": {
        "id": "1cfREk2PNFK0"
      },
      "source": [
        "要查看這些值，我們需要使用它們的`copy_to_host`方法，這些方法將返回我們可以打印的CPU NumPy資料型態。"
      ]
    },
    {
      "cell_type": "code",
      "metadata": {
        "id": "PSPtkO6ONFK1",
        "outputId": "6929a5be-8d36-4f9e-9e14-ac8d634fda7d"
      },
      "source": [
        "logreg.coef_.copy_to_host()"
      ],
      "execution_count": null,
      "outputs": [
        {
          "output_type": "execute_result",
          "data": {
            "text/plain": [
              "array([[0.01379566],\n",
              "       [0.00249283]])"
            ]
          },
          "metadata": {
            "tags": []
          },
          "execution_count": 11
        }
      ]
    },
    {
      "cell_type": "code",
      "metadata": {
        "id": "E4pHGU1VNFK4",
        "outputId": "3b8b174d-ef27-4ca6-e38c-a76b8e7a5c27"
      },
      "source": [
        "#to_host_array()\n",
        "logreg_coef = logreg.coef_.copy_to_host()\n",
        "logreg_int = logreg.intercept_.copy_to_host()[0]\n",
        "\n",
        "print(\"Coefficients: [age, sex]\")\n",
        "print([logreg_coef[0][0], logreg_coef[1][0]])\n",
        "\n",
        "print(\"Intercept:\")\n",
        "print(logreg_int)"
      ],
      "execution_count": null,
      "outputs": [
        {
          "output_type": "stream",
          "text": [
            "Coefficients: [age, sex]\n",
            "[0.013795661578590414, 0.002492827409631911]\n",
            "Intercept:\n",
            "-4.757416365733313\n"
          ],
          "name": "stdout"
        }
      ]
    },
    {
      "cell_type": "markdown",
      "metadata": {
        "id": "ttEEB1KHNFK6"
      },
      "source": [
        "## 估計感染機率"
      ]
    },
    {
      "cell_type": "markdown",
      "metadata": {
        "id": "S1_HofugNFK7"
      },
      "source": [
        "與所有羅吉斯回歸一樣，係數使我們能夠計算每個邏輯對數。據此，我們可以計算出估計的感染風險百分比。"
      ]
    },
    {
      "cell_type": "code",
      "metadata": {
        "id": "7_OOxQXaNFK7"
      },
      "source": [
        "# logit = x1 * m1 + x2 * m2 + b\n",
        "exp_logit = cp.exp(gdf['age'] * logreg_coef[0][0].item() + \n",
        "                   gdf['sex'] * logreg_coef[1][0].item() + \n",
        "                   logreg_int.item())\n",
        "\n",
        "# converting the logit to a percentage risk via the logistic function p = exp(logit) / (exp(logit) + 1)\n",
        "gdf['risk'] = exp_logit / (exp_logit + 1)"
      ],
      "execution_count": null,
      "outputs": []
    },
    {
      "cell_type": "code",
      "metadata": {
        "id": "Gjf3u1UWNFK-",
        "outputId": "78841d0c-a3ff-44d5-f43e-88c0da3b4546"
      },
      "source": [
        "gdf.tail()"
      ],
      "execution_count": null,
      "outputs": [
        {
          "output_type": "execute_result",
          "data": {
            "text/html": [
              "<div>\n",
              "<style scoped>\n",
              "    .dataframe tbody tr th:only-of-type {\n",
              "        vertical-align: middle;\n",
              "    }\n",
              "\n",
              "    .dataframe tbody tr th {\n",
              "        vertical-align: top;\n",
              "    }\n",
              "\n",
              "    .dataframe thead th {\n",
              "        text-align: right;\n",
              "    }\n",
              "</style>\n",
              "<table border=\"1\" class=\"dataframe\">\n",
              "  <thead>\n",
              "    <tr style=\"text-align: right;\">\n",
              "      <th></th>\n",
              "      <th>age</th>\n",
              "      <th>sex</th>\n",
              "      <th>infected</th>\n",
              "      <th>risk</th>\n",
              "    </tr>\n",
              "  </thead>\n",
              "  <tbody>\n",
              "    <tr>\n",
              "      <th>58479889</th>\n",
              "      <td>90.0</td>\n",
              "      <td>1.0</td>\n",
              "      <td>0.0</td>\n",
              "      <td>0.028936</td>\n",
              "    </tr>\n",
              "    <tr>\n",
              "      <th>58479890</th>\n",
              "      <td>90.0</td>\n",
              "      <td>1.0</td>\n",
              "      <td>0.0</td>\n",
              "      <td>0.028936</td>\n",
              "    </tr>\n",
              "    <tr>\n",
              "      <th>58479891</th>\n",
              "      <td>90.0</td>\n",
              "      <td>1.0</td>\n",
              "      <td>0.0</td>\n",
              "      <td>0.028936</td>\n",
              "    </tr>\n",
              "    <tr>\n",
              "      <th>58479892</th>\n",
              "      <td>90.0</td>\n",
              "      <td>1.0</td>\n",
              "      <td>0.0</td>\n",
              "      <td>0.028936</td>\n",
              "    </tr>\n",
              "    <tr>\n",
              "      <th>58479893</th>\n",
              "      <td>90.0</td>\n",
              "      <td>1.0</td>\n",
              "      <td>0.0</td>\n",
              "      <td>0.028936</td>\n",
              "    </tr>\n",
              "  </tbody>\n",
              "</table>\n",
              "</div>"
            ],
            "text/plain": [
              "           age  sex  infected      risk\n",
              "58479889  90.0  1.0       0.0  0.028936\n",
              "58479890  90.0  1.0       0.0  0.028936\n",
              "58479891  90.0  1.0       0.0  0.028936\n",
              "58479892  90.0  1.0       0.0  0.028936\n",
              "58479893  90.0  1.0       0.0  0.028936"
            ]
          },
          "metadata": {
            "tags": []
          },
          "execution_count": 16
        }
      ]
    },
    {
      "cell_type": "markdown",
      "metadata": {
        "id": "ftcDicBlNFLA"
      },
      "source": [
        "查看原始記錄及其新的估計風險，我們可以看到估計風險在各個個體之間如何變化。"
      ]
    },
    {
      "cell_type": "code",
      "metadata": {
        "id": "gbBQizo5NFLB",
        "outputId": "798c0d14-8133-4a85-c0ea-fdbb15e61f6b"
      },
      "source": [
        "gdf.take(cp.random.choice(gdf.shape[0], size=5, replace=False))"
      ],
      "execution_count": null,
      "outputs": [
        {
          "output_type": "execute_result",
          "data": {
            "text/html": [
              "<div>\n",
              "<style scoped>\n",
              "    .dataframe tbody tr th:only-of-type {\n",
              "        vertical-align: middle;\n",
              "    }\n",
              "\n",
              "    .dataframe tbody tr th {\n",
              "        vertical-align: top;\n",
              "    }\n",
              "\n",
              "    .dataframe thead th {\n",
              "        text-align: right;\n",
              "    }\n",
              "</style>\n",
              "<table border=\"1\" class=\"dataframe\">\n",
              "  <thead>\n",
              "    <tr style=\"text-align: right;\">\n",
              "      <th></th>\n",
              "      <th>age</th>\n",
              "      <th>sex</th>\n",
              "      <th>infected</th>\n",
              "      <th>risk</th>\n",
              "    </tr>\n",
              "  </thead>\n",
              "  <tbody>\n",
              "    <tr>\n",
              "      <th>23578557</th>\n",
              "      <td>63.0</td>\n",
              "      <td>0.0</td>\n",
              "      <td>0.0</td>\n",
              "      <td>0.020069</td>\n",
              "    </tr>\n",
              "    <tr>\n",
              "      <th>55778211</th>\n",
              "      <td>75.0</td>\n",
              "      <td>1.0</td>\n",
              "      <td>0.0</td>\n",
              "      <td>0.023655</td>\n",
              "    </tr>\n",
              "    <tr>\n",
              "      <th>21540428</th>\n",
              "      <td>57.0</td>\n",
              "      <td>0.0</td>\n",
              "      <td>0.0</td>\n",
              "      <td>0.018504</td>\n",
              "    </tr>\n",
              "    <tr>\n",
              "      <th>17131148</th>\n",
              "      <td>46.0</td>\n",
              "      <td>0.0</td>\n",
              "      <td>0.0</td>\n",
              "      <td>0.015941</td>\n",
              "    </tr>\n",
              "    <tr>\n",
              "      <th>27480382</th>\n",
              "      <td>78.0</td>\n",
              "      <td>0.0</td>\n",
              "      <td>0.0</td>\n",
              "      <td>0.024570</td>\n",
              "    </tr>\n",
              "  </tbody>\n",
              "</table>\n",
              "</div>"
            ],
            "text/plain": [
              "           age  sex  infected      risk\n",
              "23578557  63.0  0.0       0.0  0.020069\n",
              "55778211  75.0  1.0       0.0  0.023655\n",
              "21540428  57.0  0.0       0.0  0.018504\n",
              "17131148  46.0  0.0       0.0  0.015941\n",
              "27480382  78.0  0.0       0.0  0.024570"
            ]
          },
          "metadata": {
            "tags": []
          },
          "execution_count": 17
        }
      ]
    },
    {
      "cell_type": "markdown",
      "metadata": {
        "id": "C8fKWpRoNFLE"
      },
      "source": [
        "## 練習: 顯示感染率與年齡有關"
      ]
    },
    {
      "cell_type": "markdown",
      "metadata": {
        "id": "c5DYZrNHNFLF"
      },
      "source": [
        "年齡的正係數表示，即使控制性別，該病毒在老年人中也更普遍。\n",
        "\n",
        "在本練習中，通過按年齡分組印出最老和最年輕人口的平均`infected`值，表明感染率與年齡有一定關係："
      ]
    },
    {
      "cell_type": "code",
      "metadata": {
        "id": "sQ3iy-KmNFLF"
      },
      "source": [
        ""
      ],
      "execution_count": null,
      "outputs": []
    },
    {
      "cell_type": "markdown",
      "metadata": {
        "id": "8j8dlDv_NFLI"
      },
      "source": [
        "#### 解答"
      ]
    },
    {
      "cell_type": "code",
      "metadata": {
        "id": "ZHiwt0IINFLI",
        "outputId": "79bbdb69-313d-4c72-ebbd-61dbc11d294b"
      },
      "source": [
        "# %load solutions/risk_by_age\n",
        "age_groups = gdf[['age', 'infected']].groupby(['age'])\n",
        "print(age_groups.mean().head())\n",
        "print(age_groups.mean().tail())\n"
      ],
      "execution_count": null,
      "outputs": [
        {
          "output_type": "stream",
          "text": [
            "     infected\n",
            "age          \n",
            "0.0  0.000000\n",
            "1.0  0.000889\n",
            "2.0  0.001960\n",
            "3.0  0.002715\n",
            "4.0  0.003586\n",
            "      infected\n",
            "age           \n",
            "86.0  0.023417\n",
            "87.0  0.023256\n",
            "88.0  0.024569\n",
            "89.0  0.024412\n",
            "90.0  0.025017\n"
          ],
          "name": "stdout"
        }
      ]
    },
    {
      "cell_type": "markdown",
      "metadata": {
        "id": "0GRfo6ZjNFLK"
      },
      "source": [
        "## 練習: 顯示感染率與性別有關"
      ]
    },
    {
      "cell_type": "markdown",
      "metadata": {
        "id": "fT8h20uINFLL"
      },
      "source": [
        "同樣，關於性別的正係數表明，即使在控制年齡的情況下，該病毒在性別= 1的人群（女性）中也更為普遍。\n",
        "\n",
        "在此練習中，通過按性別分組印出人群的平均`infected`值，表明感染率與性別有一定關係："
      ]
    },
    {
      "cell_type": "code",
      "metadata": {
        "id": "EgVJarsjNFLL"
      },
      "source": [
        ""
      ],
      "execution_count": null,
      "outputs": []
    },
    {
      "cell_type": "markdown",
      "metadata": {
        "id": "LPurP3u8NFLN"
      },
      "source": [
        "#### Solution"
      ]
    },
    {
      "cell_type": "code",
      "metadata": {
        "id": "clHeUFe7NFLO",
        "outputId": "ab9fbf50-92fc-4450-bc45-38754161ff1f"
      },
      "source": [
        "# %load solutions/risk_by_sex\n",
        "sex_groups = gdf[['sex', 'infected']].groupby(['sex'])\n",
        "sex_groups.mean()\n"
      ],
      "execution_count": null,
      "outputs": [
        {
          "output_type": "execute_result",
          "data": {
            "text/html": [
              "<div>\n",
              "<style scoped>\n",
              "    .dataframe tbody tr th:only-of-type {\n",
              "        vertical-align: middle;\n",
              "    }\n",
              "\n",
              "    .dataframe tbody tr th {\n",
              "        vertical-align: top;\n",
              "    }\n",
              "\n",
              "    .dataframe thead th {\n",
              "        text-align: right;\n",
              "    }\n",
              "</style>\n",
              "<table border=\"1\" class=\"dataframe\">\n",
              "  <thead>\n",
              "    <tr style=\"text-align: right;\">\n",
              "      <th></th>\n",
              "      <th>infected</th>\n",
              "    </tr>\n",
              "    <tr>\n",
              "      <th>sex</th>\n",
              "      <th></th>\n",
              "    </tr>\n",
              "  </thead>\n",
              "  <tbody>\n",
              "    <tr>\n",
              "      <th>0.0</th>\n",
              "      <td>0.010140</td>\n",
              "    </tr>\n",
              "    <tr>\n",
              "      <th>1.0</th>\n",
              "      <td>0.020713</td>\n",
              "    </tr>\n",
              "  </tbody>\n",
              "</table>\n",
              "</div>"
            ],
            "text/plain": [
              "     infected\n",
              "sex          \n",
              "0.0  0.010140\n",
              "1.0  0.020713"
            ]
          },
          "metadata": {
            "tags": []
          },
          "execution_count": 21
        }
      ]
    },
    {
      "cell_type": "markdown",
      "metadata": {
        "id": "XXOKmqaTNFLQ"
      },
      "source": [
        "## 使用訓練和測試資料"
      ]
    },
    {
      "cell_type": "markdown",
      "metadata": {
        "id": "vnfLGouiNFLQ"
      },
      "source": [
        "cuML為我們提供了一種用於生成配對訓練/測試數據的簡單方法："
      ]
    },
    {
      "cell_type": "code",
      "metadata": {
        "id": "yx1RqtsrNFLR"
      },
      "source": [
        "x_train, x_test, y_train, y_test  = cuml.train_test_split(gdf[['age', 'sex']], gdf['infected'], train_size=0.9)"
      ],
      "execution_count": null,
      "outputs": []
    },
    {
      "cell_type": "markdown",
      "metadata": {
        "id": "Fk78vylyNFLT"
      },
      "source": [
        "## 練習：使用訓練數據擬合羅吉斯回歸模型"
      ]
    },
    {
      "cell_type": "markdown",
      "metadata": {
        "id": "y9QJ0zIKNFLU"
      },
      "source": [
        "在本練習中，創建一個新的羅吉斯回歸模型`logreg`，並將其與剛剛創建的*X*和*y*訓練數據擬合。"
      ]
    },
    {
      "cell_type": "code",
      "metadata": {
        "id": "fklFQRq8NFLV"
      },
      "source": [
        ""
      ],
      "execution_count": null,
      "outputs": []
    },
    {
      "cell_type": "markdown",
      "metadata": {
        "id": "pum2oH0NNFLY"
      },
      "source": [
        "#### 解答"
      ]
    },
    {
      "cell_type": "code",
      "metadata": {
        "id": "pvc9N9PoNFLY",
        "outputId": "fff0eb74-ee80-4d80-cef0-cbf9a7ba4054"
      },
      "source": [
        "# %load solutions/fit_training\n",
        "logreg = cuml.LogisticRegression()\n",
        "logreg.fit(x_train, y_train)\n"
      ],
      "execution_count": null,
      "outputs": [
        {
          "output_type": "execute_result",
          "data": {
            "text/plain": [
              "LogisticRegression(penalty='l2', tol=0.0001, C=1.0, fit_intercept=True, max_iter=1000, linesearch_max_iter=50, verbose=0, solver='qn', handle=<cuml.common.handle.Handle object at 0x7f33f256dd50>)"
            ]
          },
          "metadata": {
            "tags": []
          },
          "execution_count": 24
        }
      ]
    },
    {
      "cell_type": "markdown",
      "metadata": {
        "id": "TxZ_upu3NFLa"
      },
      "source": [
        "## 利用測試資料來驗證模型"
      ]
    },
    {
      "cell_type": "markdown",
      "metadata": {
        "id": "UVktynUANFLb"
      },
      "source": [
        "現在，我們可以使用與上述相同的過程通過測試數據來預測感染風險："
      ]
    },
    {
      "cell_type": "code",
      "metadata": {
        "id": "cfMGwYkQNFLb"
      },
      "source": [
        "logreg_coef = logreg.coef_.copy_to_host()\n",
        "logreg_int = logreg.intercept_.copy_to_host()[0]\n",
        "\n",
        "exp_logit = cp.exp(x_test['age'] * logreg_coef[0][0].item() + \n",
        "                   x_test['sex'] * logreg_coef[1][0].item() + \n",
        "                   logreg_int.item())\n",
        "\n",
        "y_test_pred = exp_logit / (exp_logit + 1)"
      ],
      "execution_count": null,
      "outputs": []
    },
    {
      "cell_type": "markdown",
      "metadata": {
        "id": "xR54EgQyNFLd"
      },
      "source": [
        "正如我們之前看到的那樣，即使在高風險人群中，實際上也很少有人受到感染。作為檢查模型的一種簡單方法，我們將測試集分為高於平均預期的風險和低於平均預期的風險，然後觀察到感染率與那些預期的風險密切相關。"
      ]
    },
    {
      "cell_type": "code",
      "metadata": {
        "id": "QSRiW0DXNFLe",
        "outputId": "08433e9d-fa54-499b-df5e-0ad3f1147f03"
      },
      "source": [
        "test_results = cudf.DataFrame()\n",
        "test_results['infected'] = y_test\n",
        "test_results['predicted_risk'] = y_test_pred\n",
        "test_results['high_risk'] = test_results['predicted_risk'] > test_results['predicted_risk'].mean()\n",
        "\n",
        "risk_groups = test_results.groupby('high_risk')\n",
        "risk_groups.mean()"
      ],
      "execution_count": null,
      "outputs": [
        {
          "output_type": "execute_result",
          "data": {
            "text/html": [
              "<div>\n",
              "<style scoped>\n",
              "    .dataframe tbody tr th:only-of-type {\n",
              "        vertical-align: middle;\n",
              "    }\n",
              "\n",
              "    .dataframe tbody tr th {\n",
              "        vertical-align: top;\n",
              "    }\n",
              "\n",
              "    .dataframe thead th {\n",
              "        text-align: right;\n",
              "    }\n",
              "</style>\n",
              "<table border=\"1\" class=\"dataframe\">\n",
              "  <thead>\n",
              "    <tr style=\"text-align: right;\">\n",
              "      <th></th>\n",
              "      <th>infected</th>\n",
              "      <th>predicted_risk</th>\n",
              "    </tr>\n",
              "    <tr>\n",
              "      <th>high_risk</th>\n",
              "      <th></th>\n",
              "      <th></th>\n",
              "    </tr>\n",
              "  </thead>\n",
              "  <tbody>\n",
              "    <tr>\n",
              "      <th>False</th>\n",
              "      <td>0.011450</td>\n",
              "      <td>0.011647</td>\n",
              "    </tr>\n",
              "    <tr>\n",
              "      <th>True</th>\n",
              "      <td>0.020426</td>\n",
              "      <td>0.020162</td>\n",
              "    </tr>\n",
              "  </tbody>\n",
              "</table>\n",
              "</div>"
            ],
            "text/plain": [
              "           infected  predicted_risk\n",
              "high_risk                          \n",
              "False      0.011450        0.011647\n",
              "True       0.020426        0.020162"
            ]
          },
          "metadata": {
            "tags": []
          },
          "execution_count": 26
        }
      ]
    },
    {
      "cell_type": "markdown",
      "metadata": {
        "id": "ZRr6Uzw-NFLg"
      },
      "source": [
        "<br>\n",
        "<div align=\"center\"><h2>請重啟 Kernel</h2></div>"
      ]
    },
    {
      "cell_type": "code",
      "metadata": {
        "id": "mhucqG7kNFLh"
      },
      "source": [
        "import IPython\n",
        "app = IPython.Application.instance()\n",
        "app.kernel.do_shutdown(True)"
      ],
      "execution_count": null,
      "outputs": []
    },
    {
      "cell_type": "markdown",
      "metadata": {
        "id": "Hx-2uH7XNFLj"
      },
      "source": [
        "## 下一步"
      ]
    },
    {
      "cell_type": "markdown",
      "metadata": {
        "id": "DgZij9AUNFLj"
      },
      "source": [
        "在下一個notebook中，您將使用GPU加速的k最近鄰算法來定位距每個醫院最近的道路節點。"
      ]
    },
    {
      "cell_type": "code",
      "metadata": {
        "id": "QYv666ZxNFLk"
      },
      "source": [
        ""
      ],
      "execution_count": null,
      "outputs": []
    }
  ]
}