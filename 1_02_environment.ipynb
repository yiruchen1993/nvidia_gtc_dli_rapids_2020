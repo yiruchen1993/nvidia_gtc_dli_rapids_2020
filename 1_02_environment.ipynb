{
  "nbformat": 4,
  "nbformat_minor": 0,
  "metadata": {
    "kernelspec": {
      "display_name": "Python 3",
      "language": "python",
      "name": "python3"
    },
    "language_info": {
      "codemirror_mode": {
        "name": "ipython",
        "version": 3
      },
      "file_extension": ".py",
      "mimetype": "text/x-python",
      "name": "python",
      "nbconvert_exporter": "python",
      "pygments_lexer": "ipython3",
      "version": "3.6.7"
    },
    "colab": {
      "name": "1-02_environment.ipynb",
      "provenance": [],
      "include_colab_link": true
    }
  },
  "cells": [
    {
      "cell_type": "markdown",
      "metadata": {
        "id": "view-in-github",
        "colab_type": "text"
      },
      "source": [
        "<a href=\"https://colab.research.google.com/github/yiruchen1993/nvidia_gtc_dli_rapids_2020/blob/section_notebooks%2Fdata_manipulation/1_02_environment.ipynb\" target=\"_parent\"><img src=\"https://colab.research.google.com/assets/colab-badge.svg\" alt=\"Open In Colab\"/></a>"
      ]
    },
    {
      "cell_type": "markdown",
      "metadata": {
        "id": "AP5zdUiQK4zm"
      },
      "source": [
        "# 你的互動式程式編輯環境"
      ]
    },
    {
      "cell_type": "markdown",
      "metadata": {
        "id": "N-nJxB_9K4zn"
      },
      "source": [
        "在開始程式設計前，我們希望讓你先熟悉互動式編碼環境。本實作坊將運用網頁編碼介面 [JupyterLab](https://jupyterlab.readthedocs.io/en/stable/)，在搭載 4 個 [NVIDIA V100](https://www.nvidia.com/en-us/data-center/tesla-v100/) GPU 加速器支援的虛擬機器上執行程式碼。已為你安裝所有必要的函式庫。"
      ]
    },
    {
      "cell_type": "markdown",
      "metadata": {
        "id": "sVUaqa0WK4zp"
      },
      "source": [
        "## 互動式 Jupyter 程式碼儲存格"
      ]
    },
    {
      "cell_type": "markdown",
      "metadata": {
        "id": "V5xDkozSK4zq"
      },
      "source": [
        "在整個實作坊中，所有執行 Python 程式碼的儲存格皆可編輯與執行。請立即嘗試編輯與執行 (按 Shift + Enter) 下方儲存格:"
      ]
    },
    {
      "cell_type": "code",
      "metadata": {
        "id": "znhaBY2XK4zs",
        "outputId": "7d2cad95-146d-4dbf-cfa6-975d037ab10a"
      },
      "source": [
        "print('Welcome to accelerated data science.')"
      ],
      "execution_count": null,
      "outputs": [
        {
          "output_type": "stream",
          "text": [
            "Welcome to accelerated data science.\n"
          ],
          "name": "stdout"
        }
      ]
    },
    {
      "cell_type": "markdown",
      "metadata": {
        "id": "MfveOXFcK4zw"
      },
      "source": [
        "## Jupyter 學習筆記架構"
      ]
    },
    {
      "cell_type": "markdown",
      "metadata": {
        "id": "dcfao3k0K4zx"
      },
      "source": [
        "本實作坊分散成數個更小的學習筆記，每一份皆有數字前綴。你可以在左側邊欄中按一下資料夾形狀圖示，查看某節實作坊所有可用的學習筆記。如果你已看到學習筆記檔案，也可以按一下該圖示以隱藏檔案。我們強烈建議你這麼做，如此一來便可保留更多素材操作的空間。"
      ]
    },
    {
      "cell_type": "markdown",
      "metadata": {
        "id": "hQEkMJDkK4zy"
      },
      "source": [
        "## 可用的 GPU 加速器"
      ]
    },
    {
      "cell_type": "markdown",
      "metadata": {
        "id": "WyNEw59lK4zy"
      },
      "source": [
        "我們可以為互動式儲存格加上 `!` 前綴，以執行shell命令。例如，執行下列儲存格以運行shell命令 `nvidia-smi`，能夠印出環境可用的 GPU 資訊、目前記憶體使用狀況，以及任何目前正在使用 GPU 的處理程序:"
      ]
    },
    {
      "cell_type": "code",
      "metadata": {
        "id": "FPnc_DDbK4zz",
        "outputId": "20629ecb-902b-459d-f120-cca921de53d0"
      },
      "source": [
        "!nvidia-smi"
      ],
      "execution_count": null,
      "outputs": [
        {
          "output_type": "stream",
          "text": [
            "Wed Oct  7 02:59:54 2020       \n",
            "+-----------------------------------------------------------------------------+\n",
            "| NVIDIA-SMI 440.64.00    Driver Version: 440.64.00    CUDA Version: 10.2     |\n",
            "|-------------------------------+----------------------+----------------------+\n",
            "| GPU  Name        Persistence-M| Bus-Id        Disp.A | Volatile Uncorr. ECC |\n",
            "| Fan  Temp  Perf  Pwr:Usage/Cap|         Memory-Usage | GPU-Util  Compute M. |\n",
            "|===============================+======================+======================|\n",
            "|   0  Tesla V100-PCIE...  Off  | 00000E48:00:00.0 Off |                    0 |\n",
            "| N/A   29C    P0    35W / 250W |      0MiB / 16160MiB |      0%      Default |\n",
            "+-------------------------------+----------------------+----------------------+\n",
            "|   1  Tesla V100-PCIE...  Off  | 0000AF1A:00:00.0 Off |                    0 |\n",
            "| N/A   29C    P0    35W / 250W |      0MiB / 16160MiB |      0%      Default |\n",
            "+-------------------------------+----------------------+----------------------+\n",
            "|   2  Tesla V100-PCIE...  Off  | 0000D0A2:00:00.0 Off |                    0 |\n",
            "| N/A   28C    P0    36W / 250W |      0MiB / 16160MiB |      0%      Default |\n",
            "+-------------------------------+----------------------+----------------------+\n",
            "|   3  Tesla V100-PCIE...  Off  | 0000ED66:00:00.0 Off |                    0 |\n",
            "| N/A   28C    P0    35W / 250W |      0MiB / 16160MiB |      0%      Default |\n",
            "+-------------------------------+----------------------+----------------------+\n",
            "                                                                               \n",
            "+-----------------------------------------------------------------------------+\n",
            "| Processes:                                                       GPU Memory |\n",
            "|  GPU       PID   Type   Process name                             Usage      |\n",
            "|=============================================================================|\n",
            "|  No running processes found                                                 |\n",
            "+-----------------------------------------------------------------------------+\n"
          ],
          "name": "stdout"
        }
      ]
    },
    {
      "cell_type": "markdown",
      "metadata": {
        "id": "sEDj5UEYK4z5"
      },
      "source": [
        "如你所見，目前幾乎沒有 GPU 記憶體在使用中，也沒有正在使用 GPU 的作用中處理程序。你可以在整個實作過程中使用此命令監看記憶體使用狀況。我們會試圖保留約一半的 GPU 記憶體進行作業，以便拓展儲存在 GPU 裝置上的資料，此為 GPU 上進行資料分析的一般原則。"
      ]
    },
    {
      "cell_type": "markdown",
      "metadata": {
        "id": "-PpiSGKHK4z6"
      },
      "source": [
        "### 持續監控 `nvidia-smi` 的方式"
      ]
    },
    {
      "cell_type": "markdown",
      "metadata": {
        "id": "GbEes7XQK4z6"
      },
      "source": [
        "使用 Jupyter *檔案*選單，並執行*新啟動工具*。出現提示時，請選擇新的終端機。開啟此終端機後，請發布命令 `watch -n 1 nvidia-smi`。如此一來，即可呼叫並呈現每秒的 `nvidia-smi` 輸出，你可透過這個實用的方式，在整個實作坊中檢查記憶體使用狀況。"
      ]
    },
    {
      "cell_type": "markdown",
      "metadata": {
        "id": "gH67JKibK4z7"
      },
      "source": [
        "## Magic Commands"
      ]
    },
    {
      "cell_type": "markdown",
      "metadata": {
        "id": "yZtUsRpAK4z8"
      },
      "source": [
        "Jupyter 編碼環境內建*Magic*命令，可由 `%` 或 `%%` 是否存在來辨識。我們將在此實作坊自由運用這兩種神奇命令:\n",
        "1.`%time` 與 `%%time` 將印出執行一行或整個儲存格程式碼各需花費多長時間的摘要資訊。\n",
        "2.`%load` 將載入指定檔案內容至儲存格中。我們將在你完成練習後，使用此神奇命令載入範例解答。\n",
        "\n",
        "執行下列三組程式碼儲存格，查看Magic command的運作方式:"
      ]
    },
    {
      "cell_type": "markdown",
      "metadata": {
        "id": "BRwAPGy1K4z8"
      },
      "source": [
        "### Magic Commands `%time` 與 `%%time`"
      ]
    },
    {
      "cell_type": "code",
      "metadata": {
        "id": "794Wafk_K4z9",
        "outputId": "5d020aae-6b3d-48f3-b7e0-a7b0f6438b74"
      },
      "source": [
        "from time import sleep\n",
        "\n",
        "%time sleep(2) # %time only times one line\n",
        "sleep(1)"
      ],
      "execution_count": null,
      "outputs": [
        {
          "output_type": "stream",
          "text": [
            "CPU times: user 1.21 ms, sys: 142 µs, total: 1.36 ms\n",
            "Wall time: 2 s\n"
          ],
          "name": "stdout"
        }
      ]
    },
    {
      "cell_type": "code",
      "metadata": {
        "id": "uzZtKoArK40A",
        "outputId": "e7d02210-6b6c-42ad-e9e2-7a33a38d6f73"
      },
      "source": [
        "%%time\n",
        "# %%time will time the entire cell\n",
        "\n",
        "sleep(1)\n",
        "sleep(1)\n",
        "sleep(2)"
      ],
      "execution_count": null,
      "outputs": [
        {
          "output_type": "stream",
          "text": [
            "CPU times: user 1.1 ms, sys: 0 ns, total: 1.1 ms\n",
            "Wall time: 2 s\n"
          ],
          "name": "stdout"
        }
      ]
    },
    {
      "cell_type": "markdown",
      "metadata": {
        "id": "REolQdoNK40C"
      },
      "source": [
        "### 神奇命令 `%load`"
      ]
    },
    {
      "cell_type": "markdown",
      "metadata": {
        "id": "fmD_6AUxK40D"
      },
      "source": [
        "執行下列儲存格以使用 `%load` 神奇命令。再執行一次以執行載入的程式碼。"
      ]
    },
    {
      "cell_type": "code",
      "metadata": {
        "id": "8-jtu7FxK40E"
      },
      "source": [
        "# %load solutions/load_solution\n",
        "print('If you can see this you loaded this code correctly. Now try running it.')\n"
      ],
      "execution_count": null,
      "outputs": []
    },
    {
      "cell_type": "markdown",
      "metadata": {
        "id": "4vkLSf1SK40H"
      },
      "source": [
        "## Jupyter 核心"
      ]
    },
    {
      "cell_type": "markdown",
      "metadata": {
        "id": "W_EU5QDzK40I"
      },
      "source": [
        "Jupyter 的運算後端 (與你正在檢視的網頁前端不同) 稱為*核心*。在程式設計時，你的動作可能會導致核心凍結或當機。你可以隨時使用 Jupyter *核心*選單中斷或重新啟動核心。立即試試，以熟悉操作。"
      ]
    },
    {
      "cell_type": "markdown",
      "metadata": {
        "id": "pnKrLZrVK40I"
      },
      "source": [
        "### 在學習筆記結束時重新啟動核心"
      ]
    },
    {
      "cell_type": "markdown",
      "metadata": {
        "id": "DH9ChVDcK40J"
      },
      "source": [
        "本實作坊有許多可供你操作的小型學習筆記，而我們的目標是讓你在 GPU 記憶體已清空，且每個核心都有空白命名空間的情況下著手操作。考量到這一點，我們會在每一份學習筆記結束時要求你重新啟動核心，以便為下一份學習筆記清出作業空間。\n",
        "\n",
        "儘管你尚未完成任何運算，但請立即使用*核心*選單重新啟動核心，再繼續執行下一份學習筆記。"
      ]
    },
    {
      "cell_type": "markdown",
      "metadata": {
        "id": "DpBUT5gtK40J"
      },
      "source": [
        "## 下一步"
      ]
    },
    {
      "cell_type": "markdown",
      "metadata": {
        "id": "CAzHdPx4K40J"
      },
      "source": [
        "現在你已熟悉編碼環境，可以開始操作了。開啟下一份學習筆記，我們將為你簡單介紹 GPU 加速資料架構函式庫 cuDF。"
      ]
    }
  ]
}