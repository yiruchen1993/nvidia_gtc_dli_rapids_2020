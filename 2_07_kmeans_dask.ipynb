{
  "nbformat": 4,
  "nbformat_minor": 0,
  "metadata": {
    "kernelspec": {
      "display_name": "Python 3",
      "language": "python",
      "name": "python3"
    },
    "language_info": {
      "codemirror_mode": {
        "name": "ipython",
        "version": 3
      },
      "file_extension": ".py",
      "mimetype": "text/x-python",
      "name": "python",
      "nbconvert_exporter": "python",
      "pygments_lexer": "ipython3",
      "version": "3.6.7"
    },
    "colab": {
      "name": "2-07_kmeans_dask.ipynb",
      "provenance": [],
      "include_colab_link": true
    }
  },
  "cells": [
    {
      "cell_type": "markdown",
      "metadata": {
        "id": "view-in-github",
        "colab_type": "text"
      },
      "source": [
        "<a href=\"https://colab.research.google.com/github/yiruchen1993/nvidia_gtc_dli_rapids_2020/blob/section_notebooks%2Fmachine_learning/2_07_kmeans_dask.ipynb\" target=\"_parent\"><img src=\"https://colab.research.google.com/assets/colab-badge.svg\" alt=\"Open In Colab\"/></a>"
      ]
    },
    {
      "cell_type": "markdown",
      "metadata": {
        "id": "h7zt3e4tNTyk"
      },
      "source": [
        "# Multi-GPU K-Means with Dask"
      ]
    },
    {
      "cell_type": "markdown",
      "metadata": {
        "id": "HNAdPiI4NTyn"
      },
      "source": [
        "在本notebook中，您將使用GPU加速的K-means通過Dask以多節點，多GPU可擴展的方式識別人口集群。"
      ]
    },
    {
      "cell_type": "markdown",
      "metadata": {
        "id": "iTqi8vICNTyq"
      },
      "source": [
        "## 目標"
      ]
    },
    {
      "cell_type": "markdown",
      "metadata": {
        "id": "qIZESkqsNTys"
      },
      "source": [
        "在您完成本notebook時，您將能夠：\n",
        "\n",
        "-通過Dask使用分散式，GPU加速的K-means演算法"
      ]
    },
    {
      "cell_type": "markdown",
      "metadata": {
        "id": "1SEDFdM4NTyt"
      },
      "source": [
        "## 載入"
      ]
    },
    {
      "cell_type": "markdown",
      "metadata": {
        "id": "ufteAqsJNTyu"
      },
      "source": [
        "首先，我們載入所需的module以建立Dask cuDF集群。"
      ]
    },
    {
      "cell_type": "code",
      "metadata": {
        "id": "s2Tr985uNTyv"
      },
      "source": [
        "import subprocess\n",
        "\n",
        "from dask.distributed import Client, wait, progress\n",
        "from dask_cuda import LocalCUDACluster\n",
        "\n",
        "import dask.dataframe as dd\n",
        "import dask.array as da\n",
        "\n",
        "from dask import compute\n",
        "from dask.delayed import delayed"
      ],
      "execution_count": null,
      "outputs": []
    },
    {
      "cell_type": "markdown",
      "metadata": {
        "id": "41rRyyGjNTy0"
      },
      "source": [
        "之後，我們建立運算集群。"
      ]
    },
    {
      "cell_type": "code",
      "metadata": {
        "id": "GHv9r7PSNTy2",
        "outputId": "f861b5c7-cc4a-4240-9437-a415cbfba927"
      },
      "source": [
        "cmd = \"hostname --all-ip-addresses\"\n",
        "process = subprocess.Popen(cmd.split(), stdout=subprocess.PIPE)\n",
        "output, error = process.communicate()\n",
        "IPADDR = str(output.decode()).split()[0]\n",
        "\n",
        "cluster = LocalCUDACluster(ip=IPADDR)\n",
        "client = Client(cluster)\n",
        "client"
      ],
      "execution_count": null,
      "outputs": [
        {
          "output_type": "execute_result",
          "data": {
            "text/html": [
              "<table style=\"border: 2px solid white;\">\n",
              "<tr>\n",
              "<td style=\"vertical-align: top; border: 0px solid white\">\n",
              "<h3 style=\"text-align: left;\">Client</h3>\n",
              "<ul style=\"text-align: left; list-style: none; margin: 0; padding: 0;\">\n",
              "  <li><b>Scheduler: </b>tcp://172.19.0.3:37229</li>\n",
              "  <li><b>Dashboard: </b><a href='http://172.19.0.3:8787/status' target='_blank'>http://172.19.0.3:8787/status</a>\n",
              "</ul>\n",
              "</td>\n",
              "<td style=\"vertical-align: top; border: 0px solid white\">\n",
              "<h3 style=\"text-align: left;\">Cluster</h3>\n",
              "<ul style=\"text-align: left; list-style:none; margin: 0; padding: 0;\">\n",
              "  <li><b>Workers: </b>4</li>\n",
              "  <li><b>Cores: </b>4</li>\n",
              "  <li><b>Memory: </b>473.42 GB</li>\n",
              "</ul>\n",
              "</td>\n",
              "</tr>\n",
              "</table>"
            ],
            "text/plain": [
              "<Client: 'tcp://172.19.0.3:37229' processes=4 threads=4, memory=473.42 GB>"
            ]
          },
          "metadata": {
            "tags": []
          },
          "execution_count": 2
        }
      ]
    },
    {
      "cell_type": "markdown",
      "metadata": {
        "id": "Dpjd3_nZNTzB"
      },
      "source": [
        "Finally, as we did before, we import CUDA context creators after setting up the cluster so they don't lock to a single device."
      ]
    },
    {
      "cell_type": "code",
      "metadata": {
        "id": "Ob7MhBz4NTzC"
      },
      "source": [
        "import cudf\n",
        "import dask_cudf\n",
        "\n",
        "import cuml\n",
        "from cuml.dask.cluster import KMeans"
      ],
      "execution_count": null,
      "outputs": []
    },
    {
      "cell_type": "markdown",
      "metadata": {
        "id": "4JfHLJabNTzJ"
      },
      "source": [
        "## 載入並保留資料"
      ]
    },
    {
      "cell_type": "markdown",
      "metadata": {
        "id": "J_tSoQpMNTzK"
      },
      "source": [
        "我們將從載入數據開始，該數據集具有兩個網格坐標欄位，即`easting`和`northing`，這兩個欄位均取自我們準備的主要總體數據集。"
      ]
    },
    {
      "cell_type": "code",
      "metadata": {
        "id": "g_A3gL_QNTzK"
      },
      "source": [
        "ddf = dask_cudf.read_csv('./data/pop5x_2-07.csv', names=['northing', 'easting'], dtype=['float32', 'float32'])"
      ],
      "execution_count": null,
      "outputs": []
    },
    {
      "cell_type": "code",
      "metadata": {
        "id": "W_fBrSJJNTzO",
        "outputId": "35dd4990-4ca0-4a1f-dbab-82bfa576d8a1"
      },
      "source": [
        "ddf"
      ],
      "execution_count": null,
      "outputs": [
        {
          "output_type": "execute_result",
          "data": {
            "text/html": [
              "<div><strong>Dask DataFrame Structure:</strong></div>\n",
              "<div>\n",
              "<style scoped>\n",
              "    .dataframe tbody tr th:only-of-type {\n",
              "        vertical-align: middle;\n",
              "    }\n",
              "\n",
              "    .dataframe tbody tr th {\n",
              "        vertical-align: top;\n",
              "    }\n",
              "\n",
              "    .dataframe thead th {\n",
              "        text-align: right;\n",
              "    }\n",
              "</style>\n",
              "<table border=\"1\" class=\"dataframe\">\n",
              "  <thead>\n",
              "    <tr style=\"text-align: right;\">\n",
              "      <th></th>\n",
              "      <th>northing</th>\n",
              "      <th>easting</th>\n",
              "    </tr>\n",
              "    <tr>\n",
              "      <th>npartitions=27</th>\n",
              "      <th></th>\n",
              "      <th></th>\n",
              "    </tr>\n",
              "  </thead>\n",
              "  <tbody>\n",
              "    <tr>\n",
              "      <th></th>\n",
              "      <td>float32</td>\n",
              "      <td>float32</td>\n",
              "    </tr>\n",
              "    <tr>\n",
              "      <th></th>\n",
              "      <td>...</td>\n",
              "      <td>...</td>\n",
              "    </tr>\n",
              "    <tr>\n",
              "      <th>...</th>\n",
              "      <td>...</td>\n",
              "      <td>...</td>\n",
              "    </tr>\n",
              "    <tr>\n",
              "      <th></th>\n",
              "      <td>...</td>\n",
              "      <td>...</td>\n",
              "    </tr>\n",
              "    <tr>\n",
              "      <th></th>\n",
              "      <td>...</td>\n",
              "      <td>...</td>\n",
              "    </tr>\n",
              "  </tbody>\n",
              "</table>\n",
              "</div>\n",
              "<div>Dask Name: read-csv, 27 tasks</div>"
            ],
            "text/plain": [
              "<dask_cudf.DataFrame | 27 tasks | 27 npartitions>"
            ]
          },
          "metadata": {
            "tags": []
          },
          "execution_count": 5
        }
      ]
    },
    {
      "cell_type": "markdown",
      "metadata": {
        "id": "OPFQ7DnHNTzS"
      },
      "source": [
        "訓練K-means模型與scikit-learn版本和cuML單GPU版本非常相似-通過設置客戶端並從`cuml.dask.cluster`模組導入，該算法將自動使用本地 我們已經建立的Dask集群。\n",
        "\n",
        "注意，呼叫`.fit`會觸發Dask計算。"
      ]
    },
    {
      "cell_type": "code",
      "metadata": {
        "id": "6h_fbkxYNTzS",
        "outputId": "d7b55eaf-c9ab-4c35-a1d9-138c1dfbc7b4"
      },
      "source": [
        "dkm = KMeans(n_clusters=20)\n",
        "dkm.fit(ddf)"
      ],
      "execution_count": null,
      "outputs": [
        {
          "output_type": "execute_result",
          "data": {
            "text/plain": [
              "<cuml.dask.cluster.kmeans.KMeans at 0x7f071a2f6ef0>"
            ]
          },
          "metadata": {
            "tags": []
          },
          "execution_count": 6
        }
      ]
    },
    {
      "cell_type": "markdown",
      "metadata": {
        "id": "uGoY5UubNTzW"
      },
      "source": [
        "有了擬合模型後，我們將提取群聚中心，並從其通用的`0`和`1`中重命名欄位，以反映對其進行訓練的數據。"
      ]
    },
    {
      "cell_type": "code",
      "metadata": {
        "id": "sE-A9z7SNTzX",
        "outputId": "c0033048-b1fd-4c71-c13e-79ee5d26e7ec"
      },
      "source": [
        "cluster_centers = dkm.cluster_centers_\n",
        "cluster_centers.columns = ['northing', 'easting']\n",
        "cluster_centers.dtypes"
      ],
      "execution_count": null,
      "outputs": [
        {
          "output_type": "execute_result",
          "data": {
            "text/plain": [
              "northing    float32\n",
              "easting     float32\n",
              "dtype: object"
            ]
          },
          "metadata": {
            "tags": []
          },
          "execution_count": 7
        }
      ]
    },
    {
      "cell_type": "markdown",
      "metadata": {
        "id": "79oXQPiuNTza"
      },
      "source": [
        "## 練習：計算最南端集群的成員"
      ]
    },
    {
      "cell_type": "markdown",
      "metadata": {
        "id": "mMWssYl_NTzf"
      },
      "source": [
        "使用`cluster_centers`，使用`nsmallest`方法確定哪個集群是最南端（`北`值最低），然後使用`dkm.predict`獲取數據標籤，最後過濾標籤以確定模型估計有多少人在那個集群中。"
      ]
    },
    {
      "cell_type": "code",
      "metadata": {
        "id": "AIzH8eUVNTzf",
        "outputId": "f57028b9-c075-4794-d4a5-512b81e96adb"
      },
      "source": [
        "cluster_centers.nsmallest?"
      ],
      "execution_count": null,
      "outputs": [
        {
          "output_type": "display_data",
          "data": {
            "text/plain": [
              "\u001b[0;31mSignature:\u001b[0m \u001b[0mcluster_centers\u001b[0m\u001b[0;34m.\u001b[0m\u001b[0mnsmallest\u001b[0m\u001b[0;34m(\u001b[0m\u001b[0mn\u001b[0m\u001b[0;34m,\u001b[0m \u001b[0mcolumns\u001b[0m\u001b[0;34m,\u001b[0m \u001b[0mkeep\u001b[0m\u001b[0;34m=\u001b[0m\u001b[0;34m'first'\u001b[0m\u001b[0;34m)\u001b[0m\u001b[0;34m\u001b[0m\u001b[0;34m\u001b[0m\u001b[0m\n",
              "\u001b[0;31mDocstring:\u001b[0m\n",
              "Get the rows of the DataFrame sorted by the n smallest value of *columns*\n",
              "\n",
              "Difference from pandas:\n",
              "* Only a single column is supported in *columns*\n",
              "\u001b[0;31mFile:\u001b[0m      /opt/conda/envs/rapids/lib/python3.6/site-packages/cudf/core/dataframe.py\n",
              "\u001b[0;31mType:\u001b[0m      method\n"
            ]
          },
          "metadata": {
            "tags": []
          }
        }
      ]
    },
    {
      "cell_type": "code",
      "metadata": {
        "id": "GQpwTSZvNTzj",
        "outputId": "ef0b6351-791e-4966-8436-0689ade9d8cf"
      },
      "source": [
        "cluster_centers.nsmallest(1, 'northing')"
      ],
      "execution_count": null,
      "outputs": [
        {
          "output_type": "execute_result",
          "data": {
            "text/html": [
              "<div>\n",
              "<style scoped>\n",
              "    .dataframe tbody tr th:only-of-type {\n",
              "        vertical-align: middle;\n",
              "    }\n",
              "\n",
              "    .dataframe tbody tr th {\n",
              "        vertical-align: top;\n",
              "    }\n",
              "\n",
              "    .dataframe thead th {\n",
              "        text-align: right;\n",
              "    }\n",
              "</style>\n",
              "<table border=\"1\" class=\"dataframe\">\n",
              "  <thead>\n",
              "    <tr style=\"text-align: right;\">\n",
              "      <th></th>\n",
              "      <th>northing</th>\n",
              "      <th>easting</th>\n",
              "    </tr>\n",
              "  </thead>\n",
              "  <tbody>\n",
              "    <tr>\n",
              "      <th>11</th>\n",
              "      <td>-5321793.5</td>\n",
              "      <td>622414.5</td>\n",
              "    </tr>\n",
              "  </tbody>\n",
              "</table>\n",
              "</div>"
            ],
            "text/plain": [
              "     northing   easting\n",
              "11 -5321793.5  622414.5"
            ]
          },
          "metadata": {
            "tags": []
          },
          "execution_count": 10
        }
      ]
    },
    {
      "cell_type": "code",
      "metadata": {
        "id": "oyfwAv4YNTzn",
        "outputId": "45fadcd8-40f9-451d-b033-04d55b7c99dc"
      },
      "source": [
        "cluster_centers.nsmallest(1, 'northing').index[0]"
      ],
      "execution_count": null,
      "outputs": [
        {
          "output_type": "execute_result",
          "data": {
            "text/plain": [
              "11"
            ]
          },
          "metadata": {
            "tags": []
          },
          "execution_count": 11
        }
      ]
    },
    {
      "cell_type": "code",
      "metadata": {
        "id": "1uw8kttJNTzr",
        "outputId": "6e42703d-c6ce-4f00-aabe-dc3acae5df2a"
      },
      "source": [
        "# %load solutions/southernmost_cluster\n",
        "south_idx = cluster_centers.nsmallest(1, 'northing').index[0]\n",
        "labels_predicted = dkm.predict(ddf)\n",
        "labels_predicted[labels_predicted==south_idx].compute().shape[0]\n"
      ],
      "execution_count": null,
      "outputs": [
        {
          "output_type": "execute_result",
          "data": {
            "text/plain": [
              "9505217"
            ]
          },
          "metadata": {
            "tags": []
          },
          "execution_count": 12
        }
      ]
    },
    {
      "cell_type": "markdown",
      "metadata": {
        "id": "2s0gm3KuNTzt"
      },
      "source": [
        "<br>\n",
        "<div align=\"center\"><h2>Please Restart the Kernel</h2></div>"
      ]
    },
    {
      "cell_type": "code",
      "metadata": {
        "id": "ToS_qsb3NTzu"
      },
      "source": [
        "import IPython\n",
        "app = IPython.Application.instance()\n",
        "app.kernel.do_shutdown(True)"
      ],
      "execution_count": null,
      "outputs": []
    },
    {
      "cell_type": "markdown",
      "metadata": {
        "id": "5AMUj9iYNTzw"
      },
      "source": [
        "## 下一步"
      ]
    },
    {
      "cell_type": "markdown",
      "metadata": {
        "id": "9-IvoTcrNTzx"
      },
      "source": [
        "在下一個notebook中，您將再次使用功能強大的XGBoost算法來計算感染風險。"
      ]
    },
    {
      "cell_type": "code",
      "metadata": {
        "id": "gE_p4_I9NTzy"
      },
      "source": [
        ""
      ],
      "execution_count": null,
      "outputs": []
    }
  ]
}