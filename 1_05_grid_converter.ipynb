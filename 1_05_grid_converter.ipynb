{
  "nbformat": 4,
  "nbformat_minor": 0,
  "metadata": {
    "kernelspec": {
      "display_name": "Python 3",
      "language": "python",
      "name": "python3"
    },
    "language_info": {
      "codemirror_mode": {
        "name": "ipython",
        "version": 3
      },
      "file_extension": ".py",
      "mimetype": "text/x-python",
      "name": "python",
      "nbconvert_exporter": "python",
      "pygments_lexer": "ipython3",
      "version": "3.6.7"
    },
    "colab": {
      "name": "1-05_grid_converter.ipynb",
      "provenance": [],
      "include_colab_link": true
    }
  },
  "cells": [
    {
      "cell_type": "markdown",
      "metadata": {
        "id": "view-in-github",
        "colab_type": "text"
      },
      "source": [
        "<a href=\"https://colab.research.google.com/github/yiruchen1993/nvidia_gtc_dli_rapids_2020/blob/section_notebooks%2Fdata_manipulation/1_05_grid_converter.ipynb\" target=\"_parent\"><img src=\"https://colab.research.google.com/assets/colab-badge.svg\" alt=\"Open In Colab\"/></a>"
      ]
    },
    {
      "cell_type": "markdown",
      "metadata": {
        "id": "xs5Ma1stLP7U"
      },
      "source": [
        "# 使用 CuPy 轉換網格坐標"
      ]
    },
    {
      "cell_type": "markdown",
      "metadata": {
        "id": "nM-7EeQFLP7V"
      },
      "source": [
        "我們大多數的資料皆提供緯度與經度坐標，但對於某些涉及距離的機器學習工作，如找出感染者的地理密度叢集、找出距離指定人士的最近醫院或診所等，使用 笛卡兒網格坐標較方便。我們的道路資料也包含這些坐標。使用針對地區的地圖投影 (此處以 [1936 年英國地形測量集](https://en.wikipedia.org/wiki/Ordnance_Survey_National_Grid) 的資料為例)，可以讓我們有效率且精準地運算出當地距離。\n",
        "\n",
        "在此學習筆記中，你將透過使用者定義函數執行資料操作，並產生網格坐標值。如此一來，你將能深入瞭解 NumPy 強大的 GPU 加速直接替代函式庫 [CuPy](https://cupy.chainer.org/)。"
      ]
    },
    {
      "cell_type": "markdown",
      "metadata": {
        "id": "FJ5z3dZQLP7W"
      },
      "source": [
        "## 目標"
      ]
    },
    {
      "cell_type": "markdown",
      "metadata": {
        "id": "ZsfD_4_1LP7X"
      },
      "source": [
        "完成此學習筆記後，你將能夠:\n",
        "\n",
        "- 使用 CuPy 透過使用者定義函數執行 GPU 加速資料轉換"
      ]
    },
    {
      "cell_type": "markdown",
      "metadata": {
        "id": "4q6D-_M2LP7Y"
      },
      "source": [
        "## 匯入"
      ]
    },
    {
      "cell_type": "code",
      "metadata": {
        "id": "FTPk0jUpLP7Z"
      },
      "source": [
        "import cudf\n",
        "\n",
        "import numpy as np\n",
        "import cupy as cp"
      ],
      "execution_count": null,
      "outputs": []
    },
    {
      "cell_type": "markdown",
      "metadata": {
        "id": "jK3rXPaNLP7e"
      },
      "source": [
        "## 讀取資料"
      ]
    },
    {
      "cell_type": "markdown",
      "metadata": {
        "id": "VC7Fw8HqLP7f"
      },
      "source": [
        "在此學習筆記中，我們將再次載入英國人口資料。現在起，從磁碟讀取資料時，我們會提供具名引數 `dtype` 來指定我們希望欄載入的資料類型。"
      ]
    },
    {
      "cell_type": "code",
      "metadata": {
        "id": "pk6NifSuLP7g",
        "outputId": "ae55a2a8-a3f7-40bb-a698-9290d281ce24"
      },
      "source": [
        "%time gdf = cudf.read_csv('./data/pop_1-05.csv', dtype=['float32', 'str', 'str', 'float32', 'float32', 'str'])"
      ],
      "execution_count": null,
      "outputs": [
        {
          "output_type": "stream",
          "text": [
            "CPU times: user 4.42 s, sys: 2.1 s, total: 6.52 s\n",
            "Wall time: 7.94 s\n"
          ],
          "name": "stdout"
        }
      ]
    },
    {
      "cell_type": "code",
      "metadata": {
        "id": "YMoyg6bFLP7l",
        "outputId": "10980a64-3ec5-4b32-abcb-43324771b8d9"
      },
      "source": [
        "gdf.dtypes"
      ],
      "execution_count": null,
      "outputs": [
        {
          "output_type": "execute_result",
          "data": {
            "text/plain": [
              "age       float32\n",
              "sex        object\n",
              "county     object\n",
              "lat       float32\n",
              "long      float32\n",
              "name       object\n",
              "dtype: object"
            ]
          },
          "metadata": {
            "tags": []
          },
          "execution_count": 3
        }
      ]
    },
    {
      "cell_type": "code",
      "metadata": {
        "id": "rLeXIT6bLP7q",
        "outputId": "331934be-13e1-4e1e-d256-ef6c2fb729ef"
      },
      "source": [
        "gdf.shape"
      ],
      "execution_count": null,
      "outputs": [
        {
          "output_type": "execute_result",
          "data": {
            "text/plain": [
              "(58479894, 6)"
            ]
          },
          "metadata": {
            "tags": []
          },
          "execution_count": 4
        }
      ]
    },
    {
      "cell_type": "markdown",
      "metadata": {
        "id": "mAdARqFMLP7s"
      },
      "source": [
        "## 使用 NumPy 將經緯度轉換成 OSGB 網格坐標"
      ]
    },
    {
      "cell_type": "markdown",
      "metadata": {
        "id": "avdQD0LELP7t"
      },
      "source": [
        "為了執行坐標轉換，我們會建立函數 `latlong2osgbgrid`，此函數會接受經緯度坐標，並轉換成 [OSGB36 坐標](https://en.wikipedia.org/wiki/Ordnance_Survey_National_Grid):「北邊」與「東邊」值，代表某點在笛卡兒坐標中，距離網格最西南端的距離。\n",
        "\n",
        "正下方為 `latlong2osgbgrid`，此作業十分仰賴 NumPy:"
      ]
    },
    {
      "cell_type": "code",
      "metadata": {
        "id": "pbebgqoXLP7t"
      },
      "source": [
        "# https://www.ordnancesurvey.co.uk/docs/support/guide-coordinate-systems-great-britain.pdf\n",
        "\n",
        "def latlong2osgbgrid(lat, long, input_degrees=True):\n",
        "    '''\n",
        "    Converts latitude and longitude (ellipsoidal) coordinates into northing and easting (grid) coordinates, using a Transverse Mercator projection.\n",
        "    \n",
        "    Inputs:\n",
        "    lat: latitude coordinate (north)\n",
        "    long: longitude coordinate (east)\n",
        "    input_degrees: if True (default), interprets the coordinates as degrees; otherwise, interprets coordinates as radians\n",
        "    \n",
        "    Output:\n",
        "    (northing, easting)\n",
        "    '''\n",
        "    \n",
        "    if input_degrees:\n",
        "        lat = lat * np.pi/180\n",
        "        long = long * np.pi/180\n",
        "\n",
        "    a = 6377563.396\n",
        "    b = 6356256.909\n",
        "    e2 = (a**2 - b**2) / a**2\n",
        "\n",
        "    N0 = -100000                # northing of true origin\n",
        "    E0 = 400000                 # easting of true origin\n",
        "    F0 = .9996012717            # scale factor on central meridian\n",
        "    phi0 = 49 * np.pi / 180     # latitude of true origin\n",
        "    lambda0 = -2 * np.pi / 180  # longitude of true origin and central meridian\n",
        "    \n",
        "    sinlat = np.sin(lat)\n",
        "    coslat = np.cos(lat)\n",
        "    tanlat = np.tan(lat)\n",
        "    \n",
        "    latdiff = lat-phi0\n",
        "    longdiff = long-lambda0\n",
        "\n",
        "    n = (a-b) / (a+b)\n",
        "    nu = a * F0 * (1 - e2 * sinlat ** 2) ** -.5\n",
        "    rho = a * F0 * (1 - e2) * (1 - e2 * sinlat ** 2) ** -1.5\n",
        "    eta2 = nu / rho - 1\n",
        "    M = b * F0 * ((1 + n + 5/4 * (n**2 + n**3)) * latdiff - \n",
        "                  (3*(n+n**2) + 21/8 * n**3) * np.sin(latdiff) * np.cos(lat+phi0) +\n",
        "                  15/8 * (n**2 + n**3) * np.sin(2*(latdiff)) * np.cos(2*(lat+phi0)) - \n",
        "                  35/24 * n**3 * np.sin(3*(latdiff)) * np.cos(3*(lat+phi0)))\n",
        "    I = M + N0\n",
        "    II = nu/2 * sinlat * coslat\n",
        "    III = nu/24 * sinlat * coslat ** 3 * (5 - tanlat ** 2 + 9 * eta2)\n",
        "    IIIA = nu/720 * sinlat * coslat ** 5 * (61-58 * tanlat**2 + tanlat**4)\n",
        "    IV = nu * coslat\n",
        "    V = nu / 6 * coslat**3 * (nu/rho - np.tan(lat)**2)\n",
        "    VI = nu / 120 * coslat ** 5 * (5 - 18 * tanlat**2 + tanlat**4 + 14 * eta2 - 58 * tanlat**2 * eta2)\n",
        "\n",
        "    northing = I + II * longdiff**2 + III * longdiff**4 + IIIA * longdiff**6\n",
        "    easting = E0 + IV * longdiff + V * longdiff**3 + VI * longdiff**5\n",
        "\n",
        "    return(northing, easting)"
      ],
      "execution_count": null,
      "outputs": []
    },
    {
      "cell_type": "markdown",
      "metadata": {
        "id": "zmJ8UWEELP7w"
      },
      "source": [
        "### 測試 NumPy 轉換工具"
      ]
    },
    {
      "cell_type": "markdown",
      "metadata": {
        "id": "1idjr8hiLP7y"
      },
      "source": [
        "為了測試轉換工具並瞭解其效能，此處我們在英國的大約經緯度範圍內，產生了 10,000,000 組正常分布的隨機坐標。"
      ]
    },
    {
      "cell_type": "code",
      "metadata": {
        "id": "iZIoN1LZLP7z",
        "outputId": "74922aef-cb7d-47f5-f2ab-edcc8a7917b4"
      },
      "source": [
        "%%time\n",
        "coord_lat = np.random.normal(54, 1, 10000000)\n",
        "coord_long = np.random.normal(-1.5, .25, 10000000)"
      ],
      "execution_count": null,
      "outputs": [
        {
          "output_type": "stream",
          "text": [
            "CPU times: user 697 ms, sys: 16.4 ms, total: 713 ms\n",
            "Wall time: 712 ms\n"
          ],
          "name": "stdout"
        }
      ]
    },
    {
      "cell_type": "code",
      "metadata": {
        "id": "sq_b9M2OLP72",
        "outputId": "624de5d9-a874-4388-984e-36749d98bafe"
      },
      "source": [
        "coord_lat.shape"
      ],
      "execution_count": null,
      "outputs": [
        {
          "output_type": "execute_result",
          "data": {
            "text/plain": [
              "(10000000,)"
            ]
          },
          "metadata": {
            "tags": []
          },
          "execution_count": 7
        }
      ]
    },
    {
      "cell_type": "code",
      "metadata": {
        "id": "SR3MQR2uLP75",
        "outputId": "43e26071-f1fb-4b12-c9c7-fbeee93d69ec"
      },
      "source": [
        "coord_lat"
      ],
      "execution_count": null,
      "outputs": [
        {
          "output_type": "execute_result",
          "data": {
            "text/plain": [
              "array([55.15432395, 54.41939128, 54.20007958, ..., 55.5426888 ,\n",
              "       55.22090507, 54.68356371])"
            ]
          },
          "metadata": {
            "tags": []
          },
          "execution_count": 8
        }
      ]
    },
    {
      "cell_type": "markdown",
      "metadata": {
        "id": "9KpOgsNILP77"
      },
      "source": [
        "現在我們會將這些經緯度坐標傳遞到轉換工具中，讓其回傳坐標在 OSGB 網格內的北方與東方值。"
      ]
    },
    {
      "cell_type": "code",
      "metadata": {
        "id": "vAswSixuLP78",
        "outputId": "7c3abac6-055c-4793-aee3-d3d89066ae31"
      },
      "source": [
        "%time grid_n, grid_e = latlong2osgbgrid(coord_lat, coord_long)\n",
        "print(grid_n[:5], grid_e[:5])"
      ],
      "execution_count": null,
      "outputs": [
        {
          "output_type": "stream",
          "text": [
            "CPU times: user 10 s, sys: 915 ms, total: 10.9 s\n",
            "Wall time: 10.9 s\n",
            "[584495.65702285 503029.62736525 478410.18362771 643772.08609626\n",
            " 386456.23119298] [420302.97789844 456784.72965236 435026.31495171 411326.62638379\n",
            " 429670.15577338]\n"
          ],
          "name": "stdout"
        }
      ]
    },
    {
      "cell_type": "markdown",
      "metadata": {
        "id": "VEetMRveLP8D"
      },
      "source": [
        "## 使用 CuPy 將經緯度轉換成 OSGB 網格坐標"
      ]
    },
    {
      "cell_type": "code",
      "metadata": {
        "id": "UrBshve3LP8E",
        "outputId": "f9d44d97-ccfc-4f15-dd74-9d013f107965"
      },
      "source": [
        "cp"
      ],
      "execution_count": null,
      "outputs": [
        {
          "output_type": "execute_result",
          "data": {
            "text/plain": [
              "<module 'cupy' from '/opt/conda/envs/rapids/lib/python3.6/site-packages/cupy/__init__.py'>"
            ]
          },
          "metadata": {
            "tags": []
          },
          "execution_count": 10
        }
      ]
    },
    {
      "cell_type": "code",
      "metadata": {
        "id": "fV6VfNrLLP8I",
        "outputId": "591e3cb4-4842-42cb-e794-8733184f0402"
      },
      "source": [
        "np"
      ],
      "execution_count": null,
      "outputs": [
        {
          "output_type": "execute_result",
          "data": {
            "text/plain": [
              "<module 'numpy' from '/opt/conda/envs/rapids/lib/python3.6/site-packages/numpy/__init__.py'>"
            ]
          },
          "metadata": {
            "tags": []
          },
          "execution_count": 11
        }
      ]
    },
    {
      "cell_type": "markdown",
      "metadata": {
        "id": "7ls79RcgLP8M"
      },
      "source": [
        "[CuPy](https://cupy.chainer.org/) 是一種類似 NumPy 的矩陣函式庫，通常用來直接替代 NumPy。\n",
        "\n",
        "在下方的 `latlong2osgbgrid_cupy` 中，我們僅將 `np` 轉換成 `cp`。CuPy 支援多種強大的 GPU 加速工作，而這項能夠將 NumPy 呼叫改成 CuPy 的簡單技術，也是一項十分強大的工具。"
      ]
    },
    {
      "cell_type": "code",
      "metadata": {
        "id": "mALYp6LyLP8M"
      },
      "source": [
        "# https://www.ordnancesurvey.co.uk/docs/support/guide-coordinate-systems-great-britain.pdf\n",
        "\n",
        "def latlong2osgbgrid_cupy(lat, long, input_degrees=True):\n",
        "    '''\n",
        "    Converts latitude and longitude (ellipsoidal) coordinates into northing and easting (grid) coordinates, using a Transverse Mercator projection.\n",
        "    \n",
        "    Inputs:\n",
        "    lat: latitude coordinate (north)\n",
        "    long: longitude coordinate (east)\n",
        "    input_degrees: if True (default), interprets the coordinates as degrees; otherwise, interprets coordinates as radians\n",
        "    \n",
        "    Output:\n",
        "    (northing, easting)\n",
        "    '''\n",
        "    \n",
        "    if input_degrees:\n",
        "        lat = lat * cp.pi/180\n",
        "        long = long * cp.pi/180\n",
        "\n",
        "    a = 6377563.396\n",
        "    b = 6356256.909\n",
        "    e2 = (a**2 - b**2) / a**2\n",
        "\n",
        "    N0 = -100000                 # northing of true origin\n",
        "    E0 = 400000                  # easting of true origin\n",
        "    F0 = .9996012717             # scale factor on central meridian\n",
        "    phi0 = 49 * cp.pi / 180      # latitude of true origin\n",
        "    lambda0 = -2 * cp.pi / 180   # longitude of true origin and central meridian\n",
        "    \n",
        "    sinlat = cp.sin(lat)\n",
        "    coslat = cp.cos(lat)\n",
        "    tanlat = cp.tan(lat)\n",
        "    \n",
        "    latdiff = lat-phi0\n",
        "    longdiff = long-lambda0\n",
        "\n",
        "    n = (a-b) / (a+b)\n",
        "    nu = a * F0 * (1 - e2 * sinlat ** 2) ** -.5\n",
        "    rho = a * F0 * (1 - e2) * (1 - e2 * sinlat ** 2) ** -1.5\n",
        "    eta2 = nu / rho - 1\n",
        "    M = b * F0 * ((1 + n + 5/4 * (n**2 + n**3)) * latdiff - \n",
        "                  (3*(n+n**2) + 21/8 * n**3) * cp.sin(latdiff) * cp.cos(lat+phi0) +\n",
        "                  15/8 * (n**2 + n**3) * cp.sin(2*(latdiff)) * cp.cos(2*(lat+phi0)) - \n",
        "                  35/24 * n**3 * cp.sin(3*(latdiff)) * cp.cos(3*(lat+phi0)))\n",
        "    I = M + N0\n",
        "    II = nu/2 * sinlat * coslat\n",
        "    III = nu/24 * sinlat * coslat ** 3 * (5 - tanlat ** 2 + 9 * eta2)\n",
        "    IIIA = nu/720 * sinlat * coslat ** 5 * (61-58 * tanlat**2 + tanlat**4)\n",
        "    IV = nu * coslat\n",
        "    V = nu / 6 * coslat**3 * (nu/rho - cp.tan(lat)**2)\n",
        "    VI = nu / 120 * coslat ** 5 * (5 - 18 * tanlat**2 + tanlat**4 + 14 * eta2 - 58 * tanlat**2 * eta2)\n",
        "\n",
        "    northing = I + II * longdiff**2 + III * longdiff**4 + IIIA * longdiff**6\n",
        "    easting = E0 + IV * longdiff + V * longdiff**3 + VI * longdiff**5\n",
        "\n",
        "    return(northing, easting)"
      ],
      "execution_count": null,
      "outputs": []
    },
    {
      "cell_type": "markdown",
      "metadata": {
        "id": "wsOQLeG2LP8P"
      },
      "source": [
        "### 測試 CuPy 轉換工具"
      ]
    },
    {
      "cell_type": "markdown",
      "metadata": {
        "id": "BqNW68dELP8Q"
      },
      "source": [
        "我們將於此處執行與上方 NumPy 相同的作業，但轉換速度會提升許多。執行下方儲存格後，請嘗試重新執行上方的 NumPy 轉換工具 (包含隨機數生成)，再執行 CuPy 轉換工具，你會發現兩者的差異更大。"
      ]
    },
    {
      "cell_type": "code",
      "metadata": {
        "id": "71TkJgcgLP8R",
        "outputId": "14bc9716-9e12-4848-c45c-547625dd4b54"
      },
      "source": [
        "%%time\n",
        "coord_lat = cp.random.normal(54, 1, 10000000)\n",
        "coord_long = cp.random.normal(-1.5, .25, 10000000)"
      ],
      "execution_count": null,
      "outputs": [
        {
          "output_type": "stream",
          "text": [
            "CPU times: user 586 ms, sys: 36.5 ms, total: 622 ms\n",
            "Wall time: 778 ms\n"
          ],
          "name": "stdout"
        }
      ]
    },
    {
      "cell_type": "code",
      "metadata": {
        "id": "e3lRDofILP8U",
        "outputId": "b7dbbe5c-b653-40b3-a2df-4ebb68148e4a"
      },
      "source": [
        "%time grid_n, grid_e = latlong2osgbgrid_cupy(coord_lat, coord_long)\n",
        "print(grid_n[:5], grid_e[:5])"
      ],
      "execution_count": null,
      "outputs": [
        {
          "output_type": "stream",
          "text": [
            "CPU times: user 2.97 s, sys: 20.2 ms, total: 2.99 s\n",
            "Wall time: 3.22 s\n",
            "[320336.74382568 424224.53076329 420476.83605342 599951.29837545\n",
            " 401514.83836115] [454983.32003193 441771.23520964 419429.47963802 433211.68814224\n",
            " 442999.97096989]\n"
          ],
          "name": "stdout"
        }
      ]
    },
    {
      "cell_type": "markdown",
      "metadata": {
        "id": "OK5MATAULP8Y"
      },
      "source": [
        "## 新增網格坐標欄至資料架構"
      ]
    },
    {
      "cell_type": "markdown",
      "metadata": {
        "id": "w6DvdetwLP8Z"
      },
      "source": [
        "現在，我們將運用 `latlong2osgbgrid_cupy` 將 `northing` 與 `easting` 欄新增至 `gdf`。我們首先要使用 `cp.asarray` 方法來將我們需要的兩個欄 (`lat` 與 `long`) 轉換至 CuPy 陣列。cuDF 與 CuPy 直接透過 `__cuda_array_interface__` 相交，因此我們可以在數毫秒內完成轉換。"
      ]
    },
    {
      "cell_type": "code",
      "metadata": {
        "id": "RdssSbz2LP8Z",
        "outputId": "cc14d2f5-c0da-45ed-c8e3-c86e0f7170bf"
      },
      "source": [
        "%%time\n",
        "cupy_lat = cp.asarray(gdf['lat'])\n",
        "cupy_long = cp.asarray(gdf['long'])"
      ],
      "execution_count": null,
      "outputs": [
        {
          "output_type": "stream",
          "text": [
            "CPU times: user 1.02 ms, sys: 245 µs, total: 1.26 ms\n",
            "Wall time: 1.27 ms\n"
          ],
          "name": "stdout"
        }
      ]
    },
    {
      "cell_type": "markdown",
      "metadata": {
        "id": "Kvbg4jnHLP8c"
      },
      "source": [
        "### 練習: 建立網格欄"
      ]
    },
    {
      "cell_type": "markdown",
      "metadata": {
        "id": "7fskz0AkLP8c"
      },
      "source": [
        "在本練習中，你現在已有 `lat` 與 `long` 的 GPU 陣列，接著你將在 `gdf` 中建立 `northing` 與 `easting` 欄。若要這麼做:\n",
        "- 請在 `latlong2osgbgrid_cupy` 中使用剛建立好的 `cupy_lat` 與 `cupy_long`，將 CuPy 陣列轉換成網格坐標\n",
        "- 從這些坐標 CuPy 陣列中建立 cuDF 序列，再將 dtype 設為 `float32`\n",
        "- 將這兩個新的序列新增至 `gdf`，將其命名為 `northing` 與 `easting`"
      ]
    },
    {
      "cell_type": "code",
      "metadata": {
        "id": "UxkaS1wjLP8c",
        "outputId": "e9630b7c-21c4-4927-8888-94e46e51b2d5"
      },
      "source": [
        "cupy_lat"
      ],
      "execution_count": null,
      "outputs": [
        {
          "output_type": "execute_result",
          "data": {
            "text/plain": [
              "array([54.533638, 54.426254, 54.5552  , ..., 51.605267, 51.554646,\n",
              "       51.57879 ], dtype=float32)"
            ]
          },
          "metadata": {
            "tags": []
          },
          "execution_count": 17
        }
      ]
    },
    {
      "cell_type": "code",
      "metadata": {
        "id": "l0v5A4nTLP8e",
        "outputId": "44960f65-9227-4154-9cdd-7c5dd7f82716"
      },
      "source": [
        "n_cupy_array"
      ],
      "execution_count": null,
      "outputs": [
        {
          "output_type": "execute_result",
          "data": {
            "text/plain": [
              "array([515491.89545734, 503572.45342953, 517903.65347138, ...,\n",
              "       189997.50820025, 184440.25400054, 187036.33415369])"
            ]
          },
          "metadata": {
            "tags": []
          },
          "execution_count": 18
        }
      ]
    },
    {
      "cell_type": "markdown",
      "metadata": {
        "id": "bFyk_gj9LP8h"
      },
      "source": [
        "#### 解決方案"
      ]
    },
    {
      "cell_type": "code",
      "metadata": {
        "id": "Sdx5_bX0LP8h"
      },
      "source": [
        ""
      ],
      "execution_count": null,
      "outputs": []
    },
    {
      "cell_type": "code",
      "metadata": {
        "id": "2b1wR_w6LP8k",
        "outputId": "c07fdd2e-caa6-4d39-8abc-6cc16b6ffdb7"
      },
      "source": [
        "# %load solutions/create_grid_columns\n",
        "n_cupy_array, e_cupy_array = latlong2osgbgrid_cupy(cupy_lat, cupy_long)\n",
        "gdf['northing'] = cudf.Series(n_cupy_array).astype('float32')\n",
        "gdf['easting'] = cudf.Series(e_cupy_array).astype('float32')\n",
        "print(gdf.dtypes)\n",
        "gdf.head()\n"
      ],
      "execution_count": null,
      "outputs": [
        {
          "output_type": "stream",
          "text": [
            "age         float32\n",
            "sex          object\n",
            "county       object\n",
            "lat         float32\n",
            "long        float32\n",
            "name         object\n",
            "northing    float32\n",
            "easting     float32\n",
            "dtype: object\n"
          ],
          "name": "stdout"
        },
        {
          "output_type": "execute_result",
          "data": {
            "text/html": [
              "<div>\n",
              "<style scoped>\n",
              "    .dataframe tbody tr th:only-of-type {\n",
              "        vertical-align: middle;\n",
              "    }\n",
              "\n",
              "    .dataframe tbody tr th {\n",
              "        vertical-align: top;\n",
              "    }\n",
              "\n",
              "    .dataframe thead th {\n",
              "        text-align: right;\n",
              "    }\n",
              "</style>\n",
              "<table border=\"1\" class=\"dataframe\">\n",
              "  <thead>\n",
              "    <tr style=\"text-align: right;\">\n",
              "      <th></th>\n",
              "      <th>age</th>\n",
              "      <th>sex</th>\n",
              "      <th>county</th>\n",
              "      <th>lat</th>\n",
              "      <th>long</th>\n",
              "      <th>name</th>\n",
              "      <th>northing</th>\n",
              "      <th>easting</th>\n",
              "    </tr>\n",
              "  </thead>\n",
              "  <tbody>\n",
              "    <tr>\n",
              "      <th>0</th>\n",
              "      <td>0.0</td>\n",
              "      <td>m</td>\n",
              "      <td>Darlington</td>\n",
              "      <td>54.533638</td>\n",
              "      <td>-1.524400</td>\n",
              "      <td>Francis</td>\n",
              "      <td>515491.90625</td>\n",
              "      <td>430772.15625</td>\n",
              "    </tr>\n",
              "    <tr>\n",
              "      <th>1</th>\n",
              "      <td>0.0</td>\n",
              "      <td>m</td>\n",
              "      <td>Darlington</td>\n",
              "      <td>54.426254</td>\n",
              "      <td>-1.465314</td>\n",
              "      <td>Edward</td>\n",
              "      <td>503572.46875</td>\n",
              "      <td>434685.87500</td>\n",
              "    </tr>\n",
              "    <tr>\n",
              "      <th>2</th>\n",
              "      <td>0.0</td>\n",
              "      <td>m</td>\n",
              "      <td>Darlington</td>\n",
              "      <td>54.555199</td>\n",
              "      <td>-1.496417</td>\n",
              "      <td>Teddy</td>\n",
              "      <td>517903.65625</td>\n",
              "      <td>432565.53125</td>\n",
              "    </tr>\n",
              "    <tr>\n",
              "      <th>3</th>\n",
              "      <td>0.0</td>\n",
              "      <td>m</td>\n",
              "      <td>Darlington</td>\n",
              "      <td>54.547905</td>\n",
              "      <td>-1.572341</td>\n",
              "      <td>Angus</td>\n",
              "      <td>517059.90625</td>\n",
              "      <td>427660.65625</td>\n",
              "    </tr>\n",
              "    <tr>\n",
              "      <th>4</th>\n",
              "      <td>0.0</td>\n",
              "      <td>m</td>\n",
              "      <td>Darlington</td>\n",
              "      <td>54.477638</td>\n",
              "      <td>-1.605995</td>\n",
              "      <td>Charlie</td>\n",
              "      <td>509228.68750</td>\n",
              "      <td>425527.78125</td>\n",
              "    </tr>\n",
              "  </tbody>\n",
              "</table>\n",
              "</div>"
            ],
            "text/plain": [
              "   age sex      county        lat      long     name      northing  \\\n",
              "0  0.0   m  Darlington  54.533638 -1.524400  Francis  515491.90625   \n",
              "1  0.0   m  Darlington  54.426254 -1.465314   Edward  503572.46875   \n",
              "2  0.0   m  Darlington  54.555199 -1.496417    Teddy  517903.65625   \n",
              "3  0.0   m  Darlington  54.547905 -1.572341    Angus  517059.90625   \n",
              "4  0.0   m  Darlington  54.477638 -1.605995  Charlie  509228.68750   \n",
              "\n",
              "        easting  \n",
              "0  430772.15625  \n",
              "1  434685.87500  \n",
              "2  432565.53125  \n",
              "3  427660.65625  \n",
              "4  425527.78125  "
            ]
          },
          "metadata": {
            "tags": []
          },
          "execution_count": 16
        }
      ]
    },
    {
      "cell_type": "markdown",
      "metadata": {
        "id": "KpNr5U4CLP8n"
      },
      "source": [
        "## 下一步"
      ]
    },
    {
      "cell_type": "markdown",
      "metadata": {
        "id": "ostfQNs-LP8o"
      },
      "source": [
        "在下一份學習筆記中，我們將回到基本的 cuDF 作業，並著重在資料分析的分組與分類上。"
      ]
    },
    {
      "cell_type": "markdown",
      "metadata": {
        "id": "elAWgx7QLP8o"
      },
      "source": [
        "<br>\n",
        "<div align=\"center\"><h2>請重新啟動核心</h2></div>"
      ]
    }
  ]
}