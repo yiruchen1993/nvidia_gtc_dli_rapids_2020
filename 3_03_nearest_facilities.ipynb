{
  "nbformat": 4,
  "nbformat_minor": 0,
  "metadata": {
    "kernelspec": {
      "display_name": "Python 3",
      "language": "python",
      "name": "python3"
    },
    "language_info": {
      "codemirror_mode": {
        "name": "ipython",
        "version": 3
      },
      "file_extension": ".py",
      "mimetype": "text/x-python",
      "name": "python",
      "nbconvert_exporter": "python",
      "pygments_lexer": "ipython3",
      "version": "3.6.7"
    },
    "colab": {
      "name": "3-03_nearest_facilities.ipynb",
      "provenance": [],
      "include_colab_link": true
    }
  },
  "cells": [
    {
      "cell_type": "markdown",
      "metadata": {
        "id": "view-in-github",
        "colab_type": "text"
      },
      "source": [
        "<a href=\"https://colab.research.google.com/github/yiruchen1993/nvidia_gtc_dli_rapids_2020/blob/section_notebooks%2Fproject/3_03_nearest_facilities.ipynb\" target=\"_parent\"><img src=\"https://colab.research.google.com/assets/colab-badge.svg\" alt=\"Open In Colab\"/></a>"
      ]
    },
    {
      "cell_type": "markdown",
      "metadata": {
        "id": "si4XMb21Nz49"
      },
      "source": [
        "# 第二周: 確認最近的醫療設施"
      ]
    },
    {
      "cell_type": "markdown",
      "metadata": {
        "id": "fQ7Lna6xNz4-"
      },
      "source": [
        "<span style=\"color:red\">\n",
        "**更新**\n",
        "\n",
        "感謝您的分析。 儘管到目前為止我們已經做出了警告，但該病毒仍在繼續迅速傳播。我們希望盡快得到感染者的治療，因此我們需要您的幫助來計算哪個醫院或診所距離人口中每個已知的感染者最近。\n",
        "</span>\n",
        "\n",
        "您接下來的目標是為每個感染者確定最近的醫院或診所。"
      ]
    },
    {
      "cell_type": "markdown",
      "metadata": {
        "id": "396NA3auNz4_"
      },
      "source": [
        "## 載入相關套件"
      ]
    },
    {
      "cell_type": "code",
      "metadata": {
        "id": "kY7E0g1QNz5A"
      },
      "source": [
        "import cudf\n",
        "import cuml\n",
        "import cupy as cp"
      ],
      "execution_count": null,
      "outputs": []
    },
    {
      "cell_type": "markdown",
      "metadata": {
        "id": "dE1Ksf65Nz5E"
      },
      "source": [
        "## 載入人口資料"
      ]
    },
    {
      "cell_type": "markdown",
      "metadata": {
        "id": "sgEn4-UyNz5E"
      },
      "source": [
        "從`'./data/week2.csv'` 開始載入`lat`, `long` 和 `infected`欄位，並存入cuDF data frame ，命名為 `gdf`."
      ]
    },
    {
      "cell_type": "code",
      "metadata": {
        "id": "WWTcx1k1Nz5F"
      },
      "source": [
        "gdf = cudf.read_csv('./data/week2.csv', usecols=['lat', 'long', 'infected'])"
      ],
      "execution_count": null,
      "outputs": []
    },
    {
      "cell_type": "markdown",
      "metadata": {
        "id": "Ui_5q3YeNz5I"
      },
      "source": [
        "## 載入醫院和診所數據"
      ]
    },
    {
      "cell_type": "markdown",
      "metadata": {
        "id": "x-Z5IT3oNz5J"
      },
      "source": [
        "在這個步驟，您的目標是建立一個`all_med` cuDF data frame，其中將包含醫院(資料在 `'./data/hospitals.csv'`)以及診所(資料在`'./data/clinics.csv'`).關於經度和緯度的資訊。"
      ]
    },
    {
      "cell_type": "code",
      "metadata": {
        "id": "EczEc5o1Nz5K"
      },
      "source": [
        "hospitals = cudf.read_csv('./data/hospitals.csv')\n",
        "clinics = cudf.read_csv('./data/clinics.csv')"
      ],
      "execution_count": null,
      "outputs": []
    },
    {
      "cell_type": "markdown",
      "metadata": {
        "id": "LBK1pJ91Nz5N"
      },
      "source": [
        "由於我們將使用這些設施的坐標，因此僅保留在`Latitude` 和 `Longitude`中均非空的列。"
      ]
    },
    {
      "cell_type": "code",
      "metadata": {
        "id": "YH6VN8TgNz5N",
        "outputId": "7017b629-2e04-47e6-856b-2c316e96b9cc"
      },
      "source": [
        "print(hospitals.shape)\n",
        "print(clinics.shape)"
      ],
      "execution_count": null,
      "outputs": [
        {
          "output_type": "stream",
          "text": [
            "(1229, 22)\n",
            "(19082, 19)\n"
          ],
          "name": "stdout"
        }
      ]
    },
    {
      "cell_type": "code",
      "metadata": {
        "id": "ka32LVg6Nz5S",
        "outputId": "ac300e58-f2bd-490a-8a8f-6a3247b42936"
      },
      "source": [
        "hospitals = hospitals.dropna(subset=['Latitude', 'Longitude'])\n",
        "hospitals.shape"
      ],
      "execution_count": null,
      "outputs": [
        {
          "output_type": "execute_result",
          "data": {
            "text/plain": [
              "(1226, 22)"
            ]
          },
          "metadata": {
            "tags": []
          },
          "execution_count": 7
        }
      ]
    },
    {
      "cell_type": "code",
      "metadata": {
        "id": "oXlFipCLNz5V",
        "outputId": "f611ee93-ab53-4fb4-e672-fcf260cf15b9"
      },
      "source": [
        "clinics = clinics.dropna(subset=['Latitude', 'Longitude'])\n",
        "clinics.shape"
      ],
      "execution_count": null,
      "outputs": [
        {
          "output_type": "execute_result",
          "data": {
            "text/plain": [
              "(19075, 19)"
            ]
          },
          "metadata": {
            "tags": []
          },
          "execution_count": 8
        }
      ]
    },
    {
      "cell_type": "code",
      "metadata": {
        "id": "diX3XU1wNz5Z",
        "outputId": "0e67cad9-51ab-4f8f-aab4-bf4fbee9dfef"
      },
      "source": [
        "all_med = cudf.concat([hospitals[['Latitude', 'Longitude']], clinics[['Latitude', 'Longitude']]])\n",
        "all_med.shape"
      ],
      "execution_count": null,
      "outputs": [
        {
          "output_type": "execute_result",
          "data": {
            "text/plain": [
              "(20301, 2)"
            ]
          },
          "metadata": {
            "tags": []
          },
          "execution_count": 13
        }
      ]
    },
    {
      "cell_type": "markdown",
      "metadata": {
        "id": "9Bvqr-fVNz5c"
      },
      "source": [
        "## 建立醫療設施的網格坐標"
      ]
    },
    {
      "cell_type": "markdown",
      "metadata": {
        "id": "wg_vNvyTNz5d"
      },
      "source": [
        "在下一個單元格中為您提供的（您可以通過單擊“ ...”來展開，然後在單擊該單元格的藍色左邊界時執行後再次收縮）是您使用的經/緯到網格坐標轉換器。 使用此轉換器可創建存儲在上一步創建的`all_med`的`northing`和 `easting`列中的網格坐標值。\n"
      ]
    },
    {
      "cell_type": "code",
      "metadata": {
        "jupyter": {
          "source_hidden": true
        },
        "id": "ej2xM0fmNz5e"
      },
      "source": [
        "# https://www.ordnancesurvey.co.uk/docs/support/guide-coordinate-systems-great-britain.pdf\n",
        "\n",
        "def latlong2osgbgrid_cupy(lat, long, input_degrees=True):\n",
        "    '''\n",
        "    Converts latitude and longitude (ellipsoidal) coordinates into northing and easting (grid) coordinates, using a Transverse Mercator projection.\n",
        "    \n",
        "    Inputs:\n",
        "    lat: latitude coordinate (N)\n",
        "    long: longitude coordinate (E)\n",
        "    input_degrees: if True (default), interprets the coordinates as degrees; otherwise, interprets coordinates as radians\n",
        "    \n",
        "    Output:\n",
        "    (northing, easting)\n",
        "    '''\n",
        "    \n",
        "    if input_degrees:\n",
        "        lat = lat * cp.pi/180\n",
        "        long = long * cp.pi/180\n",
        "\n",
        "    a = 6377563.396\n",
        "    b = 6356256.909\n",
        "    e2 = (a**2 - b**2) / a**2\n",
        "\n",
        "    N0 = -100000 # northing of true origin\n",
        "    E0 = 400000 # easting of true origin\n",
        "    F0 = .9996012717 # scale factor on central meridian\n",
        "    phi0 = 49 * cp.pi / 180 # latitude of true origin\n",
        "    lambda0 = -2 * cp.pi / 180 # longitude of true origin and central meridian\n",
        "    \n",
        "    sinlat = cp.sin(lat)\n",
        "    coslat = cp.cos(lat)\n",
        "    tanlat = cp.tan(lat)\n",
        "    \n",
        "    latdiff = lat-phi0\n",
        "    longdiff = long-lambda0\n",
        "\n",
        "    n = (a-b) / (a+b)\n",
        "    nu = a * F0 * (1 - e2 * sinlat ** 2) ** -.5\n",
        "    rho = a * F0 * (1 - e2) * (1 - e2 * sinlat ** 2) ** -1.5\n",
        "    eta2 = nu / rho - 1\n",
        "    M = b * F0 * ((1 + n + 5/4 * (n**2 + n**3)) * latdiff - \n",
        "                  (3*(n+n**2) + 21/8 * n**3) * cp.sin(latdiff) * cp.cos(lat+phi0) +\n",
        "                  15/8 * (n**2 + n**3) * cp.sin(2*(latdiff)) * cp.cos(2*(lat+phi0)) - \n",
        "                  35/24 * n**3 * cp.sin(3*(latdiff)) * cp.cos(3*(lat+phi0)))\n",
        "    I = M + N0\n",
        "    II = nu/2 * sinlat * coslat\n",
        "    III = nu/24 * sinlat * coslat ** 3 * (5 - tanlat ** 2 + 9 * eta2)\n",
        "    IIIA = nu/720 * sinlat * coslat ** 5 * (61-58 * tanlat**2 + tanlat**4)\n",
        "    IV = nu * coslat\n",
        "    V = nu / 6 * coslat**3 * (nu/rho - cp.tan(lat)**2)\n",
        "    VI = nu / 120 * coslat ** 5 * (5 - 18 * tanlat**2 + tanlat**4 + 14 * eta2 - 58 * tanlat**2 * eta2)\n",
        "\n",
        "    northing = I + II * longdiff**2 + III * longdiff**4 + IIIA * longdiff**6\n",
        "    easting = E0 + IV * longdiff + V * longdiff**3 + VI * longdiff**5\n",
        "\n",
        "    return(northing, easting)"
      ],
      "execution_count": null,
      "outputs": []
    },
    {
      "cell_type": "code",
      "metadata": {
        "id": "tDuk958JNz5g"
      },
      "source": [
        "all_med = all_med.reset_index()"
      ],
      "execution_count": null,
      "outputs": []
    },
    {
      "cell_type": "code",
      "metadata": {
        "id": "xfOUMJx6Nz5j"
      },
      "source": [
        "cupy_lat = cp.asarray(all_med['Latitude'])\n",
        "cupy_long = cp.asarray(all_med['Longitude'])\n",
        "n_cupy_array, e_cupy_array = latlong2osgbgrid_cupy(cupy_lat, cupy_long)\n",
        "all_med['northing'] = cudf.Series(n_cupy_array).astype('float32')\n",
        "all_med['easting'] = cudf.Series(e_cupy_array).astype('float32')"
      ],
      "execution_count": null,
      "outputs": []
    },
    {
      "cell_type": "code",
      "metadata": {
        "id": "qEPkZuI5Nz5m",
        "outputId": "c60ab7f0-713a-4b84-b5bf-ad6d6dfb93e0"
      },
      "source": [
        "all_med.head()"
      ],
      "execution_count": null,
      "outputs": [
        {
          "output_type": "execute_result",
          "data": {
            "text/html": [
              "<div>\n",
              "<style scoped>\n",
              "    .dataframe tbody tr th:only-of-type {\n",
              "        vertical-align: middle;\n",
              "    }\n",
              "\n",
              "    .dataframe tbody tr th {\n",
              "        vertical-align: top;\n",
              "    }\n",
              "\n",
              "    .dataframe thead th {\n",
              "        text-align: right;\n",
              "    }\n",
              "</style>\n",
              "<table border=\"1\" class=\"dataframe\">\n",
              "  <thead>\n",
              "    <tr style=\"text-align: right;\">\n",
              "      <th></th>\n",
              "      <th>index</th>\n",
              "      <th>Latitude</th>\n",
              "      <th>Longitude</th>\n",
              "      <th>northing</th>\n",
              "      <th>easting</th>\n",
              "    </tr>\n",
              "  </thead>\n",
              "  <tbody>\n",
              "    <tr>\n",
              "      <th>0</th>\n",
              "      <td>0</td>\n",
              "      <td>51.379997</td>\n",
              "      <td>-0.406042</td>\n",
              "      <td>165810.468750</td>\n",
              "      <td>510917.53125</td>\n",
              "    </tr>\n",
              "    <tr>\n",
              "      <th>1</th>\n",
              "      <td>1</td>\n",
              "      <td>51.315132</td>\n",
              "      <td>-0.556289</td>\n",
              "      <td>158381.343750</td>\n",
              "      <td>500604.84375</td>\n",
              "    </tr>\n",
              "    <tr>\n",
              "      <th>2</th>\n",
              "      <td>2</td>\n",
              "      <td>51.437195</td>\n",
              "      <td>-2.847193</td>\n",
              "      <td>171305.781250</td>\n",
              "      <td>341119.37500</td>\n",
              "    </tr>\n",
              "    <tr>\n",
              "      <th>3</th>\n",
              "      <td>3</td>\n",
              "      <td>53.459743</td>\n",
              "      <td>-2.245469</td>\n",
              "      <td>395944.562500</td>\n",
              "      <td>383703.59375</td>\n",
              "    </tr>\n",
              "    <tr>\n",
              "      <th>4</th>\n",
              "      <td>4</td>\n",
              "      <td>52.078121</td>\n",
              "      <td>-0.030604</td>\n",
              "      <td>244071.703125</td>\n",
              "      <td>534945.18750</td>\n",
              "    </tr>\n",
              "  </tbody>\n",
              "</table>\n",
              "</div>"
            ],
            "text/plain": [
              "   index   Latitude  Longitude       northing       easting\n",
              "0      0  51.379997  -0.406042  165810.468750  510917.53125\n",
              "1      1  51.315132  -0.556289  158381.343750  500604.84375\n",
              "2      2  51.437195  -2.847193  171305.781250  341119.37500\n",
              "3      3  53.459743  -2.245469  395944.562500  383703.59375\n",
              "4      4  52.078121  -0.030604  244071.703125  534945.18750"
            ]
          },
          "metadata": {
            "tags": []
          },
          "execution_count": 16
        }
      ]
    },
    {
      "cell_type": "markdown",
      "metadata": {
        "id": "uE6p5SY4Nz5p"
      },
      "source": [
        "## 替被感染者找到最近的醫院與診所"
      ]
    },
    {
      "cell_type": "markdown",
      "metadata": {
        "id": "k5tdvfXqNz5q"
      },
      "source": [
        "把參數`n_neighbors`設置為`1`，並將`cuml.NearestNeighbors`與`all_med`的`northing`和`easting`值做匹配，並將模型另存為`knn`。"
      ]
    },
    {
      "cell_type": "code",
      "metadata": {
        "id": "hWoSzy5TNz5q",
        "outputId": "8788dcaf-4bb8-443d-86db-ca09c3832173"
      },
      "source": [
        "knn = cuml.NearestNeighbors(n_neighbors=1)\n",
        "all_med_locs = all_med[['northing', 'easting']]\n",
        "knn.fit(all_med_locs)"
      ],
      "execution_count": null,
      "outputs": [
        {
          "output_type": "execute_result",
          "data": {
            "text/plain": [
              "NearestNeighbors(n_neighbors=1, verbose=False, handle=<cuml.common.handle.Handle object at 0x7f9378017138>, algorithm='brute', metric='euclidean')"
            ]
          },
          "metadata": {
            "tags": []
          },
          "execution_count": 21
        }
      ]
    },
    {
      "cell_type": "markdown",
      "metadata": {
        "id": "qj5DtxuqNz5t"
      },
      "source": [
        "將`gdf`中的每個受感染成員保存到一個名為`infected_gdf`的新dataframe中。"
      ]
    },
    {
      "cell_type": "code",
      "metadata": {
        "id": "IK5vs2bhNz5t"
      },
      "source": [
        "infected_gdf = gdf.loc[gdf.infected == 1, :]"
      ],
      "execution_count": null,
      "outputs": []
    },
    {
      "cell_type": "markdown",
      "metadata": {
        "id": "OP4fNd8gNz5w"
      },
      "source": [
        "替`infected_gdf`建立 `northing` 和 `easting` 數值."
      ]
    },
    {
      "cell_type": "code",
      "metadata": {
        "id": "RMx2P6dtNz5w",
        "outputId": "e2287c29-6c54-4f6e-a00e-a563f498a0ad"
      },
      "source": [
        "infected_gdf = infected_gdf.reset_index()\n",
        "cupy_lat = cp.asarray(infected_gdf['lat'])\n",
        "cupy_long = cp.asarray(infected_gdf['long'])\n",
        "n_cupy_array, e_cupy_array = latlong2osgbgrid_cupy(cupy_lat, cupy_long)\n",
        "infected_gdf['northing'] = cudf.Series(n_cupy_array).astype('float32')\n",
        "infected_gdf['easting'] = cudf.Series(e_cupy_array).astype('float32')\n",
        "infected_gdf.head()"
      ],
      "execution_count": null,
      "outputs": [
        {
          "output_type": "execute_result",
          "data": {
            "text/html": [
              "<div>\n",
              "<style scoped>\n",
              "    .dataframe tbody tr th:only-of-type {\n",
              "        vertical-align: middle;\n",
              "    }\n",
              "\n",
              "    .dataframe tbody tr th {\n",
              "        vertical-align: top;\n",
              "    }\n",
              "\n",
              "    .dataframe thead th {\n",
              "        text-align: right;\n",
              "    }\n",
              "</style>\n",
              "<table border=\"1\" class=\"dataframe\">\n",
              "  <thead>\n",
              "    <tr style=\"text-align: right;\">\n",
              "      <th></th>\n",
              "      <th>index</th>\n",
              "      <th>lat</th>\n",
              "      <th>long</th>\n",
              "      <th>infected</th>\n",
              "      <th>northing</th>\n",
              "      <th>easting</th>\n",
              "    </tr>\n",
              "  </thead>\n",
              "  <tbody>\n",
              "    <tr>\n",
              "      <th>0</th>\n",
              "      <td>1346586</td>\n",
              "      <td>53.715826</td>\n",
              "      <td>-2.430079</td>\n",
              "      <td>1.0</td>\n",
              "      <td>424489.78125</td>\n",
              "      <td>371619.68750</td>\n",
              "    </tr>\n",
              "    <tr>\n",
              "      <th>1</th>\n",
              "      <td>1350932</td>\n",
              "      <td>53.664881</td>\n",
              "      <td>-2.425673</td>\n",
              "      <td>1.0</td>\n",
              "      <td>418820.68750</td>\n",
              "      <td>371876.50000</td>\n",
              "    </tr>\n",
              "    <tr>\n",
              "      <th>2</th>\n",
              "      <td>1352085</td>\n",
              "      <td>53.696765</td>\n",
              "      <td>-2.488940</td>\n",
              "      <td>1.0</td>\n",
              "      <td>422394.40625</td>\n",
              "      <td>367721.00000</td>\n",
              "    </tr>\n",
              "    <tr>\n",
              "      <th>3</th>\n",
              "      <td>1352799</td>\n",
              "      <td>53.696966</td>\n",
              "      <td>-2.488897</td>\n",
              "      <td>1.0</td>\n",
              "      <td>422416.81250</td>\n",
              "      <td>367723.96875</td>\n",
              "    </tr>\n",
              "    <tr>\n",
              "      <th>4</th>\n",
              "      <td>1357529</td>\n",
              "      <td>53.727804</td>\n",
              "      <td>-2.392959</td>\n",
              "      <td>1.0</td>\n",
              "      <td>425808.12500</td>\n",
              "      <td>374076.56250</td>\n",
              "    </tr>\n",
              "  </tbody>\n",
              "</table>\n",
              "</div>"
            ],
            "text/plain": [
              "     index        lat      long  infected      northing       easting\n",
              "0  1346586  53.715826 -2.430079       1.0  424489.78125  371619.68750\n",
              "1  1350932  53.664881 -2.425673       1.0  418820.68750  371876.50000\n",
              "2  1352085  53.696765 -2.488940       1.0  422394.40625  367721.00000\n",
              "3  1352799  53.696966 -2.488897       1.0  422416.81250  367723.96875\n",
              "4  1357529  53.727804 -2.392959       1.0  425808.12500  374076.56250"
            ]
          },
          "metadata": {
            "tags": []
          },
          "execution_count": 19
        }
      ]
    },
    {
      "cell_type": "markdown",
      "metadata": {
        "id": "UHXKXexMNz5y"
      },
      "source": [
        "在`infected_gdf`的`northing`和`easting`值上將`knn.kneighbors`與`n_neighbors = 1`一起使用。 將返回值保存在`distances`和`indices`中。\n"
      ]
    },
    {
      "cell_type": "code",
      "metadata": {
        "id": "6xYylePrNz5z"
      },
      "source": [
        "distances, indices = knn.kneighbors(infected_gdf[['easting', 'northing']], 1)"
      ],
      "execution_count": null,
      "outputs": []
    },
    {
      "cell_type": "markdown",
      "metadata": {
        "id": "54Prm0YmNz53"
      },
      "source": [
        "### 檢查您的解決方案"
      ]
    },
    {
      "cell_type": "markdown",
      "metadata": {
        "id": "RKFnE9D2Nz53"
      },
      "source": [
        "您剛剛在上方使用`knn.kneighbors`所返回的`indices`應該將人員索引映射到與其最近的診所/醫院索引："
      ]
    },
    {
      "cell_type": "code",
      "metadata": {
        "id": "52yVBY_UNz53",
        "outputId": "b9624c09-b7d8-47ba-e796-aca025f40c7a"
      },
      "source": [
        "indices.head()"
      ],
      "execution_count": null,
      "outputs": [
        {
          "output_type": "execute_result",
          "data": {
            "text/html": [
              "<div>\n",
              "<style scoped>\n",
              "    .dataframe tbody tr th:only-of-type {\n",
              "        vertical-align: middle;\n",
              "    }\n",
              "\n",
              "    .dataframe tbody tr th {\n",
              "        vertical-align: top;\n",
              "    }\n",
              "\n",
              "    .dataframe thead th {\n",
              "        text-align: right;\n",
              "    }\n",
              "</style>\n",
              "<table border=\"1\" class=\"dataframe\">\n",
              "  <thead>\n",
              "    <tr style=\"text-align: right;\">\n",
              "      <th></th>\n",
              "      <th>0</th>\n",
              "    </tr>\n",
              "  </thead>\n",
              "  <tbody>\n",
              "    <tr>\n",
              "      <th>0</th>\n",
              "      <td>16696</td>\n",
              "    </tr>\n",
              "    <tr>\n",
              "      <th>1</th>\n",
              "      <td>686</td>\n",
              "    </tr>\n",
              "    <tr>\n",
              "      <th>2</th>\n",
              "      <td>11757</td>\n",
              "    </tr>\n",
              "    <tr>\n",
              "      <th>3</th>\n",
              "      <td>11757</td>\n",
              "    </tr>\n",
              "    <tr>\n",
              "      <th>4</th>\n",
              "      <td>16696</td>\n",
              "    </tr>\n",
              "  </tbody>\n",
              "</table>\n",
              "</div>"
            ],
            "text/plain": [
              "       0\n",
              "0  16696\n",
              "1    686\n",
              "2  11757\n",
              "3  11757\n",
              "4  16696"
            ]
          },
          "metadata": {
            "tags": []
          },
          "execution_count": 23
        }
      ]
    },
    {
      "cell_type": "markdown",
      "metadata": {
        "id": "4CsLFForNz56"
      },
      "source": [
        "在這裡，您可以從`infected_gdf`找出受感染者的坐標："
      ]
    },
    {
      "cell_type": "code",
      "metadata": {
        "id": "4NIjiA9dNz56",
        "outputId": "d45dcea4-f65e-4410-d87f-232e48d536e7"
      },
      "source": [
        "infected_gdf.iloc[0] # get the coords of an infected individual (in this case, individual 0)"
      ],
      "execution_count": null,
      "outputs": [
        {
          "output_type": "execute_result",
          "data": {
            "text/plain": [
              "index       1.346586e+06\n",
              "lat         5.371583e+01\n",
              "long       -2.430079e+00\n",
              "infected    1.000000e+00\n",
              "northing    4.244898e+05\n",
              "easting     3.716197e+05\n",
              "Name: 0, dtype: float64"
            ]
          },
          "metadata": {
            "tags": []
          },
          "execution_count": 24
        }
      ]
    },
    {
      "cell_type": "markdown",
      "metadata": {
        "id": "PTrg667ENz58"
      },
      "source": [
        "您應該能夠使用最近設施的映射索引來查看確實最近設施在附近的坐標處："
      ]
    },
    {
      "cell_type": "code",
      "metadata": {
        "id": "YCxalLBtNz59",
        "outputId": "75824c5d-5351-47ef-9511-858964be9d77"
      },
      "source": [
        "all_med.iloc[16696] # printing the entry for facility 1234 (replace with the index identified as closest to the individual)"
      ],
      "execution_count": null,
      "outputs": [
        {
          "output_type": "execute_result",
          "data": {
            "text/plain": [
              "index         15473.000000\n",
              "Latitude         53.246147\n",
              "Longitude        -1.617808\n",
              "northing     372224.500000\n",
              "easting      425500.437500\n",
              "Name: 16696, dtype: float64"
            ]
          },
          "metadata": {
            "tags": []
          },
          "execution_count": 27
        }
      ]
    },
    {
      "cell_type": "markdown",
      "metadata": {
        "id": "686XiD1FNz5_"
      },
      "source": [
        "<div align=\"center\"><h2>請重啟核心</h2></div>"
      ]
    },
    {
      "cell_type": "markdown",
      "metadata": {
        "id": "EwBtRW6bNz6A"
      },
      "source": [
        "...在往下一個notebook前進前"
      ]
    },
    {
      "cell_type": "code",
      "metadata": {
        "id": "Jfoa4PfbNz6A"
      },
      "source": [
        "import IPython\n",
        "app = IPython.Application.instance()\n",
        "app.kernel.do_shutdown(True)"
      ],
      "execution_count": null,
      "outputs": []
    }
  ]
}