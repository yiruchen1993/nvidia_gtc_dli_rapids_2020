{
  "nbformat": 4,
  "nbformat_minor": 0,
  "metadata": {
    "kernelspec": {
      "display_name": "Python 3",
      "language": "python",
      "name": "python3"
    },
    "language_info": {
      "codemirror_mode": {
        "name": "ipython",
        "version": 3
      },
      "file_extension": ".py",
      "mimetype": "text/x-python",
      "name": "python",
      "nbconvert_exporter": "python",
      "pygments_lexer": "ipython3",
      "version": "3.6.7"
    },
    "colab": {
      "name": "1-06_prep_graph.ipynb",
      "provenance": [],
      "include_colab_link": true
    }
  },
  "cells": [
    {
      "cell_type": "markdown",
      "metadata": {
        "id": "view-in-github",
        "colab_type": "text"
      },
      "source": [
        "<a href=\"https://colab.research.google.com/github/yiruchen1993/nvidia_gtc_dli_rapids_2020/blob/section_notebooks%2Fdata_manipulation/1_06_prep_graph.ipynb\" target=\"_parent\"><img src=\"https://colab.research.google.com/assets/colab-badge.svg\" alt=\"Open In Colab\"/></a>"
      ]
    },
    {
      "cell_type": "markdown",
      "metadata": {
        "id": "5UzDfjDZLtlA"
      },
      "source": [
        "# 準備資料以建立圖表"
      ]
    },
    {
      "cell_type": "markdown",
      "metadata": {
        "id": "yY9CVqjeLtlC"
      },
      "source": [
        "為達到本實作坊更大的資料科學目標需求，我們將使用能反映整個英國道路網的資料。在開始時，我們會使用一份擷取自官方 [GML](https://en.wikipedia.org/wiki/Geography_Markup_Language) 檔案，以表格式 csv 格式呈現的道路資料。最終我們將使用 cuGraph 針對此資料執行 GPU 加速圖表分析，然而若要這麼做，我們需要預先處理資料，才能建立圖表。\n",
        "\n",
        "在此學習筆記中，你將學習其他 cuDF 資料轉換技巧，例如在示範如何準備初始資料供 cuGraph 擷取時，我們會教你如何使用合併功能。接著，你會進行一連串練習，以類似方式轉換資料，建立邊緣權重不同的圖表。"
      ]
    },
    {
      "cell_type": "markdown",
      "metadata": {
        "id": "GNwOnAJWLtlC"
      },
      "source": [
        "## 目標"
      ]
    },
    {
      "cell_type": "markdown",
      "metadata": {
        "id": "vApDg6wrLtlD"
      },
      "source": [
        "完成此學習筆記後，你將能夠:\n",
        "\n",
        "- 使用 cuDF 執行 GPU 加速合併作業\n",
        "- 準備資料供 cuGraph 擷取\n",
        "- 建立 GPU 加速圖表"
      ]
    },
    {
      "cell_type": "markdown",
      "metadata": {
        "id": "3u1L2eFLLtlE"
      },
      "source": [
        "## 匯入"
      ]
    },
    {
      "cell_type": "markdown",
      "metadata": {
        "id": "X9Hk8cdiLtlE"
      },
      "source": [
        "除了 `cudf` 外，在此學習筆記中，我們也將匯入 `cugraph`，以便我們在準備資料後建立 GPU 加速圖表。我們也將匯入 `networkx`，以便稍後進行簡要效能比較。"
      ]
    },
    {
      "cell_type": "code",
      "metadata": {
        "id": "8kFUjTBRLtlF"
      },
      "source": [
        "import cudf\n",
        "import cugraph as cg\n",
        "\n",
        "import networkx as nx"
      ],
      "execution_count": null,
      "outputs": []
    },
    {
      "cell_type": "markdown",
      "metadata": {
        "id": "e5J_0otELtlI"
      },
      "source": [
        "## 讀取資料"
      ]
    },
    {
      "cell_type": "markdown",
      "metadata": {
        "id": "7s_OYpO3LtlI"
      },
      "source": [
        "在此學習筆記中，我們將使用兩筆資料來源，幫助我們建立英國道路網圖表。"
      ]
    },
    {
      "cell_type": "markdown",
      "metadata": {
        "id": "rwfd31C0LtlJ"
      },
      "source": [
        "### 英國道路節點"
      ]
    },
    {
      "cell_type": "markdown",
      "metadata": {
        "id": "YJn43qPOLtlJ"
      },
      "source": [
        "第一筆資料表格會說明道路網中的節點: 端點、交點 (含圓環)，以及分散表示一整條蜿蜒長路的各點，以便正確繪製圖表 (以免繪製出直線)。\n",
        "\n",
        "每點的坐標皆使用我們稍早在 1-05 節中學過的 OSGB36 格式。"
      ]
    },
    {
      "cell_type": "code",
      "metadata": {
        "id": "Np2DdBqjLtlK"
      },
      "source": [
        "road_nodes = cudf.read_csv('./data/road_nodes_1-06.csv')"
      ],
      "execution_count": null,
      "outputs": []
    },
    {
      "cell_type": "code",
      "metadata": {
        "id": "2b_-4inMLtlN",
        "outputId": "9d2da69a-3139-4b92-88e6-3ea307cca404"
      },
      "source": [
        "road_nodes.dtypes"
      ],
      "execution_count": null,
      "outputs": [
        {
          "output_type": "execute_result",
          "data": {
            "text/plain": [
              "node_id     object\n",
              "east       float64\n",
              "north      float64\n",
              "type        object\n",
              "dtype: object"
            ]
          },
          "metadata": {
            "tags": []
          },
          "execution_count": 3
        }
      ]
    },
    {
      "cell_type": "code",
      "metadata": {
        "id": "uB11ZkSdLtlS",
        "outputId": "817cd5c5-fc51-44d9-fc97-265567e0d5c7"
      },
      "source": [
        "road_nodes.shape"
      ],
      "execution_count": null,
      "outputs": [
        {
          "output_type": "execute_result",
          "data": {
            "text/plain": [
              "(3121148, 4)"
            ]
          },
          "metadata": {
            "tags": []
          },
          "execution_count": 4
        }
      ]
    },
    {
      "cell_type": "code",
      "metadata": {
        "id": "n0ONhvSvLtlV",
        "outputId": "45a960c2-a8a9-4611-aac0-dc017e831b14"
      },
      "source": [
        "road_nodes.head()"
      ],
      "execution_count": null,
      "outputs": [
        {
          "output_type": "execute_result",
          "data": {
            "text/html": [
              "<div>\n",
              "<style scoped>\n",
              "    .dataframe tbody tr th:only-of-type {\n",
              "        vertical-align: middle;\n",
              "    }\n",
              "\n",
              "    .dataframe tbody tr th {\n",
              "        vertical-align: top;\n",
              "    }\n",
              "\n",
              "    .dataframe thead th {\n",
              "        text-align: right;\n",
              "    }\n",
              "</style>\n",
              "<table border=\"1\" class=\"dataframe\">\n",
              "  <thead>\n",
              "    <tr style=\"text-align: right;\">\n",
              "      <th></th>\n",
              "      <th>node_id</th>\n",
              "      <th>east</th>\n",
              "      <th>north</th>\n",
              "      <th>type</th>\n",
              "    </tr>\n",
              "  </thead>\n",
              "  <tbody>\n",
              "    <tr>\n",
              "      <th>0</th>\n",
              "      <td>id02FE73D4-E88D-4119-8DC2-6E80DE6F6594</td>\n",
              "      <td>320608.0938</td>\n",
              "      <td>870994.0000</td>\n",
              "      <td>junction</td>\n",
              "    </tr>\n",
              "    <tr>\n",
              "      <th>1</th>\n",
              "      <td>id634D65C1-C38B-4868-9080-2E1E47F0935C</td>\n",
              "      <td>320628.5000</td>\n",
              "      <td>871103.8125</td>\n",
              "      <td>road end</td>\n",
              "    </tr>\n",
              "    <tr>\n",
              "      <th>2</th>\n",
              "      <td>idDC14D4D1-774E-487D-8EDE-60B129E5482C</td>\n",
              "      <td>320635.4688</td>\n",
              "      <td>870983.9375</td>\n",
              "      <td>junction</td>\n",
              "    </tr>\n",
              "    <tr>\n",
              "      <th>3</th>\n",
              "      <td>id51555819-1A39-4B41-B0C9-C6D2086D9921</td>\n",
              "      <td>320648.7188</td>\n",
              "      <td>871083.5625</td>\n",
              "      <td>junction</td>\n",
              "    </tr>\n",
              "    <tr>\n",
              "      <th>4</th>\n",
              "      <td>id9E362428-79D7-4EE3-B015-0CE3F6A78A69</td>\n",
              "      <td>320658.1875</td>\n",
              "      <td>871162.3750</td>\n",
              "      <td>junction</td>\n",
              "    </tr>\n",
              "  </tbody>\n",
              "</table>\n",
              "</div>"
            ],
            "text/plain": [
              "                                  node_id         east        north      type\n",
              "0  id02FE73D4-E88D-4119-8DC2-6E80DE6F6594  320608.0938  870994.0000  junction\n",
              "1  id634D65C1-C38B-4868-9080-2E1E47F0935C  320628.5000  871103.8125  road end\n",
              "2  idDC14D4D1-774E-487D-8EDE-60B129E5482C  320635.4688  870983.9375  junction\n",
              "3  id51555819-1A39-4B41-B0C9-C6D2086D9921  320648.7188  871083.5625  junction\n",
              "4  id9E362428-79D7-4EE3-B015-0CE3F6A78A69  320658.1875  871162.3750  junction"
            ]
          },
          "metadata": {
            "tags": []
          },
          "execution_count": 5
        }
      ]
    },
    {
      "cell_type": "code",
      "metadata": {
        "id": "UnLd2rLBLtlh",
        "outputId": "caf70a75-2812-4311-fa04-5067461e35a2"
      },
      "source": [
        "print(road_nodes['type'].unique())"
      ],
      "execution_count": null,
      "outputs": [
        {
          "output_type": "stream",
          "text": [
            "0       junction\n",
            "1    pseudo node\n",
            "2       road end\n",
            "3     roundabout\n",
            "Name: type, dtype: object\n"
          ],
          "name": "stdout"
        }
      ]
    },
    {
      "cell_type": "markdown",
      "metadata": {
        "id": "YSyUEahOLtll"
      },
      "source": [
        "### 英國道路邊緣"
      ]
    },
    {
      "cell_type": "markdown",
      "metadata": {
        "id": "jpN4TwXGLtll"
      },
      "source": [
        "第二個資料表格則說明道路區段，包含其開始與結束點、長度以及類型。"
      ]
    },
    {
      "cell_type": "code",
      "metadata": {
        "id": "wCu9I52BLtlm"
      },
      "source": [
        "road_edges = cudf.read_csv('./data/road_edges_1-06.csv')"
      ],
      "execution_count": null,
      "outputs": []
    },
    {
      "cell_type": "code",
      "metadata": {
        "id": "4hFbOZTALtlp",
        "outputId": "f7b4872f-3299-419e-f6d8-8a33dc498c72"
      },
      "source": [
        "road_edges.dtypes"
      ],
      "execution_count": null,
      "outputs": [
        {
          "output_type": "execute_result",
          "data": {
            "text/plain": [
              "src_id    object\n",
              "dst_id    object\n",
              "length     int64\n",
              "type      object\n",
              "form      object\n",
              "dtype: object"
            ]
          },
          "metadata": {
            "tags": []
          },
          "execution_count": 8
        }
      ]
    },
    {
      "cell_type": "code",
      "metadata": {
        "id": "m0MHeqv7Ltls",
        "outputId": "18ffd4e1-997f-48d1-db91-7b0276664338"
      },
      "source": [
        "road_edges.shape"
      ],
      "execution_count": null,
      "outputs": [
        {
          "output_type": "execute_result",
          "data": {
            "text/plain": [
              "(3725531, 5)"
            ]
          },
          "metadata": {
            "tags": []
          },
          "execution_count": 9
        }
      ]
    },
    {
      "cell_type": "code",
      "metadata": {
        "id": "1va5EojiLtlw",
        "outputId": "d59b4274-56d8-4e2b-be28-1c6418ff45aa"
      },
      "source": [
        "road_edges.head()"
      ],
      "execution_count": null,
      "outputs": [
        {
          "output_type": "execute_result",
          "data": {
            "text/html": [
              "<div>\n",
              "<style scoped>\n",
              "    .dataframe tbody tr th:only-of-type {\n",
              "        vertical-align: middle;\n",
              "    }\n",
              "\n",
              "    .dataframe tbody tr th {\n",
              "        vertical-align: top;\n",
              "    }\n",
              "\n",
              "    .dataframe thead th {\n",
              "        text-align: right;\n",
              "    }\n",
              "</style>\n",
              "<table border=\"1\" class=\"dataframe\">\n",
              "  <thead>\n",
              "    <tr style=\"text-align: right;\">\n",
              "      <th></th>\n",
              "      <th>src_id</th>\n",
              "      <th>dst_id</th>\n",
              "      <th>length</th>\n",
              "      <th>type</th>\n",
              "      <th>form</th>\n",
              "    </tr>\n",
              "  </thead>\n",
              "  <tbody>\n",
              "    <tr>\n",
              "      <th>0</th>\n",
              "      <td>#id138447A5-91D4-4642-BFAC-13F309705429</td>\n",
              "      <td>#id84C9DAD4-9243-4742-B582-E8CBC848E08A</td>\n",
              "      <td>314</td>\n",
              "      <td>Restricted Local Access Road</td>\n",
              "      <td>Single Carriageway</td>\n",
              "    </tr>\n",
              "    <tr>\n",
              "      <th>1</th>\n",
              "      <td>#idD615F9C5-5BE9-412D-9FED-F4928BAB4146</td>\n",
              "      <td>#idA1BB20B9-0751-4B42-9925-20607ABF5027</td>\n",
              "      <td>104</td>\n",
              "      <td>Restricted Local Access Road</td>\n",
              "      <td>Single Carriageway</td>\n",
              "    </tr>\n",
              "    <tr>\n",
              "      <th>2</th>\n",
              "      <td>#idDC14D4D1-774E-487D-8EDE-60B129E5482C</td>\n",
              "      <td>#id51555819-1A39-4B41-B0C9-C6D2086D9921</td>\n",
              "      <td>100</td>\n",
              "      <td>Restricted Local Access Road</td>\n",
              "      <td>Single Carriageway</td>\n",
              "    </tr>\n",
              "    <tr>\n",
              "      <th>3</th>\n",
              "      <td>#id626FC567-199C-41FB-9F29-1AB718874128</td>\n",
              "      <td>#idACD1B0A9-F870-4B46-88CF-C870A9EDAF8B</td>\n",
              "      <td>93</td>\n",
              "      <td>Restricted Local Access Road</td>\n",
              "      <td>Single Carriageway</td>\n",
              "    </tr>\n",
              "    <tr>\n",
              "      <th>4</th>\n",
              "      <td>#id03312900-B147-4CA3-A858-E2BF6AD1ECA7</td>\n",
              "      <td>#id02FE73D4-E88D-4119-8DC2-6E80DE6F6594</td>\n",
              "      <td>95</td>\n",
              "      <td>Restricted Local Access Road</td>\n",
              "      <td>Single Carriageway</td>\n",
              "    </tr>\n",
              "  </tbody>\n",
              "</table>\n",
              "</div>"
            ],
            "text/plain": [
              "                                    src_id  \\\n",
              "0  #id138447A5-91D4-4642-BFAC-13F309705429   \n",
              "1  #idD615F9C5-5BE9-412D-9FED-F4928BAB4146   \n",
              "2  #idDC14D4D1-774E-487D-8EDE-60B129E5482C   \n",
              "3  #id626FC567-199C-41FB-9F29-1AB718874128   \n",
              "4  #id03312900-B147-4CA3-A858-E2BF6AD1ECA7   \n",
              "\n",
              "                                    dst_id  length  \\\n",
              "0  #id84C9DAD4-9243-4742-B582-E8CBC848E08A     314   \n",
              "1  #idA1BB20B9-0751-4B42-9925-20607ABF5027     104   \n",
              "2  #id51555819-1A39-4B41-B0C9-C6D2086D9921     100   \n",
              "3  #idACD1B0A9-F870-4B46-88CF-C870A9EDAF8B      93   \n",
              "4  #id02FE73D4-E88D-4119-8DC2-6E80DE6F6594      95   \n",
              "\n",
              "                           type                form  \n",
              "0  Restricted Local Access Road  Single Carriageway  \n",
              "1  Restricted Local Access Road  Single Carriageway  \n",
              "2  Restricted Local Access Road  Single Carriageway  \n",
              "3  Restricted Local Access Road  Single Carriageway  \n",
              "4  Restricted Local Access Road  Single Carriageway  "
            ]
          },
          "metadata": {
            "tags": []
          },
          "execution_count": 10
        }
      ]
    },
    {
      "cell_type": "code",
      "metadata": {
        "id": "x3rcVnOGLtlz",
        "outputId": "ecb7fb5c-e064-49f6-ca7f-3bd75a4ac693"
      },
      "source": [
        "print(road_edges['type'].unique())"
      ],
      "execution_count": null,
      "outputs": [
        {
          "output_type": "stream",
          "text": [
            "0                          A Road\n",
            "1                          B Road\n",
            "2               Local Access Road\n",
            "3                      Local Road\n",
            "4                      Minor Road\n",
            "5                        Motorway\n",
            "6    Restricted Local Access Road\n",
            "7           Secondary Access Road\n",
            "Name: type, dtype: object\n"
          ],
          "name": "stdout"
        }
      ]
    },
    {
      "cell_type": "code",
      "metadata": {
        "id": "ZbyUE2k0Ltl3",
        "outputId": "fb6f6652-58ab-4623-9304-d71faeafa761"
      },
      "source": [
        "print(road_edges['form'].unique())"
      ],
      "execution_count": null,
      "outputs": [
        {
          "output_type": "stream",
          "text": [
            "0    Collapsed Dual Carriageway\n",
            "1              Dual Carriageway\n",
            "2                 Guided Busway\n",
            "3                    Roundabout\n",
            "4        Shared Use Carriageway\n",
            "5            Single Carriageway\n",
            "6                     Slip Road\n",
            "Name: form, dtype: object\n"
          ],
          "name": "stdout"
        }
      ]
    },
    {
      "cell_type": "markdown",
      "metadata": {
        "id": "JFBzp8D-Ltl5"
      },
      "source": [
        "## 練習: 建立相容 ID"
      ]
    },
    {
      "cell_type": "markdown",
      "metadata": {
        "id": "3ZWB-xIvLtl6"
      },
      "source": [
        "我們的 csv 檔源自原始 [GML](https://en.wikipedia.org/wiki/Geography_Markup_Language) 檔案，且如上所示，`road_edges['src_id']` 和 `road_edges['dst_id']` 的開頭皆包含 `#` 字元，但`road_nodes['node_id']` 卻未包含此字元。若要使邊緣與節點的 ID 相容，請使用 cuDF 的 [字串方法](https://docs.rapids.ai/api/nvstrings/stable/) `.str.lstrip` 取代 `road_edges` 中的 `src_id` 與 `dst_id` 欄，去除欄值的開頭字元 `#`。"
      ]
    },
    {
      "cell_type": "code",
      "metadata": {
        "id": "OAcb2IMKLtl6"
      },
      "source": [
        ""
      ],
      "execution_count": null,
      "outputs": []
    },
    {
      "cell_type": "markdown",
      "metadata": {
        "id": "u8lGkm5xLtl9"
      },
      "source": [
        "### 解決方案"
      ]
    },
    {
      "cell_type": "code",
      "metadata": {
        "id": "NozOXoTrLtl-",
        "outputId": "726ce4b1-d198-4acb-c26e-74b0bd964e0f"
      },
      "source": [
        "# %load solutions/make_ids_compatible\n",
        "road_edges['src_id'] = road_edges['src_id'].str.lstrip('#')\n",
        "road_edges['dst_id'] = road_edges['dst_id'].str.lstrip('#')\n",
        "road_edges[['src_id', 'dst_id']].head()\n"
      ],
      "execution_count": null,
      "outputs": [
        {
          "output_type": "execute_result",
          "data": {
            "text/html": [
              "<div>\n",
              "<style scoped>\n",
              "    .dataframe tbody tr th:only-of-type {\n",
              "        vertical-align: middle;\n",
              "    }\n",
              "\n",
              "    .dataframe tbody tr th {\n",
              "        vertical-align: top;\n",
              "    }\n",
              "\n",
              "    .dataframe thead th {\n",
              "        text-align: right;\n",
              "    }\n",
              "</style>\n",
              "<table border=\"1\" class=\"dataframe\">\n",
              "  <thead>\n",
              "    <tr style=\"text-align: right;\">\n",
              "      <th></th>\n",
              "      <th>src_id</th>\n",
              "      <th>dst_id</th>\n",
              "    </tr>\n",
              "  </thead>\n",
              "  <tbody>\n",
              "    <tr>\n",
              "      <th>0</th>\n",
              "      <td>id138447A5-91D4-4642-BFAC-13F309705429</td>\n",
              "      <td>id84C9DAD4-9243-4742-B582-E8CBC848E08A</td>\n",
              "    </tr>\n",
              "    <tr>\n",
              "      <th>1</th>\n",
              "      <td>idD615F9C5-5BE9-412D-9FED-F4928BAB4146</td>\n",
              "      <td>idA1BB20B9-0751-4B42-9925-20607ABF5027</td>\n",
              "    </tr>\n",
              "    <tr>\n",
              "      <th>2</th>\n",
              "      <td>idDC14D4D1-774E-487D-8EDE-60B129E5482C</td>\n",
              "      <td>id51555819-1A39-4B41-B0C9-C6D2086D9921</td>\n",
              "    </tr>\n",
              "    <tr>\n",
              "      <th>3</th>\n",
              "      <td>id626FC567-199C-41FB-9F29-1AB718874128</td>\n",
              "      <td>idACD1B0A9-F870-4B46-88CF-C870A9EDAF8B</td>\n",
              "    </tr>\n",
              "    <tr>\n",
              "      <th>4</th>\n",
              "      <td>id03312900-B147-4CA3-A858-E2BF6AD1ECA7</td>\n",
              "      <td>id02FE73D4-E88D-4119-8DC2-6E80DE6F6594</td>\n",
              "    </tr>\n",
              "  </tbody>\n",
              "</table>\n",
              "</div>"
            ],
            "text/plain": [
              "                                   src_id  \\\n",
              "0  id138447A5-91D4-4642-BFAC-13F309705429   \n",
              "1  idD615F9C5-5BE9-412D-9FED-F4928BAB4146   \n",
              "2  idDC14D4D1-774E-487D-8EDE-60B129E5482C   \n",
              "3  id626FC567-199C-41FB-9F29-1AB718874128   \n",
              "4  id03312900-B147-4CA3-A858-E2BF6AD1ECA7   \n",
              "\n",
              "                                   dst_id  \n",
              "0  id84C9DAD4-9243-4742-B582-E8CBC848E08A  \n",
              "1  idA1BB20B9-0751-4B42-9925-20607ABF5027  \n",
              "2  id51555819-1A39-4B41-B0C9-C6D2086D9921  \n",
              "3  idACD1B0A9-F870-4B46-88CF-C870A9EDAF8B  \n",
              "4  id02FE73D4-E88D-4119-8DC2-6E80DE6F6594  "
            ]
          },
          "metadata": {
            "tags": []
          },
          "execution_count": 14
        }
      ]
    },
    {
      "cell_type": "markdown",
      "metadata": {
        "id": "_uJ3wAW1LtmC"
      },
      "source": [
        "## 練習: 移除重複值"
      ]
    },
    {
      "cell_type": "markdown",
      "metadata": {
        "id": "kLIyr6nqLtmC"
      },
      "source": [
        "我們的資料原先來自多個地圖圖格，且橫跨圖格邊界的道路在其開始與結束圖格上皆已記錄。\n",
        "\n",
        "為 `road_nodes` 與 `road_edges` 使用 `drop_duplicates` 方法，以移除重複值。"
      ]
    },
    {
      "cell_type": "code",
      "metadata": {
        "id": "e8gokIplLtmD"
      },
      "source": [
        ""
      ],
      "execution_count": null,
      "outputs": []
    },
    {
      "cell_type": "markdown",
      "metadata": {
        "id": "8UfIrgteLtmG"
      },
      "source": [
        "#### 解決方案"
      ]
    },
    {
      "cell_type": "code",
      "metadata": {
        "id": "Jv_ej3amLtmG"
      },
      "source": [
        "# %load solutions/remove_duplicates\n",
        "road_nodes = road_nodes.drop_duplicates().reset_index(drop=True)\n",
        "road_edges = road_edges.drop_duplicates().reset_index(drop=True)\n"
      ],
      "execution_count": null,
      "outputs": []
    },
    {
      "cell_type": "markdown",
      "metadata": {
        "id": "bQZArm5yLtmI"
      },
      "source": [
        "## 資料摘要"
      ]
    },
    {
      "cell_type": "markdown",
      "metadata": {
        "id": "RRLImWD8LtmJ"
      },
      "source": [
        "清理資料後，我們可以看看目前要處理多少條道路和端點/交點/曲線點，及其占用的 GPU 記憶體容量。"
      ]
    },
    {
      "cell_type": "code",
      "metadata": {
        "id": "vCV-8BcvLtmJ",
        "outputId": "52151132-a5c3-499a-abbe-430b74f2e96f"
      },
      "source": [
        "print(f'{road_edges.shape[0]} edges, {road_nodes.shape[0]} nodes')"
      ],
      "execution_count": null,
      "outputs": [
        {
          "output_type": "stream",
          "text": [
            "3667200 edges, 3078117 nodes\n"
          ],
          "name": "stdout"
        }
      ]
    },
    {
      "cell_type": "code",
      "metadata": {
        "id": "Imy9ha76LtmM",
        "outputId": "33ae7675-7456-4765-91a5-184af3ac273f"
      },
      "source": [
        "!nvidia-smi"
      ],
      "execution_count": null,
      "outputs": [
        {
          "output_type": "stream",
          "text": [
            "Wed Oct  7 05:31:57 2020       \n",
            "+-----------------------------------------------------------------------------+\n",
            "| NVIDIA-SMI 440.64.00    Driver Version: 440.64.00    CUDA Version: 10.2     |\n",
            "|-------------------------------+----------------------+----------------------+\n",
            "| GPU  Name        Persistence-M| Bus-Id        Disp.A | Volatile Uncorr. ECC |\n",
            "| Fan  Temp  Perf  Pwr:Usage/Cap|         Memory-Usage | GPU-Util  Compute M. |\n",
            "|===============================+======================+======================|\n",
            "|   0  Tesla V100-PCIE...  Off  | 000091FC:00:00.0 Off |                    0 |\n",
            "| N/A   31C    P0    39W / 250W |   2313MiB / 16160MiB |      0%      Default |\n",
            "+-------------------------------+----------------------+----------------------+\n",
            "|   1  Tesla V100-PCIE...  Off  | 0000A964:00:00.0 Off |                    0 |\n",
            "| N/A   30C    P0    25W / 250W |     12MiB / 16160MiB |      0%      Default |\n",
            "+-------------------------------+----------------------+----------------------+\n",
            "|   2  Tesla V100-PCIE...  Off  | 0000CCF0:00:00.0 Off |                    0 |\n",
            "| N/A   30C    P0    25W / 250W |     12MiB / 16160MiB |      0%      Default |\n",
            "+-------------------------------+----------------------+----------------------+\n",
            "|   3  Tesla V100-PCIE...  Off  | 0000EE7F:00:00.0 Off |                    0 |\n",
            "| N/A   28C    P0    23W / 250W |     12MiB / 16160MiB |      0%      Default |\n",
            "+-------------------------------+----------------------+----------------------+\n",
            "                                                                               \n",
            "+-----------------------------------------------------------------------------+\n",
            "| Processes:                                                       GPU Memory |\n",
            "|  GPU       PID   Type   Process name                             Usage      |\n",
            "|=============================================================================|\n",
            "+-----------------------------------------------------------------------------+\n"
          ],
          "name": "stdout"
        }
      ]
    },
    {
      "cell_type": "markdown",
      "metadata": {
        "id": "CSPpcSn5LtmO"
      },
      "source": [
        "## 準備資料以建立道路網圖表"
      ]
    },
    {
      "cell_type": "markdown",
      "metadata": {
        "id": "EwhIcu02LtmO"
      },
      "source": [
        "我們稍後將使用 cuGraph 圖表建立工具預估邊緣來源、邊緣目的地以及邊緣權重 (非必要)。邊緣來源與目的地必須為從 0 到 *N*-1 的 32 位元整數精簡間隔，而 *N* 代表圖表中的節點數量。\n",
        "\n",
        "此外，在 cuGraph 中，無指向性的邊緣應儲存為具兩種方向的指向性邊緣。由於我們的資料並未指出單行道，我們將假設所有的道路皆可視為雙向道 (無指向)。\n",
        "\n",
        "我們需要些許準備才能應對這些限制，在稍後探索時就能以超高速度進行分析。\n",
        "\n",
        "目前，與我們的需求恰好相反，`road_edges` 資料架構包含 `src_id` 與 `dst_id` 字串，可與 `road_nodes` 中的 `node_id` 值對應。此外，即便是雙向道路，我們的道路邊緣也會記錄為從一個來源前往單一目的地。"
      ]
    },
    {
      "cell_type": "code",
      "metadata": {
        "id": "lrIyCncGLtmO",
        "outputId": "38c861d5-df98-4326-bc1c-7a66c235461e"
      },
      "source": [
        "road_edges[['src_id', 'dst_id']].dtypes"
      ],
      "execution_count": null,
      "outputs": [
        {
          "output_type": "execute_result",
          "data": {
            "text/plain": [
              "src_id    object\n",
              "dst_id    object\n",
              "dtype: object"
            ]
          },
          "metadata": {
            "tags": []
          },
          "execution_count": 19
        }
      ]
    },
    {
      "cell_type": "code",
      "metadata": {
        "id": "60kfn3qhLtmS",
        "outputId": "8e0155c6-5a9f-4764-b62a-281aac2439d5"
      },
      "source": [
        "road_nodes[['node_id']].dtypes"
      ],
      "execution_count": null,
      "outputs": [
        {
          "output_type": "execute_result",
          "data": {
            "text/plain": [
              "node_id    object\n",
              "dtype: object"
            ]
          },
          "metadata": {
            "tags": []
          },
          "execution_count": 20
        }
      ]
    },
    {
      "cell_type": "code",
      "metadata": {
        "id": "ot9O-UXOLtmV",
        "outputId": "3f135ffc-e909-4d6b-c1db-1c654e6ab027"
      },
      "source": [
        "road_edges['src_id'][0]"
      ],
      "execution_count": null,
      "outputs": [
        {
          "output_type": "execute_result",
          "data": {
            "text/plain": [
              "'id000000F5-5180-4C03-B05D-B01352C54F89'"
            ]
          },
          "metadata": {
            "tags": []
          },
          "execution_count": 21
        }
      ]
    },
    {
      "cell_type": "code",
      "metadata": {
        "id": "ZfljmyrpLtmY",
        "outputId": "febcd0da-1d27-456a-c170-9c73637cece9"
      },
      "source": [
        "road_edges['dst_id'][0]"
      ],
      "execution_count": null,
      "outputs": [
        {
          "output_type": "execute_result",
          "data": {
            "text/plain": [
              "'id0ABF4CB2-6997-4952-A9AA-313DE2EF6538'"
            ]
          },
          "metadata": {
            "tags": []
          },
          "execution_count": 22
        }
      ]
    },
    {
      "cell_type": "code",
      "metadata": {
        "id": "bVTM8dL7Ltmb",
        "outputId": "c1fc7cbc-b098-4c9c-ce8c-dfcd6a53b940"
      },
      "source": [
        "road_nodes['node_id'][0]"
      ],
      "execution_count": null,
      "outputs": [
        {
          "output_type": "execute_result",
          "data": {
            "text/plain": [
              "'id000000F5-5180-4C03-B05D-B01352C54F89'"
            ]
          },
          "metadata": {
            "tags": []
          },
          "execution_count": 23
        }
      ]
    },
    {
      "cell_type": "markdown",
      "metadata": {
        "id": "KBZfcfk6Ltme"
      },
      "source": [
        "為了準備資料來使用 cuGraph 建立圖表，我們必須完成下列步驟:\n",
        "\n",
        "1.為每個 `node_id` 建立唯一的 int32 值，我們稱之為該節點的 `graph_id`，且會將對應結果從 `node_id` 儲存為 `graph_id`。每當我們分析圖表獲得結果時，就可以使用對應功能來尋找哪個原始節點對應至 `graph_id`。\n",
        "2.使用對應功能，將每個邊緣的開始點與結束點的 `road_edges` 更新為 `graph_id`。我們最終將呼叫來源點 `graph_src` 與目的地點 `graph_dst`。\n",
        "3.建立具備相同邊緣的全新資料架構，但互換來源與目的地點，再串連互換的資料架構與原始值和刪除重複值 (以便在圖表中將每條道路當成雙向道)。"
      ]
    },
    {
      "cell_type": "markdown",
      "metadata": {
        "id": "aVanVGSRLtme"
      },
      "source": [
        "### 建立圖表 ID"
      ]
    },
    {
      "cell_type": "markdown",
      "metadata": {
        "id": "PCNVpupVLtme"
      },
      "source": [
        "如上所述，我們的首要步驟是建立名為 `node_id_to_graph_id_mapping` 的全新資料架構，其中包含所有現有 `node_id` 值，以及具備唯一 int32 值的 `graph_id` 欄。"
      ]
    },
    {
      "cell_type": "code",
      "metadata": {
        "id": "9Uwv-1dDLtmf"
      },
      "source": [
        "node_id_to_graph_id_mapping = cudf.DataFrame()\n",
        "\n",
        "unique_node_ids = road_edges['src_id'].append(road_edges['dst_id']).unique()\n",
        "node_id_to_graph_id_mapping['node_id'] = unique_node_ids"
      ],
      "execution_count": null,
      "outputs": []
    },
    {
      "cell_type": "markdown",
      "metadata": {
        "id": "HARaN9iALtmi"
      },
      "source": [
        "現在，則是建立新的 `graph_id` 欄，其中每個 `node_id` 都需包含唯一 int32 值的精簡間隔，而我們可以單純使用預設的 `existing_node_ids.index` 建立欄。它們已經是 int64 值，我們唯一需要做的就是轉換成 int32:"
      ]
    },
    {
      "cell_type": "code",
      "metadata": {
        "id": "M0PDFje_Ltmj"
      },
      "source": [
        "node_id_to_graph_id_mapping['graph_id'] = cudf.Series(unique_node_ids.index).astype('int32')"
      ],
      "execution_count": null,
      "outputs": []
    },
    {
      "cell_type": "code",
      "metadata": {
        "id": "pWQ-S_jOLtml",
        "outputId": "b67f70d0-90b1-4112-ebc6-cbb4d3c0ebee"
      },
      "source": [
        "node_id_to_graph_id_mapping.head()"
      ],
      "execution_count": null,
      "outputs": [
        {
          "output_type": "execute_result",
          "data": {
            "text/html": [
              "<div>\n",
              "<style scoped>\n",
              "    .dataframe tbody tr th:only-of-type {\n",
              "        vertical-align: middle;\n",
              "    }\n",
              "\n",
              "    .dataframe tbody tr th {\n",
              "        vertical-align: top;\n",
              "    }\n",
              "\n",
              "    .dataframe thead th {\n",
              "        text-align: right;\n",
              "    }\n",
              "</style>\n",
              "<table border=\"1\" class=\"dataframe\">\n",
              "  <thead>\n",
              "    <tr style=\"text-align: right;\">\n",
              "      <th></th>\n",
              "      <th>node_id</th>\n",
              "      <th>graph_id</th>\n",
              "    </tr>\n",
              "  </thead>\n",
              "  <tbody>\n",
              "    <tr>\n",
              "      <th>0</th>\n",
              "      <td>id000000F5-5180-4C03-B05D-B01352C54F89</td>\n",
              "      <td>0</td>\n",
              "    </tr>\n",
              "    <tr>\n",
              "      <th>1</th>\n",
              "      <td>id000003F8-9E09-4829-AD87-6DA4438D22D8</td>\n",
              "      <td>1</td>\n",
              "    </tr>\n",
              "    <tr>\n",
              "      <th>2</th>\n",
              "      <td>id000010DA-C89A-4198-847A-6E62815E038A</td>\n",
              "      <td>2</td>\n",
              "    </tr>\n",
              "    <tr>\n",
              "      <th>3</th>\n",
              "      <td>id000017A0-1843-4BC7-BCF7-C943B6780839</td>\n",
              "      <td>3</td>\n",
              "    </tr>\n",
              "    <tr>\n",
              "      <th>4</th>\n",
              "      <td>id00001B2A-155F-4CD3-8E06-7677ADC6AF74</td>\n",
              "      <td>4</td>\n",
              "    </tr>\n",
              "  </tbody>\n",
              "</table>\n",
              "</div>"
            ],
            "text/plain": [
              "                                  node_id  graph_id\n",
              "0  id000000F5-5180-4C03-B05D-B01352C54F89         0\n",
              "1  id000003F8-9E09-4829-AD87-6DA4438D22D8         1\n",
              "2  id000010DA-C89A-4198-847A-6E62815E038A         2\n",
              "3  id000017A0-1843-4BC7-BCF7-C943B6780839         3\n",
              "4  id00001B2A-155F-4CD3-8E06-7677ADC6AF74         4"
            ]
          },
          "metadata": {
            "tags": []
          },
          "execution_count": 26
        }
      ]
    },
    {
      "cell_type": "code",
      "metadata": {
        "id": "eb_aNDB1Ltmr",
        "outputId": "41d1c111-e0ce-4000-87d6-bdcb880d07aa"
      },
      "source": [
        "node_id_to_graph_id_mapping.dtypes"
      ],
      "execution_count": null,
      "outputs": [
        {
          "output_type": "execute_result",
          "data": {
            "text/plain": [
              "node_id     object\n",
              "graph_id     int32\n",
              "dtype: object"
            ]
          },
          "metadata": {
            "tags": []
          },
          "execution_count": 27
        }
      ]
    },
    {
      "cell_type": "markdown",
      "metadata": {
        "id": "ytI-Lo2zLtmu"
      },
      "source": [
        "### 將 `graph_id` 合併至 `road_nodes`"
      ]
    },
    {
      "cell_type": "markdown",
      "metadata": {
        "id": "w1G0EgEYLtmv"
      },
      "source": [
        "cuDF 與 Pandas 一樣，皆提供合併功能。即便我們未直接需要使用 `road_nodes` 建立圖表，但稍後在實作坊中也需要此資訊，以便分析道路的地理空間位置。我們現在會透過合併將 `graph_id` 欄新增至 `road_nodes`:"
      ]
    },
    {
      "cell_type": "code",
      "metadata": {
        "id": "09BejFL-Ltmv",
        "outputId": "94fcb6c8-8a3b-45a7-ab8a-bf2cf0b021b1"
      },
      "source": [
        "%time road_nodes = road_nodes.merge(node_id_to_graph_id_mapping, on='node_id', how='left')"
      ],
      "execution_count": null,
      "outputs": [
        {
          "output_type": "stream",
          "text": [
            "CPU times: user 90 ms, sys: 118 ms, total: 208 ms\n",
            "Wall time: 213 ms\n"
          ],
          "name": "stdout"
        }
      ]
    },
    {
      "cell_type": "code",
      "metadata": {
        "id": "BuS9DepPLtm2",
        "outputId": "88d04b00-0b72-4609-a210-0b792d09d9da"
      },
      "source": [
        "road_nodes.head()"
      ],
      "execution_count": null,
      "outputs": [
        {
          "output_type": "execute_result",
          "data": {
            "text/html": [
              "<div>\n",
              "<style scoped>\n",
              "    .dataframe tbody tr th:only-of-type {\n",
              "        vertical-align: middle;\n",
              "    }\n",
              "\n",
              "    .dataframe tbody tr th {\n",
              "        vertical-align: top;\n",
              "    }\n",
              "\n",
              "    .dataframe thead th {\n",
              "        text-align: right;\n",
              "    }\n",
              "</style>\n",
              "<table border=\"1\" class=\"dataframe\">\n",
              "  <thead>\n",
              "    <tr style=\"text-align: right;\">\n",
              "      <th></th>\n",
              "      <th>node_id</th>\n",
              "      <th>east</th>\n",
              "      <th>north</th>\n",
              "      <th>type</th>\n",
              "      <th>graph_id</th>\n",
              "    </tr>\n",
              "  </thead>\n",
              "  <tbody>\n",
              "    <tr>\n",
              "      <th>0</th>\n",
              "      <td>id040D1AA6-DECA-4E49-8B79-077932272CBB</td>\n",
              "      <td>450737.0000</td>\n",
              "      <td>506461.000</td>\n",
              "      <td>road end</td>\n",
              "      <td>48736</td>\n",
              "    </tr>\n",
              "    <tr>\n",
              "      <th>1</th>\n",
              "      <td>id040D1BFB-B7A3-45DB-B7B3-B547CC135AEA</td>\n",
              "      <td>506833.0000</td>\n",
              "      <td>102916.000</td>\n",
              "      <td>junction</td>\n",
              "      <td>48737</td>\n",
              "    </tr>\n",
              "    <tr>\n",
              "      <th>2</th>\n",
              "      <td>id040D26F4-D78C-4077-9DA6-5FC560C6A5D6</td>\n",
              "      <td>433340.0000</td>\n",
              "      <td>416171.000</td>\n",
              "      <td>road end</td>\n",
              "      <td>48738</td>\n",
              "    </tr>\n",
              "    <tr>\n",
              "      <th>3</th>\n",
              "      <td>id040D3244-20A1-447C-98BC-AED626CCF1BE</td>\n",
              "      <td>413415.3750</td>\n",
              "      <td>429897.625</td>\n",
              "      <td>junction</td>\n",
              "      <td>48739</td>\n",
              "    </tr>\n",
              "    <tr>\n",
              "      <th>4</th>\n",
              "      <td>id040D3D22-832F-49EF-A8A8-6F53188CC87F</td>\n",
              "      <td>241705.2969</td>\n",
              "      <td>599384.375</td>\n",
              "      <td>junction</td>\n",
              "      <td>48740</td>\n",
              "    </tr>\n",
              "  </tbody>\n",
              "</table>\n",
              "</div>"
            ],
            "text/plain": [
              "                                  node_id         east       north      type  \\\n",
              "0  id040D1AA6-DECA-4E49-8B79-077932272CBB  450737.0000  506461.000  road end   \n",
              "1  id040D1BFB-B7A3-45DB-B7B3-B547CC135AEA  506833.0000  102916.000  junction   \n",
              "2  id040D26F4-D78C-4077-9DA6-5FC560C6A5D6  433340.0000  416171.000  road end   \n",
              "3  id040D3244-20A1-447C-98BC-AED626CCF1BE  413415.3750  429897.625  junction   \n",
              "4  id040D3D22-832F-49EF-A8A8-6F53188CC87F  241705.2969  599384.375  junction   \n",
              "\n",
              "   graph_id  \n",
              "0     48736  \n",
              "1     48737  \n",
              "2     48738  \n",
              "3     48739  \n",
              "4     48740  "
            ]
          },
          "metadata": {
            "tags": []
          },
          "execution_count": 29
        }
      ]
    },
    {
      "cell_type": "markdown",
      "metadata": {
        "id": "q4N5JQQtLtm4"
      },
      "source": [
        "#### 為 `road_nodes` 重新建立索引"
      ]
    },
    {
      "cell_type": "markdown",
      "metadata": {
        "id": "dSZKnboZLtm4"
      },
      "source": [
        "為了方便稍後有效率地查詢，我們會為 `road_nodes` 重新建立索引，並以`graph_id` 作為索引。切記，就 `graph_id` 而言，我們通常會從圖表分析取得結果，這個步驟能讓我們輕鬆獲得節點的其他資訊。我們接著要在此新索引上分類資料架構:"
      ]
    },
    {
      "cell_type": "code",
      "metadata": {
        "id": "F4jDbC10Ltm5",
        "outputId": "f04ce4da-9ee5-48e7-a97f-a256b8abd637"
      },
      "source": [
        "road_nodes = road_nodes.set_index(road_nodes.graph_id)\n",
        "%time road_nodes = road_nodes.sort_index()"
      ],
      "execution_count": null,
      "outputs": [
        {
          "output_type": "stream",
          "text": [
            "CPU times: user 218 ms, sys: 85.5 ms, total: 303 ms\n",
            "Wall time: 307 ms\n"
          ],
          "name": "stdout"
        }
      ]
    },
    {
      "cell_type": "code",
      "metadata": {
        "id": "m_jvYfD0Ltm7",
        "outputId": "d2733ba0-d4e2-41ec-fea7-bf335c3cadca"
      },
      "source": [
        "road_nodes.head()"
      ],
      "execution_count": null,
      "outputs": [
        {
          "output_type": "execute_result",
          "data": {
            "text/html": [
              "<div>\n",
              "<style scoped>\n",
              "    .dataframe tbody tr th:only-of-type {\n",
              "        vertical-align: middle;\n",
              "    }\n",
              "\n",
              "    .dataframe tbody tr th {\n",
              "        vertical-align: top;\n",
              "    }\n",
              "\n",
              "    .dataframe thead th {\n",
              "        text-align: right;\n",
              "    }\n",
              "</style>\n",
              "<table border=\"1\" class=\"dataframe\">\n",
              "  <thead>\n",
              "    <tr style=\"text-align: right;\">\n",
              "      <th></th>\n",
              "      <th>node_id</th>\n",
              "      <th>east</th>\n",
              "      <th>north</th>\n",
              "      <th>type</th>\n",
              "      <th>graph_id</th>\n",
              "    </tr>\n",
              "    <tr>\n",
              "      <th>graph_id</th>\n",
              "      <th></th>\n",
              "      <th></th>\n",
              "      <th></th>\n",
              "      <th></th>\n",
              "      <th></th>\n",
              "    </tr>\n",
              "  </thead>\n",
              "  <tbody>\n",
              "    <tr>\n",
              "      <th>0</th>\n",
              "      <td>id000000F5-5180-4C03-B05D-B01352C54F89</td>\n",
              "      <td>432920.250</td>\n",
              "      <td>572547.4375</td>\n",
              "      <td>road end</td>\n",
              "      <td>0</td>\n",
              "    </tr>\n",
              "    <tr>\n",
              "      <th>1</th>\n",
              "      <td>id000003F8-9E09-4829-AD87-6DA4438D22D8</td>\n",
              "      <td>526616.375</td>\n",
              "      <td>189678.3906</td>\n",
              "      <td>junction</td>\n",
              "      <td>1</td>\n",
              "    </tr>\n",
              "    <tr>\n",
              "      <th>2</th>\n",
              "      <td>id000010DA-C89A-4198-847A-6E62815E038A</td>\n",
              "      <td>336879.000</td>\n",
              "      <td>731824.0000</td>\n",
              "      <td>junction</td>\n",
              "      <td>2</td>\n",
              "    </tr>\n",
              "    <tr>\n",
              "      <th>3</th>\n",
              "      <td>id000017A0-1843-4BC7-BCF7-C943B6780839</td>\n",
              "      <td>380635.000</td>\n",
              "      <td>390153.0000</td>\n",
              "      <td>junction</td>\n",
              "      <td>3</td>\n",
              "    </tr>\n",
              "    <tr>\n",
              "      <th>4</th>\n",
              "      <td>id00001B2A-155F-4CD3-8E06-7677ADC6AF74</td>\n",
              "      <td>337481.000</td>\n",
              "      <td>350509.7188</td>\n",
              "      <td>junction</td>\n",
              "      <td>4</td>\n",
              "    </tr>\n",
              "  </tbody>\n",
              "</table>\n",
              "</div>"
            ],
            "text/plain": [
              "                                         node_id        east        north  \\\n",
              "graph_id                                                                    \n",
              "0         id000000F5-5180-4C03-B05D-B01352C54F89  432920.250  572547.4375   \n",
              "1         id000003F8-9E09-4829-AD87-6DA4438D22D8  526616.375  189678.3906   \n",
              "2         id000010DA-C89A-4198-847A-6E62815E038A  336879.000  731824.0000   \n",
              "3         id000017A0-1843-4BC7-BCF7-C943B6780839  380635.000  390153.0000   \n",
              "4         id00001B2A-155F-4CD3-8E06-7677ADC6AF74  337481.000  350509.7188   \n",
              "\n",
              "              type  graph_id  \n",
              "graph_id                      \n",
              "0         road end         0  \n",
              "1         junction         1  \n",
              "2         junction         2  \n",
              "3         junction         3  \n",
              "4         junction         4  "
            ]
          },
          "metadata": {
            "tags": []
          },
          "execution_count": 31
        }
      ]
    },
    {
      "cell_type": "markdown",
      "metadata": {
        "id": "04eft07rLtm9"
      },
      "source": [
        "### 將 `graph_id` 合併至 `road_edges`"
      ]
    },
    {
      "cell_type": "markdown",
      "metadata": {
        "id": "UNWXjVyWLtm-"
      },
      "source": [
        "我們現在需要將 `graph_id` 合併至 `road_edges` 兩次: 一次是為了建立新的 int32 來源 ID 欄；另一次是建立新的 int32 目的地 ID 欄。"
      ]
    },
    {
      "cell_type": "markdown",
      "metadata": {
        "id": "ijwYLZXCLtm-"
      },
      "source": [
        "#### `src_id` 的新 int32 欄"
      ]
    },
    {
      "cell_type": "code",
      "metadata": {
        "id": "F8bbOMbxLtm-",
        "outputId": "45f561a5-ee17-41b8-bdf0-d9fb2bf931a1"
      },
      "source": [
        "node_id_to_graph_id_mapping.head()"
      ],
      "execution_count": null,
      "outputs": [
        {
          "output_type": "execute_result",
          "data": {
            "text/html": [
              "<div>\n",
              "<style scoped>\n",
              "    .dataframe tbody tr th:only-of-type {\n",
              "        vertical-align: middle;\n",
              "    }\n",
              "\n",
              "    .dataframe tbody tr th {\n",
              "        vertical-align: top;\n",
              "    }\n",
              "\n",
              "    .dataframe thead th {\n",
              "        text-align: right;\n",
              "    }\n",
              "</style>\n",
              "<table border=\"1\" class=\"dataframe\">\n",
              "  <thead>\n",
              "    <tr style=\"text-align: right;\">\n",
              "      <th></th>\n",
              "      <th>node_id</th>\n",
              "      <th>graph_id</th>\n",
              "    </tr>\n",
              "  </thead>\n",
              "  <tbody>\n",
              "    <tr>\n",
              "      <th>0</th>\n",
              "      <td>id000000F5-5180-4C03-B05D-B01352C54F89</td>\n",
              "      <td>0</td>\n",
              "    </tr>\n",
              "    <tr>\n",
              "      <th>1</th>\n",
              "      <td>id000003F8-9E09-4829-AD87-6DA4438D22D8</td>\n",
              "      <td>1</td>\n",
              "    </tr>\n",
              "    <tr>\n",
              "      <th>2</th>\n",
              "      <td>id000010DA-C89A-4198-847A-6E62815E038A</td>\n",
              "      <td>2</td>\n",
              "    </tr>\n",
              "    <tr>\n",
              "      <th>3</th>\n",
              "      <td>id000017A0-1843-4BC7-BCF7-C943B6780839</td>\n",
              "      <td>3</td>\n",
              "    </tr>\n",
              "    <tr>\n",
              "      <th>4</th>\n",
              "      <td>id00001B2A-155F-4CD3-8E06-7677ADC6AF74</td>\n",
              "      <td>4</td>\n",
              "    </tr>\n",
              "  </tbody>\n",
              "</table>\n",
              "</div>"
            ],
            "text/plain": [
              "                                  node_id  graph_id\n",
              "0  id000000F5-5180-4C03-B05D-B01352C54F89         0\n",
              "1  id000003F8-9E09-4829-AD87-6DA4438D22D8         1\n",
              "2  id000010DA-C89A-4198-847A-6E62815E038A         2\n",
              "3  id000017A0-1843-4BC7-BCF7-C943B6780839         3\n",
              "4  id00001B2A-155F-4CD3-8E06-7677ADC6AF74         4"
            ]
          },
          "metadata": {
            "tags": []
          },
          "execution_count": 32
        }
      ]
    },
    {
      "cell_type": "code",
      "metadata": {
        "id": "pXKaeI4yLtnA",
        "outputId": "bd8acf7c-fb56-45fe-8de3-8e8298201ae3"
      },
      "source": [
        "road_edges.head()"
      ],
      "execution_count": null,
      "outputs": [
        {
          "output_type": "execute_result",
          "data": {
            "text/html": [
              "<div>\n",
              "<style scoped>\n",
              "    .dataframe tbody tr th:only-of-type {\n",
              "        vertical-align: middle;\n",
              "    }\n",
              "\n",
              "    .dataframe tbody tr th {\n",
              "        vertical-align: top;\n",
              "    }\n",
              "\n",
              "    .dataframe thead th {\n",
              "        text-align: right;\n",
              "    }\n",
              "</style>\n",
              "<table border=\"1\" class=\"dataframe\">\n",
              "  <thead>\n",
              "    <tr style=\"text-align: right;\">\n",
              "      <th></th>\n",
              "      <th>src_id</th>\n",
              "      <th>dst_id</th>\n",
              "      <th>length</th>\n",
              "      <th>type</th>\n",
              "      <th>form</th>\n",
              "    </tr>\n",
              "  </thead>\n",
              "  <tbody>\n",
              "    <tr>\n",
              "      <th>0</th>\n",
              "      <td>id000000F5-5180-4C03-B05D-B01352C54F89</td>\n",
              "      <td>id0ABF4CB2-6997-4952-A9AA-313DE2EF6538</td>\n",
              "      <td>44</td>\n",
              "      <td>Local Road</td>\n",
              "      <td>Single Carriageway</td>\n",
              "    </tr>\n",
              "    <tr>\n",
              "      <th>1</th>\n",
              "      <td>id000003F8-9E09-4829-AD87-6DA4438D22D8</td>\n",
              "      <td>id8B9308E8-DD5C-4C5B-AE92-A8F6C471B551</td>\n",
              "      <td>70</td>\n",
              "      <td>Secondary Access Road</td>\n",
              "      <td>Single Carriageway</td>\n",
              "    </tr>\n",
              "    <tr>\n",
              "      <th>2</th>\n",
              "      <td>id000003F8-9E09-4829-AD87-6DA4438D22D8</td>\n",
              "      <td>idCE926C8D-A698-410F-BE88-0EDE56BB0476</td>\n",
              "      <td>40</td>\n",
              "      <td>Local Road</td>\n",
              "      <td>Single Carriageway</td>\n",
              "    </tr>\n",
              "    <tr>\n",
              "      <th>3</th>\n",
              "      <td>id000010DA-C89A-4198-847A-6E62815E038A</td>\n",
              "      <td>id000010DA-C89A-4198-847A-6E62815E038A</td>\n",
              "      <td>55</td>\n",
              "      <td>Local Road</td>\n",
              "      <td>Single Carriageway</td>\n",
              "    </tr>\n",
              "    <tr>\n",
              "      <th>4</th>\n",
              "      <td>id000017A0-1843-4BC7-BCF7-C943B6780839</td>\n",
              "      <td>idECFC5CB9-4FD9-4377-8D68-00B1D2654547</td>\n",
              "      <td>71</td>\n",
              "      <td>Local Road</td>\n",
              "      <td>Single Carriageway</td>\n",
              "    </tr>\n",
              "  </tbody>\n",
              "</table>\n",
              "</div>"
            ],
            "text/plain": [
              "                                   src_id  \\\n",
              "0  id000000F5-5180-4C03-B05D-B01352C54F89   \n",
              "1  id000003F8-9E09-4829-AD87-6DA4438D22D8   \n",
              "2  id000003F8-9E09-4829-AD87-6DA4438D22D8   \n",
              "3  id000010DA-C89A-4198-847A-6E62815E038A   \n",
              "4  id000017A0-1843-4BC7-BCF7-C943B6780839   \n",
              "\n",
              "                                   dst_id  length                   type  \\\n",
              "0  id0ABF4CB2-6997-4952-A9AA-313DE2EF6538      44             Local Road   \n",
              "1  id8B9308E8-DD5C-4C5B-AE92-A8F6C471B551      70  Secondary Access Road   \n",
              "2  idCE926C8D-A698-410F-BE88-0EDE56BB0476      40             Local Road   \n",
              "3  id000010DA-C89A-4198-847A-6E62815E038A      55             Local Road   \n",
              "4  idECFC5CB9-4FD9-4377-8D68-00B1D2654547      71             Local Road   \n",
              "\n",
              "                 form  \n",
              "0  Single Carriageway  \n",
              "1  Single Carriageway  \n",
              "2  Single Carriageway  \n",
              "3  Single Carriageway  \n",
              "4  Single Carriageway  "
            ]
          },
          "metadata": {
            "tags": []
          },
          "execution_count": 33
        }
      ]
    },
    {
      "cell_type": "code",
      "metadata": {
        "id": "owiS_5m9LtnE",
        "outputId": "c008bdcc-a787-4e2d-b0a2-0241552b96d5"
      },
      "source": [
        "# Add `graph_id` value into `road_edges` from `node_id_to_graph_id_mapping` row with `src_id` `node_id` match.\n",
        "%time road_edges = road_edges.merge(node_id_to_graph_id_mapping, how='left', left_on='src_id', right_on='node_id')"
      ],
      "execution_count": null,
      "outputs": [
        {
          "output_type": "stream",
          "text": [
            "CPU times: user 240 ms, sys: 226 ms, total: 466 ms\n",
            "Wall time: 505 ms\n"
          ],
          "name": "stdout"
        }
      ]
    },
    {
      "cell_type": "markdown",
      "metadata": {
        "id": "qv35BMSILtnG"
      },
      "source": [
        "如你所見，`road_edges` 現在包含我們想要的 `graph_id` 欄:"
      ]
    },
    {
      "cell_type": "code",
      "metadata": {
        "id": "y_TY47OYLtnH",
        "outputId": "9fb7c635-f979-4287-d4cc-80d681461a23"
      },
      "source": [
        "road_edges[['graph_id']].dtypes"
      ],
      "execution_count": null,
      "outputs": [
        {
          "output_type": "execute_result",
          "data": {
            "text/plain": [
              "graph_id    int32\n",
              "dtype: object"
            ]
          },
          "metadata": {
            "tags": []
          },
          "execution_count": 35
        }
      ]
    },
    {
      "cell_type": "code",
      "metadata": {
        "id": "MyUkkat6LtnL",
        "outputId": "c6aae48b-337b-4be6-9d7f-eec5166cbaa2"
      },
      "source": [
        "road_edges['graph_id'].head()"
      ],
      "execution_count": null,
      "outputs": [
        {
          "output_type": "execute_result",
          "data": {
            "text/plain": [
              "0    2173\n",
              "1    2173\n",
              "2    2174\n",
              "3    2175\n",
              "4    2176\n",
              "Name: graph_id, dtype: int32"
            ]
          },
          "metadata": {
            "tags": []
          },
          "execution_count": 36
        }
      ]
    },
    {
      "cell_type": "markdown",
      "metadata": {
        "id": "yD78s_r7LtnO"
      },
      "source": [
        "#### `dst_id` 的新 int32 欄"
      ]
    },
    {
      "cell_type": "markdown",
      "metadata": {
        "id": "1PERJC2PLtnO"
      },
      "source": [
        "我們現在將為 `dst_id` 重複上方步驟:"
      ]
    },
    {
      "cell_type": "code",
      "metadata": {
        "id": "8lbx8xPaLtnR",
        "outputId": "bed96512-1fe8-4dce-9838-a5380ecd8c37"
      },
      "source": [
        "# Add second `graph_id` value into `road_edges` from `node_id_to_graph_id_mapping` row with `dst_id` `node_id` match.\n",
        "%time road_edges = road_edges.merge(node_id_to_graph_id_mapping, how='left', left_on='dst_id', right_on='node_id')"
      ],
      "execution_count": null,
      "outputs": [
        {
          "output_type": "stream",
          "text": [
            "CPU times: user 318 ms, sys: 277 ms, total: 595 ms\n",
            "Wall time: 620 ms\n"
          ],
          "name": "stdout"
        }
      ]
    },
    {
      "cell_type": "markdown",
      "metadata": {
        "id": "XgW3XzykLtnW"
      },
      "source": [
        "road_edges### 重新命名新欄"
      ]
    },
    {
      "cell_type": "code",
      "metadata": {
        "id": "xSYCCDmDLtnW",
        "outputId": "d9044f77-71e6-4bf7-a589-c7f456023c88"
      },
      "source": [
        "road_edges.head()"
      ],
      "execution_count": null,
      "outputs": [
        {
          "output_type": "execute_result",
          "data": {
            "text/html": [
              "<div>\n",
              "<style scoped>\n",
              "    .dataframe tbody tr th:only-of-type {\n",
              "        vertical-align: middle;\n",
              "    }\n",
              "\n",
              "    .dataframe tbody tr th {\n",
              "        vertical-align: top;\n",
              "    }\n",
              "\n",
              "    .dataframe thead th {\n",
              "        text-align: right;\n",
              "    }\n",
              "</style>\n",
              "<table border=\"1\" class=\"dataframe\">\n",
              "  <thead>\n",
              "    <tr style=\"text-align: right;\">\n",
              "      <th></th>\n",
              "      <th>src_id</th>\n",
              "      <th>dst_id</th>\n",
              "      <th>length</th>\n",
              "      <th>type</th>\n",
              "      <th>form</th>\n",
              "      <th>node_id_x</th>\n",
              "      <th>graph_id_x</th>\n",
              "      <th>node_id_y</th>\n",
              "      <th>graph_id_y</th>\n",
              "    </tr>\n",
              "  </thead>\n",
              "  <tbody>\n",
              "    <tr>\n",
              "      <th>0</th>\n",
              "      <td>id00EA30C9-A088-4453-A201-17ABFE0CD4AA</td>\n",
              "      <td>id0107CE0C-A616-434B-94E5-8156223CE1B3</td>\n",
              "      <td>265</td>\n",
              "      <td>B Road</td>\n",
              "      <td>Single Carriageway</td>\n",
              "      <td>id00EA30C9-A088-4453-A201-17ABFE0CD4AA</td>\n",
              "      <td>11119</td>\n",
              "      <td>id0107CE0C-A616-434B-94E5-8156223CE1B3</td>\n",
              "      <td>12454</td>\n",
              "    </tr>\n",
              "    <tr>\n",
              "      <th>1</th>\n",
              "      <td>id00EA3496-2BF2-43DD-9AE5-297EE4F970C7</td>\n",
              "      <td>id1E59F9E9-9398-4116-96F4-05815579A23D</td>\n",
              "      <td>68</td>\n",
              "      <td>Secondary Access Road</td>\n",
              "      <td>Single Carriageway</td>\n",
              "      <td>id00EA3496-2BF2-43DD-9AE5-297EE4F970C7</td>\n",
              "      <td>11120</td>\n",
              "      <td>id1E59F9E9-9398-4116-96F4-05815579A23D</td>\n",
              "      <td>364511</td>\n",
              "    </tr>\n",
              "    <tr>\n",
              "      <th>2</th>\n",
              "      <td>id00EA34DA-92F6-4AE0-AD0D-0F37240591B8</td>\n",
              "      <td>idA1C3C8C8-AAB1-4ADC-AF96-CCB275D53D64</td>\n",
              "      <td>162</td>\n",
              "      <td>Local Road</td>\n",
              "      <td>Single Carriageway</td>\n",
              "      <td>id00EA34DA-92F6-4AE0-AD0D-0F37240591B8</td>\n",
              "      <td>11121</td>\n",
              "      <td>idA1C3C8C8-AAB1-4ADC-AF96-CCB275D53D64</td>\n",
              "      <td>1944954</td>\n",
              "    </tr>\n",
              "    <tr>\n",
              "      <th>3</th>\n",
              "      <td>id00EA364A-4D2B-40B9-A978-00DF24CB0C7A</td>\n",
              "      <td>id5C0DF1F3-6B44-4114-B3FE-8219CF06DB48</td>\n",
              "      <td>62</td>\n",
              "      <td>Restricted Local Access Road</td>\n",
              "      <td>Single Carriageway</td>\n",
              "      <td>id00EA364A-4D2B-40B9-A978-00DF24CB0C7A</td>\n",
              "      <td>11122</td>\n",
              "      <td>id5C0DF1F3-6B44-4114-B3FE-8219CF06DB48</td>\n",
              "      <td>1106148</td>\n",
              "    </tr>\n",
              "    <tr>\n",
              "      <th>4</th>\n",
              "      <td>id00EA51F2-B616-43F5-9FCD-0CFF6A02D20A</td>\n",
              "      <td>idB6EA8C58-AFCF-4C20-AD27-E5686417AFAC</td>\n",
              "      <td>397</td>\n",
              "      <td>Local Road</td>\n",
              "      <td>Single Carriageway</td>\n",
              "      <td>id00EA51F2-B616-43F5-9FCD-0CFF6A02D20A</td>\n",
              "      <td>11125</td>\n",
              "      <td>idB6EA8C58-AFCF-4C20-AD27-E5686417AFAC</td>\n",
              "      <td>2198570</td>\n",
              "    </tr>\n",
              "  </tbody>\n",
              "</table>\n",
              "</div>"
            ],
            "text/plain": [
              "                                   src_id  \\\n",
              "0  id00EA30C9-A088-4453-A201-17ABFE0CD4AA   \n",
              "1  id00EA3496-2BF2-43DD-9AE5-297EE4F970C7   \n",
              "2  id00EA34DA-92F6-4AE0-AD0D-0F37240591B8   \n",
              "3  id00EA364A-4D2B-40B9-A978-00DF24CB0C7A   \n",
              "4  id00EA51F2-B616-43F5-9FCD-0CFF6A02D20A   \n",
              "\n",
              "                                   dst_id  length  \\\n",
              "0  id0107CE0C-A616-434B-94E5-8156223CE1B3     265   \n",
              "1  id1E59F9E9-9398-4116-96F4-05815579A23D      68   \n",
              "2  idA1C3C8C8-AAB1-4ADC-AF96-CCB275D53D64     162   \n",
              "3  id5C0DF1F3-6B44-4114-B3FE-8219CF06DB48      62   \n",
              "4  idB6EA8C58-AFCF-4C20-AD27-E5686417AFAC     397   \n",
              "\n",
              "                           type                form  \\\n",
              "0                        B Road  Single Carriageway   \n",
              "1         Secondary Access Road  Single Carriageway   \n",
              "2                    Local Road  Single Carriageway   \n",
              "3  Restricted Local Access Road  Single Carriageway   \n",
              "4                    Local Road  Single Carriageway   \n",
              "\n",
              "                                node_id_x  graph_id_x  \\\n",
              "0  id00EA30C9-A088-4453-A201-17ABFE0CD4AA       11119   \n",
              "1  id00EA3496-2BF2-43DD-9AE5-297EE4F970C7       11120   \n",
              "2  id00EA34DA-92F6-4AE0-AD0D-0F37240591B8       11121   \n",
              "3  id00EA364A-4D2B-40B9-A978-00DF24CB0C7A       11122   \n",
              "4  id00EA51F2-B616-43F5-9FCD-0CFF6A02D20A       11125   \n",
              "\n",
              "                                node_id_y  graph_id_y  \n",
              "0  id0107CE0C-A616-434B-94E5-8156223CE1B3       12454  \n",
              "1  id1E59F9E9-9398-4116-96F4-05815579A23D      364511  \n",
              "2  idA1C3C8C8-AAB1-4ADC-AF96-CCB275D53D64     1944954  \n",
              "3  id5C0DF1F3-6B44-4114-B3FE-8219CF06DB48     1106148  \n",
              "4  idB6EA8C58-AFCF-4C20-AD27-E5686417AFAC     2198570  "
            ]
          },
          "metadata": {
            "tags": []
          },
          "execution_count": 38
        }
      ]
    },
    {
      "cell_type": "markdown",
      "metadata": {
        "id": "K-z0hM3lLtna"
      },
      "source": [
        "第二次合併 `graph_id` 時，cuDF 會自動重新命名欄以避免重複，因此我們現在會同時擁有 `graph_id_x` 與 `graph_id_y` 欄:"
      ]
    },
    {
      "cell_type": "code",
      "metadata": {
        "id": "ooMtaAnmLtna",
        "outputId": "be8e6f30-e21b-4217-d9da-1f3516b46e18"
      },
      "source": [
        "road_edges.dtypes"
      ],
      "execution_count": null,
      "outputs": [
        {
          "output_type": "execute_result",
          "data": {
            "text/plain": [
              "src_id        object\n",
              "dst_id        object\n",
              "length         int64\n",
              "type          object\n",
              "form          object\n",
              "node_id_x     object\n",
              "graph_id_x     int32\n",
              "node_id_y     object\n",
              "graph_id_y     int32\n",
              "dtype: object"
            ]
          },
          "metadata": {
            "tags": []
          },
          "execution_count": 39
        }
      ]
    },
    {
      "cell_type": "markdown",
      "metadata": {
        "id": "z3VTfXTILtne"
      },
      "source": [
        "讓我們將其重新命名為更有意義的 `graph_src` 與 `graph_dst`:"
      ]
    },
    {
      "cell_type": "code",
      "metadata": {
        "id": "2LCiaoOhLtne"
      },
      "source": [
        "road_edges.rename({'graph_id_x': 'graph_src', 'graph_id_y': 'graph_dst'}, inplace=True)"
      ],
      "execution_count": null,
      "outputs": []
    },
    {
      "cell_type": "code",
      "metadata": {
        "id": "4edh1RcTLtnm",
        "outputId": "af75e051-d682-4155-aad2-025308e134f0"
      },
      "source": [
        "road_edges.dtypes"
      ],
      "execution_count": null,
      "outputs": [
        {
          "output_type": "execute_result",
          "data": {
            "text/plain": [
              "src_id       object\n",
              "dst_id       object\n",
              "length        int64\n",
              "type         object\n",
              "form         object\n",
              "node_id_x    object\n",
              "graph_src     int32\n",
              "node_id_y    object\n",
              "graph_dst     int32\n",
              "dtype: object"
            ]
          },
          "metadata": {
            "tags": []
          },
          "execution_count": 41
        }
      ]
    },
    {
      "cell_type": "code",
      "metadata": {
        "id": "oQ2Wq1FgLtno",
        "outputId": "e59cca87-b2f9-4c66-b4cb-3f63e2d450d3"
      },
      "source": [
        "road_edges[['src_id', 'graph_src', 'dst_id', 'graph_dst']].head()"
      ],
      "execution_count": null,
      "outputs": [
        {
          "output_type": "execute_result",
          "data": {
            "text/html": [
              "<div>\n",
              "<style scoped>\n",
              "    .dataframe tbody tr th:only-of-type {\n",
              "        vertical-align: middle;\n",
              "    }\n",
              "\n",
              "    .dataframe tbody tr th {\n",
              "        vertical-align: top;\n",
              "    }\n",
              "\n",
              "    .dataframe thead th {\n",
              "        text-align: right;\n",
              "    }\n",
              "</style>\n",
              "<table border=\"1\" class=\"dataframe\">\n",
              "  <thead>\n",
              "    <tr style=\"text-align: right;\">\n",
              "      <th></th>\n",
              "      <th>src_id</th>\n",
              "      <th>graph_src</th>\n",
              "      <th>dst_id</th>\n",
              "      <th>graph_dst</th>\n",
              "    </tr>\n",
              "  </thead>\n",
              "  <tbody>\n",
              "    <tr>\n",
              "      <th>0</th>\n",
              "      <td>id00EA30C9-A088-4453-A201-17ABFE0CD4AA</td>\n",
              "      <td>11119</td>\n",
              "      <td>id0107CE0C-A616-434B-94E5-8156223CE1B3</td>\n",
              "      <td>12454</td>\n",
              "    </tr>\n",
              "    <tr>\n",
              "      <th>1</th>\n",
              "      <td>id00EA3496-2BF2-43DD-9AE5-297EE4F970C7</td>\n",
              "      <td>11120</td>\n",
              "      <td>id1E59F9E9-9398-4116-96F4-05815579A23D</td>\n",
              "      <td>364511</td>\n",
              "    </tr>\n",
              "    <tr>\n",
              "      <th>2</th>\n",
              "      <td>id00EA34DA-92F6-4AE0-AD0D-0F37240591B8</td>\n",
              "      <td>11121</td>\n",
              "      <td>idA1C3C8C8-AAB1-4ADC-AF96-CCB275D53D64</td>\n",
              "      <td>1944954</td>\n",
              "    </tr>\n",
              "    <tr>\n",
              "      <th>3</th>\n",
              "      <td>id00EA364A-4D2B-40B9-A978-00DF24CB0C7A</td>\n",
              "      <td>11122</td>\n",
              "      <td>id5C0DF1F3-6B44-4114-B3FE-8219CF06DB48</td>\n",
              "      <td>1106148</td>\n",
              "    </tr>\n",
              "    <tr>\n",
              "      <th>4</th>\n",
              "      <td>id00EA51F2-B616-43F5-9FCD-0CFF6A02D20A</td>\n",
              "      <td>11125</td>\n",
              "      <td>idB6EA8C58-AFCF-4C20-AD27-E5686417AFAC</td>\n",
              "      <td>2198570</td>\n",
              "    </tr>\n",
              "  </tbody>\n",
              "</table>\n",
              "</div>"
            ],
            "text/plain": [
              "                                   src_id  graph_src  \\\n",
              "0  id00EA30C9-A088-4453-A201-17ABFE0CD4AA      11119   \n",
              "1  id00EA3496-2BF2-43DD-9AE5-297EE4F970C7      11120   \n",
              "2  id00EA34DA-92F6-4AE0-AD0D-0F37240591B8      11121   \n",
              "3  id00EA364A-4D2B-40B9-A978-00DF24CB0C7A      11122   \n",
              "4  id00EA51F2-B616-43F5-9FCD-0CFF6A02D20A      11125   \n",
              "\n",
              "                                   dst_id  graph_dst  \n",
              "0  id0107CE0C-A616-434B-94E5-8156223CE1B3      12454  \n",
              "1  id1E59F9E9-9398-4116-96F4-05815579A23D     364511  \n",
              "2  idA1C3C8C8-AAB1-4ADC-AF96-CCB275D53D64    1944954  \n",
              "3  id5C0DF1F3-6B44-4114-B3FE-8219CF06DB48    1106148  \n",
              "4  idB6EA8C58-AFCF-4C20-AD27-E5686417AFAC    2198570  "
            ]
          },
          "metadata": {
            "tags": []
          },
          "execution_count": 42
        }
      ]
    },
    {
      "cell_type": "markdown",
      "metadata": {
        "id": "v61TIMu-Ltns"
      },
      "source": [
        "### 使用建立圖表所需的欄建立資料架構"
      ]
    },
    {
      "cell_type": "markdown",
      "metadata": {
        "id": "vsGfzihxLtns"
      },
      "source": [
        "在建立無指向性的圖表資料前，讓我們建立只包含 cuGraph 建立工具所需欄的較小資料架構，免於反覆移動不必要的資料:"
      ]
    },
    {
      "cell_type": "code",
      "metadata": {
        "id": "_-zhrFanLtnt",
        "outputId": "a260e24b-54db-4858-be71-49112515043a"
      },
      "source": [
        "graph_prep = cudf.DataFrame()\n",
        "graph_prep['src'] = road_edges['graph_src']\n",
        "graph_prep['dst'] = road_edges['graph_dst']\n",
        "graph_prep['length'] = road_edges['length'].astype('float') # cuGraph expects edge weights as floating points\n",
        "print(graph_prep.shape)\n",
        "print(graph_prep.dtypes)"
      ],
      "execution_count": null,
      "outputs": [
        {
          "output_type": "stream",
          "text": [
            "(3667200, 3)\n",
            "src         int32\n",
            "dst         int32\n",
            "length    float64\n",
            "dtype: object\n"
          ],
          "name": "stdout"
        }
      ]
    },
    {
      "cell_type": "markdown",
      "metadata": {
        "id": "9--XQYOhLtnv"
      },
      "source": [
        "### 建立無指向性的圖表"
      ]
    },
    {
      "cell_type": "markdown",
      "metadata": {
        "id": "Xz8iKxewLtnw"
      },
      "source": [
        "我們現在要建立互換來源與目的地的新資料架構，以製作無指向性的圖表，並將新資料架構串連至 `graph_prep`，然後排除任何重複值。"
      ]
    },
    {
      "cell_type": "code",
      "metadata": {
        "id": "Mzlu0297Ltnw",
        "outputId": "97e07276-f079-49ba-8c7e-5694073b23d0"
      },
      "source": [
        "rev_gdf = cudf.DataFrame()\n",
        "\n",
        "rev_gdf['src'] = graph_prep['dst']\n",
        "rev_gdf['dst'] = graph_prep['src']\n",
        "rev_gdf['length'] = graph_prep['length']\n",
        "\n",
        "# Concatenate `graph_prep` and `rev_gdf`\n",
        "graph_prep = cudf.concat([graph_prep, rev_gdf], \n",
        "                              ignore_index=True)\n",
        "graph_prep.shape"
      ],
      "execution_count": null,
      "outputs": [
        {
          "output_type": "execute_result",
          "data": {
            "text/plain": [
              "(7334400, 3)"
            ]
          },
          "metadata": {
            "tags": []
          },
          "execution_count": 44
        }
      ]
    },
    {
      "cell_type": "markdown",
      "metadata": {
        "id": "MyTOuF3ULtn0"
      },
      "source": [
        "雖然我們可以讓道路邊緣擁有相同的開始與結束節點，但長度不同 (例如，一個從主幹線中斷或重新聯結到主幹線的環狀道路)，為了簡化，我們將刪除邊緣清單中的重複值，同時忽略 `length`，以便讓每對相連節點都只有一組 (無指向性) 邊緣。"
      ]
    },
    {
      "cell_type": "code",
      "metadata": {
        "id": "6uhWsLS2Ltn0",
        "outputId": "34c5d82d-759c-4997-c848-2aa1d35ffdec"
      },
      "source": [
        "graph_prep.drop_duplicates(subset=['src', 'dst'], inplace=True)\n",
        "graph_prep.shape"
      ],
      "execution_count": null,
      "outputs": [
        {
          "output_type": "execute_result",
          "data": {
            "text/plain": [
              "(7218169, 3)"
            ]
          },
          "metadata": {
            "tags": []
          },
          "execution_count": 45
        }
      ]
    },
    {
      "cell_type": "markdown",
      "metadata": {
        "id": "Or6XriJ8Ltn5"
      },
      "source": [
        "讓我們確認 `graph_prep` 包含 int32 ID 的精簡間隔:"
      ]
    },
    {
      "cell_type": "code",
      "metadata": {
        "id": "ORG4CEIkLtn6",
        "outputId": "03abe26f-d84e-4752-80f7-fb18b6b3ca15"
      },
      "source": [
        "# The min src or dst ID is 0\n",
        "graph_prep[['src', 'dst']].min().min() == 0"
      ],
      "execution_count": null,
      "outputs": [
        {
          "output_type": "execute_result",
          "data": {
            "text/plain": [
              "True"
            ]
          },
          "metadata": {
            "tags": []
          },
          "execution_count": 46
        }
      ]
    },
    {
      "cell_type": "code",
      "metadata": {
        "id": "iI-oULFmLtn9",
        "outputId": "7e8130c0-d2bd-4c27-8314-58105eaf4c15"
      },
      "source": [
        "# The max src or dst id is the number of nodes - 1\n",
        "graph_prep[['src', 'dst']].max().max() == unique_node_ids.count() - 1"
      ],
      "execution_count": null,
      "outputs": [
        {
          "output_type": "execute_result",
          "data": {
            "text/plain": [
              "True"
            ]
          },
          "metadata": {
            "tags": []
          },
          "execution_count": 47
        }
      ]
    },
    {
      "cell_type": "code",
      "metadata": {
        "id": "8eK2LaPHLtn_",
        "outputId": "7770adcb-f284-453a-8725-c8a1342ae8d9"
      },
      "source": [
        "# The ID dtypes are int32s\n",
        "graph_prep[['src', 'dst']].dtypes"
      ],
      "execution_count": null,
      "outputs": [
        {
          "output_type": "execute_result",
          "data": {
            "text/plain": [
              "src    int32\n",
              "dst    int32\n",
              "dtype: object"
            ]
          },
          "metadata": {
            "tags": []
          },
          "execution_count": 48
        }
      ]
    },
    {
      "cell_type": "code",
      "metadata": {
        "id": "k-Jx8klBLtoB",
        "outputId": "e1f0577d-6db5-46ae-d6fe-5b91b892a36a"
      },
      "source": [
        "graph_prep"
      ],
      "execution_count": null,
      "outputs": [
        {
          "output_type": "execute_result",
          "data": {
            "text/html": [
              "<div>\n",
              "<style scoped>\n",
              "    .dataframe tbody tr th:only-of-type {\n",
              "        vertical-align: middle;\n",
              "    }\n",
              "\n",
              "    .dataframe tbody tr th {\n",
              "        vertical-align: top;\n",
              "    }\n",
              "\n",
              "    .dataframe thead th {\n",
              "        text-align: right;\n",
              "    }\n",
              "</style>\n",
              "<table border=\"1\" class=\"dataframe\">\n",
              "  <thead>\n",
              "    <tr style=\"text-align: right;\">\n",
              "      <th></th>\n",
              "      <th>src</th>\n",
              "      <th>dst</th>\n",
              "      <th>length</th>\n",
              "    </tr>\n",
              "  </thead>\n",
              "  <tbody>\n",
              "    <tr>\n",
              "      <th>28256</th>\n",
              "      <td>0</td>\n",
              "      <td>129165</td>\n",
              "      <td>44.0</td>\n",
              "    </tr>\n",
              "    <tr>\n",
              "      <th>28257</th>\n",
              "      <td>1</td>\n",
              "      <td>1678323</td>\n",
              "      <td>70.0</td>\n",
              "    </tr>\n",
              "    <tr>\n",
              "      <th>6487960</th>\n",
              "      <td>1</td>\n",
              "      <td>2372610</td>\n",
              "      <td>18.0</td>\n",
              "    </tr>\n",
              "    <tr>\n",
              "      <th>28258</th>\n",
              "      <td>1</td>\n",
              "      <td>2483057</td>\n",
              "      <td>40.0</td>\n",
              "    </tr>\n",
              "    <tr>\n",
              "      <th>28259</th>\n",
              "      <td>2</td>\n",
              "      <td>2</td>\n",
              "      <td>55.0</td>\n",
              "    </tr>\n",
              "    <tr>\n",
              "      <th>...</th>\n",
              "      <td>...</td>\n",
              "      <td>...</td>\n",
              "      <td>...</td>\n",
              "    </tr>\n",
              "    <tr>\n",
              "      <th>3649501</th>\n",
              "      <td>3078114</td>\n",
              "      <td>3057280</td>\n",
              "      <td>672.0</td>\n",
              "    </tr>\n",
              "    <tr>\n",
              "      <th>6909265</th>\n",
              "      <td>3078115</td>\n",
              "      <td>2721612</td>\n",
              "      <td>94.0</td>\n",
              "    </tr>\n",
              "    <tr>\n",
              "      <th>5708688</th>\n",
              "      <td>3078116</td>\n",
              "      <td>1721226</td>\n",
              "      <td>76.0</td>\n",
              "    </tr>\n",
              "    <tr>\n",
              "      <th>3649502</th>\n",
              "      <td>3078116</td>\n",
              "      <td>2979684</td>\n",
              "      <td>138.0</td>\n",
              "    </tr>\n",
              "    <tr>\n",
              "      <th>3649503</th>\n",
              "      <td>3078116</td>\n",
              "      <td>2990551</td>\n",
              "      <td>150.0</td>\n",
              "    </tr>\n",
              "  </tbody>\n",
              "</table>\n",
              "<p>7218169 rows × 3 columns</p>\n",
              "</div>"
            ],
            "text/plain": [
              "             src      dst  length\n",
              "28256          0   129165    44.0\n",
              "28257          1  1678323    70.0\n",
              "6487960        1  2372610    18.0\n",
              "28258          1  2483057    40.0\n",
              "28259          2        2    55.0\n",
              "...          ...      ...     ...\n",
              "3649501  3078114  3057280   672.0\n",
              "6909265  3078115  2721612    94.0\n",
              "5708688  3078116  1721226    76.0\n",
              "3649502  3078116  2979684   138.0\n",
              "3649503  3078116  2990551   150.0\n",
              "\n",
              "[7218169 rows x 3 columns]"
            ]
          },
          "metadata": {
            "tags": []
          },
          "execution_count": 49
        }
      ]
    },
    {
      "cell_type": "markdown",
      "metadata": {
        "id": "jfds3SdhLtoE"
      },
      "source": [
        "## 使用 cuGraph 建立圖表"
      ]
    },
    {
      "cell_type": "markdown",
      "metadata": {
        "id": "dFgTpHQyLtoF"
      },
      "source": [
        "我們現在已正確準備 `graph_prep`，就可以使用 cuGraph 建立圖表，以便進行加速分析了。若要做到這點，我們首先須要使用 cuGraph 具現化 `Graph` 執行個體，接著傳遞執行個體來源、邊緣目的地、邊緣權重 (這在我們的資料中是道路長度):"
      ]
    },
    {
      "cell_type": "code",
      "metadata": {
        "id": "hwWbb_BgLtoG",
        "outputId": "f6882f2e-e934-457f-9682-25d2dfaf2b55"
      },
      "source": [
        "G = cg.Graph()\n",
        "%time G.add_edge_list(graph_prep['src'], graph_prep['dst'], graph_prep['length'])"
      ],
      "execution_count": null,
      "outputs": [
        {
          "output_type": "stream",
          "text": [
            "/opt/conda/envs/rapids/lib/python3.6/site-packages/cugraph/structure/graph.py:191: UserWarning: add_edge_list will be deprecated in next release. Use from_cudf_edgelist instead\n",
            "  Use from_cudf_edgelist instead')\n"
          ],
          "name": "stderr"
        },
        {
          "output_type": "stream",
          "text": [
            "CPU times: user 602 ms, sys: 106 ms, total: 708 ms\n",
            "Wall time: 708 ms\n"
          ],
          "name": "stdout"
        }
      ]
    },
    {
      "cell_type": "markdown",
      "metadata": {
        "id": "WiY-vOaxLtoI"
      },
      "source": [
        "你可以看到整個準備資料與建立圖表的過程有多迅速，就算我們從頭開始，重新啟動核心，按一下此文字，然後從 [Run] (執行) 選單中選取 [Run All Above Selected Cell] (執行上述所選的所有儲存格) 也一樣 (應該花不到十秒)。\n",
        "在 Network X 中，我們也使用經過清理與準備的相同 Pandas 資料架構建立相同圖表，以供比較。這應該需要花費大約一分鐘，你可以在程序處理時繼續向下閱讀。"
      ]
    },
    {
      "cell_type": "code",
      "metadata": {
        "id": "OIsqUCTALtoI",
        "outputId": "6b956040-8f07-4aa2-edc2-e222d69a40aa"
      },
      "source": [
        "graph_prep_cpu = graph_prep.to_pandas()\n",
        "\n",
        "%time G_cpu = nx.convert_matrix.from_pandas_edgelist(graph_prep_cpu, source='src', target='dst', edge_attr='length')"
      ],
      "execution_count": null,
      "outputs": [
        {
          "output_type": "stream",
          "text": [
            "CPU times: user 43.8 s, sys: 2.81 s, total: 46.6 s\n",
            "Wall time: 46.6 s\n"
          ],
          "name": "stdout"
        }
      ]
    },
    {
      "cell_type": "markdown",
      "metadata": {
        "id": "4hRF7EnILtoL"
      },
      "source": [
        "### 分析圖表"
      ]
    },
    {
      "cell_type": "markdown",
      "metadata": {
        "id": "1AXn3AvhLtoL"
      },
      "source": [
        "既然圖表已建立完成，我們現在就可以分析其中的節點與邊緣數量了:"
      ]
    },
    {
      "cell_type": "code",
      "metadata": {
        "id": "zOb9c87LLtoM",
        "outputId": "1705700a-c2ea-42b5-85bd-aa89aba6572e"
      },
      "source": [
        "G.number_of_nodes()"
      ],
      "execution_count": null,
      "outputs": [
        {
          "output_type": "execute_result",
          "data": {
            "text/plain": [
              "3078117"
            ]
          },
          "metadata": {
            "tags": []
          },
          "execution_count": 52
        }
      ]
    },
    {
      "cell_type": "code",
      "metadata": {
        "id": "hEQ3_AgzLtoO",
        "outputId": "6628cf9f-835d-41a0-f917-8d620897caad"
      },
      "source": [
        "G.number_of_edges()"
      ],
      "execution_count": null,
      "outputs": [
        {
          "output_type": "execute_result",
          "data": {
            "text/plain": [
              "7218169"
            ]
          },
          "metadata": {
            "tags": []
          },
          "execution_count": 53
        }
      ]
    },
    {
      "cell_type": "markdown",
      "metadata": {
        "id": "xp-wf0GALtoR"
      },
      "source": [
        "我們還可以分析圖表節點的角度:"
      ]
    },
    {
      "cell_type": "code",
      "metadata": {
        "id": "9F5IEhfPLtoR"
      },
      "source": [
        "deg_df = G.degree()"
      ],
      "execution_count": null,
      "outputs": []
    },
    {
      "cell_type": "markdown",
      "metadata": {
        "id": "MpjyxPdYLtoT"
      },
      "source": [
        "我們複製了每個邊緣，以便建立無指向性的圖表，預期節點至少有 2 度。"
      ]
    },
    {
      "cell_type": "code",
      "metadata": {
        "id": "nBjPiBWqLtoU",
        "outputId": "88e100ff-5dbc-4ded-a8ac-bac426ffd03f"
      },
      "source": [
        "deg_df['degree'].describe()[1:]"
      ],
      "execution_count": null,
      "outputs": [
        {
          "output_type": "execute_result",
          "data": {
            "text/plain": [
              "mean     4.689990\n",
              "std      1.913452\n",
              "min      2.000000\n",
              "25%      2.000000\n",
              "50%      6.000000\n",
              "75%      6.000000\n",
              "max     16.000000\n",
              "Name: degree, dtype: float64"
            ]
          },
          "metadata": {
            "tags": []
          },
          "execution_count": 55
        }
      ]
    },
    {
      "cell_type": "markdown",
      "metadata": {
        "id": "KFjBpahQLtoW"
      },
      "source": [
        "稍後在實作坊中，你將花更多時間使用此 GPU 加速圖表。"
      ]
    },
    {
      "cell_type": "markdown",
      "metadata": {
        "id": "bc5Ppi6-LtoX"
      },
      "source": [
        "## 練習: 建立包含時間權重的道路圖表"
      ]
    },
    {
      "cell_type": "markdown",
      "metadata": {
        "id": "emspfCPCLtoX"
      },
      "source": [
        "針對這一連串練習，你將使用我們剛剛介紹的技巧建立並分析英國道路的新圖表，但這一次，你要運用的不是邊緣權重的原始距離，而是 2 節點間的交通時間。\n",
        "\n",
        "你將從我們先前使用的 `road_edges` 資料架構開始此練習，此資料架構中已包含我們在 `graph_src` 與 `graph_dst` 建立圖表所需的唯一 int32 `graph_id` 值。"
      ]
    },
    {
      "cell_type": "code",
      "metadata": {
        "id": "ou4qbV5wLtoX",
        "outputId": "7ac0d7f4-388a-4815-c372-107351df8bad"
      },
      "source": [
        "road_edges.dtypes"
      ],
      "execution_count": null,
      "outputs": [
        {
          "output_type": "execute_result",
          "data": {
            "text/plain": [
              "src_id       object\n",
              "dst_id       object\n",
              "length        int64\n",
              "type         object\n",
              "form         object\n",
              "node_id_x    object\n",
              "graph_src     int32\n",
              "node_id_y    object\n",
              "graph_dst     int32\n",
              "dtype: object"
            ]
          },
          "metadata": {
            "tags": []
          },
          "execution_count": 56
        }
      ]
    },
    {
      "cell_type": "markdown",
      "metadata": {
        "id": "LAFZE_heLtoZ"
      },
      "source": [
        "### 透過道路類型轉換速度"
      ]
    },
    {
      "cell_type": "markdown",
      "metadata": {
        "id": "hWrXnZT-LtoZ"
      },
      "source": [
        "為了計算通過道路的交通時間，我們必須先知道速限。我們將按照各類型道路的速限規則使用 `road_edges['type']`，以計算交通時間。\n",
        "\n",
        "以下是我們資料中的唯一道路類型:"
      ]
    },
    {
      "cell_type": "code",
      "metadata": {
        "id": "76sEcENzLtoZ",
        "outputId": "6b00fdf6-ad22-4000-b272-a26d4f352264"
      },
      "source": [
        "road_edges['type'].unique()"
      ],
      "execution_count": null,
      "outputs": [
        {
          "output_type": "execute_result",
          "data": {
            "text/plain": [
              "0                          A Road\n",
              "1                          B Road\n",
              "2               Local Access Road\n",
              "3                      Local Road\n",
              "4                      Minor Road\n",
              "5                        Motorway\n",
              "6    Restricted Local Access Road\n",
              "7           Secondary Access Road\n",
              "Name: type, dtype: object"
            ]
          },
          "metadata": {
            "tags": []
          },
          "execution_count": 57
        }
      ]
    },
    {
      "cell_type": "markdown",
      "metadata": {
        "id": "3qdoi9MdLtoc"
      },
      "source": [
        "而這是我們用來轉換速度所需的速限假設表格:"
      ]
    },
    {
      "cell_type": "code",
      "metadata": {
        "id": "r-jTg3q3Ltoc"
      },
      "source": [
        "# https://www.rac.co.uk/drive/advice/legal/speed-limits/\n",
        "# Technically, speed limits depend on whether a road is in a built-up area and the form of carriageway,\n",
        "# but we can use road type as a proxy for built-up areas.\n",
        "# Values are in mph.\n",
        "\n",
        "speed_limits = {'Motorway': 70,\n",
        "               'A Road': 60,\n",
        "               'B Road': 60,\n",
        "               'Local Road': 30,\n",
        "               'Local Access Road': 30,\n",
        "               'Minor Road': 30,\n",
        "               'Restricted Local Access Road': 30,\n",
        "               'Secondary Access Road': 30}"
      ],
      "execution_count": null,
      "outputs": []
    },
    {
      "cell_type": "markdown",
      "metadata": {
        "id": "FrP8VkM9Ltoe"
      },
      "source": [
        "我們首先要建立 `speed_gdf`，以儲存每種道路類型的速限。"
      ]
    },
    {
      "cell_type": "code",
      "metadata": {
        "id": "L1vi4t1uLtoe",
        "outputId": "ae8ba7da-0f6d-48ed-e5c6-a6c7a5325157"
      },
      "source": [
        "speed_gdf = cudf.DataFrame()\n",
        "\n",
        "speed_gdf['type'] = speed_limits.keys()\n",
        "speed_gdf['limit_mph'] = [speed_limits[key] for key in speed_limits.keys()]\n",
        "speed_gdf"
      ],
      "execution_count": null,
      "outputs": [
        {
          "output_type": "execute_result",
          "data": {
            "text/html": [
              "<div>\n",
              "<style scoped>\n",
              "    .dataframe tbody tr th:only-of-type {\n",
              "        vertical-align: middle;\n",
              "    }\n",
              "\n",
              "    .dataframe tbody tr th {\n",
              "        vertical-align: top;\n",
              "    }\n",
              "\n",
              "    .dataframe thead th {\n",
              "        text-align: right;\n",
              "    }\n",
              "</style>\n",
              "<table border=\"1\" class=\"dataframe\">\n",
              "  <thead>\n",
              "    <tr style=\"text-align: right;\">\n",
              "      <th></th>\n",
              "      <th>type</th>\n",
              "      <th>limit_mph</th>\n",
              "    </tr>\n",
              "  </thead>\n",
              "  <tbody>\n",
              "    <tr>\n",
              "      <th>0</th>\n",
              "      <td>Motorway</td>\n",
              "      <td>70</td>\n",
              "    </tr>\n",
              "    <tr>\n",
              "      <th>1</th>\n",
              "      <td>A Road</td>\n",
              "      <td>60</td>\n",
              "    </tr>\n",
              "    <tr>\n",
              "      <th>2</th>\n",
              "      <td>B Road</td>\n",
              "      <td>60</td>\n",
              "    </tr>\n",
              "    <tr>\n",
              "      <th>3</th>\n",
              "      <td>Local Road</td>\n",
              "      <td>30</td>\n",
              "    </tr>\n",
              "    <tr>\n",
              "      <th>4</th>\n",
              "      <td>Local Access Road</td>\n",
              "      <td>30</td>\n",
              "    </tr>\n",
              "    <tr>\n",
              "      <th>5</th>\n",
              "      <td>Minor Road</td>\n",
              "      <td>30</td>\n",
              "    </tr>\n",
              "    <tr>\n",
              "      <th>6</th>\n",
              "      <td>Restricted Local Access Road</td>\n",
              "      <td>30</td>\n",
              "    </tr>\n",
              "    <tr>\n",
              "      <th>7</th>\n",
              "      <td>Secondary Access Road</td>\n",
              "      <td>30</td>\n",
              "    </tr>\n",
              "  </tbody>\n",
              "</table>\n",
              "</div>"
            ],
            "text/plain": [
              "                           type  limit_mph\n",
              "0                      Motorway         70\n",
              "1                        A Road         60\n",
              "2                        B Road         60\n",
              "3                    Local Road         30\n",
              "4             Local Access Road         30\n",
              "5                    Minor Road         30\n",
              "6  Restricted Local Access Road         30\n",
              "7         Secondary Access Road         30"
            ]
          },
          "metadata": {
            "tags": []
          },
          "execution_count": 60
        }
      ]
    },
    {
      "cell_type": "markdown",
      "metadata": {
        "id": "FzB_aiAOLtog"
      },
      "source": [
        "接著，我們將新增 `limit_m/s` 欄，以便我們為每種道路類型評估通過速度 (單位為公尺/秒)。"
      ]
    },
    {
      "cell_type": "code",
      "metadata": {
        "id": "IGZj1iVrLtog",
        "outputId": "a54d47c4-a9da-4728-e0e2-586b7715f807"
      },
      "source": [
        "# We will have road distances in meters (m), so to get road distances in seconds (s), we need to multiply by meters/mile and divide by seconds/hour\n",
        "# 1 mile ~ 1609.34 m\n",
        "speed_gdf['limit_m/s'] = speed_gdf['limit_mph'] * 1609.34 / 3600\n",
        "speed_gdf"
      ],
      "execution_count": null,
      "outputs": [
        {
          "output_type": "execute_result",
          "data": {
            "text/html": [
              "<div>\n",
              "<style scoped>\n",
              "    .dataframe tbody tr th:only-of-type {\n",
              "        vertical-align: middle;\n",
              "    }\n",
              "\n",
              "    .dataframe tbody tr th {\n",
              "        vertical-align: top;\n",
              "    }\n",
              "\n",
              "    .dataframe thead th {\n",
              "        text-align: right;\n",
              "    }\n",
              "</style>\n",
              "<table border=\"1\" class=\"dataframe\">\n",
              "  <thead>\n",
              "    <tr style=\"text-align: right;\">\n",
              "      <th></th>\n",
              "      <th>type</th>\n",
              "      <th>limit_mph</th>\n",
              "      <th>limit_m/s</th>\n",
              "    </tr>\n",
              "  </thead>\n",
              "  <tbody>\n",
              "    <tr>\n",
              "      <th>0</th>\n",
              "      <td>Motorway</td>\n",
              "      <td>70</td>\n",
              "      <td>31.292722</td>\n",
              "    </tr>\n",
              "    <tr>\n",
              "      <th>1</th>\n",
              "      <td>A Road</td>\n",
              "      <td>60</td>\n",
              "      <td>26.822333</td>\n",
              "    </tr>\n",
              "    <tr>\n",
              "      <th>2</th>\n",
              "      <td>B Road</td>\n",
              "      <td>60</td>\n",
              "      <td>26.822333</td>\n",
              "    </tr>\n",
              "    <tr>\n",
              "      <th>3</th>\n",
              "      <td>Local Road</td>\n",
              "      <td>30</td>\n",
              "      <td>13.411167</td>\n",
              "    </tr>\n",
              "    <tr>\n",
              "      <th>4</th>\n",
              "      <td>Local Access Road</td>\n",
              "      <td>30</td>\n",
              "      <td>13.411167</td>\n",
              "    </tr>\n",
              "    <tr>\n",
              "      <th>5</th>\n",
              "      <td>Minor Road</td>\n",
              "      <td>30</td>\n",
              "      <td>13.411167</td>\n",
              "    </tr>\n",
              "    <tr>\n",
              "      <th>6</th>\n",
              "      <td>Restricted Local Access Road</td>\n",
              "      <td>30</td>\n",
              "      <td>13.411167</td>\n",
              "    </tr>\n",
              "    <tr>\n",
              "      <th>7</th>\n",
              "      <td>Secondary Access Road</td>\n",
              "      <td>30</td>\n",
              "      <td>13.411167</td>\n",
              "    </tr>\n",
              "  </tbody>\n",
              "</table>\n",
              "</div>"
            ],
            "text/plain": [
              "                           type  limit_mph  limit_m/s\n",
              "0                      Motorway         70  31.292722\n",
              "1                        A Road         60  26.822333\n",
              "2                        B Road         60  26.822333\n",
              "3                    Local Road         30  13.411167\n",
              "4             Local Access Road         30  13.411167\n",
              "5                    Minor Road         30  13.411167\n",
              "6  Restricted Local Access Road         30  13.411167\n",
              "7         Secondary Access Road         30  13.411167"
            ]
          },
          "metadata": {
            "tags": []
          },
          "execution_count": 61
        }
      ]
    },
    {
      "cell_type": "markdown",
      "metadata": {
        "id": "hsVXIXesLtok"
      },
      "source": [
        "### 步驟 1: 將 `speed_gdf` 合併至 `road_edges`"
      ]
    },
    {
      "cell_type": "markdown",
      "metadata": {
        "id": "_ECflYQ-Ltok"
      },
      "source": [
        "因為我們需要使用 `road_edges` 中的值來建立圖表，我們需要將 `speed_gdf` 合併至 `road_edges`。你可以聯結這兩種資料架構都通用的 `type` 欄。"
      ]
    },
    {
      "cell_type": "code",
      "metadata": {
        "id": "mlIc_QbBLtol"
      },
      "source": [
        "# road_edges_new = road_edges.merge(speed_gdf, how='left', on='type')"
      ],
      "execution_count": null,
      "outputs": []
    },
    {
      "cell_type": "code",
      "metadata": {
        "id": "afa5hOBOLton",
        "outputId": "055b4403-5183-4ce6-e593-101ad0d2ead9"
      },
      "source": [
        "# road_edges_new.head()"
      ],
      "execution_count": null,
      "outputs": [
        {
          "output_type": "execute_result",
          "data": {
            "text/html": [
              "<div>\n",
              "<style scoped>\n",
              "    .dataframe tbody tr th:only-of-type {\n",
              "        vertical-align: middle;\n",
              "    }\n",
              "\n",
              "    .dataframe tbody tr th {\n",
              "        vertical-align: top;\n",
              "    }\n",
              "\n",
              "    .dataframe thead th {\n",
              "        text-align: right;\n",
              "    }\n",
              "</style>\n",
              "<table border=\"1\" class=\"dataframe\">\n",
              "  <thead>\n",
              "    <tr style=\"text-align: right;\">\n",
              "      <th></th>\n",
              "      <th>src_id</th>\n",
              "      <th>dst_id</th>\n",
              "      <th>length</th>\n",
              "      <th>type</th>\n",
              "      <th>form</th>\n",
              "      <th>node_id_x</th>\n",
              "      <th>graph_src</th>\n",
              "      <th>node_id_y</th>\n",
              "      <th>graph_dst</th>\n",
              "      <th>limit_mph</th>\n",
              "      <th>limit_m/s</th>\n",
              "    </tr>\n",
              "  </thead>\n",
              "  <tbody>\n",
              "    <tr>\n",
              "      <th>0</th>\n",
              "      <td>id003B7E37-119B-44F4-BCF2-51DB8451E70B</td>\n",
              "      <td>id16527908-002A-41F5-844A-53AAD2B66F28</td>\n",
              "      <td>44</td>\n",
              "      <td>Local Road</td>\n",
              "      <td>Single Carriageway</td>\n",
              "      <td>id003B7E37-119B-44F4-BCF2-51DB8451E70B</td>\n",
              "      <td>2809</td>\n",
              "      <td>id16527908-002A-41F5-844A-53AAD2B66F28</td>\n",
              "      <td>268182</td>\n",
              "      <td>30</td>\n",
              "      <td>13.411167</td>\n",
              "    </tr>\n",
              "    <tr>\n",
              "      <th>1</th>\n",
              "      <td>id003B7F17-BF47-4C1D-BF65-A825D0C38EE6</td>\n",
              "      <td>idC7ABE34D-275E-41DE-9403-059EBD6C215C</td>\n",
              "      <td>120</td>\n",
              "      <td>Minor Road</td>\n",
              "      <td>Single Carriageway</td>\n",
              "      <td>id003B7F17-BF47-4C1D-BF65-A825D0C38EE6</td>\n",
              "      <td>2810</td>\n",
              "      <td>idC7ABE34D-275E-41DE-9403-059EBD6C215C</td>\n",
              "      <td>2400343</td>\n",
              "      <td>30</td>\n",
              "      <td>13.411167</td>\n",
              "    </tr>\n",
              "    <tr>\n",
              "      <th>2</th>\n",
              "      <td>id003B7F17-BF47-4C1D-BF65-A825D0C38EE6</td>\n",
              "      <td>idF78A47FA-435F-42AC-8B8E-8DC03F0DAAC7</td>\n",
              "      <td>46</td>\n",
              "      <td>Restricted Local Access Road</td>\n",
              "      <td>Single Carriageway</td>\n",
              "      <td>id003B7F17-BF47-4C1D-BF65-A825D0C38EE6</td>\n",
              "      <td>2810</td>\n",
              "      <td>idF78A47FA-435F-42AC-8B8E-8DC03F0DAAC7</td>\n",
              "      <td>2976038</td>\n",
              "      <td>30</td>\n",
              "      <td>13.411167</td>\n",
              "    </tr>\n",
              "    <tr>\n",
              "      <th>3</th>\n",
              "      <td>id003B8310-CCD0-4161-8736-A73996DB64ED</td>\n",
              "      <td>id46174298-1637-4313-AC7F-5153D650BB85</td>\n",
              "      <td>79</td>\n",
              "      <td>Local Road</td>\n",
              "      <td>Single Carriageway</td>\n",
              "      <td>id003B8310-CCD0-4161-8736-A73996DB64ED</td>\n",
              "      <td>2811</td>\n",
              "      <td>id46174298-1637-4313-AC7F-5153D650BB85</td>\n",
              "      <td>842098</td>\n",
              "      <td>30</td>\n",
              "      <td>13.411167</td>\n",
              "    </tr>\n",
              "    <tr>\n",
              "      <th>4</th>\n",
              "      <td>id003B8310-CCD0-4161-8736-A73996DB64ED</td>\n",
              "      <td>id601ABE78-00C6-435B-AFDF-C9F12DAD8966</td>\n",
              "      <td>97</td>\n",
              "      <td>Local Road</td>\n",
              "      <td>Single Carriageway</td>\n",
              "      <td>id003B8310-CCD0-4161-8736-A73996DB64ED</td>\n",
              "      <td>2811</td>\n",
              "      <td>id601ABE78-00C6-435B-AFDF-C9F12DAD8966</td>\n",
              "      <td>1155301</td>\n",
              "      <td>30</td>\n",
              "      <td>13.411167</td>\n",
              "    </tr>\n",
              "  </tbody>\n",
              "</table>\n",
              "</div>"
            ],
            "text/plain": [
              "                                   src_id  \\\n",
              "0  id003B7E37-119B-44F4-BCF2-51DB8451E70B   \n",
              "1  id003B7F17-BF47-4C1D-BF65-A825D0C38EE6   \n",
              "2  id003B7F17-BF47-4C1D-BF65-A825D0C38EE6   \n",
              "3  id003B8310-CCD0-4161-8736-A73996DB64ED   \n",
              "4  id003B8310-CCD0-4161-8736-A73996DB64ED   \n",
              "\n",
              "                                   dst_id  length  \\\n",
              "0  id16527908-002A-41F5-844A-53AAD2B66F28      44   \n",
              "1  idC7ABE34D-275E-41DE-9403-059EBD6C215C     120   \n",
              "2  idF78A47FA-435F-42AC-8B8E-8DC03F0DAAC7      46   \n",
              "3  id46174298-1637-4313-AC7F-5153D650BB85      79   \n",
              "4  id601ABE78-00C6-435B-AFDF-C9F12DAD8966      97   \n",
              "\n",
              "                           type                form  \\\n",
              "0                    Local Road  Single Carriageway   \n",
              "1                    Minor Road  Single Carriageway   \n",
              "2  Restricted Local Access Road  Single Carriageway   \n",
              "3                    Local Road  Single Carriageway   \n",
              "4                    Local Road  Single Carriageway   \n",
              "\n",
              "                                node_id_x  graph_src  \\\n",
              "0  id003B7E37-119B-44F4-BCF2-51DB8451E70B       2809   \n",
              "1  id003B7F17-BF47-4C1D-BF65-A825D0C38EE6       2810   \n",
              "2  id003B7F17-BF47-4C1D-BF65-A825D0C38EE6       2810   \n",
              "3  id003B8310-CCD0-4161-8736-A73996DB64ED       2811   \n",
              "4  id003B8310-CCD0-4161-8736-A73996DB64ED       2811   \n",
              "\n",
              "                                node_id_y  graph_dst  limit_mph  limit_m/s  \n",
              "0  id16527908-002A-41F5-844A-53AAD2B66F28     268182         30  13.411167  \n",
              "1  idC7ABE34D-275E-41DE-9403-059EBD6C215C    2400343         30  13.411167  \n",
              "2  idF78A47FA-435F-42AC-8B8E-8DC03F0DAAC7    2976038         30  13.411167  \n",
              "3  id46174298-1637-4313-AC7F-5153D650BB85     842098         30  13.411167  \n",
              "4  id601ABE78-00C6-435B-AFDF-C9F12DAD8966    1155301         30  13.411167  "
            ]
          },
          "metadata": {
            "tags": []
          },
          "execution_count": 63
        }
      ]
    },
    {
      "cell_type": "markdown",
      "metadata": {
        "id": "e04T0sKyLtop"
      },
      "source": [
        "#### 解決方案"
      ]
    },
    {
      "cell_type": "code",
      "metadata": {
        "id": "PeEW0ZTnLtop",
        "outputId": "2b212fc8-b2df-4a2c-9b26-dc147526299b"
      },
      "source": [
        "# %load solutions/merge_speed_gdf\n",
        "road_edges = road_edges.merge(speed_gdf, on='type')\n",
        "road_edges.dtypes\n"
      ],
      "execution_count": null,
      "outputs": [
        {
          "output_type": "execute_result",
          "data": {
            "text/plain": [
              "src_id        object\n",
              "dst_id        object\n",
              "length         int64\n",
              "type          object\n",
              "form          object\n",
              "node_id_x     object\n",
              "graph_src      int32\n",
              "node_id_y     object\n",
              "graph_dst      int32\n",
              "limit_mph      int64\n",
              "limit_m/s    float64\n",
              "dtype: object"
            ]
          },
          "metadata": {
            "tags": []
          },
          "execution_count": 89
        }
      ]
    },
    {
      "cell_type": "markdown",
      "metadata": {
        "id": "yG_PBrAwLtot"
      },
      "source": [
        "### 步驟 2: 在「秒」欄中新增長度"
      ]
    },
    {
      "cell_type": "markdown",
      "metadata": {
        "id": "FZg_GafCLtou"
      },
      "source": [
        "現在，你需要計算通過指定道路所需的實際時間。你可以將道路長度除以速限 (m/s) 以求得答案。請在 `road_edges` 上執行此計算，並將結果儲存至新欄 `length_s`。"
      ]
    },
    {
      "cell_type": "code",
      "metadata": {
        "id": "vcFjIkG7Ltov"
      },
      "source": [
        "# length_s = road_edges_new.length/road_edges_new['limit_m/s']"
      ],
      "execution_count": null,
      "outputs": []
    },
    {
      "cell_type": "code",
      "metadata": {
        "id": "J-ao9Jy5Ltox"
      },
      "source": [
        "# road_edges_new['length_s'] = length_s"
      ],
      "execution_count": null,
      "outputs": []
    },
    {
      "cell_type": "code",
      "metadata": {
        "id": "qb0ZO2_oLtoz",
        "outputId": "5b0ccf9e-50f2-4912-828a-ebb77771a2a7"
      },
      "source": [
        "# road_edges_new.head()"
      ],
      "execution_count": null,
      "outputs": [
        {
          "output_type": "execute_result",
          "data": {
            "text/html": [
              "<div>\n",
              "<style scoped>\n",
              "    .dataframe tbody tr th:only-of-type {\n",
              "        vertical-align: middle;\n",
              "    }\n",
              "\n",
              "    .dataframe tbody tr th {\n",
              "        vertical-align: top;\n",
              "    }\n",
              "\n",
              "    .dataframe thead th {\n",
              "        text-align: right;\n",
              "    }\n",
              "</style>\n",
              "<table border=\"1\" class=\"dataframe\">\n",
              "  <thead>\n",
              "    <tr style=\"text-align: right;\">\n",
              "      <th></th>\n",
              "      <th>src_id</th>\n",
              "      <th>dst_id</th>\n",
              "      <th>length</th>\n",
              "      <th>type</th>\n",
              "      <th>form</th>\n",
              "      <th>node_id_x</th>\n",
              "      <th>graph_src</th>\n",
              "      <th>node_id_y</th>\n",
              "      <th>graph_dst</th>\n",
              "      <th>limit_mph</th>\n",
              "      <th>limit_m/s</th>\n",
              "      <th>length_s</th>\n",
              "    </tr>\n",
              "  </thead>\n",
              "  <tbody>\n",
              "    <tr>\n",
              "      <th>0</th>\n",
              "      <td>id003B7E37-119B-44F4-BCF2-51DB8451E70B</td>\n",
              "      <td>id16527908-002A-41F5-844A-53AAD2B66F28</td>\n",
              "      <td>44</td>\n",
              "      <td>Local Road</td>\n",
              "      <td>Single Carriageway</td>\n",
              "      <td>id003B7E37-119B-44F4-BCF2-51DB8451E70B</td>\n",
              "      <td>2809</td>\n",
              "      <td>id16527908-002A-41F5-844A-53AAD2B66F28</td>\n",
              "      <td>268182</td>\n",
              "      <td>30</td>\n",
              "      <td>13.411167</td>\n",
              "      <td>3.280848</td>\n",
              "    </tr>\n",
              "    <tr>\n",
              "      <th>1</th>\n",
              "      <td>id003B7F17-BF47-4C1D-BF65-A825D0C38EE6</td>\n",
              "      <td>idC7ABE34D-275E-41DE-9403-059EBD6C215C</td>\n",
              "      <td>120</td>\n",
              "      <td>Minor Road</td>\n",
              "      <td>Single Carriageway</td>\n",
              "      <td>id003B7F17-BF47-4C1D-BF65-A825D0C38EE6</td>\n",
              "      <td>2810</td>\n",
              "      <td>idC7ABE34D-275E-41DE-9403-059EBD6C215C</td>\n",
              "      <td>2400343</td>\n",
              "      <td>30</td>\n",
              "      <td>13.411167</td>\n",
              "      <td>8.947767</td>\n",
              "    </tr>\n",
              "    <tr>\n",
              "      <th>2</th>\n",
              "      <td>id003B7F17-BF47-4C1D-BF65-A825D0C38EE6</td>\n",
              "      <td>idF78A47FA-435F-42AC-8B8E-8DC03F0DAAC7</td>\n",
              "      <td>46</td>\n",
              "      <td>Restricted Local Access Road</td>\n",
              "      <td>Single Carriageway</td>\n",
              "      <td>id003B7F17-BF47-4C1D-BF65-A825D0C38EE6</td>\n",
              "      <td>2810</td>\n",
              "      <td>idF78A47FA-435F-42AC-8B8E-8DC03F0DAAC7</td>\n",
              "      <td>2976038</td>\n",
              "      <td>30</td>\n",
              "      <td>13.411167</td>\n",
              "      <td>3.429978</td>\n",
              "    </tr>\n",
              "    <tr>\n",
              "      <th>3</th>\n",
              "      <td>id003B8310-CCD0-4161-8736-A73996DB64ED</td>\n",
              "      <td>id46174298-1637-4313-AC7F-5153D650BB85</td>\n",
              "      <td>79</td>\n",
              "      <td>Local Road</td>\n",
              "      <td>Single Carriageway</td>\n",
              "      <td>id003B8310-CCD0-4161-8736-A73996DB64ED</td>\n",
              "      <td>2811</td>\n",
              "      <td>id46174298-1637-4313-AC7F-5153D650BB85</td>\n",
              "      <td>842098</td>\n",
              "      <td>30</td>\n",
              "      <td>13.411167</td>\n",
              "      <td>5.890614</td>\n",
              "    </tr>\n",
              "    <tr>\n",
              "      <th>4</th>\n",
              "      <td>id003B8310-CCD0-4161-8736-A73996DB64ED</td>\n",
              "      <td>id601ABE78-00C6-435B-AFDF-C9F12DAD8966</td>\n",
              "      <td>97</td>\n",
              "      <td>Local Road</td>\n",
              "      <td>Single Carriageway</td>\n",
              "      <td>id003B8310-CCD0-4161-8736-A73996DB64ED</td>\n",
              "      <td>2811</td>\n",
              "      <td>id601ABE78-00C6-435B-AFDF-C9F12DAD8966</td>\n",
              "      <td>1155301</td>\n",
              "      <td>30</td>\n",
              "      <td>13.411167</td>\n",
              "      <td>7.232779</td>\n",
              "    </tr>\n",
              "  </tbody>\n",
              "</table>\n",
              "</div>"
            ],
            "text/plain": [
              "                                   src_id  \\\n",
              "0  id003B7E37-119B-44F4-BCF2-51DB8451E70B   \n",
              "1  id003B7F17-BF47-4C1D-BF65-A825D0C38EE6   \n",
              "2  id003B7F17-BF47-4C1D-BF65-A825D0C38EE6   \n",
              "3  id003B8310-CCD0-4161-8736-A73996DB64ED   \n",
              "4  id003B8310-CCD0-4161-8736-A73996DB64ED   \n",
              "\n",
              "                                   dst_id  length  \\\n",
              "0  id16527908-002A-41F5-844A-53AAD2B66F28      44   \n",
              "1  idC7ABE34D-275E-41DE-9403-059EBD6C215C     120   \n",
              "2  idF78A47FA-435F-42AC-8B8E-8DC03F0DAAC7      46   \n",
              "3  id46174298-1637-4313-AC7F-5153D650BB85      79   \n",
              "4  id601ABE78-00C6-435B-AFDF-C9F12DAD8966      97   \n",
              "\n",
              "                           type                form  \\\n",
              "0                    Local Road  Single Carriageway   \n",
              "1                    Minor Road  Single Carriageway   \n",
              "2  Restricted Local Access Road  Single Carriageway   \n",
              "3                    Local Road  Single Carriageway   \n",
              "4                    Local Road  Single Carriageway   \n",
              "\n",
              "                                node_id_x  graph_src  \\\n",
              "0  id003B7E37-119B-44F4-BCF2-51DB8451E70B       2809   \n",
              "1  id003B7F17-BF47-4C1D-BF65-A825D0C38EE6       2810   \n",
              "2  id003B7F17-BF47-4C1D-BF65-A825D0C38EE6       2810   \n",
              "3  id003B8310-CCD0-4161-8736-A73996DB64ED       2811   \n",
              "4  id003B8310-CCD0-4161-8736-A73996DB64ED       2811   \n",
              "\n",
              "                                node_id_y  graph_dst  limit_mph  limit_m/s  \\\n",
              "0  id16527908-002A-41F5-844A-53AAD2B66F28     268182         30  13.411167   \n",
              "1  idC7ABE34D-275E-41DE-9403-059EBD6C215C    2400343         30  13.411167   \n",
              "2  idF78A47FA-435F-42AC-8B8E-8DC03F0DAAC7    2976038         30  13.411167   \n",
              "3  id46174298-1637-4313-AC7F-5153D650BB85     842098         30  13.411167   \n",
              "4  id601ABE78-00C6-435B-AFDF-C9F12DAD8966    1155301         30  13.411167   \n",
              "\n",
              "   length_s  \n",
              "0  3.280848  \n",
              "1  8.947767  \n",
              "2  3.429978  \n",
              "3  5.890614  \n",
              "4  7.232779  "
            ]
          },
          "metadata": {
            "tags": []
          },
          "execution_count": 68
        }
      ]
    },
    {
      "cell_type": "markdown",
      "metadata": {
        "id": "OQjrXUsBLto2"
      },
      "source": [
        "#### 解決方案"
      ]
    },
    {
      "cell_type": "code",
      "metadata": {
        "id": "OHzW1NL6Lto3",
        "outputId": "6ae09b33-f312-4478-dc7c-7c2a9a1c9d55"
      },
      "source": [
        "# %load solutions/length_in_seconds\n",
        "road_edges['length_s'] = road_edges['length'] / road_edges['limit_m/s']\n",
        "road_edges['length_s'].head()\n"
      ],
      "execution_count": null,
      "outputs": [
        {
          "output_type": "execute_result",
          "data": {
            "text/plain": [
              "0     5.741484\n",
              "1     7.680167\n",
              "2    60.695689\n",
              "3    12.154051\n",
              "4    10.439062\n",
              "Name: length_s, dtype: float64"
            ]
          },
          "metadata": {
            "tags": []
          },
          "execution_count": 90
        }
      ]
    },
    {
      "cell_type": "markdown",
      "metadata": {
        "id": "ZGqV_BnfLto4"
      },
      "source": [
        "### 步驟 3: 建立準備資料架構"
      ]
    },
    {
      "cell_type": "markdown",
      "metadata": {
        "id": "cusy2KTcLto5"
      },
      "source": [
        "請製作名為 `exercise_graph` 的新資料架構，並將其新增至三個欄: `src`、`dst` 與 `length_s`，你可以從 `road_edges` 中獲得上述所有資訊。"
      ]
    },
    {
      "cell_type": "code",
      "metadata": {
        "id": "a6F9z_toLto5",
        "outputId": "586a6233-a273-420d-8592-c5bf0e23bd04"
      },
      "source": [
        "# exercise_graph = cudf.DataFrame()\n",
        "\n",
        "# exercise_graph['src'] = road_edges_new['src_id']\n",
        "# exercise_graph['dst'] = road_edges_new['dst_id']\n",
        "# exercise_graph['length_s'] = road_edges_new['length_s']\n",
        "\n",
        "# exercise_graph.head()"
      ],
      "execution_count": null,
      "outputs": [
        {
          "output_type": "execute_result",
          "data": {
            "text/html": [
              "<div>\n",
              "<style scoped>\n",
              "    .dataframe tbody tr th:only-of-type {\n",
              "        vertical-align: middle;\n",
              "    }\n",
              "\n",
              "    .dataframe tbody tr th {\n",
              "        vertical-align: top;\n",
              "    }\n",
              "\n",
              "    .dataframe thead th {\n",
              "        text-align: right;\n",
              "    }\n",
              "</style>\n",
              "<table border=\"1\" class=\"dataframe\">\n",
              "  <thead>\n",
              "    <tr style=\"text-align: right;\">\n",
              "      <th></th>\n",
              "      <th>src</th>\n",
              "      <th>dst</th>\n",
              "      <th>length_s</th>\n",
              "    </tr>\n",
              "  </thead>\n",
              "  <tbody>\n",
              "    <tr>\n",
              "      <th>0</th>\n",
              "      <td>id003B7E37-119B-44F4-BCF2-51DB8451E70B</td>\n",
              "      <td>id16527908-002A-41F5-844A-53AAD2B66F28</td>\n",
              "      <td>3.280848</td>\n",
              "    </tr>\n",
              "    <tr>\n",
              "      <th>1</th>\n",
              "      <td>id003B7F17-BF47-4C1D-BF65-A825D0C38EE6</td>\n",
              "      <td>idC7ABE34D-275E-41DE-9403-059EBD6C215C</td>\n",
              "      <td>8.947767</td>\n",
              "    </tr>\n",
              "    <tr>\n",
              "      <th>2</th>\n",
              "      <td>id003B7F17-BF47-4C1D-BF65-A825D0C38EE6</td>\n",
              "      <td>idF78A47FA-435F-42AC-8B8E-8DC03F0DAAC7</td>\n",
              "      <td>3.429978</td>\n",
              "    </tr>\n",
              "    <tr>\n",
              "      <th>3</th>\n",
              "      <td>id003B8310-CCD0-4161-8736-A73996DB64ED</td>\n",
              "      <td>id46174298-1637-4313-AC7F-5153D650BB85</td>\n",
              "      <td>5.890614</td>\n",
              "    </tr>\n",
              "    <tr>\n",
              "      <th>4</th>\n",
              "      <td>id003B8310-CCD0-4161-8736-A73996DB64ED</td>\n",
              "      <td>id601ABE78-00C6-435B-AFDF-C9F12DAD8966</td>\n",
              "      <td>7.232779</td>\n",
              "    </tr>\n",
              "  </tbody>\n",
              "</table>\n",
              "</div>"
            ],
            "text/plain": [
              "                                      src  \\\n",
              "0  id003B7E37-119B-44F4-BCF2-51DB8451E70B   \n",
              "1  id003B7F17-BF47-4C1D-BF65-A825D0C38EE6   \n",
              "2  id003B7F17-BF47-4C1D-BF65-A825D0C38EE6   \n",
              "3  id003B8310-CCD0-4161-8736-A73996DB64ED   \n",
              "4  id003B8310-CCD0-4161-8736-A73996DB64ED   \n",
              "\n",
              "                                      dst  length_s  \n",
              "0  id16527908-002A-41F5-844A-53AAD2B66F28  3.280848  \n",
              "1  idC7ABE34D-275E-41DE-9403-059EBD6C215C  8.947767  \n",
              "2  idF78A47FA-435F-42AC-8B8E-8DC03F0DAAC7  3.429978  \n",
              "3  id46174298-1637-4313-AC7F-5153D650BB85  5.890614  \n",
              "4  id601ABE78-00C6-435B-AFDF-C9F12DAD8966  7.232779  "
            ]
          },
          "metadata": {
            "tags": []
          },
          "execution_count": 87
        }
      ]
    },
    {
      "cell_type": "code",
      "metadata": {
        "id": "k7bUhJSbLto8",
        "outputId": "6170a19d-a43d-42ae-fe52-ee4f15e9f811"
      },
      "source": [
        "exercise_graph.dtypes"
      ],
      "execution_count": null,
      "outputs": [
        {
          "output_type": "execute_result",
          "data": {
            "text/plain": [
              "src          object\n",
              "dst          object\n",
              "length_s    float64\n",
              "dtype: object"
            ]
          },
          "metadata": {
            "tags": []
          },
          "execution_count": 81
        }
      ]
    },
    {
      "cell_type": "markdown",
      "metadata": {
        "id": "oEneunJvLtpA"
      },
      "source": [
        "#### 解決方案"
      ]
    },
    {
      "cell_type": "code",
      "metadata": {
        "id": "m31uxnaZLtpC",
        "outputId": "1d0554aa-4904-4bdb-ac74-23a1bf25e30c"
      },
      "source": [
        "# %load solutions/prep_dataframe\n",
        "exercise_graph = cudf.DataFrame()\n",
        "\n",
        "exercise_graph['src'] = road_edges['graph_src']\n",
        "exercise_graph['dst'] = road_edges['graph_dst']\n",
        "exercise_graph['length_s'] = road_edges['length_s']\n",
        "\n",
        "print(exercise_graph.shape)\n",
        "exercise_graph.dtypes\n"
      ],
      "execution_count": null,
      "outputs": [
        {
          "output_type": "stream",
          "text": [
            "(3667200, 3)\n"
          ],
          "name": "stdout"
        },
        {
          "output_type": "execute_result",
          "data": {
            "text/plain": [
              "src           int32\n",
              "dst           int32\n",
              "length_s    float64\n",
              "dtype: object"
            ]
          },
          "metadata": {
            "tags": []
          },
          "execution_count": 91
        }
      ]
    },
    {
      "cell_type": "markdown",
      "metadata": {
        "id": "VGqnr7JJLtpD"
      },
      "source": [
        "### 步驟 4: 建立無指向性的邊緣"
      ]
    },
    {
      "cell_type": "markdown",
      "metadata": {
        "id": "EvMoe4BaLtpE"
      },
      "source": [
        "建立反轉 `src` 與 `dst` 的資料架構，使`exercise_graph` 無指向性，並將其與 `exercise_graph` 串連。請務必刪除重複其他列 `src` 與 `dst` 值的列。"
      ]
    },
    {
      "cell_type": "code",
      "metadata": {
        "id": "JxFrmhjMLtpE"
      },
      "source": [
        "# rev_gdf = cudf.DataFrame()\n",
        "\n",
        "# rev_gdf['src'] = exercise_graph['dst']\n",
        "# rev_gdf['dst'] = exercise_graph['src']\n",
        "# rev_gdf['length_s'] = exercise_graph['length_s']\n",
        "\n",
        "# exercise_graph = cudf.concat([exercise_graph, rev_gdf], \n",
        "#                               ignore_index=True)"
      ],
      "execution_count": null,
      "outputs": []
    },
    {
      "cell_type": "code",
      "metadata": {
        "id": "EZ4qVsA0LtpG",
        "outputId": "2ba493ff-4aa3-4c24-b179-7873a9a08142"
      },
      "source": [
        "# exercise_graph.drop_duplicates(subset=['src', 'dst'], inplace=True)\n",
        "# print(exercise_graph.shape)\n",
        "\n",
        "# # The maximum graph_id is the number of nodes - 1\n",
        "# print(exercise_graph[['src', 'dst']].max().max() == road_nodes['node_id'].unique().shape[0] - 1)\n",
        "\n",
        "# # The minimum graph_id is 0 \n",
        "# print(exercise_graph[['src', 'dst']].min().min() == 0)\n",
        "\n",
        "# # The ID dtypes are int32s\n",
        "# print(exercise_graph[['src', 'dst']].dtypes == 'int32')"
      ],
      "execution_count": null,
      "outputs": [
        {
          "output_type": "stream",
          "text": [
            "(1, 3)\n",
            "False\n",
            "True\n",
            "src    False\n",
            "dst    False\n",
            "dtype: bool\n"
          ],
          "name": "stdout"
        }
      ]
    },
    {
      "cell_type": "markdown",
      "metadata": {
        "id": "9_jclwcELtpJ"
      },
      "source": [
        "#### 解決方案"
      ]
    },
    {
      "cell_type": "code",
      "metadata": {
        "id": "eaPYQOVCLtpJ",
        "outputId": "4a2cf8f9-cd74-4343-a885-b8db8b314746"
      },
      "source": [
        "# %load solutions/make_undirected\n",
        "rev_gdf = cudf.DataFrame()\n",
        "\n",
        "rev_gdf['src'] = exercise_graph['dst']\n",
        "rev_gdf['dst'] = exercise_graph['src']\n",
        "rev_gdf['length_s'] = exercise_graph['length_s']\n",
        "\n",
        "exercise_graph = cudf.concat([exercise_graph, rev_gdf], \n",
        "                              ignore_index=True)\n",
        "\n",
        "print(exercise_graph.shape)\n",
        "\n",
        "exercise_graph.drop_duplicates(subset=['src', 'dst'], inplace=True)\n",
        "print(exercise_graph.shape)\n",
        "\n",
        "# The maximum graph_id is the number of nodes - 1\n",
        "print(exercise_graph[['src', 'dst']].max().max() == road_nodes['node_id'].unique().shape[0] - 1)\n",
        "\n",
        "# The minimum graph_id is 0 \n",
        "print(exercise_graph[['src', 'dst']].min().min() == 0)\n",
        "\n",
        "# The ID dtypes are int32s\n",
        "print(exercise_graph[['src', 'dst']].dtypes == 'int32')\n"
      ],
      "execution_count": null,
      "outputs": [
        {
          "output_type": "stream",
          "text": [
            "(7334400, 3)\n",
            "(7218169, 3)\n",
            "True\n",
            "True\n",
            "src    True\n",
            "dst    True\n",
            "dtype: bool\n"
          ],
          "name": "stdout"
        }
      ]
    },
    {
      "cell_type": "markdown",
      "metadata": {
        "id": "A24cxCPPLtpL"
      },
      "source": [
        "### 步驟 5: 建立圖表"
      ]
    },
    {
      "cell_type": "markdown",
      "metadata": {
        "id": "c04jlvgHLtpL"
      },
      "source": [
        "使用在 `exercise_graph` 中找到的來源與目的地，以及在邊緣權重「秒」值中找到的長度，來建立名為 `G_ex` 的 cuGraph 圖表。"
      ]
    },
    {
      "cell_type": "code",
      "metadata": {
        "id": "F8pc24D2LtpM"
      },
      "source": [
        ""
      ],
      "execution_count": null,
      "outputs": []
    },
    {
      "cell_type": "markdown",
      "metadata": {
        "id": "345OGSzBLtpN"
      },
      "source": [
        "#### 解決方案"
      ]
    },
    {
      "cell_type": "code",
      "metadata": {
        "id": "oRL2wKPDLtpN",
        "outputId": "40ffc3c9-90fe-4e31-f077-58d98308b391"
      },
      "source": [
        "# %load solutions/construct_graph\n",
        "G_ex = cg.Graph()\n",
        "G_ex.add_edge_list(exercise_graph['src'], exercise_graph['dst'], exercise_graph['length_s'])\n"
      ],
      "execution_count": null,
      "outputs": [
        {
          "output_type": "stream",
          "text": [
            "/opt/conda/envs/rapids/lib/python3.6/site-packages/cugraph/structure/graph.py:191: UserWarning: add_edge_list will be deprecated in next release. Use from_cudf_edgelist instead\n",
            "  Use from_cudf_edgelist instead')\n"
          ],
          "name": "stderr"
        }
      ]
    },
    {
      "cell_type": "markdown",
      "metadata": {
        "id": "FQkIk-v5LtpO"
      },
      "source": [
        "## 下一步"
      ]
    },
    {
      "cell_type": "markdown",
      "metadata": {
        "id": "wJQmTX-7LtpP"
      },
      "source": [
        "在下一份學習筆記中，你將使用等同於英國人口數 5 倍的資料集作業，此資料集的大小超過單一 GPU 的記憶體容量。為了處理這筆資料，你將使用 Dask cuDF，將資料分割到 4 個 GPU 上，並執行你在較小單一 GPU 資料集上透過 Vanilla cuDF 進行的相同類型資料操作。"
      ]
    },
    {
      "cell_type": "markdown",
      "metadata": {
        "id": "kdzsjsCrLtpP"
      },
      "source": [
        "<br>\n",
        "<div align=\"center\"><h2>請重新啟動核心</h2></div>"
      ]
    }
  ]
}