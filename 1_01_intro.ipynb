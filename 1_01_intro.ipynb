{
  "nbformat": 4,
  "nbformat_minor": 0,
  "metadata": {
    "kernelspec": {
      "display_name": "Python 3",
      "language": "python",
      "name": "python3"
    },
    "language_info": {
      "codemirror_mode": {
        "name": "ipython",
        "version": 3
      },
      "file_extension": ".py",
      "mimetype": "text/x-python",
      "name": "python",
      "nbconvert_exporter": "python",
      "pygments_lexer": "ipython3",
      "version": "3.6.7"
    },
    "colab": {
      "name": "1-01_intro.ipynb",
      "provenance": [],
      "include_colab_link": true
    }
  },
  "cells": [
    {
      "cell_type": "markdown",
      "metadata": {
        "id": "view-in-github",
        "colab_type": "text"
      },
      "source": [
        "<a href=\"https://colab.research.google.com/github/yiruchen1993/nvidia_gtc_dli_rapids_2020/blob/section_notebooks%2Fdata_manipulation/1_01_intro.ipynb\" target=\"_parent\"><img src=\"https://colab.research.google.com/assets/colab-badge.svg\" alt=\"Open In Colab\"/></a>"
      ]
    },
    {
      "cell_type": "markdown",
      "metadata": {
        "id": "o_c92-ZfI-oH"
      },
      "source": [
        "<div align=\"center\"><img src=\"./images/DLI_Header.png\"></div>"
      ]
    },
    {
      "cell_type": "markdown",
      "metadata": {
        "id": "2rHFrFOcI-oI"
      },
      "source": [
        "# 運用 RAPIDS 加速資料科學的基本原理"
      ]
    },
    {
      "cell_type": "markdown",
      "metadata": {
        "id": "LyAaq5-gI-oJ"
      },
      "source": [
        "在此實作坊中，你將使用支援端對端 GPU 加速資料科學的平台 RAPIDS，藉由人口規模資料，協助阻擋影響英國人口的傳染病。為達到此目標，本實作坊分成 3 節:\n",
        "\n",
        "- *GPU 加速資料操作*\n",
        "- *GPU 加速機器學習*\n",
        "- *專案: 拯救英國*"
      ]
    },
    {
      "cell_type": "markdown",
      "metadata": {
        "id": "V0Ti8307I-oK"
      },
      "source": [
        "## GPU 加速資料操作"
      ]
    },
    {
      "cell_type": "markdown",
      "metadata": {
        "id": "_pi4y2H5I-oN"
      },
      "source": [
        "在本節中，你將與數個資料集互動 (包括大於單一 GPU 記憶體的資料集)，以轉換事先準備好的英國人口、醫院及道路網資料，供多種機器學習演算法使用。"
      ]
    },
    {
      "cell_type": "markdown",
      "metadata": {
        "id": "1qkqgSJJI-oO"
      },
      "source": [
        "## GPU 加速機器學習"
      ]
    },
    {
      "cell_type": "markdown",
      "metadata": {
        "id": "hwD1SZPJI-oP"
      },
      "source": [
        "在本節中，你將運用多種機器學習演算法 (包括 K-means、DBSCAN、Logistic Regression、K-nearest neighbor，與單一來源最短路徑等)，分析理想補給位置、感染人群叢集、感染機率、最近的醫院，以及前往醫療照護院所的最快路線。"
      ]
    },
    {
      "cell_type": "markdown",
      "metadata": {
        "id": "_Z7e8q39I-oQ"
      },
      "source": [
        "## 專案: 拯救英國"
      ]
    },
    {
      "cell_type": "markdown",
      "metadata": {
        "id": "5zE5vV55I-oQ"
      },
      "source": [
        "在本節中，你將運用前兩節所學的一切知識，在模擬期間的數天內，阻止傳染病影響全英國人口。"
      ]
    },
    {
      "cell_type": "markdown",
      "metadata": {
        "id": "2xsfzReXI-oR"
      },
      "source": [
        "## 第 1 節目錄"
      ]
    },
    {
      "cell_type": "markdown",
      "metadata": {
        "id": "U0IQ37FDI-oS"
      },
      "source": [
        "**1-01_intro.ipynb**: 這份 notebook。\n",
        "\n",
        "**1-02_environment.ipynb**: 瞭解互動式程式編輯環境。\n",
        "\n",
        "**1-03_cudf_basics.ipynb**: 開始使用 cuDF 學習 GPU 加速資料架構操作。\n",
        "\n",
        "**1-04_grouping_sorting.ipynb**: 學習更進階的 cuDF 操作。\n",
        "\n",
        "**1-05_grid_converter.ipynb**: 提升你的 cuDF 技能，並使用 CuPy 套用更快速的使用者定義函數 (user-defined functions)，準備機器學習資料集。\n",
        "\n",
        "**1-06_prep_graph.ipynb**: 使用 cuDF 為圖表分析準備資料。\n",
        "\n",
        "**1-07_dask-cudf.ipynb**: 透過 Dask 與 cuDF 與多個 GPU 做大型資料集的轉換(transform)操作。\n",
        "\n",
        "**1-08_grid_converter_dask.ipynb**: 使用多個 GPU 在多個 Dask cuDF 分割區上套用使用者定義函數。"
      ]
    },
    {
      "cell_type": "code",
      "metadata": {
        "id": "vmZ6vvXFI-oS"
      },
      "source": [
        ""
      ],
      "execution_count": null,
      "outputs": []
    }
  ]
}