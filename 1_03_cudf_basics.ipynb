{
  "nbformat": 4,
  "nbformat_minor": 0,
  "metadata": {
    "kernelspec": {
      "display_name": "Python 3",
      "language": "python",
      "name": "python3"
    },
    "language_info": {
      "codemirror_mode": {
        "name": "ipython",
        "version": 3
      },
      "file_extension": ".py",
      "mimetype": "text/x-python",
      "name": "python",
      "nbconvert_exporter": "python",
      "pygments_lexer": "ipython3",
      "version": "3.6.7"
    },
    "colab": {
      "name": "1-03_cudf_basics.ipynb",
      "provenance": [],
      "include_colab_link": true
    }
  },
  "cells": [
    {
      "cell_type": "markdown",
      "metadata": {
        "id": "view-in-github",
        "colab_type": "text"
      },
      "source": [
        "<a href=\"https://colab.research.google.com/github/yiruchen1993/nvidia_gtc_dli_rapids_2020/blob/section_notebooks%2Fdata_manipulation/1_03_cudf_basics.ipynb\" target=\"_parent\"><img src=\"https://colab.research.google.com/assets/colab-badge.svg\" alt=\"Open In Colab\"/></a>"
      ]
    },
    {
      "cell_type": "markdown",
      "metadata": {
        "id": "UEKfgFDHLA2n"
      },
      "source": [
        "# cuDF 簡介"
      ]
    },
    {
      "cell_type": "markdown",
      "metadata": {
        "id": "3z-ABerTLA2o"
      },
      "source": [
        "首先，你將從 [cuDF](https://github.com/rapidsai/cudf) 簡介開始你的加速資料科學訓練，cuDF 是一種讓你能夠建立並操作 GPU DataFrame 的 RAPIDS API。cuDF 使用的介面與 Pandas 相當類似，因此 Python 資料科學家不必做出太多調整即可使用。在此學習筆記中，我們將提供與 cuDF 操作對應的 Pandas 操作，讓你直覺體驗即便是看似簡單的操作，cuDF 速度也能大幅提升。"
      ]
    },
    {
      "cell_type": "markdown",
      "metadata": {
        "id": "tBtlcUSsLA2q"
      },
      "source": [
        "## 目標"
      ]
    },
    {
      "cell_type": "markdown",
      "metadata": {
        "id": "PngcSBFWLA2s"
      },
      "source": [
        "完成此學習筆記後，你將能夠:\n",
        "\n",
        "- 使用 cuDF 從磁碟讀取資料或將資料寫入至磁碟\n",
        "- 使用 cuDF 執行基本資料探索與清理作業"
      ]
    },
    {
      "cell_type": "markdown",
      "metadata": {
        "id": "tnN31lEtLA2t"
      },
      "source": [
        "## 匯入"
      ]
    },
    {
      "cell_type": "markdown",
      "metadata": {
        "id": "feMkM3M8LA2t"
      },
      "source": [
        "我們在此將 GPU 加速資料架構與數學作業匯入 cuDF 與 CuPy，還有作為其依據的 CPU 程式庫 Pandas 與 NumPy，以進行效能對照:"
      ]
    },
    {
      "cell_type": "code",
      "metadata": {
        "id": "9N6Rst11LA2u"
      },
      "source": [
        "import cudf\n",
        "\n",
        "import pandas as pd\n",
        "import numpy as np"
      ],
      "execution_count": null,
      "outputs": []
    },
    {
      "cell_type": "code",
      "metadata": {
        "id": "wbXEOiTELA2y",
        "outputId": "e494bbd1-5056-4190-898e-1465ec8262e3"
      },
      "source": [
        "cudf"
      ],
      "execution_count": null,
      "outputs": [
        {
          "output_type": "execute_result",
          "data": {
            "text/plain": [
              "<module 'cudf' from '/opt/conda/envs/rapids/lib/python3.6/site-packages/cudf/__init__.py'>"
            ]
          },
          "metadata": {
            "tags": []
          },
          "execution_count": 2
        }
      ]
    },
    {
      "cell_type": "markdown",
      "metadata": {
        "id": "CbDyYPg1LA22"
      },
      "source": [
        "## 讀取和寫入資料"
      ]
    },
    {
      "cell_type": "markdown",
      "metadata": {
        "id": "FawWtkeaLA23"
      },
      "source": [
        "透過 [cuDF](https://github.com/rapidsai/cudf)，RAPIDS API 可提供 GPU 加速資料架構，我們便可讀取 [多種格式](https://rapidsai.github.io/projects/cudf/en/0.10.0/api.html#module-cudf.io.csv) 的資料，包含 csv、json、parquet、feather 或 orc 與 Pandas 資料架構等。\n",
        "\n",
        "在本實作坊的第一部分，我們將讀取將近 6,000 萬筆記錄 (對應全英國與威爾斯的人口)，這些資料由英國官方人口普查資料合成。以下我們將直接從本機 csv 檔案將此資料讀入 GPU 記憶體:"
      ]
    },
    {
      "cell_type": "code",
      "metadata": {
        "id": "jRp06m_fLA23",
        "outputId": "98f455b0-6367-4ff9-d48f-18aef8a1cf7a"
      },
      "source": [
        "%time gdf = cudf.read_csv('./data/pop_1-03.csv')\n",
        "gdf.shape"
      ],
      "execution_count": null,
      "outputs": [
        {
          "output_type": "stream",
          "text": [
            "CPU times: user 4.35 s, sys: 2.39 s, total: 6.75 s\n",
            "Wall time: 8.34 s\n"
          ],
          "name": "stdout"
        },
        {
          "output_type": "execute_result",
          "data": {
            "text/plain": [
              "(58479894, 6)"
            ]
          },
          "metadata": {
            "tags": []
          },
          "execution_count": 3
        }
      ]
    },
    {
      "cell_type": "code",
      "metadata": {
        "id": "2N5eCIxMLA28",
        "outputId": "9227d499-3b50-4845-b35a-a077f09972f5"
      },
      "source": [
        "gdf.dtypes"
      ],
      "execution_count": null,
      "outputs": [
        {
          "output_type": "execute_result",
          "data": {
            "text/plain": [
              "age         int64\n",
              "sex        object\n",
              "county     object\n",
              "lat       float64\n",
              "long      float64\n",
              "name       object\n",
              "dtype: object"
            ]
          },
          "metadata": {
            "tags": []
          },
          "execution_count": 4
        }
      ]
    },
    {
      "cell_type": "markdown",
      "metadata": {
        "id": "tOUkQd6NLA3B"
      },
      "source": [
        "以下為將相同資料讀取至 Pandas 資料架構時的效能比較:"
      ]
    },
    {
      "cell_type": "code",
      "metadata": {
        "id": "SoPJN0dRLA3C",
        "outputId": "2128b69d-1f08-4cff-f361-f797f1ee511a"
      },
      "source": [
        "%time df = pd.read_csv('./data/pop_1-03.csv')\n",
        "gdf.shape == df.shape"
      ],
      "execution_count": null,
      "outputs": [
        {
          "output_type": "stream",
          "text": [
            "CPU times: user 25.6 s, sys: 3.35 s, total: 29 s\n",
            "Wall time: 29 s\n"
          ],
          "name": "stdout"
        },
        {
          "output_type": "execute_result",
          "data": {
            "text/plain": [
              "True"
            ]
          },
          "metadata": {
            "tags": []
          },
          "execution_count": 5
        }
      ]
    },
    {
      "cell_type": "markdown",
      "metadata": {
        "id": "67htXVbBLA3H"
      },
      "source": [
        "因為 cuDF 背後的 GPU 記憶體管理較複雜，載入第一筆資料至新 RAPIDS 記憶體環境時的速度有時遠比後續載入內容緩慢。RAPIDS 記憶體管理機制會準備額外的記憶體，以容納你有興趣在資料上使用的資料科學作業陣列，而非在整個工作流程中反覆分配與取消分配記憶體。\n",
        "\n",
        "在此實作坊中，我們將固定使用 `gdf` 來代表 GPU 資料架構，以及使用 `df` 代表 CPU 資料架構，以便比較效能。"
      ]
    },
    {
      "cell_type": "markdown",
      "metadata": {
        "id": "oYVPvgSuLA3I"
      },
      "source": [
        "### 寫入至檔案"
      ]
    },
    {
      "cell_type": "markdown",
      "metadata": {
        "id": "E6OQubDCLA3J"
      },
      "source": [
        "cuDF 還提供將資料寫入至檔案的方法。此處我們特別建立包含黑潭郡居民資料的資料架構，並將此資料寫入 `blackpool.csv`，然後使用 Pandas 執行相同作業以進行比較。"
      ]
    },
    {
      "cell_type": "markdown",
      "metadata": {
        "id": "0Za2kST0LA3J"
      },
      "source": [
        "#### cuDF\n"
      ]
    },
    {
      "cell_type": "code",
      "metadata": {
        "id": "rm52MiIOLA3L",
        "outputId": "53625ecc-6e74-4f89-c9a7-1fb66ed5be92"
      },
      "source": [
        "gdf.head()"
      ],
      "execution_count": null,
      "outputs": [
        {
          "output_type": "execute_result",
          "data": {
            "text/html": [
              "<div>\n",
              "<style scoped>\n",
              "    .dataframe tbody tr th:only-of-type {\n",
              "        vertical-align: middle;\n",
              "    }\n",
              "\n",
              "    .dataframe tbody tr th {\n",
              "        vertical-align: top;\n",
              "    }\n",
              "\n",
              "    .dataframe thead th {\n",
              "        text-align: right;\n",
              "    }\n",
              "</style>\n",
              "<table border=\"1\" class=\"dataframe\">\n",
              "  <thead>\n",
              "    <tr style=\"text-align: right;\">\n",
              "      <th></th>\n",
              "      <th>age</th>\n",
              "      <th>sex</th>\n",
              "      <th>county</th>\n",
              "      <th>lat</th>\n",
              "      <th>long</th>\n",
              "      <th>name</th>\n",
              "    </tr>\n",
              "  </thead>\n",
              "  <tbody>\n",
              "    <tr>\n",
              "      <th>0</th>\n",
              "      <td>0</td>\n",
              "      <td>m</td>\n",
              "      <td>DARLINGTON</td>\n",
              "      <td>54.533644</td>\n",
              "      <td>-1.524401</td>\n",
              "      <td>FRANCIS</td>\n",
              "    </tr>\n",
              "    <tr>\n",
              "      <th>1</th>\n",
              "      <td>0</td>\n",
              "      <td>m</td>\n",
              "      <td>DARLINGTON</td>\n",
              "      <td>54.426256</td>\n",
              "      <td>-1.465314</td>\n",
              "      <td>EDWARD</td>\n",
              "    </tr>\n",
              "    <tr>\n",
              "      <th>2</th>\n",
              "      <td>0</td>\n",
              "      <td>m</td>\n",
              "      <td>DARLINGTON</td>\n",
              "      <td>54.555200</td>\n",
              "      <td>-1.496417</td>\n",
              "      <td>TEDDY</td>\n",
              "    </tr>\n",
              "    <tr>\n",
              "      <th>3</th>\n",
              "      <td>0</td>\n",
              "      <td>m</td>\n",
              "      <td>DARLINGTON</td>\n",
              "      <td>54.547906</td>\n",
              "      <td>-1.572341</td>\n",
              "      <td>ANGUS</td>\n",
              "    </tr>\n",
              "    <tr>\n",
              "      <th>4</th>\n",
              "      <td>0</td>\n",
              "      <td>m</td>\n",
              "      <td>DARLINGTON</td>\n",
              "      <td>54.477639</td>\n",
              "      <td>-1.605995</td>\n",
              "      <td>CHARLIE</td>\n",
              "    </tr>\n",
              "  </tbody>\n",
              "</table>\n",
              "</div>"
            ],
            "text/plain": [
              "   age sex      county        lat      long     name\n",
              "0    0   m  DARLINGTON  54.533644 -1.524401  FRANCIS\n",
              "1    0   m  DARLINGTON  54.426256 -1.465314   EDWARD\n",
              "2    0   m  DARLINGTON  54.555200 -1.496417    TEDDY\n",
              "3    0   m  DARLINGTON  54.547906 -1.572341    ANGUS\n",
              "4    0   m  DARLINGTON  54.477639 -1.605995  CHARLIE"
            ]
          },
          "metadata": {
            "tags": []
          },
          "execution_count": 6
        }
      ]
    },
    {
      "cell_type": "code",
      "metadata": {
        "id": "5LHThrlnLA3O",
        "outputId": "0db00e8c-dc06-4225-e78e-13f88b8665cd"
      },
      "source": [
        "%time blackpool_residents = gdf.loc[gdf['county'] == 'BLACKPOOL']\n",
        "print(f'{blackpool_residents.shape[0]} residents')"
      ],
      "execution_count": null,
      "outputs": [
        {
          "output_type": "stream",
          "text": [
            "CPU times: user 1.57 s, sys: 819 ms, total: 2.39 s\n",
            "Wall time: 3.65 s\n",
            "139305 residents\n"
          ],
          "name": "stdout"
        }
      ]
    },
    {
      "cell_type": "code",
      "metadata": {
        "id": "cGIBUJF-LA3R",
        "outputId": "e0e12d60-3414-4686-a9e2-4a11f228ee80"
      },
      "source": [
        "%time blackpool_residents.to_csv('blackpool.csv')"
      ],
      "execution_count": null,
      "outputs": [
        {
          "output_type": "stream",
          "text": [
            "CPU times: user 17.3 ms, sys: 112 ms, total: 129 ms\n",
            "Wall time: 467 ms\n"
          ],
          "name": "stdout"
        }
      ]
    },
    {
      "cell_type": "markdown",
      "metadata": {
        "id": "hYdX13YHLA3U"
      },
      "source": [
        "#### Pandas"
      ]
    },
    {
      "cell_type": "code",
      "metadata": {
        "id": "CYm72P5vLA3U",
        "outputId": "56c4d03a-7e67-4898-c753-2bd59b25bd28"
      },
      "source": [
        "%time blackpool_residents_pd = df.loc[df['county'] == 'BLACKPOOL']"
      ],
      "execution_count": null,
      "outputs": [
        {
          "output_type": "stream",
          "text": [
            "CPU times: user 2.05 s, sys: 135 ms, total: 2.19 s\n",
            "Wall time: 2.18 s\n"
          ],
          "name": "stdout"
        }
      ]
    },
    {
      "cell_type": "code",
      "metadata": {
        "id": "neWZykVTLA3Y",
        "outputId": "eb317fec-2c16-448b-ec25-be97d7501959"
      },
      "source": [
        "%time blackpool_residents_pd.to_csv('blackpool_pd.csv')"
      ],
      "execution_count": null,
      "outputs": [
        {
          "output_type": "stream",
          "text": [
            "CPU times: user 646 ms, sys: 8.1 ms, total: 654 ms\n",
            "Wall time: 653 ms\n"
          ],
          "name": "stdout"
        }
      ]
    },
    {
      "cell_type": "markdown",
      "metadata": {
        "id": "3lSrwXWWLA3b"
      },
      "source": [
        "## 練習: 初步資料探索"
      ]
    },
    {
      "cell_type": "markdown",
      "metadata": {
        "id": "BBnhoOUqLA3c"
      },
      "source": [
        "現在我們已經載入了一些資料，讓我們開始進行初步探索。\n",
        "\n",
        "在 `gdf` 上使用 `head`、`dtypes` 與 `columns` 方法，並在個別 `gdf` 欄上使用 `value_counts`，以便你瞭解資料狀況。若有興趣，請使用神奇的 `%time` 命令，來與 Pandas `df` 上的相同作業進行效能比較。"
      ]
    },
    {
      "cell_type": "markdown",
      "metadata": {
        "id": "WZUGhkLrLA3d"
      },
      "source": [
        "若要建立額外的互動式儲存格，你可以按一下上方的 [`+`] 按鈕，或是按 `Esc` 切換至命令模式，並使用鍵盤快速鍵 `a` (新增上方儲存格) 與 `b` (新增下方儲存格)。\n",
        "\n",
        "在任何時刻，要是 GPU 記憶體滿了，別忘記你可以重新啟動核心，以相當快的速度重新執行至此階段。"
      ]
    },
    {
      "cell_type": "code",
      "metadata": {
        "id": "HYFA1dpzLA3d",
        "outputId": "131d99ed-aace-43b5-c34f-b3734674e258"
      },
      "source": [
        "# Begin your initial exploration here. Create more cells as needed.\n",
        "%time gdf.head()"
      ],
      "execution_count": null,
      "outputs": [
        {
          "output_type": "stream",
          "text": [
            "CPU times: user 7.3 ms, sys: 2.86 ms, total: 10.2 ms\n",
            "Wall time: 9.08 ms\n"
          ],
          "name": "stdout"
        },
        {
          "output_type": "execute_result",
          "data": {
            "text/html": [
              "<div>\n",
              "<style scoped>\n",
              "    .dataframe tbody tr th:only-of-type {\n",
              "        vertical-align: middle;\n",
              "    }\n",
              "\n",
              "    .dataframe tbody tr th {\n",
              "        vertical-align: top;\n",
              "    }\n",
              "\n",
              "    .dataframe thead th {\n",
              "        text-align: right;\n",
              "    }\n",
              "</style>\n",
              "<table border=\"1\" class=\"dataframe\">\n",
              "  <thead>\n",
              "    <tr style=\"text-align: right;\">\n",
              "      <th></th>\n",
              "      <th>age</th>\n",
              "      <th>sex</th>\n",
              "      <th>county</th>\n",
              "      <th>lat</th>\n",
              "      <th>long</th>\n",
              "      <th>name</th>\n",
              "    </tr>\n",
              "  </thead>\n",
              "  <tbody>\n",
              "    <tr>\n",
              "      <th>0</th>\n",
              "      <td>0</td>\n",
              "      <td>m</td>\n",
              "      <td>DARLINGTON</td>\n",
              "      <td>54.533644</td>\n",
              "      <td>-1.524401</td>\n",
              "      <td>FRANCIS</td>\n",
              "    </tr>\n",
              "    <tr>\n",
              "      <th>1</th>\n",
              "      <td>0</td>\n",
              "      <td>m</td>\n",
              "      <td>DARLINGTON</td>\n",
              "      <td>54.426256</td>\n",
              "      <td>-1.465314</td>\n",
              "      <td>EDWARD</td>\n",
              "    </tr>\n",
              "    <tr>\n",
              "      <th>2</th>\n",
              "      <td>0</td>\n",
              "      <td>m</td>\n",
              "      <td>DARLINGTON</td>\n",
              "      <td>54.555200</td>\n",
              "      <td>-1.496417</td>\n",
              "      <td>TEDDY</td>\n",
              "    </tr>\n",
              "    <tr>\n",
              "      <th>3</th>\n",
              "      <td>0</td>\n",
              "      <td>m</td>\n",
              "      <td>DARLINGTON</td>\n",
              "      <td>54.547906</td>\n",
              "      <td>-1.572341</td>\n",
              "      <td>ANGUS</td>\n",
              "    </tr>\n",
              "    <tr>\n",
              "      <th>4</th>\n",
              "      <td>0</td>\n",
              "      <td>m</td>\n",
              "      <td>DARLINGTON</td>\n",
              "      <td>54.477639</td>\n",
              "      <td>-1.605995</td>\n",
              "      <td>CHARLIE</td>\n",
              "    </tr>\n",
              "  </tbody>\n",
              "</table>\n",
              "</div>"
            ],
            "text/plain": [
              "   age sex      county        lat      long     name\n",
              "0    0   m  DARLINGTON  54.533644 -1.524401  FRANCIS\n",
              "1    0   m  DARLINGTON  54.426256 -1.465314   EDWARD\n",
              "2    0   m  DARLINGTON  54.555200 -1.496417    TEDDY\n",
              "3    0   m  DARLINGTON  54.547906 -1.572341    ANGUS\n",
              "4    0   m  DARLINGTON  54.477639 -1.605995  CHARLIE"
            ]
          },
          "metadata": {
            "tags": []
          },
          "execution_count": 17
        }
      ]
    },
    {
      "cell_type": "code",
      "metadata": {
        "id": "vWqknu1rLA3j",
        "outputId": "79ff00e6-fdea-474b-ff83-af2bf37884de"
      },
      "source": [
        "%time df.head()"
      ],
      "execution_count": null,
      "outputs": [
        {
          "output_type": "stream",
          "text": [
            "CPU times: user 434 µs, sys: 105 µs, total: 539 µs\n",
            "Wall time: 629 µs\n"
          ],
          "name": "stdout"
        },
        {
          "output_type": "execute_result",
          "data": {
            "text/html": [
              "<div>\n",
              "<style scoped>\n",
              "    .dataframe tbody tr th:only-of-type {\n",
              "        vertical-align: middle;\n",
              "    }\n",
              "\n",
              "    .dataframe tbody tr th {\n",
              "        vertical-align: top;\n",
              "    }\n",
              "\n",
              "    .dataframe thead th {\n",
              "        text-align: right;\n",
              "    }\n",
              "</style>\n",
              "<table border=\"1\" class=\"dataframe\">\n",
              "  <thead>\n",
              "    <tr style=\"text-align: right;\">\n",
              "      <th></th>\n",
              "      <th>age</th>\n",
              "      <th>sex</th>\n",
              "      <th>county</th>\n",
              "      <th>lat</th>\n",
              "      <th>long</th>\n",
              "      <th>name</th>\n",
              "    </tr>\n",
              "  </thead>\n",
              "  <tbody>\n",
              "    <tr>\n",
              "      <th>0</th>\n",
              "      <td>0</td>\n",
              "      <td>m</td>\n",
              "      <td>DARLINGTON</td>\n",
              "      <td>54.533644</td>\n",
              "      <td>-1.524401</td>\n",
              "      <td>FRANCIS</td>\n",
              "    </tr>\n",
              "    <tr>\n",
              "      <th>1</th>\n",
              "      <td>0</td>\n",
              "      <td>m</td>\n",
              "      <td>DARLINGTON</td>\n",
              "      <td>54.426256</td>\n",
              "      <td>-1.465314</td>\n",
              "      <td>EDWARD</td>\n",
              "    </tr>\n",
              "    <tr>\n",
              "      <th>2</th>\n",
              "      <td>0</td>\n",
              "      <td>m</td>\n",
              "      <td>DARLINGTON</td>\n",
              "      <td>54.555200</td>\n",
              "      <td>-1.496417</td>\n",
              "      <td>TEDDY</td>\n",
              "    </tr>\n",
              "    <tr>\n",
              "      <th>3</th>\n",
              "      <td>0</td>\n",
              "      <td>m</td>\n",
              "      <td>DARLINGTON</td>\n",
              "      <td>54.547906</td>\n",
              "      <td>-1.572341</td>\n",
              "      <td>ANGUS</td>\n",
              "    </tr>\n",
              "    <tr>\n",
              "      <th>4</th>\n",
              "      <td>0</td>\n",
              "      <td>m</td>\n",
              "      <td>DARLINGTON</td>\n",
              "      <td>54.477639</td>\n",
              "      <td>-1.605995</td>\n",
              "      <td>CHARLIE</td>\n",
              "    </tr>\n",
              "  </tbody>\n",
              "</table>\n",
              "</div>"
            ],
            "text/plain": [
              "   age sex      county        lat      long     name\n",
              "0    0   m  DARLINGTON  54.533644 -1.524401  FRANCIS\n",
              "1    0   m  DARLINGTON  54.426256 -1.465314   EDWARD\n",
              "2    0   m  DARLINGTON  54.555200 -1.496417    TEDDY\n",
              "3    0   m  DARLINGTON  54.547906 -1.572341    ANGUS\n",
              "4    0   m  DARLINGTON  54.477639 -1.605995  CHARLIE"
            ]
          },
          "metadata": {
            "tags": []
          },
          "execution_count": 18
        }
      ]
    },
    {
      "cell_type": "code",
      "metadata": {
        "id": "JlQ2shqALA3l",
        "outputId": "925aa124-3cd8-4c7f-ccab-72a78b4fd3fb"
      },
      "source": [
        "gdf.dtypes"
      ],
      "execution_count": null,
      "outputs": [
        {
          "output_type": "execute_result",
          "data": {
            "text/plain": [
              "age         int64\n",
              "sex        object\n",
              "county     object\n",
              "lat       float64\n",
              "long      float64\n",
              "name       object\n",
              "dtype: object"
            ]
          },
          "metadata": {
            "tags": []
          },
          "execution_count": 13
        }
      ]
    },
    {
      "cell_type": "code",
      "metadata": {
        "id": "7uu-sYlwLA3o",
        "outputId": "09fea88e-3696-4697-8a4f-edd307cae6ed"
      },
      "source": [
        "%time gdf.sex.value_counts()"
      ],
      "execution_count": null,
      "outputs": [
        {
          "output_type": "stream",
          "text": [
            "CPU times: user 59.8 ms, sys: 21.6 ms, total: 81.4 ms\n",
            "Wall time: 80.3 ms\n"
          ],
          "name": "stdout"
        },
        {
          "output_type": "execute_result",
          "data": {
            "text/plain": [
              "f    29579113\n",
              "m    28900781\n",
              "Name: sex, dtype: int32"
            ]
          },
          "metadata": {
            "tags": []
          },
          "execution_count": 19
        }
      ]
    },
    {
      "cell_type": "code",
      "metadata": {
        "id": "yHtTrdQgLA3q",
        "outputId": "30ed8623-4319-4553-8c0f-cb3d4b5bfb63"
      },
      "source": [
        "%time df.sex.value_counts()"
      ],
      "execution_count": null,
      "outputs": [
        {
          "output_type": "stream",
          "text": [
            "CPU times: user 3.23 s, sys: 47.1 ms, total: 3.28 s\n",
            "Wall time: 3.26 s\n"
          ],
          "name": "stdout"
        },
        {
          "output_type": "execute_result",
          "data": {
            "text/plain": [
              "f    29579113\n",
              "m    28900781\n",
              "Name: sex, dtype: int64"
            ]
          },
          "metadata": {
            "tags": []
          },
          "execution_count": 20
        }
      ]
    },
    {
      "cell_type": "code",
      "metadata": {
        "id": "8M8kIKGULA3u",
        "outputId": "2e772b87-98a1-4130-9771-098c8b7715f4"
      },
      "source": [
        "%time gdf.age.value_counts()"
      ],
      "execution_count": null,
      "outputs": [
        {
          "output_type": "stream",
          "text": [
            "CPU times: user 68.8 ms, sys: 12.2 ms, total: 80.9 ms\n",
            "Wall time: 79.8 ms\n"
          ],
          "name": "stdout"
        },
        {
          "output_type": "execute_result",
          "data": {
            "text/plain": [
              "53    824404\n",
              "51    821388\n",
              "52    820676\n",
              "54    816103\n",
              "27    815488\n",
              "       ...  \n",
              "85    221588\n",
              "86    204508\n",
              "87    184122\n",
              "88    161014\n",
              "89    135301\n",
              "Name: age, Length: 91, dtype: int32"
            ]
          },
          "metadata": {
            "tags": []
          },
          "execution_count": 21
        }
      ]
    },
    {
      "cell_type": "code",
      "metadata": {
        "id": "ee0RRoHNLA3w",
        "outputId": "c1dc67a4-fd14-4cfe-e093-cdd641b8f192"
      },
      "source": [
        "%time df.age.value_counts()"
      ],
      "execution_count": null,
      "outputs": [
        {
          "output_type": "stream",
          "text": [
            "CPU times: user 333 ms, sys: 120 ms, total: 453 ms\n",
            "Wall time: 452 ms\n"
          ],
          "name": "stdout"
        },
        {
          "output_type": "execute_result",
          "data": {
            "text/plain": [
              "53    824404\n",
              "51    821388\n",
              "52    820676\n",
              "54    816103\n",
              "27    815488\n",
              "       ...  \n",
              "85    221588\n",
              "86    204508\n",
              "87    184122\n",
              "88    161014\n",
              "89    135301\n",
              "Name: age, Length: 91, dtype: int64"
            ]
          },
          "metadata": {
            "tags": []
          },
          "execution_count": 22
        }
      ]
    },
    {
      "cell_type": "code",
      "metadata": {
        "id": "7tWdT9PWLA3z",
        "outputId": "e6e4acff-1cda-487f-82db-3dc0596f35aa"
      },
      "source": [
        "%time gdf.county.value_counts()"
      ],
      "execution_count": null,
      "outputs": [
        {
          "output_type": "stream",
          "text": [
            "CPU times: user 34.3 ms, sys: 7.3 ms, total: 41.6 ms\n",
            "Wall time: 40.5 ms\n"
          ],
          "name": "stdout"
        },
        {
          "output_type": "execute_result",
          "data": {
            "text/plain": [
              "KENT               1568623\n",
              "ESSEX              1477764\n",
              "HAMPSHIRE          1376316\n",
              "LANCASHIRE         1210053\n",
              "SURREY             1189934\n",
              "                    ...   \n",
              "BLAENAU GWENT        69713\n",
              "MERTHYR TYDFIL       60183\n",
              "RUTLAND              39697\n",
              "CITY OF LONDON        8706\n",
              "ISLES OF SCILLY       2242\n",
              "Name: county, Length: 171, dtype: int32"
            ]
          },
          "metadata": {
            "tags": []
          },
          "execution_count": 24
        }
      ]
    },
    {
      "cell_type": "code",
      "metadata": {
        "id": "E3MzDgU7LA32",
        "outputId": "caf69343-ec77-4e90-b7ec-18d385250d6a"
      },
      "source": [
        "%time df.county.value_counts()"
      ],
      "execution_count": null,
      "outputs": [
        {
          "output_type": "stream",
          "text": [
            "CPU times: user 3.95 s, sys: 74.5 ms, total: 4.03 s\n",
            "Wall time: 4.02 s\n"
          ],
          "name": "stdout"
        },
        {
          "output_type": "execute_result",
          "data": {
            "text/plain": [
              "KENT               1568623\n",
              "ESSEX              1477764\n",
              "HAMPSHIRE          1376316\n",
              "LANCASHIRE         1210053\n",
              "SURREY             1189934\n",
              "                    ...   \n",
              "BLAENAU GWENT        69713\n",
              "MERTHYR TYDFIL       60183\n",
              "RUTLAND              39697\n",
              "CITY OF LONDON        8706\n",
              "ISLES OF SCILLY       2242\n",
              "Name: county, Length: 171, dtype: int64"
            ]
          },
          "metadata": {
            "tags": []
          },
          "execution_count": 23
        }
      ]
    },
    {
      "cell_type": "code",
      "metadata": {
        "id": "F18j416QLA35",
        "outputId": "b3b25939-1c32-47e5-98f7-562204ec8dbd"
      },
      "source": [
        "gdf?"
      ],
      "execution_count": null,
      "outputs": [
        {
          "output_type": "display_data",
          "data": {
            "text/plain": [
              "\u001b[0;31mType:\u001b[0m        DataFrame\n",
              "\u001b[0;31mString form:\u001b[0m\n",
              "age sex      county        lat      long      name\n",
              "           0           0   m  DARLINGTON  54.53 <...> JESSICA\n",
              "           58479893   90   f     NEWPORT  51.578787 -2.827954  FLORENCE\n",
              "           \n",
              "           [58479894 rows x 6 columns]\n",
              "\u001b[0;31mLength:\u001b[0m      58479894\n",
              "\u001b[0;31mFile:\u001b[0m        /opt/conda/envs/rapids/lib/python3.6/site-packages/cudf/core/dataframe.py\n",
              "\u001b[0;31mDocstring:\u001b[0m  \n",
              "A GPU Dataframe object.\n",
              "\n",
              "Parameters\n",
              "----------\n",
              "data : data-type to coerce. Infers date format if to date.\n",
              "\n",
              "Examples\n",
              "--------\n",
              "\n",
              "Build dataframe with `__setitem__`:\n",
              "\n",
              ">>> import cudf\n",
              ">>> df = cudf.DataFrame()\n",
              ">>> df['key'] = [0, 1, 2, 3, 4]\n",
              ">>> df['val'] = [float(i + 10) for i in range(5)]  # insert column\n",
              ">>> print(df)\n",
              "   key   val\n",
              "0    0  10.0\n",
              "1    1  11.0\n",
              "2    2  12.0\n",
              "3    3  13.0\n",
              "4    4  14.0\n",
              "\n",
              "Build DataFrame via dict of columns:\n",
              "\n",
              ">>> import cudf\n",
              ">>> import numpy as np\n",
              ">>> from datetime import datetime, timedelta\n",
              "\n",
              ">>> t0 = datetime.strptime('2018-10-07 12:00:00', '%Y-%m-%d %H:%M:%S')\n",
              ">>> n = 5\n",
              ">>> df = cudf.DataFrame({\n",
              ">>>   'id': np.arange(n),\n",
              ">>>   'datetimes': np.array([(t0+ timedelta(seconds=x)) for x in range(n)])\n",
              ">>> })\n",
              ">>> df\n",
              "    id                datetimes\n",
              "0    0  2018-10-07T12:00:00.000\n",
              "1    1  2018-10-07T12:00:01.000\n",
              "2    2  2018-10-07T12:00:02.000\n",
              "3    3  2018-10-07T12:00:03.000\n",
              "4    4  2018-10-07T12:00:04.000\n",
              "\n",
              "Build DataFrame via list of rows as tuples:\n",
              "\n",
              ">>> import cudf\n",
              ">>> df = cudf.DataFrame([\n",
              "    (5, \"cats\", \"jump\", np.nan),\n",
              "    (2, \"dogs\", \"dig\", 7.5),\n",
              "    (3, \"cows\", \"moo\", -2.1, \"occasionally\"),\n",
              "])\n",
              ">>> df\n",
              "0     1     2     3             4\n",
              "0  5  cats  jump  null          None\n",
              "1  2  dogs   dig   7.5          None\n",
              "2  3  cows   moo  -2.1  occasionally\n",
              "\n",
              "Convert from a Pandas DataFrame:\n",
              "\n",
              ">>> import pandas as pd\n",
              ">>> import cudf\n",
              ">>> pdf = pd.DataFrame({'a': [0, 1, 2, 3],'b': [0.1, 0.2, None, 0.3]})\n",
              ">>> df = cudf.from_pandas(pdf)\n",
              ">>> df\n",
              "  a b\n",
              "0 0 0.1\n",
              "1 1 0.2\n",
              "2 2 nan\n",
              "3 3 0.3\n"
            ]
          },
          "metadata": {
            "tags": []
          }
        }
      ]
    },
    {
      "cell_type": "markdown",
      "metadata": {
        "id": "6AlWGfK4LA38"
      },
      "source": [
        "## cuDF 的基本作業"
      ]
    },
    {
      "cell_type": "markdown",
      "metadata": {
        "id": "2JczGJ6xLA39"
      },
      "source": [
        "cuDF 除了在處理大型資料集時效能更好外，使用體驗也相當類似於 Pandas。在本節中，我們將著重在一些非常簡單的操作上。在 cuDF 資料架構上執行資料作業時，欄式操作通常比起列式操作效能更高。"
      ]
    },
    {
      "cell_type": "markdown",
      "metadata": {
        "id": "ex3cGrFILA39"
      },
      "source": [
        "### 轉換資料類型"
      ]
    },
    {
      "cell_type": "markdown",
      "metadata": {
        "id": "PO_qU3sXLA3-"
      },
      "source": [
        "在此實作坊後段使用的機器學習，有時需要將整數值轉換成浮點值。我們在此將 `age` 欄從 `int64` 轉換成 `float32`，以比較使用 Pandas 作業時的效能:"
      ]
    },
    {
      "cell_type": "code",
      "metadata": {
        "id": "AooU1rzaLA3-",
        "outputId": "8047a0b7-878b-4618-96e8-503d0a0f8089"
      },
      "source": [
        "gdf.dtypes"
      ],
      "execution_count": null,
      "outputs": [
        {
          "output_type": "execute_result",
          "data": {
            "text/plain": [
              "age         int64\n",
              "sex        object\n",
              "county     object\n",
              "lat       float64\n",
              "long      float64\n",
              "name       object\n",
              "dtype: object"
            ]
          },
          "metadata": {
            "tags": []
          },
          "execution_count": 26
        }
      ]
    },
    {
      "cell_type": "markdown",
      "metadata": {
        "id": "O3t-nid6LA4C"
      },
      "source": [
        "#### cuDF"
      ]
    },
    {
      "cell_type": "code",
      "metadata": {
        "id": "UmZ9zXFfLA4C",
        "outputId": "1d32e2c5-43f3-4c25-db2b-e351b1f88c29"
      },
      "source": [
        "%time gdf['age'] = gdf['age'].astype('float32')"
      ],
      "execution_count": null,
      "outputs": [
        {
          "output_type": "stream",
          "text": [
            "CPU times: user 4.57 ms, sys: 0 ns, total: 4.57 ms\n",
            "Wall time: 3.66 ms\n"
          ],
          "name": "stdout"
        }
      ]
    },
    {
      "cell_type": "markdown",
      "metadata": {
        "id": "fZCPCwqJLA4F"
      },
      "source": [
        "#### Pandas"
      ]
    },
    {
      "cell_type": "code",
      "metadata": {
        "id": "A-WA_EX7LA4F",
        "outputId": "9c48584f-8ea8-4946-aa63-d1c87e300283"
      },
      "source": [
        "%time df['age'] = df['age'].astype('float32')"
      ],
      "execution_count": null,
      "outputs": [
        {
          "output_type": "stream",
          "text": [
            "CPU times: user 92.5 ms, sys: 108 ms, total: 201 ms\n",
            "Wall time: 200 ms\n"
          ],
          "name": "stdout"
        }
      ]
    },
    {
      "cell_type": "markdown",
      "metadata": {
        "id": "8Nso7l5dLA4I"
      },
      "source": [
        "### 欄式彙總"
      ]
    },
    {
      "cell_type": "markdown",
      "metadata": {
        "id": "eckFFeCcLA4J"
      },
      "source": [
        "同樣地，欄式彙總也可以利用 GPU 架構與 RAPIDS 記憶體格式。"
      ]
    },
    {
      "cell_type": "markdown",
      "metadata": {
        "id": "pLuxcPliLA4K"
      },
      "source": [
        "#### cuDF"
      ]
    },
    {
      "cell_type": "code",
      "metadata": {
        "id": "dlAq20a9LA4L",
        "outputId": "f4347de0-5a0b-461a-d168-fa086a03c4df"
      },
      "source": [
        "%time gdf['age'].mean()"
      ],
      "execution_count": null,
      "outputs": [
        {
          "output_type": "stream",
          "text": [
            "CPU times: user 1.42 ms, sys: 296 µs, total: 1.72 ms\n",
            "Wall time: 1.11 ms\n"
          ],
          "name": "stdout"
        },
        {
          "output_type": "execute_result",
          "data": {
            "text/plain": [
              "40.12419336806595"
            ]
          },
          "metadata": {
            "tags": []
          },
          "execution_count": 29
        }
      ]
    },
    {
      "cell_type": "markdown",
      "metadata": {
        "id": "RZ06G1z9LA4P"
      },
      "source": [
        "#### Pandas"
      ]
    },
    {
      "cell_type": "code",
      "metadata": {
        "id": "zU5nKWINLA4P",
        "outputId": "ddf86f5a-e621-45df-96f9-263f18e0d317"
      },
      "source": [
        "%time df['age'].mean()"
      ],
      "execution_count": null,
      "outputs": [
        {
          "output_type": "stream",
          "text": [
            "CPU times: user 184 ms, sys: 68.1 ms, total: 253 ms\n",
            "Wall time: 252 ms\n"
          ],
          "name": "stdout"
        },
        {
          "output_type": "execute_result",
          "data": {
            "text/plain": [
              "40.12419"
            ]
          },
          "metadata": {
            "tags": []
          },
          "execution_count": 30
        }
      ]
    },
    {
      "cell_type": "markdown",
      "metadata": {
        "id": "qnxAAdGqLA4R"
      },
      "source": [
        "### 字串作業"
      ]
    },
    {
      "cell_type": "markdown",
      "metadata": {
        "id": "_nHll2gvLA4S"
      },
      "source": [
        "儘管字串並非傳統上與 GPU 相關聯的資料類型，cuDF 仍能支援強大的加速字串作業。"
      ]
    },
    {
      "cell_type": "code",
      "metadata": {
        "id": "16G_j10PLA4S",
        "outputId": "f5b60a5c-c615-421d-9f2b-d4d0dfc33598"
      },
      "source": [
        "gdf.name.unique()"
      ],
      "execution_count": null,
      "outputs": [
        {
          "output_type": "execute_result",
          "data": {
            "text/plain": [
              "0              A\n",
              "1         A'ISHA\n",
              "2        A'NIYAH\n",
              "3          A-JAY\n",
              "4          AABAN\n",
              "          ...   \n",
              "13207      ZYANA\n",
              "13208       ZYLA\n",
              "13209      ZYLAN\n",
              "13210       ZYON\n",
              "13211      ZYRAH\n",
              "Name: name, Length: 13212, dtype: object"
            ]
          },
          "metadata": {
            "tags": []
          },
          "execution_count": 31
        }
      ]
    },
    {
      "cell_type": "markdown",
      "metadata": {
        "id": "PqWfqTu1LA4V"
      },
      "source": [
        "#### cuDF"
      ]
    },
    {
      "cell_type": "code",
      "metadata": {
        "id": "qP-6ZwVGLA4V",
        "outputId": "51f3a562-119f-4cae-ce91-5de27521a91f"
      },
      "source": [
        "%time gdf['name'] = gdf['name'].str.title()"
      ],
      "execution_count": null,
      "outputs": [
        {
          "output_type": "stream",
          "text": [
            "CPU times: user 15 ms, sys: 43.8 ms, total: 58.8 ms\n",
            "Wall time: 58 ms\n"
          ],
          "name": "stdout"
        }
      ]
    },
    {
      "cell_type": "code",
      "metadata": {
        "id": "vx2l4aINLA4X",
        "outputId": "703256c8-9660-45ca-efa6-fc4c99db65e9"
      },
      "source": [
        "gdf.head()"
      ],
      "execution_count": null,
      "outputs": [
        {
          "output_type": "execute_result",
          "data": {
            "text/html": [
              "<div>\n",
              "<style scoped>\n",
              "    .dataframe tbody tr th:only-of-type {\n",
              "        vertical-align: middle;\n",
              "    }\n",
              "\n",
              "    .dataframe tbody tr th {\n",
              "        vertical-align: top;\n",
              "    }\n",
              "\n",
              "    .dataframe thead th {\n",
              "        text-align: right;\n",
              "    }\n",
              "</style>\n",
              "<table border=\"1\" class=\"dataframe\">\n",
              "  <thead>\n",
              "    <tr style=\"text-align: right;\">\n",
              "      <th></th>\n",
              "      <th>age</th>\n",
              "      <th>sex</th>\n",
              "      <th>county</th>\n",
              "      <th>lat</th>\n",
              "      <th>long</th>\n",
              "      <th>name</th>\n",
              "    </tr>\n",
              "  </thead>\n",
              "  <tbody>\n",
              "    <tr>\n",
              "      <th>0</th>\n",
              "      <td>0.0</td>\n",
              "      <td>m</td>\n",
              "      <td>DARLINGTON</td>\n",
              "      <td>54.533644</td>\n",
              "      <td>-1.524401</td>\n",
              "      <td>Francis</td>\n",
              "    </tr>\n",
              "    <tr>\n",
              "      <th>1</th>\n",
              "      <td>0.0</td>\n",
              "      <td>m</td>\n",
              "      <td>DARLINGTON</td>\n",
              "      <td>54.426256</td>\n",
              "      <td>-1.465314</td>\n",
              "      <td>Edward</td>\n",
              "    </tr>\n",
              "    <tr>\n",
              "      <th>2</th>\n",
              "      <td>0.0</td>\n",
              "      <td>m</td>\n",
              "      <td>DARLINGTON</td>\n",
              "      <td>54.555200</td>\n",
              "      <td>-1.496417</td>\n",
              "      <td>Teddy</td>\n",
              "    </tr>\n",
              "    <tr>\n",
              "      <th>3</th>\n",
              "      <td>0.0</td>\n",
              "      <td>m</td>\n",
              "      <td>DARLINGTON</td>\n",
              "      <td>54.547906</td>\n",
              "      <td>-1.572341</td>\n",
              "      <td>Angus</td>\n",
              "    </tr>\n",
              "    <tr>\n",
              "      <th>4</th>\n",
              "      <td>0.0</td>\n",
              "      <td>m</td>\n",
              "      <td>DARLINGTON</td>\n",
              "      <td>54.477639</td>\n",
              "      <td>-1.605995</td>\n",
              "      <td>Charlie</td>\n",
              "    </tr>\n",
              "  </tbody>\n",
              "</table>\n",
              "</div>"
            ],
            "text/plain": [
              "   age sex      county        lat      long     name\n",
              "0  0.0   m  DARLINGTON  54.533644 -1.524401  Francis\n",
              "1  0.0   m  DARLINGTON  54.426256 -1.465314   Edward\n",
              "2  0.0   m  DARLINGTON  54.555200 -1.496417    Teddy\n",
              "3  0.0   m  DARLINGTON  54.547906 -1.572341    Angus\n",
              "4  0.0   m  DARLINGTON  54.477639 -1.605995  Charlie"
            ]
          },
          "metadata": {
            "tags": []
          },
          "execution_count": 33
        }
      ]
    },
    {
      "cell_type": "markdown",
      "metadata": {
        "id": "5WZfyvlvLA4Z"
      },
      "source": [
        "#### Pandas"
      ]
    },
    {
      "cell_type": "code",
      "metadata": {
        "id": "n4uN6LMMLA4a",
        "outputId": "d6eb3c99-8127-4984-fa20-122918098ebc"
      },
      "source": [
        "%time df['name'] = df['name'].str.title()"
      ],
      "execution_count": null,
      "outputs": [
        {
          "output_type": "stream",
          "text": [
            "CPU times: user 20.4 s, sys: 1.89 s, total: 22.3 s\n",
            "Wall time: 22.3 s\n"
          ],
          "name": "stdout"
        }
      ]
    },
    {
      "cell_type": "code",
      "metadata": {
        "id": "pYMB2r2ILA4c",
        "outputId": "2b254529-9b69-4caa-9447-5338f74e4cd9"
      },
      "source": [
        "df.head()"
      ],
      "execution_count": null,
      "outputs": [
        {
          "output_type": "execute_result",
          "data": {
            "text/html": [
              "<div>\n",
              "<style scoped>\n",
              "    .dataframe tbody tr th:only-of-type {\n",
              "        vertical-align: middle;\n",
              "    }\n",
              "\n",
              "    .dataframe tbody tr th {\n",
              "        vertical-align: top;\n",
              "    }\n",
              "\n",
              "    .dataframe thead th {\n",
              "        text-align: right;\n",
              "    }\n",
              "</style>\n",
              "<table border=\"1\" class=\"dataframe\">\n",
              "  <thead>\n",
              "    <tr style=\"text-align: right;\">\n",
              "      <th></th>\n",
              "      <th>age</th>\n",
              "      <th>sex</th>\n",
              "      <th>county</th>\n",
              "      <th>lat</th>\n",
              "      <th>long</th>\n",
              "      <th>name</th>\n",
              "    </tr>\n",
              "  </thead>\n",
              "  <tbody>\n",
              "    <tr>\n",
              "      <th>0</th>\n",
              "      <td>0.0</td>\n",
              "      <td>m</td>\n",
              "      <td>DARLINGTON</td>\n",
              "      <td>54.533644</td>\n",
              "      <td>-1.524401</td>\n",
              "      <td>Francis</td>\n",
              "    </tr>\n",
              "    <tr>\n",
              "      <th>1</th>\n",
              "      <td>0.0</td>\n",
              "      <td>m</td>\n",
              "      <td>DARLINGTON</td>\n",
              "      <td>54.426256</td>\n",
              "      <td>-1.465314</td>\n",
              "      <td>Edward</td>\n",
              "    </tr>\n",
              "    <tr>\n",
              "      <th>2</th>\n",
              "      <td>0.0</td>\n",
              "      <td>m</td>\n",
              "      <td>DARLINGTON</td>\n",
              "      <td>54.555200</td>\n",
              "      <td>-1.496417</td>\n",
              "      <td>Teddy</td>\n",
              "    </tr>\n",
              "    <tr>\n",
              "      <th>3</th>\n",
              "      <td>0.0</td>\n",
              "      <td>m</td>\n",
              "      <td>DARLINGTON</td>\n",
              "      <td>54.547906</td>\n",
              "      <td>-1.572341</td>\n",
              "      <td>Angus</td>\n",
              "    </tr>\n",
              "    <tr>\n",
              "      <th>4</th>\n",
              "      <td>0.0</td>\n",
              "      <td>m</td>\n",
              "      <td>DARLINGTON</td>\n",
              "      <td>54.477639</td>\n",
              "      <td>-1.605995</td>\n",
              "      <td>Charlie</td>\n",
              "    </tr>\n",
              "  </tbody>\n",
              "</table>\n",
              "</div>"
            ],
            "text/plain": [
              "   age sex      county        lat      long     name\n",
              "0  0.0   m  DARLINGTON  54.533644 -1.524401  Francis\n",
              "1  0.0   m  DARLINGTON  54.426256 -1.465314   Edward\n",
              "2  0.0   m  DARLINGTON  54.555200 -1.496417    Teddy\n",
              "3  0.0   m  DARLINGTON  54.547906 -1.572341    Angus\n",
              "4  0.0   m  DARLINGTON  54.477639 -1.605995  Charlie"
            ]
          },
          "metadata": {
            "tags": []
          },
          "execution_count": 35
        }
      ]
    },
    {
      "cell_type": "markdown",
      "metadata": {
        "id": "ZgK8biVnLA4g"
      },
      "source": [
        "## 使用 `loc` 與 `iloc` 製作資料子集"
      ]
    },
    {
      "cell_type": "markdown",
      "metadata": {
        "id": "aE3h1kSJLA4g"
      },
      "source": [
        "cuDF 也支援核心資料子集工具 `loc` (標籤型定位器) 與 `iloc` (整數型定位器)。"
      ]
    },
    {
      "cell_type": "markdown",
      "metadata": {
        "id": "qXC7Zm4cLA4h"
      },
      "source": [
        "### 選取範圍"
      ]
    },
    {
      "cell_type": "markdown",
      "metadata": {
        "id": "HIDnmGhOLA4h"
      },
      "source": [
        "我們的資料標籤剛好是漸增編號，因此與使用 Pandas 時相同，`loc` 會包含每一個傳遞值，而 `iloc` 會提供半開放式範圍 (排除最終值)。"
      ]
    },
    {
      "cell_type": "code",
      "metadata": {
        "id": "0BlpQqD0LA4h",
        "outputId": "870d9a82-282b-4ab1-918a-290dc78360a0"
      },
      "source": [
        "gdf.loc[100:105]"
      ],
      "execution_count": null,
      "outputs": [
        {
          "output_type": "execute_result",
          "data": {
            "text/html": [
              "<div>\n",
              "<style scoped>\n",
              "    .dataframe tbody tr th:only-of-type {\n",
              "        vertical-align: middle;\n",
              "    }\n",
              "\n",
              "    .dataframe tbody tr th {\n",
              "        vertical-align: top;\n",
              "    }\n",
              "\n",
              "    .dataframe thead th {\n",
              "        text-align: right;\n",
              "    }\n",
              "</style>\n",
              "<table border=\"1\" class=\"dataframe\">\n",
              "  <thead>\n",
              "    <tr style=\"text-align: right;\">\n",
              "      <th></th>\n",
              "      <th>age</th>\n",
              "      <th>sex</th>\n",
              "      <th>county</th>\n",
              "      <th>lat</th>\n",
              "      <th>long</th>\n",
              "      <th>name</th>\n",
              "    </tr>\n",
              "  </thead>\n",
              "  <tbody>\n",
              "    <tr>\n",
              "      <th>100</th>\n",
              "      <td>0.0</td>\n",
              "      <td>m</td>\n",
              "      <td>DARLINGTON</td>\n",
              "      <td>54.519527</td>\n",
              "      <td>-1.557723</td>\n",
              "      <td>Samuel</td>\n",
              "    </tr>\n",
              "    <tr>\n",
              "      <th>101</th>\n",
              "      <td>0.0</td>\n",
              "      <td>m</td>\n",
              "      <td>DARLINGTON</td>\n",
              "      <td>54.530248</td>\n",
              "      <td>-1.500405</td>\n",
              "      <td>Alden</td>\n",
              "    </tr>\n",
              "    <tr>\n",
              "      <th>102</th>\n",
              "      <td>0.0</td>\n",
              "      <td>m</td>\n",
              "      <td>DARLINGTON</td>\n",
              "      <td>54.515970</td>\n",
              "      <td>-1.628573</td>\n",
              "      <td>Samuel</td>\n",
              "    </tr>\n",
              "    <tr>\n",
              "      <th>103</th>\n",
              "      <td>0.0</td>\n",
              "      <td>m</td>\n",
              "      <td>DARLINGTON</td>\n",
              "      <td>54.543373</td>\n",
              "      <td>-1.664323</td>\n",
              "      <td>Muhammad</td>\n",
              "    </tr>\n",
              "    <tr>\n",
              "      <th>104</th>\n",
              "      <td>0.0</td>\n",
              "      <td>m</td>\n",
              "      <td>DARLINGTON</td>\n",
              "      <td>54.554589</td>\n",
              "      <td>-1.507385</td>\n",
              "      <td>Isaac</td>\n",
              "    </tr>\n",
              "    <tr>\n",
              "      <th>105</th>\n",
              "      <td>0.0</td>\n",
              "      <td>m</td>\n",
              "      <td>DARLINGTON</td>\n",
              "      <td>54.487209</td>\n",
              "      <td>-1.541073</td>\n",
              "      <td>Jayden</td>\n",
              "    </tr>\n",
              "  </tbody>\n",
              "</table>\n",
              "</div>"
            ],
            "text/plain": [
              "     age sex      county        lat      long      name\n",
              "100  0.0   m  DARLINGTON  54.519527 -1.557723    Samuel\n",
              "101  0.0   m  DARLINGTON  54.530248 -1.500405     Alden\n",
              "102  0.0   m  DARLINGTON  54.515970 -1.628573    Samuel\n",
              "103  0.0   m  DARLINGTON  54.543373 -1.664323  Muhammad\n",
              "104  0.0   m  DARLINGTON  54.554589 -1.507385     Isaac\n",
              "105  0.0   m  DARLINGTON  54.487209 -1.541073    Jayden"
            ]
          },
          "metadata": {
            "tags": []
          },
          "execution_count": 36
        }
      ]
    },
    {
      "cell_type": "code",
      "metadata": {
        "id": "RCC2bipKLA4k",
        "outputId": "bc48012c-986e-4a9d-e2e3-7f2a0c546b5d"
      },
      "source": [
        "gdf.iloc[100:105]"
      ],
      "execution_count": null,
      "outputs": [
        {
          "output_type": "execute_result",
          "data": {
            "text/html": [
              "<div>\n",
              "<style scoped>\n",
              "    .dataframe tbody tr th:only-of-type {\n",
              "        vertical-align: middle;\n",
              "    }\n",
              "\n",
              "    .dataframe tbody tr th {\n",
              "        vertical-align: top;\n",
              "    }\n",
              "\n",
              "    .dataframe thead th {\n",
              "        text-align: right;\n",
              "    }\n",
              "</style>\n",
              "<table border=\"1\" class=\"dataframe\">\n",
              "  <thead>\n",
              "    <tr style=\"text-align: right;\">\n",
              "      <th></th>\n",
              "      <th>age</th>\n",
              "      <th>sex</th>\n",
              "      <th>county</th>\n",
              "      <th>lat</th>\n",
              "      <th>long</th>\n",
              "      <th>name</th>\n",
              "    </tr>\n",
              "  </thead>\n",
              "  <tbody>\n",
              "    <tr>\n",
              "      <th>100</th>\n",
              "      <td>0.0</td>\n",
              "      <td>m</td>\n",
              "      <td>DARLINGTON</td>\n",
              "      <td>54.519527</td>\n",
              "      <td>-1.557723</td>\n",
              "      <td>Samuel</td>\n",
              "    </tr>\n",
              "    <tr>\n",
              "      <th>101</th>\n",
              "      <td>0.0</td>\n",
              "      <td>m</td>\n",
              "      <td>DARLINGTON</td>\n",
              "      <td>54.530248</td>\n",
              "      <td>-1.500405</td>\n",
              "      <td>Alden</td>\n",
              "    </tr>\n",
              "    <tr>\n",
              "      <th>102</th>\n",
              "      <td>0.0</td>\n",
              "      <td>m</td>\n",
              "      <td>DARLINGTON</td>\n",
              "      <td>54.515970</td>\n",
              "      <td>-1.628573</td>\n",
              "      <td>Samuel</td>\n",
              "    </tr>\n",
              "    <tr>\n",
              "      <th>103</th>\n",
              "      <td>0.0</td>\n",
              "      <td>m</td>\n",
              "      <td>DARLINGTON</td>\n",
              "      <td>54.543373</td>\n",
              "      <td>-1.664323</td>\n",
              "      <td>Muhammad</td>\n",
              "    </tr>\n",
              "    <tr>\n",
              "      <th>104</th>\n",
              "      <td>0.0</td>\n",
              "      <td>m</td>\n",
              "      <td>DARLINGTON</td>\n",
              "      <td>54.554589</td>\n",
              "      <td>-1.507385</td>\n",
              "      <td>Isaac</td>\n",
              "    </tr>\n",
              "  </tbody>\n",
              "</table>\n",
              "</div>"
            ],
            "text/plain": [
              "     age sex      county        lat      long      name\n",
              "100  0.0   m  DARLINGTON  54.519527 -1.557723    Samuel\n",
              "101  0.0   m  DARLINGTON  54.530248 -1.500405     Alden\n",
              "102  0.0   m  DARLINGTON  54.515970 -1.628573    Samuel\n",
              "103  0.0   m  DARLINGTON  54.543373 -1.664323  Muhammad\n",
              "104  0.0   m  DARLINGTON  54.554589 -1.507385     Isaac"
            ]
          },
          "metadata": {
            "tags": []
          },
          "execution_count": 37
        }
      ]
    },
    {
      "cell_type": "markdown",
      "metadata": {
        "id": "q15pZSIrLA4m"
      },
      "source": [
        "### `loc` 與布林選擇"
      ]
    },
    {
      "cell_type": "markdown",
      "metadata": {
        "id": "K8hjr0LYLA4m"
      },
      "source": [
        "我們可以搭配布林選擇使用 `loc`:"
      ]
    },
    {
      "cell_type": "markdown",
      "metadata": {
        "id": "l6-BdVXmLA4m"
      },
      "source": [
        "#### cuDF"
      ]
    },
    {
      "cell_type": "code",
      "metadata": {
        "id": "usmBby-9LA4n",
        "outputId": "e38c34c2-df90-46e6-e58a-75811671e3f2"
      },
      "source": [
        "# as of version 0.10, the startswith method returns a list, so we convert it back to a Series for efficiency\n",
        "# in a future version, that method and other string methods will return a Series when appropriate\n",
        "%time e_names = gdf.loc[cudf.Series(gdf['name'].str.startswith('E'))]\n",
        "e_names.head()"
      ],
      "execution_count": null,
      "outputs": [
        {
          "output_type": "stream",
          "text": [
            "CPU times: user 1.38 s, sys: 518 ms, total: 1.9 s\n",
            "Wall time: 1.96 s\n"
          ],
          "name": "stdout"
        },
        {
          "output_type": "execute_result",
          "data": {
            "text/html": [
              "<div>\n",
              "<style scoped>\n",
              "    .dataframe tbody tr th:only-of-type {\n",
              "        vertical-align: middle;\n",
              "    }\n",
              "\n",
              "    .dataframe tbody tr th {\n",
              "        vertical-align: top;\n",
              "    }\n",
              "\n",
              "    .dataframe thead th {\n",
              "        text-align: right;\n",
              "    }\n",
              "</style>\n",
              "<table border=\"1\" class=\"dataframe\">\n",
              "  <thead>\n",
              "    <tr style=\"text-align: right;\">\n",
              "      <th></th>\n",
              "      <th>age</th>\n",
              "      <th>sex</th>\n",
              "      <th>county</th>\n",
              "      <th>lat</th>\n",
              "      <th>long</th>\n",
              "      <th>name</th>\n",
              "    </tr>\n",
              "  </thead>\n",
              "  <tbody>\n",
              "    <tr>\n",
              "      <th>1</th>\n",
              "      <td>0.0</td>\n",
              "      <td>m</td>\n",
              "      <td>DARLINGTON</td>\n",
              "      <td>54.426256</td>\n",
              "      <td>-1.465314</td>\n",
              "      <td>Edward</td>\n",
              "    </tr>\n",
              "    <tr>\n",
              "      <th>6</th>\n",
              "      <td>0.0</td>\n",
              "      <td>m</td>\n",
              "      <td>DARLINGTON</td>\n",
              "      <td>54.501872</td>\n",
              "      <td>-1.667874</td>\n",
              "      <td>Eamonn</td>\n",
              "    </tr>\n",
              "    <tr>\n",
              "      <th>34</th>\n",
              "      <td>0.0</td>\n",
              "      <td>m</td>\n",
              "      <td>DARLINGTON</td>\n",
              "      <td>54.483065</td>\n",
              "      <td>-1.501312</td>\n",
              "      <td>Ethan</td>\n",
              "    </tr>\n",
              "    <tr>\n",
              "      <th>45</th>\n",
              "      <td>0.0</td>\n",
              "      <td>m</td>\n",
              "      <td>DARLINGTON</td>\n",
              "      <td>54.640205</td>\n",
              "      <td>-1.558986</td>\n",
              "      <td>Elvin</td>\n",
              "    </tr>\n",
              "    <tr>\n",
              "      <th>49</th>\n",
              "      <td>0.0</td>\n",
              "      <td>m</td>\n",
              "      <td>DARLINGTON</td>\n",
              "      <td>54.575450</td>\n",
              "      <td>-1.600592</td>\n",
              "      <td>Edward</td>\n",
              "    </tr>\n",
              "  </tbody>\n",
              "</table>\n",
              "</div>"
            ],
            "text/plain": [
              "    age sex      county        lat      long    name\n",
              "1   0.0   m  DARLINGTON  54.426256 -1.465314  Edward\n",
              "6   0.0   m  DARLINGTON  54.501872 -1.667874  Eamonn\n",
              "34  0.0   m  DARLINGTON  54.483065 -1.501312   Ethan\n",
              "45  0.0   m  DARLINGTON  54.640205 -1.558986   Elvin\n",
              "49  0.0   m  DARLINGTON  54.575450 -1.600592  Edward"
            ]
          },
          "metadata": {
            "tags": []
          },
          "execution_count": 38
        }
      ]
    },
    {
      "cell_type": "code",
      "metadata": {
        "id": "r10C5eCqLA4p",
        "outputId": "c6cbbbd6-c2aa-4e47-8207-aad24ca2f3fd"
      },
      "source": [
        "cudf.Series(gdf['name'].str.startswith('E'))"
      ],
      "execution_count": null,
      "outputs": [
        {
          "output_type": "execute_result",
          "data": {
            "text/plain": [
              "0           False\n",
              "1            True\n",
              "2           False\n",
              "3           False\n",
              "4           False\n",
              "            ...  \n",
              "58479889    False\n",
              "58479890    False\n",
              "58479891    False\n",
              "58479892    False\n",
              "58479893    False\n",
              "Length: 58479894, dtype: bool"
            ]
          },
          "metadata": {
            "tags": []
          },
          "execution_count": 39
        }
      ]
    },
    {
      "cell_type": "markdown",
      "metadata": {
        "id": "VSgAlSjwLA4s"
      },
      "source": [
        "#### Pandas"
      ]
    },
    {
      "cell_type": "code",
      "metadata": {
        "id": "4JZEzxQ0LA4t",
        "outputId": "f8e89f75-ab02-4c38-a79c-f2d843f5aab5"
      },
      "source": [
        "%time e_names_pd = df.loc[df['name'].str.startswith('E')]"
      ],
      "execution_count": null,
      "outputs": [
        {
          "output_type": "stream",
          "text": [
            "CPU times: user 17.5 s, sys: 648 ms, total: 18.2 s\n",
            "Wall time: 18.2 s\n"
          ],
          "name": "stdout"
        }
      ]
    },
    {
      "cell_type": "markdown",
      "metadata": {
        "id": "pOFUwsoXLA4w"
      },
      "source": [
        "### 結合 NumPy 方法"
      ]
    },
    {
      "cell_type": "markdown",
      "metadata": {
        "id": "K1yM4xxmLA4w"
      },
      "source": [
        "我們可以結合 cuDF 與 NumPy 方法。以下我們將使用 `np.logical_and` 進行元素式布林選擇。"
      ]
    },
    {
      "cell_type": "markdown",
      "metadata": {
        "id": "Z5EMYjQcLA4x"
      },
      "source": [
        "#### cuDF"
      ]
    },
    {
      "cell_type": "code",
      "metadata": {
        "id": "SHerkczdLA4x",
        "outputId": "8d6bb52d-ab8c-4502-f241-34185b5ea92f"
      },
      "source": [
        "%time ed_names = gdf.loc[np.logical_and(gdf['name'].str.startswith('E'), \\\n",
        "                                        gdf['name'].str.endswith('d'))]\n",
        "ed_names.head()"
      ],
      "execution_count": null,
      "outputs": [
        {
          "output_type": "stream",
          "text": [
            "CPU times: user 4.41 s, sys: 361 ms, total: 4.77 s\n",
            "Wall time: 4.89 s\n"
          ],
          "name": "stdout"
        },
        {
          "output_type": "execute_result",
          "data": {
            "text/html": [
              "<div>\n",
              "<style scoped>\n",
              "    .dataframe tbody tr th:only-of-type {\n",
              "        vertical-align: middle;\n",
              "    }\n",
              "\n",
              "    .dataframe tbody tr th {\n",
              "        vertical-align: top;\n",
              "    }\n",
              "\n",
              "    .dataframe thead th {\n",
              "        text-align: right;\n",
              "    }\n",
              "</style>\n",
              "<table border=\"1\" class=\"dataframe\">\n",
              "  <thead>\n",
              "    <tr style=\"text-align: right;\">\n",
              "      <th></th>\n",
              "      <th>age</th>\n",
              "      <th>sex</th>\n",
              "      <th>county</th>\n",
              "      <th>lat</th>\n",
              "      <th>long</th>\n",
              "      <th>name</th>\n",
              "    </tr>\n",
              "  </thead>\n",
              "  <tbody>\n",
              "    <tr>\n",
              "      <th>1</th>\n",
              "      <td>0.0</td>\n",
              "      <td>m</td>\n",
              "      <td>DARLINGTON</td>\n",
              "      <td>54.426256</td>\n",
              "      <td>-1.465314</td>\n",
              "      <td>Edward</td>\n",
              "    </tr>\n",
              "    <tr>\n",
              "      <th>49</th>\n",
              "      <td>0.0</td>\n",
              "      <td>m</td>\n",
              "      <td>DARLINGTON</td>\n",
              "      <td>54.575450</td>\n",
              "      <td>-1.600592</td>\n",
              "      <td>Edward</td>\n",
              "    </tr>\n",
              "    <tr>\n",
              "      <th>106</th>\n",
              "      <td>0.0</td>\n",
              "      <td>m</td>\n",
              "      <td>DARLINGTON</td>\n",
              "      <td>54.488042</td>\n",
              "      <td>-1.640927</td>\n",
              "      <td>Edward</td>\n",
              "    </tr>\n",
              "    <tr>\n",
              "      <th>145</th>\n",
              "      <td>0.0</td>\n",
              "      <td>m</td>\n",
              "      <td>DARLINGTON</td>\n",
              "      <td>54.492810</td>\n",
              "      <td>-1.509049</td>\n",
              "      <td>Edward</td>\n",
              "    </tr>\n",
              "    <tr>\n",
              "      <th>170</th>\n",
              "      <td>0.0</td>\n",
              "      <td>m</td>\n",
              "      <td>DARLINGTON</td>\n",
              "      <td>54.577920</td>\n",
              "      <td>-1.436109</td>\n",
              "      <td>Edward</td>\n",
              "    </tr>\n",
              "  </tbody>\n",
              "</table>\n",
              "</div>"
            ],
            "text/plain": [
              "     age sex      county        lat      long    name\n",
              "1    0.0   m  DARLINGTON  54.426256 -1.465314  Edward\n",
              "49   0.0   m  DARLINGTON  54.575450 -1.600592  Edward\n",
              "106  0.0   m  DARLINGTON  54.488042 -1.640927  Edward\n",
              "145  0.0   m  DARLINGTON  54.492810 -1.509049  Edward\n",
              "170  0.0   m  DARLINGTON  54.577920 -1.436109  Edward"
            ]
          },
          "metadata": {
            "tags": []
          },
          "execution_count": 46
        }
      ]
    },
    {
      "cell_type": "markdown",
      "metadata": {
        "id": "U9XF7pPeLA41"
      },
      "source": [
        "為了提高效能，我們可以使用 CuPy 而非 NumPy，進而在 GPU 上執行元素式布林 `logical_and` 作業。"
      ]
    },
    {
      "cell_type": "code",
      "metadata": {
        "id": "apETEB2qLA42"
      },
      "source": [
        "import cupy as cp"
      ],
      "execution_count": null,
      "outputs": []
    },
    {
      "cell_type": "code",
      "metadata": {
        "id": "kFYu5V18LA44",
        "outputId": "271a5c3a-c3c1-4005-b433-ec4ed8cb0ba4"
      },
      "source": [
        "%time ed_names = gdf.loc[cudf.Series(cp.logical_and(cudf.Series(gdf['name'].str.startswith('E')), \\\n",
        "                                                    cudf.Series(gdf['name'].str.endswith('d'))))]\n",
        "ed_names.head()"
      ],
      "execution_count": null,
      "outputs": [
        {
          "output_type": "stream",
          "text": [
            "CPU times: user 1.96 s, sys: 296 ms, total: 2.25 s\n",
            "Wall time: 2.27 s\n"
          ],
          "name": "stdout"
        },
        {
          "output_type": "execute_result",
          "data": {
            "text/html": [
              "<div>\n",
              "<style scoped>\n",
              "    .dataframe tbody tr th:only-of-type {\n",
              "        vertical-align: middle;\n",
              "    }\n",
              "\n",
              "    .dataframe tbody tr th {\n",
              "        vertical-align: top;\n",
              "    }\n",
              "\n",
              "    .dataframe thead th {\n",
              "        text-align: right;\n",
              "    }\n",
              "</style>\n",
              "<table border=\"1\" class=\"dataframe\">\n",
              "  <thead>\n",
              "    <tr style=\"text-align: right;\">\n",
              "      <th></th>\n",
              "      <th>age</th>\n",
              "      <th>sex</th>\n",
              "      <th>county</th>\n",
              "      <th>lat</th>\n",
              "      <th>long</th>\n",
              "      <th>name</th>\n",
              "    </tr>\n",
              "  </thead>\n",
              "  <tbody>\n",
              "    <tr>\n",
              "      <th>1</th>\n",
              "      <td>0.0</td>\n",
              "      <td>m</td>\n",
              "      <td>DARLINGTON</td>\n",
              "      <td>54.426256</td>\n",
              "      <td>-1.465314</td>\n",
              "      <td>Edward</td>\n",
              "    </tr>\n",
              "    <tr>\n",
              "      <th>49</th>\n",
              "      <td>0.0</td>\n",
              "      <td>m</td>\n",
              "      <td>DARLINGTON</td>\n",
              "      <td>54.575450</td>\n",
              "      <td>-1.600592</td>\n",
              "      <td>Edward</td>\n",
              "    </tr>\n",
              "    <tr>\n",
              "      <th>106</th>\n",
              "      <td>0.0</td>\n",
              "      <td>m</td>\n",
              "      <td>DARLINGTON</td>\n",
              "      <td>54.488042</td>\n",
              "      <td>-1.640927</td>\n",
              "      <td>Edward</td>\n",
              "    </tr>\n",
              "    <tr>\n",
              "      <th>145</th>\n",
              "      <td>0.0</td>\n",
              "      <td>m</td>\n",
              "      <td>DARLINGTON</td>\n",
              "      <td>54.492810</td>\n",
              "      <td>-1.509049</td>\n",
              "      <td>Edward</td>\n",
              "    </tr>\n",
              "    <tr>\n",
              "      <th>170</th>\n",
              "      <td>0.0</td>\n",
              "      <td>m</td>\n",
              "      <td>DARLINGTON</td>\n",
              "      <td>54.577920</td>\n",
              "      <td>-1.436109</td>\n",
              "      <td>Edward</td>\n",
              "    </tr>\n",
              "  </tbody>\n",
              "</table>\n",
              "</div>"
            ],
            "text/plain": [
              "     age sex      county        lat      long    name\n",
              "1    0.0   m  DARLINGTON  54.426256 -1.465314  Edward\n",
              "49   0.0   m  DARLINGTON  54.575450 -1.600592  Edward\n",
              "106  0.0   m  DARLINGTON  54.488042 -1.640927  Edward\n",
              "145  0.0   m  DARLINGTON  54.492810 -1.509049  Edward\n",
              "170  0.0   m  DARLINGTON  54.577920 -1.436109  Edward"
            ]
          },
          "metadata": {
            "tags": []
          },
          "execution_count": 47
        }
      ]
    },
    {
      "cell_type": "markdown",
      "metadata": {
        "id": "h0RTm0UFLA4-"
      },
      "source": [
        "#### Pandas"
      ]
    },
    {
      "cell_type": "code",
      "metadata": {
        "id": "Tg0-x1j3LA4-",
        "outputId": "95f42f69-c864-4088-816f-2af73d388815"
      },
      "source": [
        "%time ed_names_pd = df.loc[np.logical_and(df['name'].str.startswith('E'), df['name'].str.endswith('d'))]"
      ],
      "execution_count": null,
      "outputs": [
        {
          "output_type": "stream",
          "text": [
            "CPU times: user 28 s, sys: 2.02 s, total: 30 s\n",
            "Wall time: 30 s\n"
          ],
          "name": "stdout"
        }
      ]
    },
    {
      "cell_type": "markdown",
      "metadata": {
        "id": "ScNKE80kLA5C"
      },
      "source": [
        "## 練習: 基本資料清理"
      ]
    },
    {
      "cell_type": "markdown",
      "metadata": {
        "id": "smc1bCgXLA5C"
      },
      "source": [
        "在本練習中，我們會請你使用上述的幾種技巧，執行兩項簡單的資料清理工作:\n",
        "\n",
        "    1.修改數個欄的資料類型\n",
        "    2.將字串資料轉換成我們欲使用的格式"
      ]
    },
    {
      "cell_type": "markdown",
      "metadata": {
        "id": "TDUxbyNwLA5C"
      },
      "source": [
        "### 1.修改 `dtypes`"
      ]
    },
    {
      "cell_type": "markdown",
      "metadata": {
        "id": "9-Mf5At-LA5D"
      },
      "source": [
        "檢查 `gdf` 的 `dtypes`，並將 64 位元資料類型轉換成 32 位元格式。"
      ]
    },
    {
      "cell_type": "code",
      "metadata": {
        "id": "pDiOs1YnLA5D",
        "outputId": "b9b6a7b8-5469-4da2-e836-8a483f3c9834"
      },
      "source": [
        "gdf.dtypes"
      ],
      "execution_count": null,
      "outputs": [
        {
          "output_type": "execute_result",
          "data": {
            "text/plain": [
              "age       float32\n",
              "sex        object\n",
              "county     object\n",
              "lat       float64\n",
              "long      float64\n",
              "name       object\n",
              "dtype: object"
            ]
          },
          "metadata": {
            "tags": []
          },
          "execution_count": 48
        }
      ]
    },
    {
      "cell_type": "code",
      "metadata": {
        "id": "yfkykumqLA5H",
        "outputId": "5872c7c7-f1f7-4693-9cdb-1bc6fcf57e42"
      },
      "source": [
        "%time gdf['lat'] = gdf['lat'].astype('float32')"
      ],
      "execution_count": null,
      "outputs": [
        {
          "output_type": "stream",
          "text": [
            "CPU times: user 1.04 ms, sys: 4.14 ms, total: 5.18 ms\n",
            "Wall time: 5.53 ms\n"
          ],
          "name": "stdout"
        }
      ]
    },
    {
      "cell_type": "code",
      "metadata": {
        "id": "QgSMXvmdLA5K",
        "outputId": "6a80954c-fbd0-492c-cb27-a84418a7fc67"
      },
      "source": [
        "%time gdf['long'] = gdf['long'].astype('float32')"
      ],
      "execution_count": null,
      "outputs": [
        {
          "output_type": "stream",
          "text": [
            "CPU times: user 3.59 ms, sys: 0 ns, total: 3.59 ms\n",
            "Wall time: 2.73 ms\n"
          ],
          "name": "stdout"
        }
      ]
    },
    {
      "cell_type": "markdown",
      "metadata": {
        "id": "dJuIzg_mLA5M"
      },
      "source": [
        "#### 解決方案"
      ]
    },
    {
      "cell_type": "code",
      "metadata": {
        "id": "5BNeizfTLA5M"
      },
      "source": [
        "%load solutions/modify_dtypes"
      ],
      "execution_count": null,
      "outputs": []
    },
    {
      "cell_type": "markdown",
      "metadata": {
        "id": "kibwvupgLA5R"
      },
      "source": [
        "### 2.將郡改成首字母大寫"
      ]
    },
    {
      "cell_type": "markdown",
      "metadata": {
        "id": "KXOBuJ-FLA5R"
      },
      "source": [
        "目前所有的郡都使用大寫表示:"
      ]
    },
    {
      "cell_type": "code",
      "metadata": {
        "id": "hBHHdG3XLA5S",
        "outputId": "355149d4-7d1a-4885-d138-df9ae01d7267"
      },
      "source": [
        "gdf['county'].head()"
      ],
      "execution_count": null,
      "outputs": [
        {
          "output_type": "execute_result",
          "data": {
            "text/plain": [
              "0    DARLINGTON\n",
              "1    DARLINGTON\n",
              "2    DARLINGTON\n",
              "3    DARLINGTON\n",
              "4    DARLINGTON\n",
              "Name: county, dtype: object"
            ]
          },
          "metadata": {
            "tags": []
          },
          "execution_count": 51
        }
      ]
    },
    {
      "cell_type": "markdown",
      "metadata": {
        "id": "V1JeKiJsLA5X"
      },
      "source": [
        "將其轉換成首字母大寫格式，如同我們在 `name` 欄的作法。"
      ]
    },
    {
      "cell_type": "code",
      "metadata": {
        "id": "KwhOvMObLA5Y",
        "outputId": "78453988-4db3-439d-b5dd-df9a488e58f1"
      },
      "source": [
        "%time gdf['county'] = gdf['county'].str.title()"
      ],
      "execution_count": null,
      "outputs": [
        {
          "output_type": "stream",
          "text": [
            "CPU times: user 32 ms, sys: 52.5 ms, total: 84.5 ms\n",
            "Wall time: 84.9 ms\n"
          ],
          "name": "stdout"
        }
      ]
    },
    {
      "cell_type": "code",
      "metadata": {
        "id": "4tyAjVenLA5a",
        "outputId": "91d3b8f7-c5d2-447c-ad18-752e390188f3"
      },
      "source": [
        "gdf['county'].head()"
      ],
      "execution_count": null,
      "outputs": [
        {
          "output_type": "execute_result",
          "data": {
            "text/plain": [
              "0    Darlington\n",
              "1    Darlington\n",
              "2    Darlington\n",
              "3    Darlington\n",
              "4    Darlington\n",
              "Name: county, dtype: object"
            ]
          },
          "metadata": {
            "tags": []
          },
          "execution_count": 54
        }
      ]
    },
    {
      "cell_type": "markdown",
      "metadata": {
        "id": "w0ta8cPKLA5g"
      },
      "source": [
        "#### 解決方案"
      ]
    },
    {
      "cell_type": "code",
      "metadata": {
        "id": "p-r4Dun3LA5h"
      },
      "source": [
        "%load solutions/title_case_counties"
      ],
      "execution_count": null,
      "outputs": []
    },
    {
      "cell_type": "markdown",
      "metadata": {
        "id": "MH7FjAy5LA5l"
      },
      "source": [
        "## 練習: 桑德蘭以北的郡"
      ]
    },
    {
      "cell_type": "markdown",
      "metadata": {
        "id": "4u2AJfiyLA5m"
      },
      "source": [
        "本練習需要使用 `loc` 方法與數種上述技巧。找出桑德蘭郡最北邊居民的緯度 (`lat` 值最高的人)，接著判斷哪些郡的居民位於他的北方。使用 cuDF `Series` 的 `unique` 方法來刪除結果中重複的項目。"
      ]
    },
    {
      "cell_type": "code",
      "metadata": {
        "id": "XE1guUUILA5m",
        "outputId": "4f6b0681-9545-431a-e2bc-db4e0dcc8049"
      },
      "source": [
        "gdf.county.unique()"
      ],
      "execution_count": null,
      "outputs": [
        {
          "output_type": "execute_result",
          "data": {
            "text/plain": [
              "0              Barking And Dagenham\n",
              "1                            Barnet\n",
              "2                          Barnsley\n",
              "3      Bath And North East Somerset\n",
              "4                           Bedford\n",
              "                   ...             \n",
              "166                       Wokingham\n",
              "167                   Wolverhampton\n",
              "168                  Worcestershire\n",
              "169                         Wrexham\n",
              "170                            York\n",
              "Name: county, Length: 171, dtype: object"
            ]
          },
          "metadata": {
            "tags": []
          },
          "execution_count": 55
        }
      ]
    },
    {
      "cell_type": "markdown",
      "metadata": {
        "id": "acBK8HnILA5p"
      },
      "source": [
        "#### 解決方案"
      ]
    },
    {
      "cell_type": "code",
      "metadata": {
        "id": "YRVC6GeqLA5q"
      },
      "source": [
        "# %load solutions/counties_north_of_sunderland\n",
        "sunderland_residents = gdf.loc[gdf['county'] == 'Sunderland']\n",
        "northmost_sunderland_lat = sunderland_residents['lat'].max()\n",
        "counties_with_pop_north_of = gdf.loc[gdf['lat'] > northmost_sunderland_lat]['county'].unique()\n"
      ],
      "execution_count": null,
      "outputs": []
    },
    {
      "cell_type": "code",
      "metadata": {
        "id": "nW3t0DocLA5s",
        "outputId": "355c2fa2-b5dd-46e5-ca43-69b08bcd450a"
      },
      "source": [
        "counties_with_pop_north_of"
      ],
      "execution_count": null,
      "outputs": [
        {
          "output_type": "execute_result",
          "data": {
            "text/plain": [
              "0          County Durham\n",
              "1                Cumbria\n",
              "2              Gateshead\n",
              "3    Newcastle Upon Tyne\n",
              "4         North Tyneside\n",
              "5        North Yorkshire\n",
              "6         Northumberland\n",
              "7         South Tyneside\n",
              "Name: county, dtype: object"
            ]
          },
          "metadata": {
            "tags": []
          },
          "execution_count": 61
        }
      ]
    },
    {
      "cell_type": "markdown",
      "metadata": {
        "id": "9tfRfNfsLA5t"
      },
      "source": [
        "## 下一步"
      ]
    },
    {
      "cell_type": "markdown",
      "metadata": {
        "id": "hGbrXdOBLA5u"
      },
      "source": [
        "在下一節中，你將進行實際的資料準備工作，以便在稍後的機器學習模型中使用。在此工作中，我們將使用 CuPy 建立自訂函數，以便透過 GPU 加速簡易替換 NumPy，大幅提升效能。"
      ]
    },
    {
      "cell_type": "markdown",
      "metadata": {
        "id": "znkfiRvyLA5v"
      },
      "source": [
        "<br>\n",
        "<div align=\"center\"><h2>請重新啟動核心</h2></div>"
      ]
    }
  ]
}