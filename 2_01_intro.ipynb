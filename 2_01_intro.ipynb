{
  "nbformat": 4,
  "nbformat_minor": 0,
  "metadata": {
    "kernelspec": {
      "display_name": "Python 3",
      "language": "python",
      "name": "python3"
    },
    "language_info": {
      "codemirror_mode": {
        "name": "ipython",
        "version": 3
      },
      "file_extension": ".py",
      "mimetype": "text/x-python",
      "name": "python",
      "nbconvert_exporter": "python",
      "pygments_lexer": "ipython3",
      "version": "3.6.7"
    },
    "colab": {
      "name": "2-01_intro.ipynb",
      "provenance": [],
      "include_colab_link": true
    }
  },
  "cells": [
    {
      "cell_type": "markdown",
      "metadata": {
        "id": "view-in-github",
        "colab_type": "text"
      },
      "source": [
        "<a href=\"https://colab.research.google.com/github/yiruchen1993/nvidia_gtc_dli_rapids_2020/blob/section_notebooks%2Fmachine_learning/2_01_intro.ipynb\" target=\"_parent\"><img src=\"https://colab.research.google.com/assets/colab-badge.svg\" alt=\"Open In Colab\"/></a>"
      ]
    },
    {
      "cell_type": "markdown",
      "metadata": {
        "id": "UQ-sMNbdMfN4"
      },
      "source": [
        "<div align=\"center\"><img src=\"./images/DLI_Header.png\"></div>"
      ]
    },
    {
      "cell_type": "markdown",
      "metadata": {
        "id": "Nz9RTg5HMfN5"
      },
      "source": [
        "# RAPIDS 機器學習"
      ]
    },
    {
      "cell_type": "markdown",
      "metadata": {
        "id": "ieALtqkYMfN6"
      },
      "source": [
        "在這個小節的工作坊中，您將會使用各種GPU加速的機器學習演算法套用在上一節所準備好的資料．"
      ]
    },
    {
      "cell_type": "markdown",
      "metadata": {
        "id": "GslRPgp6MfN6"
      },
      "source": [
        "## 第二節 目錄"
      ]
    },
    {
      "cell_type": "markdown",
      "metadata": {
        "id": "vu9uJyTtMfN7"
      },
      "source": [
        "**2-01_intro.ipynb**: 這份notebook．\n",
        "\n",
        "**2-02_population_viz.ipynb**: 視覺化呈現人口資料．\n",
        "\n",
        "**2-03_k-means.ipynb**: 優化供給地點．\n",
        "\n",
        "**2-04_DBSCAN.ipynb**: 找出被感染的人口群聚．\n",
        "\n",
        "**2-05_logistic_regression.ipynb**: 針對特定人口群聚估計被感染的機率．\n",
        "\n",
        "**2-06_knn.ipynb**: 找到離醫院最近的道路節點．\n",
        "\n",
        "**2-07_kmeans_dask.ipynb**: 利用分散式的演算法來找出被感人人口的群聚資料．\n",
        "\n",
        "**2-08_xgboost.ipynb**: 針對特定人口群聚估計被感染的機率．\n",
        "\n",
        "**2-09_cugraph.ipynb:** 找出離醫院的最短路徑．"
      ]
    }
  ]
}